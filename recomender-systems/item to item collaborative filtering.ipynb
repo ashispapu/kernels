{
 "cells": [
  {
   "cell_type": "code",
   "execution_count": 1,
   "metadata": {
    "slideshow": {
     "slide_type": "slide"
    }
   },
   "outputs": [],
   "source": [
    "import pandas as pd\n",
    "import numpy as np\n",
    "import math"
   ]
  },
  {
   "cell_type": "markdown",
   "metadata": {
    "slideshow": {
     "slide_type": "slide"
    }
   },
   "source": [
    "Load the datasets"
   ]
  },
  {
   "cell_type": "code",
   "execution_count": 2,
   "metadata": {
    "slideshow": {
     "slide_type": "slide"
    }
   },
   "outputs": [],
   "source": [
    "ratings = pd.read_csv('ratings.csv')\n",
    "movies = pd.read_csv('movies.csv')\n",
    "tags = pd.read_csv('tags.csv')"
   ]
  },
  {
   "cell_type": "markdown",
   "metadata": {
    "slideshow": {
     "slide_type": "slide"
    }
   },
   "source": [
    "Calculating the mean rating and subtracting from each rating of a user to calculate the adjusted rating"
   ]
  },
  {
   "cell_type": "code",
   "execution_count": 3,
   "metadata": {
    "slideshow": {
     "slide_type": "subslide"
    }
   },
   "outputs": [],
   "source": [
    "mean = ratings.groupby(\n",
    "    ['movieId'], as_index=False, sort=False\n",
    ").mean().rename(\n",
    "    columns={'rating': 'rating_mean'}\n",
    ")[['movieId', 'rating_mean']]"
   ]
  },
  {
   "cell_type": "code",
   "execution_count": 4,
   "metadata": {
    "slideshow": {
     "slide_type": "subslide"
    }
   },
   "outputs": [],
   "source": [
    "ratings = pd.merge(ratings, mean, on='movieId', how='left', sort=False)\n",
    "ratings['rating_adjusted'] = ratings['rating'] - ratings['rating_mean']"
   ]
  },
  {
   "cell_type": "code",
   "execution_count": 5,
   "metadata": {
    "slideshow": {
     "slide_type": "slide"
    }
   },
   "outputs": [
    {
     "data": {
      "text/html": [
       "<div>\n",
       "<style scoped>\n",
       "    .dataframe tbody tr th:only-of-type {\n",
       "        vertical-align: middle;\n",
       "    }\n",
       "\n",
       "    .dataframe tbody tr th {\n",
       "        vertical-align: top;\n",
       "    }\n",
       "\n",
       "    .dataframe thead th {\n",
       "        text-align: right;\n",
       "    }\n",
       "</style>\n",
       "<table border=\"1\" class=\"dataframe\">\n",
       "  <thead>\n",
       "    <tr style=\"text-align: right;\">\n",
       "      <th></th>\n",
       "      <th>userId</th>\n",
       "      <th>movieId</th>\n",
       "      <th>rating</th>\n",
       "      <th>timestamp</th>\n",
       "      <th>rating_mean</th>\n",
       "      <th>rating_adjusted</th>\n",
       "    </tr>\n",
       "  </thead>\n",
       "  <tbody>\n",
       "    <tr>\n",
       "      <th>0</th>\n",
       "      <td>12882</td>\n",
       "      <td>1</td>\n",
       "      <td>4.0</td>\n",
       "      <td>1147195252</td>\n",
       "      <td>3.793347</td>\n",
       "      <td>0.206653</td>\n",
       "    </tr>\n",
       "    <tr>\n",
       "      <th>1</th>\n",
       "      <td>12882</td>\n",
       "      <td>32</td>\n",
       "      <td>3.5</td>\n",
       "      <td>1147195307</td>\n",
       "      <td>3.970519</td>\n",
       "      <td>-0.470519</td>\n",
       "    </tr>\n",
       "    <tr>\n",
       "      <th>2</th>\n",
       "      <td>12882</td>\n",
       "      <td>47</td>\n",
       "      <td>5.0</td>\n",
       "      <td>1147195343</td>\n",
       "      <td>4.009956</td>\n",
       "      <td>0.990044</td>\n",
       "    </tr>\n",
       "    <tr>\n",
       "      <th>3</th>\n",
       "      <td>12882</td>\n",
       "      <td>50</td>\n",
       "      <td>5.0</td>\n",
       "      <td>1147185499</td>\n",
       "      <td>4.180617</td>\n",
       "      <td>0.819383</td>\n",
       "    </tr>\n",
       "    <tr>\n",
       "      <th>4</th>\n",
       "      <td>12882</td>\n",
       "      <td>110</td>\n",
       "      <td>4.5</td>\n",
       "      <td>1147195239</td>\n",
       "      <td>3.733753</td>\n",
       "      <td>0.766247</td>\n",
       "    </tr>\n",
       "  </tbody>\n",
       "</table>\n",
       "</div>"
      ],
      "text/plain": [
       "   userId  movieId  rating   timestamp  rating_mean  rating_adjusted\n",
       "0   12882        1     4.0  1147195252     3.793347         0.206653\n",
       "1   12882       32     3.5  1147195307     3.970519        -0.470519\n",
       "2   12882       47     5.0  1147195343     4.009956         0.990044\n",
       "3   12882       50     5.0  1147185499     4.180617         0.819383\n",
       "4   12882      110     4.5  1147195239     3.733753         0.766247"
      ]
     },
     "execution_count": 5,
     "metadata": {},
     "output_type": "execute_result"
    }
   ],
   "source": [
    "ratings.head()"
   ]
  },
  {
   "cell_type": "markdown",
   "metadata": {
    "slideshow": {
     "slide_type": "slide"
    }
   },
   "source": [
    "Calculating the similarity value for each movie user has not rated to movies user has rated and selecting 20 most similar movies . Please note that or testing purpose, i have calculated the similarity values or only one user. Add one more loop to calculate it for all the users."
   ]
  },
  {
   "cell_type": "code",
   "execution_count": 6,
   "metadata": {
    "slideshow": {
     "slide_type": "subslide"
    }
   },
   "outputs": [
    {
     "name": "stdout",
     "output_type": "stream",
     "text": [
      "0 out of 2500\n"
     ]
    }
   ],
   "source": [
    "movie_data_all_append = pd.DataFrame()\n",
    "user_data = ratings[ratings['userId'] !=  320] # targeting only one user\n",
    "distinct_movies = np.unique(user_data['movieId'])\n",
    "i = 0\n",
    "for movie in distinct_movies[:2]:\n",
    "    if i%10==0:\n",
    "        print('{i} out of {movie}'.format(i=i, movie=len(distinct_movies)))\n",
    "    movie_data_all = pd.DataFrame()\n",
    "    movie_data = ratings[ratings['movieId'] == movie]\n",
    "    movie_data = movie_data[['userId', 'movieId', 'rating_adjusted']].drop_duplicates()\n",
    "    movie_data = movie_data.rename(columns={'rating_adjusted':'rating_adjusted1'})\n",
    "    movie_data = movie_data.rename(columns={'movieId': 'movieId1'})\n",
    "    movie1_val = np.sqrt(np.sum(np.square(movie_data['rating_adjusted1']), axis=0))\n",
    "    \n",
    "    user_data1 = ratings[ratings['userId'] == 320]\n",
    "    distinct_movies1 = np.unique(user_data1['movieId'])\n",
    "    \n",
    "    for movie1 in distinct_movies1:\n",
    "        movie_data1 = ratings[ratings['movieId'] == movie1]\n",
    "        movie_data1 = movie_data1[['userId', 'movieId', 'rating_adjusted']].drop_duplicates()\n",
    "        movie_data1 = movie_data1.rename(columns={'rating_adjusted':'rating_adjusted2'})\n",
    "        movie_data1 = movie_data1.rename(columns={'movieId': 'movieId2'})\n",
    "        movie2_val = np.sqrt(np.sum(np.square(movie_data1['rating_adjusted2']), axis=0))\n",
    "        \n",
    "        movie_data_merge = pd.merge(movie_data, movie_data1[['userId', 'movieId2', 'rating_adjusted2']],\n",
    "                                    on='userId', how='inner', sort=False)        \n",
    "        movie_data_merge['vector_product'] = (movie_data_merge['rating_adjusted1'] * movie_data_merge['rating_adjusted2'])\n",
    "        movie_data_merge = movie_data_merge.groupby(['movieId1', 'movieId2'], as_index=False, sort=False).sum()\n",
    "        movie_data_merge['dot'] = movie_data_merge['vector_product']/(movie1_val*movie2_val)\n",
    "        movie_data_merge = movie_data_merge.sort_values('dot', ascending=False)\n",
    "        movie_data_all = movie_data_all.append(movie_data_merge, ignore_index=True)\n",
    "        \n",
    "    movie_data_all = movie_data_all[movie_data_all['dot'] < 1]\n",
    "    movie_data_all = movie_data_all.sort_values('dot', ascending=False)\n",
    "    movie_data_all = movie_data_all.head(3)\n",
    "    movie_data_all_append = movie_data_all_append.append(movie_data_all, ignore_index=True)\n",
    "    \n",
    "    i = i+1"
   ]
  },
  {
   "cell_type": "code",
   "execution_count": 7,
   "metadata": {
    "slideshow": {
     "slide_type": "slide"
    }
   },
   "outputs": [
    {
     "data": {
      "text/html": [
       "<div>\n",
       "<style scoped>\n",
       "    .dataframe tbody tr th:only-of-type {\n",
       "        vertical-align: middle;\n",
       "    }\n",
       "\n",
       "    .dataframe tbody tr th {\n",
       "        vertical-align: top;\n",
       "    }\n",
       "\n",
       "    .dataframe thead th {\n",
       "        text-align: right;\n",
       "    }\n",
       "</style>\n",
       "<table border=\"1\" class=\"dataframe\">\n",
       "  <thead>\n",
       "    <tr style=\"text-align: right;\">\n",
       "      <th></th>\n",
       "      <th>movieId1</th>\n",
       "      <th>movieId2</th>\n",
       "      <th>userId</th>\n",
       "      <th>rating_adjusted1</th>\n",
       "      <th>rating_adjusted2</th>\n",
       "      <th>vector_product</th>\n",
       "      <th>dot</th>\n",
       "    </tr>\n",
       "  </thead>\n",
       "  <tbody>\n",
       "    <tr>\n",
       "      <th>0</th>\n",
       "      <td>1</td>\n",
       "      <td>8961</td>\n",
       "      <td>23972864</td>\n",
       "      <td>36.035282</td>\n",
       "      <td>12.607143</td>\n",
       "      <td>126.944592</td>\n",
       "      <td>0.371755</td>\n",
       "    </tr>\n",
       "    <tr>\n",
       "      <th>1</th>\n",
       "      <td>1</td>\n",
       "      <td>1196</td>\n",
       "      <td>25563902</td>\n",
       "      <td>-2.831653</td>\n",
       "      <td>24.672549</td>\n",
       "      <td>115.704544</td>\n",
       "      <td>0.286217</td>\n",
       "    </tr>\n",
       "    <tr>\n",
       "      <th>2</th>\n",
       "      <td>1</td>\n",
       "      <td>260</td>\n",
       "      <td>27037802</td>\n",
       "      <td>2.388105</td>\n",
       "      <td>33.280374</td>\n",
       "      <td>113.688244</td>\n",
       "      <td>0.278933</td>\n",
       "    </tr>\n",
       "    <tr>\n",
       "      <th>3</th>\n",
       "      <td>2</td>\n",
       "      <td>1917</td>\n",
       "      <td>12702967</td>\n",
       "      <td>-10.569892</td>\n",
       "      <td>14.892966</td>\n",
       "      <td>94.336005</td>\n",
       "      <td>0.331899</td>\n",
       "    </tr>\n",
       "    <tr>\n",
       "      <th>4</th>\n",
       "      <td>2</td>\n",
       "      <td>2012</td>\n",
       "      <td>12794049</td>\n",
       "      <td>2.139785</td>\n",
       "      <td>-4.658537</td>\n",
       "      <td>73.456694</td>\n",
       "      <td>0.291420</td>\n",
       "    </tr>\n",
       "    <tr>\n",
       "      <th>5</th>\n",
       "      <td>2</td>\n",
       "      <td>2011</td>\n",
       "      <td>13045266</td>\n",
       "      <td>-2.209677</td>\n",
       "      <td>4.475610</td>\n",
       "      <td>63.516457</td>\n",
       "      <td>0.258061</td>\n",
       "    </tr>\n",
       "  </tbody>\n",
       "</table>\n",
       "</div>"
      ],
      "text/plain": [
       "   movieId1  movieId2    userId  rating_adjusted1  rating_adjusted2  \\\n",
       "0         1      8961  23972864         36.035282         12.607143   \n",
       "1         1      1196  25563902         -2.831653         24.672549   \n",
       "2         1       260  27037802          2.388105         33.280374   \n",
       "3         2      1917  12702967        -10.569892         14.892966   \n",
       "4         2      2012  12794049          2.139785         -4.658537   \n",
       "5         2      2011  13045266         -2.209677          4.475610   \n",
       "\n",
       "   vector_product       dot  \n",
       "0      126.944592  0.371755  \n",
       "1      115.704544  0.286217  \n",
       "2      113.688244  0.278933  \n",
       "3       94.336005  0.331899  \n",
       "4       73.456694  0.291420  \n",
       "5       63.516457  0.258061  "
      ]
     },
     "execution_count": 7,
     "metadata": {},
     "output_type": "execute_result"
    }
   ],
   "source": [
    "movie_data_all_append"
   ]
  },
  {
   "cell_type": "markdown",
   "metadata": {},
   "source": [
    "## Graph databases"
   ]
  },
  {
   "cell_type": "code",
   "execution_count": 8,
   "metadata": {},
   "outputs": [],
   "source": [
    "from py2neo import Graph\n",
    "graph = Graph()"
   ]
  },
  {
   "cell_type": "code",
   "execution_count": 9,
   "metadata": {},
   "outputs": [],
   "source": [
    "graph.delete_all()"
   ]
  },
  {
   "cell_type": "code",
   "execution_count": 10,
   "metadata": {},
   "outputs": [],
   "source": [
    "all_movies = set(list(movie_data_all_append['movieId1'].values) + list(movie_data_all_append['movieId2'].values))"
   ]
  },
  {
   "cell_type": "code",
   "execution_count": 11,
   "metadata": {},
   "outputs": [
    {
     "data": {
      "text/plain": [
       "[1, 1, 1, 2, 2, 2]"
      ]
     },
     "execution_count": 11,
     "metadata": {},
     "output_type": "execute_result"
    }
   ],
   "source": [
    "list(movie_data_all_append['movieId1'].values)"
   ]
  },
  {
   "cell_type": "code",
   "execution_count": 12,
   "metadata": {},
   "outputs": [
    {
     "data": {
      "text/plain": [
       "{1, 2, 260, 1196, 1917, 2011, 2012, 8961}"
      ]
     },
     "execution_count": 12,
     "metadata": {},
     "output_type": "execute_result"
    }
   ],
   "source": [
    "all_movies"
   ]
  },
  {
   "cell_type": "markdown",
   "metadata": {},
   "source": [
    "Creating the nodes"
   ]
  },
  {
   "cell_type": "code",
   "execution_count": 13,
   "metadata": {},
   "outputs": [],
   "source": [
    "from py2neo import Node\n",
    "for movie in all_movies:\n",
    "    movie_node = Node(\"Movie\", name=str(movie))\n",
    "    graph.create(movie_node)"
   ]
  },
  {
   "cell_type": "markdown",
   "metadata": {},
   "source": [
    "Now creating the connections"
   ]
  },
  {
   "cell_type": "code",
   "execution_count": 14,
   "metadata": {},
   "outputs": [
    {
     "name": "stdout",
     "output_type": "stream",
     "text": [
      "MATCH (m:Movie {name:\"1\"}), (n:Movie {name:\"8961\"}) CREATE (m)-[:SIMILAR_TO]->(n)\n",
      "MATCH (m:Movie {name:\"1\"}), (n:Movie {name:\"1196\"}) CREATE (m)-[:SIMILAR_TO]->(n)\n",
      "MATCH (m:Movie {name:\"1\"}), (n:Movie {name:\"260\"}) CREATE (m)-[:SIMILAR_TO]->(n)\n",
      "MATCH (m:Movie {name:\"2\"}), (n:Movie {name:\"1917\"}) CREATE (m)-[:SIMILAR_TO]->(n)\n",
      "MATCH (m:Movie {name:\"2\"}), (n:Movie {name:\"2012\"}) CREATE (m)-[:SIMILAR_TO]->(n)\n",
      "MATCH (m:Movie {name:\"2\"}), (n:Movie {name:\"2011\"}) CREATE (m)-[:SIMILAR_TO]->(n)\n"
     ]
    }
   ],
   "source": [
    "for index, row in movie_data_all_append.iterrows():\n",
    "    query = 'MATCH (m:Movie {name:\"%s\"}), (n:Movie {name:\"%s\"}) CREATE (m)-[:SIMILAR_TO]->(n)' % (\n",
    "        str(int(row['movieId1'])), str(int(row['movieId2'])))\n",
    "    print(query)\n",
    "    data = graph.run(query)"
   ]
  },
  {
   "cell_type": "markdown",
   "metadata": {},
   "source": [
    "All the steps before this are offline steps. Now you do the online step of just querying on the database."
   ]
  },
  {
   "cell_type": "code",
   "execution_count": 15,
   "metadata": {},
   "outputs": [],
   "source": [
    "%load_ext cypher"
   ]
  },
  {
   "cell_type": "code",
   "execution_count": 16,
   "metadata": {},
   "outputs": [
    {
     "name": "stdout",
     "output_type": "stream",
     "text": [
      "3 rows affected.\n",
      "   name\n",
      "0   260\n",
      "1  1196\n",
      "2  8961\n",
      "CPU times: user 12.2 ms, sys: 4.09 ms, total: 16.2 ms\n",
      "Wall time: 205 ms\n"
     ]
    }
   ],
   "source": [
    "%%time\n",
    "results = %cypher MATCH (m:Movie {name: \"1\"})-[:SIMILAR_TO]->(n) RETURN n.name AS name\n",
    "df = results.get_dataframe()\n",
    "print(df)"
   ]
  },
  {
   "cell_type": "markdown",
   "metadata": {},
   "source": [
    "References\n",
    "\n",
    "* https://medium.com/@tomar.ankur287/item-item-collaborative-filtering-recommender-system-in-python-cf3c945fae1e\n",
    "* http://nicolewhite.github.io/neo4j-jupyter/hello-world.html"
   ]
  }
 ],
 "metadata": {
  "kernelspec": {
   "display_name": "Python 3",
   "language": "python",
   "name": "python3"
  },
  "language_info": {
   "codemirror_mode": {
    "name": "ipython",
    "version": 3
   },
   "file_extension": ".py",
   "mimetype": "text/x-python",
   "name": "python",
   "nbconvert_exporter": "python",
   "pygments_lexer": "ipython3",
   "version": "3.6.5"
  }
 },
 "nbformat": 4,
 "nbformat_minor": 2
}
