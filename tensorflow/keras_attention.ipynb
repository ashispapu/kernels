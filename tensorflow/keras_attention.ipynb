{
  "nbformat": 4,
  "nbformat_minor": 0,
  "metadata": {
    "colab": {
      "name": "keras attention.ipynb",
      "version": "0.3.2",
      "provenance": [],
      "collapsed_sections": []
    },
    "kernelspec": {
      "name": "python3",
      "display_name": "Python 3"
    },
    "accelerator": "GPU"
  },
  "cells": [
    {
      "metadata": {
        "id": "Ojw_GM4C11iU",
        "colab_type": "code",
        "colab": {}
      },
      "cell_type": "code",
      "source": [
        "import numpy as np\n",
        "import keras.backend as K\n",
        "from keras.models import Model\n",
        "from keras.layers import Input, Dense\n",
        "from keras.layers.merge import concatenate\n"
      ],
      "execution_count": 0,
      "outputs": []
    },
    {
      "metadata": {
        "id": "EFzhR4S82h4M",
        "colab_type": "code",
        "colab": {}
      },
      "cell_type": "code",
      "source": [
        "N = 10000\n",
        "input_dim = 32\n",
        "attention_column = 1"
      ],
      "execution_count": 0,
      "outputs": []
    },
    {
      "metadata": {
        "id": "0WTE8eRS2F4Y",
        "colab_type": "code",
        "colab": {}
      },
      "cell_type": "code",
      "source": [
        "def get_data(n, input_dim, attention_column=1):\n",
        "    x = np.random.standard_normal(size=(n, input_dim))\n",
        "    y = np.random.randint(low=0, high=2, size=(n, 1))\n",
        "    x[:, attention_column] = y[:, 0]\n",
        "    return x, y\n"
      ],
      "execution_count": 0,
      "outputs": []
    },
    {
      "metadata": {
        "id": "FXGWMIUE27-H",
        "colab_type": "code",
        "colab": {}
      },
      "cell_type": "code",
      "source": [
        "def get_data_recurrent(n, timesteps, input_dim, attention_column=10):\n",
        "    x = np.random.standard_normal(size=(n, timesteps, input_dim))\n",
        "    y = np.random.randint(low=0, high=2, size=(n, 1))\n",
        "    x[:, attention_column, :] = np.tile(y[:], (1, input_dim))\n",
        "    return x, y"
      ],
      "execution_count": 0,
      "outputs": []
    },
    {
      "metadata": {
        "id": "Fz4nA2ZdebqN",
        "colab_type": "code",
        "colab": {}
      },
      "cell_type": "code",
      "source": [
        "def get_activations(model, inputs, print_shape_only=False, layer_name=None):\n",
        "  print(\"----------- activations -----------------\")\n",
        "  activations = []\n",
        "  inp = model.input\n",
        "  outputs = [layer.output for layer in model.layers]\n",
        "  if layer_name is None:\n",
        "    outputs = [layer.output for layer in model.layers]\n",
        "  else:\n",
        "    outputs = [layer.output for layer in model.layers if layer.name == layer_name]\n",
        "  funcs = [K.function([inp] + [K.learning_phase()], [out]) for out in outputs]\n",
        "  layer_outputs = [func([inputs, 1.])[0] for func in funcs]\n",
        "  for layer_activations in layer_outputs:\n",
        "    activations.append(layer_activations)\n",
        "    if print_shape_only:\n",
        "      print(layer_activations.shape)\n",
        "    else:\n",
        "      print(layer_activations)\n",
        "  return activations"
      ],
      "execution_count": 0,
      "outputs": []
    },
    {
      "metadata": {
        "id": "WDmT_RZN3q9H",
        "colab_type": "code",
        "colab": {}
      },
      "cell_type": "code",
      "source": [
        "inputs_1, outputs = get_data(N, input_dim)"
      ],
      "execution_count": 0,
      "outputs": []
    },
    {
      "metadata": {
        "id": "hLQ3WrKp3xcH",
        "colab_type": "code",
        "colab": {
          "base_uri": "https://localhost:8080/",
          "height": 71
        },
        "outputId": "86563f6f-6c57-4841-89d9-07f560ded836"
      },
      "cell_type": "code",
      "source": [
        "inputs = Input(shape=(input_dim,))\n",
        "\n",
        "# attention part starts here\n",
        "attention_probs = Dense(input_dim, activation='softmax', name='attention_vec')(inputs)\n",
        "attention_mul = concatenate([inputs, attention_probs])\n",
        "# attention part ends here\n",
        "\n",
        "attention_mul = Dense(64)(attention_mul)\n",
        "\n",
        "output = Dense(1, activation=\"sigmoid\")(attention_mul)\n",
        "\n",
        "model = Model(input=[inputs], output=output)\n"
      ],
      "execution_count": 36,
      "outputs": [
        {
          "output_type": "stream",
          "text": [
            "/usr/local/lib/python3.6/dist-packages/ipykernel_launcher.py:12: UserWarning: Update your `Model` call to the Keras 2 API: `Model(inputs=[<tf.Tenso..., outputs=Tensor(\"de...)`\n",
            "  if sys.path[0] == '':\n"
          ],
          "name": "stderr"
        }
      ]
    },
    {
      "metadata": {
        "id": "TxKW79l2ZZ_w",
        "colab_type": "code",
        "colab": {}
      },
      "cell_type": "code",
      "source": [
        "model.compile(optimizer=\"adam\", loss=\"binary_crossentropy\", metrics=[\"accuracy\"])"
      ],
      "execution_count": 0,
      "outputs": []
    },
    {
      "metadata": {
        "id": "gPoG8zEbd2kB",
        "colab_type": "code",
        "colab": {
          "base_uri": "https://localhost:8080/",
          "height": 323
        },
        "outputId": "8b0708a3-b7f8-48de-cc1e-b40f9d5492c9"
      },
      "cell_type": "code",
      "source": [
        "model.summary()"
      ],
      "execution_count": 38,
      "outputs": [
        {
          "output_type": "stream",
          "text": [
            "__________________________________________________________________________________________________\n",
            "Layer (type)                    Output Shape         Param #     Connected to                     \n",
            "==================================================================================================\n",
            "input_14 (InputLayer)           (None, 32)           0                                            \n",
            "__________________________________________________________________________________________________\n",
            "attention_vec (Dense)           (None, 32)           1056        input_14[0][0]                   \n",
            "__________________________________________________________________________________________________\n",
            "concatenate_7 (Concatenate)     (None, 64)           0           input_14[0][0]                   \n",
            "                                                                 attention_vec[0][0]              \n",
            "__________________________________________________________________________________________________\n",
            "dense_3 (Dense)                 (None, 64)           4160        concatenate_7[0][0]              \n",
            "__________________________________________________________________________________________________\n",
            "dense_4 (Dense)                 (None, 1)            65          dense_3[0][0]                    \n",
            "==================================================================================================\n",
            "Total params: 5,281\n",
            "Trainable params: 5,281\n",
            "Non-trainable params: 0\n",
            "__________________________________________________________________________________________________\n"
          ],
          "name": "stdout"
        }
      ]
    },
    {
      "metadata": {
        "id": "ziiLbptKd4RP",
        "colab_type": "code",
        "colab": {
          "base_uri": "https://localhost:8080/",
          "height": 731
        },
        "outputId": "499b5009-6490-4c4e-ebfa-39f082743d16"
      },
      "cell_type": "code",
      "source": [
        "model.fit([inputs_1], outputs, epochs=20, batch_size=64, validation_split=0.5)"
      ],
      "execution_count": 39,
      "outputs": [
        {
          "output_type": "stream",
          "text": [
            "Train on 5000 samples, validate on 5000 samples\n",
            "Epoch 1/20\n",
            "5000/5000 [==============================] - 3s 571us/step - loss: 0.6763 - acc: 0.6462 - val_loss: 0.5363 - val_acc: 0.9328\n",
            "Epoch 2/20\n",
            "5000/5000 [==============================] - 1s 109us/step - loss: 0.4293 - acc: 0.9848 - val_loss: 0.3261 - val_acc: 1.0000\n",
            "Epoch 3/20\n",
            "5000/5000 [==============================] - 1s 111us/step - loss: 0.2380 - acc: 1.0000 - val_loss: 0.1646 - val_acc: 1.0000\n",
            "Epoch 4/20\n",
            "5000/5000 [==============================] - 1s 110us/step - loss: 0.1155 - acc: 1.0000 - val_loss: 0.0797 - val_acc: 1.0000\n",
            "Epoch 5/20\n",
            "5000/5000 [==============================] - 1s 116us/step - loss: 0.0576 - acc: 1.0000 - val_loss: 0.0430 - val_acc: 1.0000\n",
            "Epoch 6/20\n",
            "5000/5000 [==============================] - 1s 114us/step - loss: 0.0322 - acc: 1.0000 - val_loss: 0.0259 - val_acc: 1.0000\n",
            "Epoch 7/20\n",
            "5000/5000 [==============================] - 1s 116us/step - loss: 0.0200 - acc: 1.0000 - val_loss: 0.0171 - val_acc: 1.0000\n",
            "Epoch 8/20\n",
            "5000/5000 [==============================] - 1s 112us/step - loss: 0.0135 - acc: 1.0000 - val_loss: 0.0120 - val_acc: 1.0000\n",
            "Epoch 9/20\n",
            "5000/5000 [==============================] - 1s 115us/step - loss: 0.0096 - acc: 1.0000 - val_loss: 0.0088 - val_acc: 1.0000\n",
            "Epoch 10/20\n",
            "5000/5000 [==============================] - 1s 117us/step - loss: 0.0071 - acc: 1.0000 - val_loss: 0.0068 - val_acc: 1.0000\n",
            "Epoch 11/20\n",
            "5000/5000 [==============================] - 1s 115us/step - loss: 0.0055 - acc: 1.0000 - val_loss: 0.0053 - val_acc: 1.0000\n",
            "Epoch 12/20\n",
            "5000/5000 [==============================] - 1s 116us/step - loss: 0.0043 - acc: 1.0000 - val_loss: 0.0043 - val_acc: 1.0000\n",
            "Epoch 13/20\n",
            "5000/5000 [==============================] - 1s 114us/step - loss: 0.0035 - acc: 1.0000 - val_loss: 0.0035 - val_acc: 1.0000\n",
            "Epoch 14/20\n",
            "5000/5000 [==============================] - 1s 115us/step - loss: 0.0029 - acc: 1.0000 - val_loss: 0.0030 - val_acc: 1.0000\n",
            "Epoch 15/20\n",
            "5000/5000 [==============================] - 1s 115us/step - loss: 0.0024 - acc: 1.0000 - val_loss: 0.0025 - val_acc: 1.0000\n",
            "Epoch 16/20\n",
            "5000/5000 [==============================] - 1s 116us/step - loss: 0.0020 - acc: 1.0000 - val_loss: 0.0021 - val_acc: 1.0000\n",
            "Epoch 17/20\n",
            "5000/5000 [==============================] - 1s 118us/step - loss: 0.0017 - acc: 1.0000 - val_loss: 0.0018 - val_acc: 1.0000\n",
            "Epoch 18/20\n",
            "5000/5000 [==============================] - 1s 113us/step - loss: 0.0015 - acc: 1.0000 - val_loss: 0.0016 - val_acc: 1.0000\n",
            "Epoch 19/20\n",
            "5000/5000 [==============================] - 1s 116us/step - loss: 0.0013 - acc: 1.0000 - val_loss: 0.0014 - val_acc: 1.0000\n",
            "Epoch 20/20\n",
            "5000/5000 [==============================] - 1s 113us/step - loss: 0.0011 - acc: 1.0000 - val_loss: 0.0012 - val_acc: 1.0000\n"
          ],
          "name": "stdout"
        },
        {
          "output_type": "execute_result",
          "data": {
            "text/plain": [
              "<keras.callbacks.History at 0x7fd565453518>"
            ]
          },
          "metadata": {
            "tags": []
          },
          "execution_count": 39
        }
      ]
    },
    {
      "metadata": {
        "id": "Tk7nf08LeHac",
        "colab_type": "code",
        "colab": {}
      },
      "cell_type": "code",
      "source": [
        "testing_inputs_1, testing_outputs = get_data(1, input_dim)"
      ],
      "execution_count": 0,
      "outputs": []
    },
    {
      "metadata": {
        "id": "j4WXxsixeMBW",
        "colab_type": "code",
        "colab": {
          "base_uri": "https://localhost:8080/",
          "height": 153
        },
        "outputId": "74089957-8298-41f8-c748-ae4f5f061cf8"
      },
      "cell_type": "code",
      "source": [
        "# Attention vector corresponds to the second matrix.\n",
        "# The first one is the Inputs output.\n",
        "attention_vector = get_activations(model, testing_inputs_1,\n",
        "                                   print_shape_only=True,\n",
        "                                   layer_name='attention_vec')[0].flatten()\n",
        "print('attention =', attention_vector)"
      ],
      "execution_count": 44,
      "outputs": [
        {
          "output_type": "stream",
          "text": [
            "----------- activations -----------------\n",
            "(1, 32)\n",
            "attention = [0.03296177 0.01292069 0.00840517 0.03135223 0.15153264 0.01131308\n",
            " 0.03489395 0.01646125 0.01261883 0.02052007 0.00861703 0.02439288\n",
            " 0.02439462 0.05863256 0.01937476 0.00638512 0.01794702 0.00882623\n",
            " 0.02920609 0.02818276 0.03520534 0.01625181 0.01444596 0.02960802\n",
            " 0.1939219  0.06702933 0.0057255  0.01346897 0.01491135 0.0206208\n",
            " 0.00990619 0.01996608]\n"
          ],
          "name": "stdout"
        }
      ]
    },
    {
      "metadata": {
        "id": "RwR4aeUFeVAv",
        "colab_type": "code",
        "colab": {}
      },
      "cell_type": "code",
      "source": [
        "import matplotlib.pyplot as plt\n",
        "import pandas as pd"
      ],
      "execution_count": 0,
      "outputs": []
    },
    {
      "metadata": {
        "id": "DHAxutgxgYCb",
        "colab_type": "code",
        "colab": {
          "base_uri": "https://localhost:8080/",
          "height": 380
        },
        "outputId": "4d9ff28c-d58c-4b01-e108-41c4fd4c9ee5"
      },
      "cell_type": "code",
      "source": [
        "pd.DataFrame(attention_vector, columns=['attention (%)']).plot(kind='bar', title='Attention Mechanism as a function of input dimensions.')"
      ],
      "execution_count": 46,
      "outputs": [
        {
          "output_type": "execute_result",
          "data": {
            "text/plain": [
              "<matplotlib.axes._subplots.AxesSubplot at 0x7fd5607557b8>"
            ]
          },
          "metadata": {
            "tags": []
          },
          "execution_count": 46
        },
        {
          "output_type": "display_data",
          "data": {
            "image/png": "[encoded data removed]",
            "text/plain": [
              "<matplotlib.figure.Figure at 0x7fd5c5e01358>"
            ]
          },
          "metadata": {
            "tags": []
          }
        }
      ]
    },
    {
      "metadata": {
        "id": "9HgSssJdgh-L",
        "colab_type": "code",
        "colab": {}
      },
      "cell_type": "code",
      "source": [
        ""
      ],
      "execution_count": 0,
      "outputs": []
    }
  ]
}
