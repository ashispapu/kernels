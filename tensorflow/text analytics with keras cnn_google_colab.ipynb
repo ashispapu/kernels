{
  "nbformat": 4,
  "nbformat_minor": 0,
  "metadata": {
    "colab": {
      "name": "Copy of tensorflow test.ipynb",
      "version": "0.3.2",
      "provenance": []
    },
    "kernelspec": {
      "name": "python3",
      "display_name": "Python 3"
    },
    "accelerator": "GPU"
  },
  "cells": [
    {
      "metadata": {
        "id": "QbvxJTnJ_SRS",
        "colab_type": "code",
        "outputId": "736050c0-c2b8-4bdc-8d6b-247fb0e295fe",
        "colab": {
          "base_uri": "https://localhost:8080/",
          "height": 34
        }
      },
      "cell_type": "code",
      "source": [
        "import tensorflow as tf\n",
        "tf.test.gpu_device_name()"
      ],
      "execution_count": 0,
      "outputs": [
        {
          "output_type": "execute_result",
          "data": {
            "text/plain": [
              "'/device:GPU:0'"
            ]
          },
          "metadata": {
            "tags": []
          },
          "execution_count": 1
        }
      ]
    },
    {
      "metadata": {
        "id": "Gj-KU7vXAGLO",
        "colab_type": "code",
        "colab": {}
      },
      "cell_type": "code",
      "source": [
        "import pandas as pd"
      ],
      "execution_count": 0,
      "outputs": []
    },
    {
      "metadata": {
        "id": "7A06dQRNAahn",
        "colab_type": "code",
        "colab": {}
      },
      "cell_type": "code",
      "source": [
        "import numpy as np"
      ],
      "execution_count": 0,
      "outputs": []
    },
    {
      "metadata": {
        "id": "JO2NfTIBAb3s",
        "colab_type": "code",
        "colab": {}
      },
      "cell_type": "code",
      "source": [
        "import nltk\n",
        "from nltk.tokenize import word_tokenize\n",
        "from nltk.stem import WordNetLemmatizer\n",
        "import numpy as np\n",
        "import random\n",
        "import pickle\n",
        "from collections import Counter\n",
        "from os import listdir\n",
        "from os.path import isfile, join\n",
        "import pandas as pd"
      ],
      "execution_count": 0,
      "outputs": []
    },
    {
      "metadata": {
        "id": "5W41rpoOAk6N",
        "colab_type": "code",
        "outputId": "1dde6a92-e4bc-4911-b592-acc093e18d5a",
        "colab": {
          "base_uri": "https://localhost:8080/",
          "height": 34
        }
      },
      "cell_type": "code",
      "source": [
        "\"!wget https://archive.ics.uci.edu/ml/machine-learning-databases/00331/sentiment%20labelled%20sentences.zip\""
      ],
      "execution_count": 0,
      "outputs": [
        {
          "output_type": "execute_result",
          "data": {
            "text/plain": [
              "'!wget https://archive.ics.uci.edu/ml/machine-learning-databases/00331/sentiment%20labelled%20sentences.zip'"
            ]
          },
          "metadata": {
            "tags": []
          },
          "execution_count": 5
        }
      ]
    },
    {
      "metadata": {
        "id": "68Kq5jQuA8ub",
        "colab_type": "code",
        "outputId": "900e23e5-c0a0-4210-ced7-e3df2dbdd410",
        "colab": {
          "base_uri": "https://localhost:8080/",
          "height": 399
        }
      },
      "cell_type": "code",
      "source": [
        "%%bash\n",
        "ls\n",
        "# unzip \"sentiment labelled sentences.zip\"\n",
        "head \"sentiment labelled sentences/amazon_cells_labelled.txt\"\n",
        "ls"
      ],
      "execution_count": 0,
      "outputs": [
        {
          "output_type": "stream",
          "text": [
            "__MACOSX\n",
            "sample_data\n",
            "sentiment labelled sentences\n",
            "sentiment labelled sentences.zip\n",
            "sentiment labelled sentences.zip.1\n",
            "wiki.en.align.vec\n",
            "So there is no way for me to plug it in here in the US unless I go by a converter.\t0\n",
            "Good case, Excellent value.\t1\n",
            "Great for the jawbone.\t1\n",
            "Tied to charger for conversations lasting more than 45 minutes.MAJOR PROBLEMS!!\t0\n",
            "The mic is great.\t1\n",
            "I have to jiggle the plug to get it to line up right to get decent volume.\t0\n",
            "If you have several dozen or several hundred contacts, then imagine the fun of sending each of them one by one.\t0\n",
            "If you are Razr owner...you must have this!\t1\n",
            "Needless to say, I wasted my money.\t0\n",
            "What a waste of money and time!.\t0\n",
            "__MACOSX\n",
            "sample_data\n",
            "sentiment labelled sentences\n",
            "sentiment labelled sentences.zip\n",
            "sentiment labelled sentences.zip.1\n",
            "wiki.en.align.vec\n"
          ],
          "name": "stdout"
        }
      ]
    },
    {
      "metadata": {
        "id": "Z7NruKBMBAXb",
        "colab_type": "code",
        "colab": {}
      },
      "cell_type": "code",
      "source": [
        ""
      ],
      "execution_count": 0,
      "outputs": []
    },
    {
      "metadata": {
        "id": "7XToD1CjBzyB",
        "colab_type": "code",
        "outputId": "ffdb9916-3c49-40bd-b0d2-878107c300bd",
        "colab": {
          "base_uri": "https://localhost:8080/",
          "height": 206
        }
      },
      "cell_type": "code",
      "source": [
        "df = pd.read_csv(\"sentiment labelled sentences/amazon_cells_labelled.txt\", delimiter=\"\\t\", header=None)\n",
        "df.head()"
      ],
      "execution_count": 0,
      "outputs": [
        {
          "output_type": "execute_result",
          "data": {
            "text/html": [
              "<div>\n",
              "<style scoped>\n",
              "    .dataframe tbody tr th:only-of-type {\n",
              "        vertical-align: middle;\n",
              "    }\n",
              "\n",
              "    .dataframe tbody tr th {\n",
              "        vertical-align: top;\n",
              "    }\n",
              "\n",
              "    .dataframe thead th {\n",
              "        text-align: right;\n",
              "    }\n",
              "</style>\n",
              "<table border=\"1\" class=\"dataframe\">\n",
              "  <thead>\n",
              "    <tr style=\"text-align: right;\">\n",
              "      <th></th>\n",
              "      <th>0</th>\n",
              "      <th>1</th>\n",
              "    </tr>\n",
              "  </thead>\n",
              "  <tbody>\n",
              "    <tr>\n",
              "      <th>0</th>\n",
              "      <td>So there is no way for me to plug it in here i...</td>\n",
              "      <td>0</td>\n",
              "    </tr>\n",
              "    <tr>\n",
              "      <th>1</th>\n",
              "      <td>Good case, Excellent value.</td>\n",
              "      <td>1</td>\n",
              "    </tr>\n",
              "    <tr>\n",
              "      <th>2</th>\n",
              "      <td>Great for the jawbone.</td>\n",
              "      <td>1</td>\n",
              "    </tr>\n",
              "    <tr>\n",
              "      <th>3</th>\n",
              "      <td>Tied to charger for conversations lasting more...</td>\n",
              "      <td>0</td>\n",
              "    </tr>\n",
              "    <tr>\n",
              "      <th>4</th>\n",
              "      <td>The mic is great.</td>\n",
              "      <td>1</td>\n",
              "    </tr>\n",
              "  </tbody>\n",
              "</table>\n",
              "</div>"
            ],
            "text/plain": [
              "                                                   0  1\n",
              "0  So there is no way for me to plug it in here i...  0\n",
              "1                        Good case, Excellent value.  1\n",
              "2                             Great for the jawbone.  1\n",
              "3  Tied to charger for conversations lasting more...  0\n",
              "4                                  The mic is great.  1"
            ]
          },
          "metadata": {
            "tags": []
          },
          "execution_count": 7
        }
      ]
    },
    {
      "metadata": {
        "id": "nXlYKJiECb-a",
        "colab_type": "code",
        "colab": {}
      },
      "cell_type": "code",
      "source": [
        "from sklearn.feature_extraction.text import CountVectorizer\n",
        "from sklearn.model_selection import train_test_split"
      ],
      "execution_count": 0,
      "outputs": []
    },
    {
      "metadata": {
        "id": "Vst0UzVPDYPY",
        "colab_type": "code",
        "outputId": "3778630b-ce90-419c-a25d-14e7472f7a05",
        "colab": {
          "base_uri": "https://localhost:8080/",
          "height": 206
        }
      },
      "cell_type": "code",
      "source": [
        "df.columns = [\"text\", \"label\"]\n",
        "df.head()"
      ],
      "execution_count": 0,
      "outputs": [
        {
          "output_type": "execute_result",
          "data": {
            "text/html": [
              "<div>\n",
              "<style scoped>\n",
              "    .dataframe tbody tr th:only-of-type {\n",
              "        vertical-align: middle;\n",
              "    }\n",
              "\n",
              "    .dataframe tbody tr th {\n",
              "        vertical-align: top;\n",
              "    }\n",
              "\n",
              "    .dataframe thead th {\n",
              "        text-align: right;\n",
              "    }\n",
              "</style>\n",
              "<table border=\"1\" class=\"dataframe\">\n",
              "  <thead>\n",
              "    <tr style=\"text-align: right;\">\n",
              "      <th></th>\n",
              "      <th>text</th>\n",
              "      <th>label</th>\n",
              "    </tr>\n",
              "  </thead>\n",
              "  <tbody>\n",
              "    <tr>\n",
              "      <th>0</th>\n",
              "      <td>So there is no way for me to plug it in here i...</td>\n",
              "      <td>0</td>\n",
              "    </tr>\n",
              "    <tr>\n",
              "      <th>1</th>\n",
              "      <td>Good case, Excellent value.</td>\n",
              "      <td>1</td>\n",
              "    </tr>\n",
              "    <tr>\n",
              "      <th>2</th>\n",
              "      <td>Great for the jawbone.</td>\n",
              "      <td>1</td>\n",
              "    </tr>\n",
              "    <tr>\n",
              "      <th>3</th>\n",
              "      <td>Tied to charger for conversations lasting more...</td>\n",
              "      <td>0</td>\n",
              "    </tr>\n",
              "    <tr>\n",
              "      <th>4</th>\n",
              "      <td>The mic is great.</td>\n",
              "      <td>1</td>\n",
              "    </tr>\n",
              "  </tbody>\n",
              "</table>\n",
              "</div>"
            ],
            "text/plain": [
              "                                                text  label\n",
              "0  So there is no way for me to plug it in here i...      0\n",
              "1                        Good case, Excellent value.      1\n",
              "2                             Great for the jawbone.      1\n",
              "3  Tied to charger for conversations lasting more...      0\n",
              "4                                  The mic is great.      1"
            ]
          },
          "metadata": {
            "tags": []
          },
          "execution_count": 9
        }
      ]
    },
    {
      "metadata": {
        "id": "1djOA95mDf2b",
        "colab_type": "code",
        "colab": {}
      },
      "cell_type": "code",
      "source": [
        "sentences = df['text'].values\n",
        "y = df['label'].values"
      ],
      "execution_count": 0,
      "outputs": []
    },
    {
      "metadata": {
        "id": "ojQOPvGKDirv",
        "colab_type": "code",
        "colab": {}
      },
      "cell_type": "code",
      "source": [
        "sentences_train, sentences_test, y_train, y_test = train_test_split(\n",
        "    sentences, y, test_size=0.25, random_state=1000)"
      ],
      "execution_count": 0,
      "outputs": []
    },
    {
      "metadata": {
        "id": "cI8KgNFdDlZ3",
        "colab_type": "code",
        "outputId": "5edf0916-f9bf-4f5f-ec94-2781fc5be55b",
        "colab": {
          "base_uri": "https://localhost:8080/",
          "height": 121
        }
      },
      "cell_type": "code",
      "source": [
        "vectorizer = CountVectorizer()\n",
        "vectorizer.fit(sentences_train)"
      ],
      "execution_count": 0,
      "outputs": [
        {
          "output_type": "execute_result",
          "data": {
            "text/plain": [
              "CountVectorizer(analyzer='word', binary=False, decode_error='strict',\n",
              "        dtype=<class 'numpy.int64'>, encoding='utf-8', input='content',\n",
              "        lowercase=True, max_df=1.0, max_features=None, min_df=1,\n",
              "        ngram_range=(1, 1), preprocessor=None, stop_words=None,\n",
              "        strip_accents=None, token_pattern='(?u)\\\\b\\\\w\\\\w+\\\\b',\n",
              "        tokenizer=None, vocabulary=None)"
            ]
          },
          "metadata": {
            "tags": []
          },
          "execution_count": 12
        }
      ]
    },
    {
      "metadata": {
        "id": "yQ83k6psDndH",
        "colab_type": "code",
        "colab": {}
      },
      "cell_type": "code",
      "source": [
        "X_train = vectorizer.transform(sentences_train)\n",
        "X_test = vectorizer.transform(sentences_test)"
      ],
      "execution_count": 0,
      "outputs": []
    },
    {
      "metadata": {
        "id": "-D0VD6xLDqav",
        "colab_type": "code",
        "colab": {}
      },
      "cell_type": "code",
      "source": [
        "from sklearn.linear_model import LogisticRegression"
      ],
      "execution_count": 0,
      "outputs": []
    },
    {
      "metadata": {
        "id": "yWyT2VJhDx1S",
        "colab_type": "code",
        "colab": {}
      },
      "cell_type": "code",
      "source": [
        "classifier = LogisticRegression()\n",
        "classifier.fit(X_train, y_train)\n",
        "score = classifier.score(X_test, y_test)"
      ],
      "execution_count": 0,
      "outputs": []
    },
    {
      "metadata": {
        "id": "sQ-aVLL5D0dG",
        "colab_type": "code",
        "outputId": "a9b662c9-1634-40bb-fba7-93532312eb86",
        "colab": {
          "base_uri": "https://localhost:8080/",
          "height": 34
        }
      },
      "cell_type": "code",
      "source": [
        "print('Accuracy', score)"
      ],
      "execution_count": 0,
      "outputs": [
        {
          "output_type": "stream",
          "text": [
            "Accuracy 0.796\n"
          ],
          "name": "stdout"
        }
      ]
    },
    {
      "metadata": {
        "id": "4Vuy95rnD2wK",
        "colab_type": "code",
        "outputId": "1da08c3c-be37-441b-82a9-29d875cc3e1b",
        "colab": {
          "base_uri": "https://localhost:8080/",
          "height": 34
        }
      },
      "cell_type": "code",
      "source": [
        "from keras.models import Sequential\n",
        "from keras import layers"
      ],
      "execution_count": 0,
      "outputs": [
        {
          "output_type": "stream",
          "text": [
            "Using TensorFlow backend.\n"
          ],
          "name": "stderr"
        }
      ]
    },
    {
      "metadata": {
        "id": "iP5knCrfD7xU",
        "colab_type": "code",
        "colab": {}
      },
      "cell_type": "code",
      "source": [
        "input_dim = X_train.shape[1]"
      ],
      "execution_count": 0,
      "outputs": []
    },
    {
      "metadata": {
        "id": "eUytpC-kEg7L",
        "colab_type": "code",
        "colab": {}
      },
      "cell_type": "code",
      "source": [
        "model = Sequential()\n",
        "model.add(layers.Dense(10, input_dim=input_dim, activation='relu'))\n",
        "model.add(layers.Dense(1, activation='sigmoid'))"
      ],
      "execution_count": 0,
      "outputs": []
    },
    {
      "metadata": {
        "id": "fPE_gNUEEk7v",
        "colab_type": "code",
        "colab": {}
      },
      "cell_type": "code",
      "source": [
        "model.compile(loss='binary_crossentropy', optimizer='adam', metrics=['accuracy'])"
      ],
      "execution_count": 0,
      "outputs": []
    },
    {
      "metadata": {
        "id": "2_5vb1EqEAJM",
        "colab_type": "code",
        "outputId": "9fb5507a-06ec-4106-9bf0-0346d292cf03",
        "colab": {
          "base_uri": "https://localhost:8080/",
          "height": 208
        }
      },
      "cell_type": "code",
      "source": [
        "model.summary()"
      ],
      "execution_count": 0,
      "outputs": [
        {
          "output_type": "stream",
          "text": [
            "_________________________________________________________________\n",
            "Layer (type)                 Output Shape              Param #   \n",
            "=================================================================\n",
            "dense_1 (Dense)              (None, 10)                15470     \n",
            "_________________________________________________________________\n",
            "dense_2 (Dense)              (None, 1)                 11        \n",
            "=================================================================\n",
            "Total params: 15,481\n",
            "Trainable params: 15,481\n",
            "Non-trainable params: 0\n",
            "_________________________________________________________________\n"
          ],
          "name": "stdout"
        }
      ]
    },
    {
      "metadata": {
        "id": "c5Vg4rC7EV06",
        "colab_type": "code",
        "outputId": "d64f9237-b22f-492a-86d0-1bb8c595f26b",
        "colab": {
          "base_uri": "https://localhost:8080/",
          "height": 3508
        }
      },
      "cell_type": "code",
      "source": [
        "epochs = 100\n",
        "batch_size = 10\n",
        "\n",
        "history = model.fit(X_train, y_train, epochs=epochs,\n",
        "                    validation_data=(X_test, y_test),\n",
        "                    batch_size=batch_size)"
      ],
      "execution_count": 0,
      "outputs": [
        {
          "output_type": "stream",
          "text": [
            "Train on 750 samples, validate on 250 samples\n",
            "Epoch 1/100\n",
            "750/750 [==============================] - 1s 1ms/step - loss: 0.6848 - acc: 0.5893 - val_loss: 0.6672 - val_acc: 0.6680\n",
            "Epoch 2/100\n",
            "750/750 [==============================] - 0s 635us/step - loss: 0.6166 - acc: 0.8453 - val_loss: 0.6157 - val_acc: 0.7720\n",
            "Epoch 3/100\n",
            "750/750 [==============================] - 0s 628us/step - loss: 0.5176 - acc: 0.9080 - val_loss: 0.5549 - val_acc: 0.7600\n",
            "Epoch 4/100\n",
            "750/750 [==============================] - 0s 619us/step - loss: 0.4084 - acc: 0.9493 - val_loss: 0.5070 - val_acc: 0.7800\n",
            "Epoch 5/100\n",
            "750/750 [==============================] - 0s 651us/step - loss: 0.3163 - acc: 0.9707 - val_loss: 0.4698 - val_acc: 0.7880\n",
            "Epoch 6/100\n",
            "750/750 [==============================] - 0s 619us/step - loss: 0.2444 - acc: 0.9787 - val_loss: 0.4510 - val_acc: 0.7920\n",
            "Epoch 7/100\n",
            "750/750 [==============================] - 0s 649us/step - loss: 0.1916 - acc: 0.9880 - val_loss: 0.4376 - val_acc: 0.7960\n",
            "Epoch 8/100\n",
            "750/750 [==============================] - 0s 621us/step - loss: 0.1528 - acc: 0.9907 - val_loss: 0.4238 - val_acc: 0.7800\n",
            "Epoch 9/100\n",
            "750/750 [==============================] - 0s 632us/step - loss: 0.1233 - acc: 0.9947 - val_loss: 0.4201 - val_acc: 0.7840\n",
            "Epoch 10/100\n",
            "750/750 [==============================] - 0s 624us/step - loss: 0.1010 - acc: 0.9960 - val_loss: 0.4201 - val_acc: 0.7960\n",
            "Epoch 11/100\n",
            "750/750 [==============================] - 0s 651us/step - loss: 0.0836 - acc: 0.9973 - val_loss: 0.4210 - val_acc: 0.7840\n",
            "Epoch 12/100\n",
            "750/750 [==============================] - 0s 614us/step - loss: 0.0701 - acc: 0.9973 - val_loss: 0.4235 - val_acc: 0.7880\n",
            "Epoch 13/100\n",
            "750/750 [==============================] - 0s 657us/step - loss: 0.0593 - acc: 1.0000 - val_loss: 0.4238 - val_acc: 0.7960\n",
            "Epoch 14/100\n",
            "750/750 [==============================] - 0s 623us/step - loss: 0.0507 - acc: 1.0000 - val_loss: 0.4300 - val_acc: 0.7880\n",
            "Epoch 15/100\n",
            "750/750 [==============================] - 0s 659us/step - loss: 0.0437 - acc: 1.0000 - val_loss: 0.4333 - val_acc: 0.8000\n",
            "Epoch 16/100\n",
            "750/750 [==============================] - 0s 638us/step - loss: 0.0378 - acc: 1.0000 - val_loss: 0.4383 - val_acc: 0.8040\n",
            "Epoch 17/100\n",
            "750/750 [==============================] - 0s 625us/step - loss: 0.0330 - acc: 1.0000 - val_loss: 0.4419 - val_acc: 0.8080\n",
            "Epoch 18/100\n",
            "750/750 [==============================] - 0s 640us/step - loss: 0.0289 - acc: 1.0000 - val_loss: 0.4483 - val_acc: 0.8040\n",
            "Epoch 19/100\n",
            "750/750 [==============================] - 0s 614us/step - loss: 0.0255 - acc: 1.0000 - val_loss: 0.4536 - val_acc: 0.8000\n",
            "Epoch 20/100\n",
            "750/750 [==============================] - 0s 648us/step - loss: 0.0227 - acc: 1.0000 - val_loss: 0.4593 - val_acc: 0.7960\n",
            "Epoch 21/100\n",
            "750/750 [==============================] - 0s 615us/step - loss: 0.0201 - acc: 1.0000 - val_loss: 0.4656 - val_acc: 0.7920\n",
            "Epoch 22/100\n",
            "750/750 [==============================] - 0s 648us/step - loss: 0.0180 - acc: 1.0000 - val_loss: 0.4711 - val_acc: 0.7920\n",
            "Epoch 23/100\n",
            "750/750 [==============================] - 0s 624us/step - loss: 0.0162 - acc: 1.0000 - val_loss: 0.4771 - val_acc: 0.7920\n",
            "Epoch 24/100\n",
            "750/750 [==============================] - 0s 631us/step - loss: 0.0146 - acc: 1.0000 - val_loss: 0.4826 - val_acc: 0.7880\n",
            "Epoch 25/100\n",
            "750/750 [==============================] - 0s 617us/step - loss: 0.0132 - acc: 1.0000 - val_loss: 0.4881 - val_acc: 0.7920\n",
            "Epoch 26/100\n",
            "750/750 [==============================] - 0s 643us/step - loss: 0.0120 - acc: 1.0000 - val_loss: 0.4938 - val_acc: 0.7880\n",
            "Epoch 27/100\n",
            "750/750 [==============================] - 0s 612us/step - loss: 0.0109 - acc: 1.0000 - val_loss: 0.5005 - val_acc: 0.7920\n",
            "Epoch 28/100\n",
            "750/750 [==============================] - 0s 620us/step - loss: 0.0100 - acc: 1.0000 - val_loss: 0.5054 - val_acc: 0.7920\n",
            "Epoch 29/100\n",
            "750/750 [==============================] - 0s 634us/step - loss: 0.0091 - acc: 1.0000 - val_loss: 0.5114 - val_acc: 0.7920\n",
            "Epoch 30/100\n",
            "750/750 [==============================] - 0s 621us/step - loss: 0.0084 - acc: 1.0000 - val_loss: 0.5168 - val_acc: 0.7920\n",
            "Epoch 31/100\n",
            "750/750 [==============================] - 0s 649us/step - loss: 0.0077 - acc: 1.0000 - val_loss: 0.5218 - val_acc: 0.7920\n",
            "Epoch 32/100\n",
            "750/750 [==============================] - 0s 630us/step - loss: 0.0071 - acc: 1.0000 - val_loss: 0.5281 - val_acc: 0.7960\n",
            "Epoch 33/100\n",
            "750/750 [==============================] - 0s 651us/step - loss: 0.0066 - acc: 1.0000 - val_loss: 0.5332 - val_acc: 0.7960\n",
            "Epoch 34/100\n",
            "750/750 [==============================] - 0s 624us/step - loss: 0.0061 - acc: 1.0000 - val_loss: 0.5387 - val_acc: 0.7960\n",
            "Epoch 35/100\n",
            "750/750 [==============================] - 0s 660us/step - loss: 0.0056 - acc: 1.0000 - val_loss: 0.5436 - val_acc: 0.7960\n",
            "Epoch 36/100\n",
            "750/750 [==============================] - 0s 632us/step - loss: 0.0052 - acc: 1.0000 - val_loss: 0.5480 - val_acc: 0.7960\n",
            "Epoch 37/100\n",
            "750/750 [==============================] - 1s 673us/step - loss: 0.0048 - acc: 1.0000 - val_loss: 0.5545 - val_acc: 0.7920\n",
            "Epoch 38/100\n",
            "750/750 [==============================] - 0s 628us/step - loss: 0.0045 - acc: 1.0000 - val_loss: 0.5591 - val_acc: 0.7960\n",
            "Epoch 39/100\n",
            "750/750 [==============================] - 0s 666us/step - loss: 0.0042 - acc: 1.0000 - val_loss: 0.5645 - val_acc: 0.7920\n",
            "Epoch 40/100\n",
            "750/750 [==============================] - 0s 618us/step - loss: 0.0039 - acc: 1.0000 - val_loss: 0.5693 - val_acc: 0.7920\n",
            "Epoch 41/100\n",
            "750/750 [==============================] - 0s 631us/step - loss: 0.0037 - acc: 1.0000 - val_loss: 0.5746 - val_acc: 0.7880\n",
            "Epoch 42/100\n",
            "750/750 [==============================] - 0s 629us/step - loss: 0.0034 - acc: 1.0000 - val_loss: 0.5799 - val_acc: 0.7920\n",
            "Epoch 43/100\n",
            "750/750 [==============================] - 0s 632us/step - loss: 0.0032 - acc: 1.0000 - val_loss: 0.5844 - val_acc: 0.7880\n",
            "Epoch 44/100\n",
            "750/750 [==============================] - 0s 627us/step - loss: 0.0030 - acc: 1.0000 - val_loss: 0.5891 - val_acc: 0.7880\n",
            "Epoch 45/100\n",
            "750/750 [==============================] - 0s 634us/step - loss: 0.0028 - acc: 1.0000 - val_loss: 0.5945 - val_acc: 0.7920\n",
            "Epoch 46/100\n",
            "750/750 [==============================] - 1s 667us/step - loss: 0.0026 - acc: 1.0000 - val_loss: 0.5986 - val_acc: 0.7880\n",
            "Epoch 47/100\n",
            "750/750 [==============================] - 0s 614us/step - loss: 0.0025 - acc: 1.0000 - val_loss: 0.6038 - val_acc: 0.7880\n",
            "Epoch 48/100\n",
            "750/750 [==============================] - 0s 629us/step - loss: 0.0023 - acc: 1.0000 - val_loss: 0.6086 - val_acc: 0.7840\n",
            "Epoch 49/100\n",
            "750/750 [==============================] - 0s 622us/step - loss: 0.0022 - acc: 1.0000 - val_loss: 0.6134 - val_acc: 0.7840\n",
            "Epoch 50/100\n",
            "750/750 [==============================] - 0s 649us/step - loss: 0.0021 - acc: 1.0000 - val_loss: 0.6178 - val_acc: 0.7880\n",
            "Epoch 51/100\n",
            "750/750 [==============================] - 0s 617us/step - loss: 0.0020 - acc: 1.0000 - val_loss: 0.6231 - val_acc: 0.7840\n",
            "Epoch 52/100\n",
            "750/750 [==============================] - 0s 637us/step - loss: 0.0018 - acc: 1.0000 - val_loss: 0.6271 - val_acc: 0.7840\n",
            "Epoch 53/100\n",
            "750/750 [==============================] - 0s 619us/step - loss: 0.0017 - acc: 1.0000 - val_loss: 0.6318 - val_acc: 0.7840\n",
            "Epoch 54/100\n",
            "750/750 [==============================] - 0s 625us/step - loss: 0.0016 - acc: 1.0000 - val_loss: 0.6363 - val_acc: 0.7840\n",
            "Epoch 55/100\n",
            "750/750 [==============================] - 0s 626us/step - loss: 0.0015 - acc: 1.0000 - val_loss: 0.6410 - val_acc: 0.7840\n",
            "Epoch 56/100\n",
            "750/750 [==============================] - 0s 617us/step - loss: 0.0015 - acc: 1.0000 - val_loss: 0.6455 - val_acc: 0.7880\n",
            "Epoch 57/100\n",
            "750/750 [==============================] - 0s 631us/step - loss: 0.0014 - acc: 1.0000 - val_loss: 0.6501 - val_acc: 0.7840\n",
            "Epoch 58/100\n",
            "750/750 [==============================] - 0s 613us/step - loss: 0.0013 - acc: 1.0000 - val_loss: 0.6545 - val_acc: 0.7840\n",
            "Epoch 59/100\n",
            "750/750 [==============================] - 0s 628us/step - loss: 0.0012 - acc: 1.0000 - val_loss: 0.6588 - val_acc: 0.7840\n",
            "Epoch 60/100\n",
            "750/750 [==============================] - 0s 622us/step - loss: 0.0012 - acc: 1.0000 - val_loss: 0.6629 - val_acc: 0.7840\n",
            "Epoch 61/100\n",
            "750/750 [==============================] - 0s 646us/step - loss: 0.0011 - acc: 1.0000 - val_loss: 0.6675 - val_acc: 0.7840\n",
            "Epoch 62/100\n",
            "750/750 [==============================] - 0s 618us/step - loss: 0.0011 - acc: 1.0000 - val_loss: 0.6723 - val_acc: 0.7840\n",
            "Epoch 63/100\n",
            "750/750 [==============================] - 0s 630us/step - loss: 0.0010 - acc: 1.0000 - val_loss: 0.6757 - val_acc: 0.7840\n",
            "Epoch 64/100\n",
            "750/750 [==============================] - 0s 613us/step - loss: 9.4957e-04 - acc: 1.0000 - val_loss: 0.6808 - val_acc: 0.7840\n",
            "Epoch 65/100\n",
            "750/750 [==============================] - 0s 615us/step - loss: 9.0257e-04 - acc: 1.0000 - val_loss: 0.6849 - val_acc: 0.7840\n",
            "Epoch 66/100\n",
            "750/750 [==============================] - 0s 620us/step - loss: 8.5672e-04 - acc: 1.0000 - val_loss: 0.6894 - val_acc: 0.7840\n",
            "Epoch 67/100\n",
            "750/750 [==============================] - 0s 610us/step - loss: 8.1345e-04 - acc: 1.0000 - val_loss: 0.6937 - val_acc: 0.7840\n",
            "Epoch 68/100\n",
            "750/750 [==============================] - 0s 626us/step - loss: 7.7261e-04 - acc: 1.0000 - val_loss: 0.6977 - val_acc: 0.7840\n",
            "Epoch 69/100\n",
            "750/750 [==============================] - 0s 623us/step - loss: 7.3436e-04 - acc: 1.0000 - val_loss: 0.7017 - val_acc: 0.7880\n",
            "Epoch 70/100\n",
            "750/750 [==============================] - 0s 651us/step - loss: 6.9905e-04 - acc: 1.0000 - val_loss: 0.7062 - val_acc: 0.7880\n",
            "Epoch 71/100\n",
            "750/750 [==============================] - 0s 613us/step - loss: 6.6449e-04 - acc: 1.0000 - val_loss: 0.7104 - val_acc: 0.7840\n",
            "Epoch 72/100\n",
            "750/750 [==============================] - 0s 622us/step - loss: 6.3166e-04 - acc: 1.0000 - val_loss: 0.7147 - val_acc: 0.7840\n",
            "Epoch 73/100\n",
            "750/750 [==============================] - 0s 614us/step - loss: 6.0071e-04 - acc: 1.0000 - val_loss: 0.7187 - val_acc: 0.7840\n",
            "Epoch 74/100\n",
            "750/750 [==============================] - 0s 631us/step - loss: 5.7265e-04 - acc: 1.0000 - val_loss: 0.7229 - val_acc: 0.7840\n",
            "Epoch 75/100\n",
            "750/750 [==============================] - 0s 612us/step - loss: 5.4499e-04 - acc: 1.0000 - val_loss: 0.7272 - val_acc: 0.7840\n",
            "Epoch 76/100\n",
            "750/750 [==============================] - 0s 616us/step - loss: 5.1876e-04 - acc: 1.0000 - val_loss: 0.7318 - val_acc: 0.7840\n",
            "Epoch 77/100\n",
            "750/750 [==============================] - 0s 631us/step - loss: 4.9439e-04 - acc: 1.0000 - val_loss: 0.7354 - val_acc: 0.7880\n",
            "Epoch 78/100\n",
            "750/750 [==============================] - 0s 621us/step - loss: 4.7017e-04 - acc: 1.0000 - val_loss: 0.7397 - val_acc: 0.7880\n",
            "Epoch 79/100\n",
            "750/750 [==============================] - 0s 628us/step - loss: 4.4848e-04 - acc: 1.0000 - val_loss: 0.7438 - val_acc: 0.7840\n",
            "Epoch 80/100\n",
            "750/750 [==============================] - 0s 618us/step - loss: 4.2785e-04 - acc: 1.0000 - val_loss: 0.7476 - val_acc: 0.7880\n",
            "Epoch 81/100\n",
            "750/750 [==============================] - 0s 637us/step - loss: 4.0790e-04 - acc: 1.0000 - val_loss: 0.7520 - val_acc: 0.7880\n",
            "Epoch 82/100\n",
            "750/750 [==============================] - 0s 604us/step - loss: 3.8905e-04 - acc: 1.0000 - val_loss: 0.7559 - val_acc: 0.7880\n",
            "Epoch 83/100\n",
            "750/750 [==============================] - 0s 647us/step - loss: 3.7064e-04 - acc: 1.0000 - val_loss: 0.7601 - val_acc: 0.7880\n",
            "Epoch 84/100\n",
            "750/750 [==============================] - 0s 621us/step - loss: 3.5416e-04 - acc: 1.0000 - val_loss: 0.7638 - val_acc: 0.7880\n",
            "Epoch 85/100\n",
            "750/750 [==============================] - 0s 636us/step - loss: 3.3747e-04 - acc: 1.0000 - val_loss: 0.7679 - val_acc: 0.7880\n",
            "Epoch 86/100\n",
            "750/750 [==============================] - 0s 611us/step - loss: 3.2216e-04 - acc: 1.0000 - val_loss: 0.7720 - val_acc: 0.7880\n",
            "Epoch 87/100\n",
            "750/750 [==============================] - 0s 647us/step - loss: 3.0731e-04 - acc: 1.0000 - val_loss: 0.7761 - val_acc: 0.7880\n",
            "Epoch 88/100\n",
            "750/750 [==============================] - 0s 627us/step - loss: 2.9341e-04 - acc: 1.0000 - val_loss: 0.7803 - val_acc: 0.7880\n",
            "Epoch 89/100\n",
            "750/750 [==============================] - 0s 607us/step - loss: 2.8022e-04 - acc: 1.0000 - val_loss: 0.7841 - val_acc: 0.7880\n",
            "Epoch 90/100\n",
            "750/750 [==============================] - 0s 624us/step - loss: 2.6716e-04 - acc: 1.0000 - val_loss: 0.7884 - val_acc: 0.7880\n",
            "Epoch 91/100\n",
            "750/750 [==============================] - 0s 613us/step - loss: 2.5536e-04 - acc: 1.0000 - val_loss: 0.7924 - val_acc: 0.7880\n",
            "Epoch 92/100\n",
            "750/750 [==============================] - 0s 636us/step - loss: 2.4395e-04 - acc: 1.0000 - val_loss: 0.7966 - val_acc: 0.7880\n",
            "Epoch 93/100\n",
            "750/750 [==============================] - 0s 608us/step - loss: 2.3315e-04 - acc: 1.0000 - val_loss: 0.8005 - val_acc: 0.7880\n",
            "Epoch 94/100\n",
            "750/750 [==============================] - 0s 621us/step - loss: 2.2253e-04 - acc: 1.0000 - val_loss: 0.8046 - val_acc: 0.7880\n",
            "Epoch 95/100\n",
            "750/750 [==============================] - 0s 612us/step - loss: 2.1236e-04 - acc: 1.0000 - val_loss: 0.8087 - val_acc: 0.7880\n",
            "Epoch 96/100\n",
            "750/750 [==============================] - 0s 622us/step - loss: 2.0310e-04 - acc: 1.0000 - val_loss: 0.8124 - val_acc: 0.7880\n",
            "Epoch 97/100\n",
            "750/750 [==============================] - 0s 603us/step - loss: 1.9427e-04 - acc: 1.0000 - val_loss: 0.8166 - val_acc: 0.7880\n",
            "Epoch 98/100\n",
            "750/750 [==============================] - 0s 603us/step - loss: 1.8562e-04 - acc: 1.0000 - val_loss: 0.8204 - val_acc: 0.7880\n",
            "Epoch 99/100\n",
            "750/750 [==============================] - 0s 615us/step - loss: 1.7728e-04 - acc: 1.0000 - val_loss: 0.8243 - val_acc: 0.7880\n",
            "Epoch 100/100\n",
            "750/750 [==============================] - 0s 604us/step - loss: 1.6964e-04 - acc: 1.0000 - val_loss: 0.8283 - val_acc: 0.7880\n"
          ],
          "name": "stdout"
        }
      ]
    },
    {
      "metadata": {
        "id": "IqlKjdItEYsH",
        "colab_type": "code",
        "colab": {}
      },
      "cell_type": "code",
      "source": [
        "import matplotlib.pyplot as plt\n",
        "plt.style.use('ggplot')"
      ],
      "execution_count": 0,
      "outputs": []
    },
    {
      "metadata": {
        "id": "9Va8aFibE9zy",
        "colab_type": "code",
        "colab": {}
      },
      "cell_type": "code",
      "source": [
        "def plot_history(history):\n",
        "    acc = history.history['acc']\n",
        "    val_acc = history.history['val_acc']\n",
        "    loss = history.history['loss']\n",
        "    val_loss = history.history['val_loss']\n",
        "    x = range(1, len(acc) + 1)\n",
        "    \n",
        "    plt.figure(figsize=(12, 5))\n",
        "    plt.subplot(1, 2, 1)\n",
        "    plt.plot(x, acc, 'b', label='Training acc')\n",
        "    plt.plot(x, val_acc, 'r', label='Validation acc')\n",
        "    plt.title('Training and validation accuracy')\n",
        "    plt.legend()\n",
        "    plt.subplot(1, 2, 2)\n",
        "    plt.plot(x, loss, 'b', label='Training loss')\n",
        "    plt.plot(x, val_loss, 'r', label='Validation loss')\n",
        "    plt.title('Training and validation loss')\n",
        "    plt.legend()"
      ],
      "execution_count": 0,
      "outputs": []
    },
    {
      "metadata": {
        "id": "kyMmEIlNFAIx",
        "colab_type": "code",
        "outputId": "1527418c-0b36-40ee-ab1e-3c554375984b",
        "colab": {
          "base_uri": "https://localhost:8080/",
          "height": 337
        }
      },
      "cell_type": "code",
      "source": [
        "plot_history(history)"
      ],
      "execution_count": 0,
      "outputs": [
        {
          "output_type": "display_data",
          "data": {
            "image/png": "[encoded data removed]",
            "text/plain": [
              "<matplotlib.figure.Figure at 0x7fdd078efbe0>"
            ]
          },
          "metadata": {
            "tags": []
          }
        }
      ]
    },
    {
      "metadata": {
        "id": "GKD-UVP-FB0O",
        "colab_type": "code",
        "colab": {}
      },
      "cell_type": "code",
      "source": [
        "from keras.preprocessing.text import Tokenizer"
      ],
      "execution_count": 0,
      "outputs": []
    },
    {
      "metadata": {
        "id": "gVsF4HbFFJtm",
        "colab_type": "code",
        "colab": {}
      },
      "cell_type": "code",
      "source": [
        "tokenizer = Tokenizer(num_words=5000)\n",
        "tokenizer.fit_on_texts(sentences_train)"
      ],
      "execution_count": 0,
      "outputs": []
    },
    {
      "metadata": {
        "id": "e6u5l23sFLbj",
        "colab_type": "code",
        "colab": {}
      },
      "cell_type": "code",
      "source": [
        "X_train = tokenizer.texts_to_sequences(sentences_train)\n",
        "X_test = tokenizer.texts_to_sequences(sentences_test)"
      ],
      "execution_count": 0,
      "outputs": []
    },
    {
      "metadata": {
        "id": "JZwXrcBaFNzF",
        "colab_type": "code",
        "outputId": "e7c50044-65b9-45c7-9e05-11b03bf0cea0",
        "colab": {
          "base_uri": "https://localhost:8080/",
          "height": 34
        }
      },
      "cell_type": "code",
      "source": [
        "vocab_size = len(tokenizer.word_index) + 1\n",
        "print(vocab_size)"
      ],
      "execution_count": 0,
      "outputs": [
        {
          "output_type": "stream",
          "text": [
            "1574\n"
          ],
          "name": "stdout"
        }
      ]
    },
    {
      "metadata": {
        "id": "RErksRUAFP1W",
        "colab_type": "code",
        "outputId": "512d57cb-6f7e-4870-942e-5317058e43be",
        "colab": {
          "base_uri": "https://localhost:8080/",
          "height": 34
        }
      },
      "cell_type": "code",
      "source": [
        "print(sentences_train[2])"
      ],
      "execution_count": 0,
      "outputs": [
        {
          "output_type": "stream",
          "text": [
            "Was not happy.\n"
          ],
          "name": "stdout"
        }
      ]
    },
    {
      "metadata": {
        "id": "i9fIq4lZFSDW",
        "colab_type": "code",
        "outputId": "749947b2-6ebe-4198-e3c6-cb5183b365c5",
        "colab": {
          "base_uri": "https://localhost:8080/",
          "height": 34
        }
      },
      "cell_type": "code",
      "source": [
        "print(X_train[2])"
      ],
      "execution_count": 0,
      "outputs": [
        {
          "output_type": "stream",
          "text": [
            "[17, 13, 86]\n"
          ],
          "name": "stdout"
        }
      ]
    },
    {
      "metadata": {
        "id": "zL3bYWwSFVpl",
        "colab_type": "code",
        "colab": {}
      },
      "cell_type": "code",
      "source": [
        "from keras.preprocessing.sequence import pad_sequences"
      ],
      "execution_count": 0,
      "outputs": []
    },
    {
      "metadata": {
        "id": "cmmioE2PFZsa",
        "colab_type": "code",
        "colab": {}
      },
      "cell_type": "code",
      "source": [
        "maxlen = 100"
      ],
      "execution_count": 0,
      "outputs": []
    },
    {
      "metadata": {
        "id": "IruKhLxTFbN7",
        "colab_type": "code",
        "colab": {}
      },
      "cell_type": "code",
      "source": [
        "X_train = pad_sequences(X_train, padding='post', maxlen=maxlen)\n",
        "X_test = pad_sequences(X_test, padding='post', maxlen=maxlen)"
      ],
      "execution_count": 0,
      "outputs": []
    },
    {
      "metadata": {
        "id": "wl0XRU5-Fczg",
        "colab_type": "code",
        "outputId": "f16ba51b-f07f-4f66-f1f4-4fcd01058514",
        "colab": {
          "base_uri": "https://localhost:8080/",
          "height": 121
        }
      },
      "cell_type": "code",
      "source": [
        "print(X_train[0, :])"
      ],
      "execution_count": 0,
      "outputs": [
        {
          "output_type": "stream",
          "text": [
            "[  7  24   5  16   4 137 148   6 223 315   2  71 224   8   1 673 111 444\n",
            "  18 316  11 445   0   0   0   0   0   0   0   0   0   0   0   0   0   0\n",
            "   0   0   0   0   0   0   0   0   0   0   0   0   0   0   0   0   0   0\n",
            "   0   0   0   0   0   0   0   0   0   0   0   0   0   0   0   0   0   0\n",
            "   0   0   0   0   0   0   0   0   0   0   0   0   0   0   0   0   0   0\n",
            "   0   0   0   0   0   0   0   0   0   0]\n"
          ],
          "name": "stdout"
        }
      ]
    },
    {
      "metadata": {
        "id": "NPsQlAnUFezx",
        "colab_type": "code",
        "colab": {}
      },
      "cell_type": "code",
      "source": [
        "from keras.models import Sequential\n",
        "from keras import layers"
      ],
      "execution_count": 0,
      "outputs": []
    },
    {
      "metadata": {
        "id": "keHxrFFAFgf5",
        "colab_type": "code",
        "colab": {}
      },
      "cell_type": "code",
      "source": [
        "embedding_dim = 50"
      ],
      "execution_count": 0,
      "outputs": []
    },
    {
      "metadata": {
        "id": "RL8qpy5oFje0",
        "colab_type": "code",
        "colab": {}
      },
      "cell_type": "code",
      "source": [
        "model = Sequential()\n",
        "model.add(layers.Embedding(input_dim=vocab_size, output_dim=embedding_dim, input_length=maxlen))\n",
        "model.add(layers.Flatten())\n",
        "model.add(layers.Dense(10, activation='relu'))\n",
        "model.add(layers.Dense(1, activation='sigmoid'))"
      ],
      "execution_count": 0,
      "outputs": []
    },
    {
      "metadata": {
        "id": "Yfd-M8esFlqI",
        "colab_type": "code",
        "colab": {}
      },
      "cell_type": "code",
      "source": [
        "model.compile(optimizer='adam', loss='binary_crossentropy', metrics=['accuracy'])"
      ],
      "execution_count": 0,
      "outputs": []
    },
    {
      "metadata": {
        "id": "xlJAzd2jFn4W",
        "colab_type": "code",
        "outputId": "af81c941-6d49-4efb-c175-162f3666e9a3",
        "colab": {
          "base_uri": "https://localhost:8080/",
          "height": 278
        }
      },
      "cell_type": "code",
      "source": [
        "model.summary()"
      ],
      "execution_count": 0,
      "outputs": [
        {
          "output_type": "stream",
          "text": [
            "_________________________________________________________________\n",
            "Layer (type)                 Output Shape              Param #   \n",
            "=================================================================\n",
            "embedding_1 (Embedding)      (None, 100, 50)           78700     \n",
            "_________________________________________________________________\n",
            "flatten_1 (Flatten)          (None, 5000)              0         \n",
            "_________________________________________________________________\n",
            "dense_3 (Dense)              (None, 10)                50010     \n",
            "_________________________________________________________________\n",
            "dense_4 (Dense)              (None, 1)                 11        \n",
            "=================================================================\n",
            "Total params: 128,721\n",
            "Trainable params: 128,721\n",
            "Non-trainable params: 0\n",
            "_________________________________________________________________\n"
          ],
          "name": "stdout"
        }
      ]
    },
    {
      "metadata": {
        "id": "hpdQ4wCkFpvv",
        "colab_type": "code",
        "outputId": "571ed082-0cd1-454d-c8e7-065e8267dac1",
        "colab": {
          "base_uri": "https://localhost:8080/",
          "height": 3508
        }
      },
      "cell_type": "code",
      "source": [
        "epochs = 100\n",
        "batch_size = 10\n",
        "\n",
        "history = model.fit(X_train, y_train, epochs=epochs, \n",
        "                    validation_data=(X_test, y_test),\n",
        "                    batch_size=batch_size)"
      ],
      "execution_count": 0,
      "outputs": [
        {
          "output_type": "stream",
          "text": [
            "Train on 750 samples, validate on 250 samples\n",
            "Epoch 1/100\n",
            "750/750 [==============================] - 1s 954us/step - loss: 0.6939 - acc: 0.4947 - val_loss: 0.6932 - val_acc: 0.4960\n",
            "Epoch 2/100\n",
            "750/750 [==============================] - 0s 638us/step - loss: 0.6949 - acc: 0.5067 - val_loss: 0.6931 - val_acc: 0.5040\n",
            "Epoch 3/100\n",
            "750/750 [==============================] - 0s 619us/step - loss: 0.6776 - acc: 0.6173 - val_loss: 0.6570 - val_acc: 0.6720\n",
            "Epoch 4/100\n",
            "750/750 [==============================] - 0s 650us/step - loss: 0.4918 - acc: 0.8533 - val_loss: 0.5470 - val_acc: 0.7400\n",
            "Epoch 5/100\n",
            "750/750 [==============================] - 0s 613us/step - loss: 0.2287 - acc: 0.9600 - val_loss: 0.4943 - val_acc: 0.7480\n",
            "Epoch 6/100\n",
            "750/750 [==============================] - 0s 628us/step - loss: 0.0885 - acc: 0.9960 - val_loss: 0.4881 - val_acc: 0.7760\n",
            "Epoch 7/100\n",
            "750/750 [==============================] - 0s 619us/step - loss: 0.0393 - acc: 1.0000 - val_loss: 0.5114 - val_acc: 0.7640\n",
            "Epoch 8/100\n",
            "750/750 [==============================] - 0s 625us/step - loss: 0.0215 - acc: 1.0000 - val_loss: 0.5321 - val_acc: 0.7760\n",
            "Epoch 9/100\n",
            "750/750 [==============================] - 0s 644us/step - loss: 0.0132 - acc: 1.0000 - val_loss: 0.5489 - val_acc: 0.7840\n",
            "Epoch 10/100\n",
            "750/750 [==============================] - 0s 612us/step - loss: 0.0093 - acc: 1.0000 - val_loss: 0.5541 - val_acc: 0.7800\n",
            "Epoch 11/100\n",
            "750/750 [==============================] - 0s 648us/step - loss: 0.0067 - acc: 1.0000 - val_loss: 0.5638 - val_acc: 0.7800\n",
            "Epoch 12/100\n",
            "750/750 [==============================] - 0s 612us/step - loss: 0.0049 - acc: 1.0000 - val_loss: 0.5712 - val_acc: 0.7640\n",
            "Epoch 13/100\n",
            "750/750 [==============================] - 0s 631us/step - loss: 0.0039 - acc: 1.0000 - val_loss: 0.5910 - val_acc: 0.7720\n",
            "Epoch 14/100\n",
            "750/750 [==============================] - 0s 610us/step - loss: 0.0031 - acc: 1.0000 - val_loss: 0.5926 - val_acc: 0.7680\n",
            "Epoch 15/100\n",
            "750/750 [==============================] - 0s 625us/step - loss: 0.0025 - acc: 1.0000 - val_loss: 0.6076 - val_acc: 0.7720\n",
            "Epoch 16/100\n",
            "750/750 [==============================] - 0s 609us/step - loss: 0.0021 - acc: 1.0000 - val_loss: 0.6159 - val_acc: 0.7720\n",
            "Epoch 17/100\n",
            "750/750 [==============================] - 0s 629us/step - loss: 0.0018 - acc: 1.0000 - val_loss: 0.6367 - val_acc: 0.7800\n",
            "Epoch 18/100\n",
            "750/750 [==============================] - 0s 621us/step - loss: 0.0016 - acc: 1.0000 - val_loss: 0.6366 - val_acc: 0.7720\n",
            "Epoch 19/100\n",
            "750/750 [==============================] - 0s 621us/step - loss: 0.0013 - acc: 1.0000 - val_loss: 0.6401 - val_acc: 0.7760\n",
            "Epoch 20/100\n",
            "750/750 [==============================] - 0s 642us/step - loss: 0.0011 - acc: 1.0000 - val_loss: 0.6504 - val_acc: 0.7720\n",
            "Epoch 21/100\n",
            "750/750 [==============================] - 0s 644us/step - loss: 0.0010 - acc: 1.0000 - val_loss: 0.6551 - val_acc: 0.7720\n",
            "Epoch 22/100\n",
            "750/750 [==============================] - 0s 629us/step - loss: 8.9105e-04 - acc: 1.0000 - val_loss: 0.6577 - val_acc: 0.7720\n",
            "Epoch 23/100\n",
            "750/750 [==============================] - 0s 633us/step - loss: 7.8633e-04 - acc: 1.0000 - val_loss: 0.6676 - val_acc: 0.7720\n",
            "Epoch 24/100\n",
            "750/750 [==============================] - 0s 626us/step - loss: 7.0190e-04 - acc: 1.0000 - val_loss: 0.6674 - val_acc: 0.7720\n",
            "Epoch 25/100\n",
            "750/750 [==============================] - 0s 626us/step - loss: 6.4066e-04 - acc: 1.0000 - val_loss: 0.6747 - val_acc: 0.7720\n",
            "Epoch 26/100\n",
            "750/750 [==============================] - 0s 651us/step - loss: 5.6673e-04 - acc: 1.0000 - val_loss: 0.6827 - val_acc: 0.7680\n",
            "Epoch 27/100\n",
            "750/750 [==============================] - 0s 619us/step - loss: 5.1522e-04 - acc: 1.0000 - val_loss: 0.6882 - val_acc: 0.7680\n",
            "Epoch 28/100\n",
            "750/750 [==============================] - 0s 657us/step - loss: 4.6940e-04 - acc: 1.0000 - val_loss: 0.6948 - val_acc: 0.7720\n",
            "Epoch 29/100\n",
            "750/750 [==============================] - 0s 625us/step - loss: 4.2396e-04 - acc: 1.0000 - val_loss: 0.6937 - val_acc: 0.7760\n",
            "Epoch 30/100\n",
            "750/750 [==============================] - 0s 633us/step - loss: 3.8914e-04 - acc: 1.0000 - val_loss: 0.7057 - val_acc: 0.7680\n",
            "Epoch 31/100\n",
            "750/750 [==============================] - 0s 617us/step - loss: 3.5608e-04 - acc: 1.0000 - val_loss: 0.7075 - val_acc: 0.7680\n",
            "Epoch 32/100\n",
            "750/750 [==============================] - 0s 608us/step - loss: 3.2794e-04 - acc: 1.0000 - val_loss: 0.7153 - val_acc: 0.7680\n",
            "Epoch 33/100\n",
            "750/750 [==============================] - 0s 628us/step - loss: 3.0226e-04 - acc: 1.0000 - val_loss: 0.7157 - val_acc: 0.7720\n",
            "Epoch 34/100\n",
            "750/750 [==============================] - 0s 611us/step - loss: 2.7777e-04 - acc: 1.0000 - val_loss: 0.7218 - val_acc: 0.7680\n",
            "Epoch 35/100\n",
            "750/750 [==============================] - 0s 631us/step - loss: 2.5657e-04 - acc: 1.0000 - val_loss: 0.7242 - val_acc: 0.7720\n",
            "Epoch 36/100\n",
            "750/750 [==============================] - 0s 613us/step - loss: 2.4039e-04 - acc: 1.0000 - val_loss: 0.7317 - val_acc: 0.7720\n",
            "Epoch 37/100\n",
            "750/750 [==============================] - 0s 647us/step - loss: 2.2071e-04 - acc: 1.0000 - val_loss: 0.7356 - val_acc: 0.7720\n",
            "Epoch 38/100\n",
            "750/750 [==============================] - 0s 616us/step - loss: 2.0680e-04 - acc: 1.0000 - val_loss: 0.7384 - val_acc: 0.7720\n",
            "Epoch 39/100\n",
            "750/750 [==============================] - 0s 653us/step - loss: 1.9013e-04 - acc: 1.0000 - val_loss: 0.7431 - val_acc: 0.7680\n",
            "Epoch 40/100\n",
            "750/750 [==============================] - 0s 627us/step - loss: 1.7832e-04 - acc: 1.0000 - val_loss: 0.7448 - val_acc: 0.7760\n",
            "Epoch 41/100\n",
            "750/750 [==============================] - 1s 680us/step - loss: 1.6537e-04 - acc: 1.0000 - val_loss: 0.7500 - val_acc: 0.7760\n",
            "Epoch 42/100\n",
            "750/750 [==============================] - 0s 639us/step - loss: 1.5441e-04 - acc: 1.0000 - val_loss: 0.7526 - val_acc: 0.7760\n",
            "Epoch 43/100\n",
            "750/750 [==============================] - 0s 651us/step - loss: 1.4469e-04 - acc: 1.0000 - val_loss: 0.7622 - val_acc: 0.7680\n",
            "Epoch 44/100\n",
            "750/750 [==============================] - 0s 649us/step - loss: 1.3501e-04 - acc: 1.0000 - val_loss: 0.7604 - val_acc: 0.7760\n",
            "Epoch 45/100\n",
            "750/750 [==============================] - 0s 640us/step - loss: 1.2654e-04 - acc: 1.0000 - val_loss: 0.7647 - val_acc: 0.7760\n",
            "Epoch 46/100\n",
            "750/750 [==============================] - 0s 652us/step - loss: 1.1900e-04 - acc: 1.0000 - val_loss: 0.7669 - val_acc: 0.7760\n",
            "Epoch 47/100\n",
            "750/750 [==============================] - 0s 635us/step - loss: 1.1159e-04 - acc: 1.0000 - val_loss: 0.7736 - val_acc: 0.7760\n",
            "Epoch 48/100\n",
            "750/750 [==============================] - 1s 667us/step - loss: 1.0486e-04 - acc: 1.0000 - val_loss: 0.7787 - val_acc: 0.7760\n",
            "Epoch 49/100\n",
            "750/750 [==============================] - 0s 634us/step - loss: 9.8740e-05 - acc: 1.0000 - val_loss: 0.7829 - val_acc: 0.7720\n",
            "Epoch 50/100\n",
            "750/750 [==============================] - 0s 661us/step - loss: 9.2760e-05 - acc: 1.0000 - val_loss: 0.7828 - val_acc: 0.7760\n",
            "Epoch 51/100\n",
            "750/750 [==============================] - 0s 640us/step - loss: 8.7216e-05 - acc: 1.0000 - val_loss: 0.7869 - val_acc: 0.7760\n",
            "Epoch 52/100\n",
            "750/750 [==============================] - 0s 653us/step - loss: 8.2661e-05 - acc: 1.0000 - val_loss: 0.7908 - val_acc: 0.7760\n",
            "Epoch 53/100\n",
            "750/750 [==============================] - 0s 654us/step - loss: 7.8058e-05 - acc: 1.0000 - val_loss: 0.7940 - val_acc: 0.7760\n",
            "Epoch 54/100\n",
            "750/750 [==============================] - 1s 668us/step - loss: 7.3147e-05 - acc: 1.0000 - val_loss: 0.7972 - val_acc: 0.7760\n",
            "Epoch 55/100\n",
            "750/750 [==============================] - 0s 636us/step - loss: 6.8998e-05 - acc: 1.0000 - val_loss: 0.8020 - val_acc: 0.7760\n",
            "Epoch 56/100\n",
            "750/750 [==============================] - 0s 654us/step - loss: 6.5325e-05 - acc: 1.0000 - val_loss: 0.8034 - val_acc: 0.7760\n",
            "Epoch 57/100\n",
            "750/750 [==============================] - 0s 637us/step - loss: 6.1825e-05 - acc: 1.0000 - val_loss: 0.8068 - val_acc: 0.7760\n",
            "Epoch 58/100\n",
            "750/750 [==============================] - 0s 656us/step - loss: 5.8509e-05 - acc: 1.0000 - val_loss: 0.8105 - val_acc: 0.7760\n",
            "Epoch 59/100\n",
            "750/750 [==============================] - 0s 628us/step - loss: 5.5139e-05 - acc: 1.0000 - val_loss: 0.8150 - val_acc: 0.7760\n",
            "Epoch 60/100\n",
            "750/750 [==============================] - 0s 628us/step - loss: 5.2187e-05 - acc: 1.0000 - val_loss: 0.8195 - val_acc: 0.7720\n",
            "Epoch 61/100\n",
            "750/750 [==============================] - 0s 613us/step - loss: 4.9501e-05 - acc: 1.0000 - val_loss: 0.8204 - val_acc: 0.7760\n",
            "Epoch 62/100\n",
            "750/750 [==============================] - 0s 608us/step - loss: 4.6910e-05 - acc: 1.0000 - val_loss: 0.8229 - val_acc: 0.7760\n",
            "Epoch 63/100\n",
            "750/750 [==============================] - 0s 639us/step - loss: 4.4508e-05 - acc: 1.0000 - val_loss: 0.8269 - val_acc: 0.7760\n",
            "Epoch 64/100\n",
            "750/750 [==============================] - 0s 615us/step - loss: 4.2158e-05 - acc: 1.0000 - val_loss: 0.8302 - val_acc: 0.7760\n",
            "Epoch 65/100\n",
            "750/750 [==============================] - 0s 654us/step - loss: 4.0027e-05 - acc: 1.0000 - val_loss: 0.8351 - val_acc: 0.7720\n",
            "Epoch 66/100\n",
            "750/750 [==============================] - 0s 636us/step - loss: 3.7872e-05 - acc: 1.0000 - val_loss: 0.8337 - val_acc: 0.7720\n",
            "Epoch 67/100\n",
            "750/750 [==============================] - 0s 658us/step - loss: 3.6219e-05 - acc: 1.0000 - val_loss: 0.8374 - val_acc: 0.7720\n",
            "Epoch 68/100\n",
            "750/750 [==============================] - 0s 634us/step - loss: 3.4357e-05 - acc: 1.0000 - val_loss: 0.8406 - val_acc: 0.7720\n",
            "Epoch 69/100\n",
            "750/750 [==============================] - 0s 662us/step - loss: 3.2545e-05 - acc: 1.0000 - val_loss: 0.8442 - val_acc: 0.7760\n",
            "Epoch 70/100\n",
            "750/750 [==============================] - 0s 642us/step - loss: 3.0921e-05 - acc: 1.0000 - val_loss: 0.8492 - val_acc: 0.7760\n",
            "Epoch 71/100\n",
            "750/750 [==============================] - 0s 651us/step - loss: 2.9412e-05 - acc: 1.0000 - val_loss: 0.8515 - val_acc: 0.7760\n",
            "Epoch 72/100\n",
            "750/750 [==============================] - 0s 626us/step - loss: 2.7961e-05 - acc: 1.0000 - val_loss: 0.8557 - val_acc: 0.7760\n",
            "Epoch 73/100\n",
            "750/750 [==============================] - 1s 667us/step - loss: 2.6541e-05 - acc: 1.0000 - val_loss: 0.8574 - val_acc: 0.7760\n",
            "Epoch 74/100\n",
            "750/750 [==============================] - 0s 645us/step - loss: 2.5328e-05 - acc: 1.0000 - val_loss: 0.8620 - val_acc: 0.7760\n",
            "Epoch 75/100\n",
            "750/750 [==============================] - 0s 602us/step - loss: 2.4062e-05 - acc: 1.0000 - val_loss: 0.8651 - val_acc: 0.7800\n",
            "Epoch 76/100\n",
            "750/750 [==============================] - 0s 627us/step - loss: 2.2924e-05 - acc: 1.0000 - val_loss: 0.8695 - val_acc: 0.7720\n",
            "Epoch 77/100\n",
            "750/750 [==============================] - 0s 641us/step - loss: 2.1813e-05 - acc: 1.0000 - val_loss: 0.8713 - val_acc: 0.7800\n",
            "Epoch 78/100\n",
            "750/750 [==============================] - 0s 665us/step - loss: 2.0753e-05 - acc: 1.0000 - val_loss: 0.8730 - val_acc: 0.7760\n",
            "Epoch 79/100\n",
            "750/750 [==============================] - 0s 635us/step - loss: 1.9739e-05 - acc: 1.0000 - val_loss: 0.8765 - val_acc: 0.7800\n",
            "Epoch 80/100\n",
            "750/750 [==============================] - 0s 663us/step - loss: 1.8794e-05 - acc: 1.0000 - val_loss: 0.8794 - val_acc: 0.7760\n",
            "Epoch 81/100\n",
            "750/750 [==============================] - 0s 644us/step - loss: 1.7919e-05 - acc: 1.0000 - val_loss: 0.8836 - val_acc: 0.7760\n",
            "Epoch 82/100\n",
            "750/750 [==============================] - 0s 664us/step - loss: 1.7109e-05 - acc: 1.0000 - val_loss: 0.8859 - val_acc: 0.7800\n",
            "Epoch 83/100\n",
            "750/750 [==============================] - 0s 629us/step - loss: 1.6278e-05 - acc: 1.0000 - val_loss: 0.8867 - val_acc: 0.7720\n",
            "Epoch 84/100\n",
            "750/750 [==============================] - 0s 658us/step - loss: 1.5487e-05 - acc: 1.0000 - val_loss: 0.8908 - val_acc: 0.7760\n",
            "Epoch 85/100\n",
            "750/750 [==============================] - 0s 628us/step - loss: 1.4809e-05 - acc: 1.0000 - val_loss: 0.8944 - val_acc: 0.7760\n",
            "Epoch 86/100\n",
            "750/750 [==============================] - 0s 659us/step - loss: 1.4146e-05 - acc: 1.0000 - val_loss: 0.8960 - val_acc: 0.7720\n",
            "Epoch 87/100\n",
            "750/750 [==============================] - 0s 608us/step - loss: 1.3479e-05 - acc: 1.0000 - val_loss: 0.9002 - val_acc: 0.7760\n",
            "Epoch 88/100\n",
            "750/750 [==============================] - 0s 625us/step - loss: 1.2851e-05 - acc: 1.0000 - val_loss: 0.9020 - val_acc: 0.7720\n",
            "Epoch 89/100\n",
            "750/750 [==============================] - 0s 617us/step - loss: 1.2307e-05 - acc: 1.0000 - val_loss: 0.9049 - val_acc: 0.7720\n",
            "Epoch 90/100\n",
            "750/750 [==============================] - 0s 615us/step - loss: 1.1709e-05 - acc: 1.0000 - val_loss: 0.9080 - val_acc: 0.7720\n",
            "Epoch 91/100\n",
            "750/750 [==============================] - 0s 634us/step - loss: 1.1143e-05 - acc: 1.0000 - val_loss: 0.9096 - val_acc: 0.7720\n",
            "Epoch 92/100\n",
            "750/750 [==============================] - 0s 647us/step - loss: 1.0649e-05 - acc: 1.0000 - val_loss: 0.9135 - val_acc: 0.7720\n",
            "Epoch 93/100\n",
            "750/750 [==============================] - 0s 654us/step - loss: 1.0171e-05 - acc: 1.0000 - val_loss: 0.9167 - val_acc: 0.7720\n",
            "Epoch 94/100\n",
            "750/750 [==============================] - 0s 639us/step - loss: 9.7198e-06 - acc: 1.0000 - val_loss: 0.9195 - val_acc: 0.7720\n",
            "Epoch 95/100\n",
            "750/750 [==============================] - 0s 654us/step - loss: 9.2954e-06 - acc: 1.0000 - val_loss: 0.9223 - val_acc: 0.7720\n",
            "Epoch 96/100\n",
            "750/750 [==============================] - 0s 633us/step - loss: 8.8441e-06 - acc: 1.0000 - val_loss: 0.9249 - val_acc: 0.7720\n",
            "Epoch 97/100\n",
            "750/750 [==============================] - 0s 653us/step - loss: 8.4787e-06 - acc: 1.0000 - val_loss: 0.9272 - val_acc: 0.7720\n",
            "Epoch 98/100\n",
            "750/750 [==============================] - 0s 622us/step - loss: 8.1023e-06 - acc: 1.0000 - val_loss: 0.9314 - val_acc: 0.7760\n",
            "Epoch 99/100\n",
            "750/750 [==============================] - 0s 657us/step - loss: 7.7030e-06 - acc: 1.0000 - val_loss: 0.9319 - val_acc: 0.7720\n",
            "Epoch 100/100\n",
            "750/750 [==============================] - 0s 625us/step - loss: 7.3682e-06 - acc: 1.0000 - val_loss: 0.9366 - val_acc: 0.7720\n"
          ],
          "name": "stdout"
        }
      ]
    },
    {
      "metadata": {
        "id": "GHkfwoqWFtsv",
        "colab_type": "code",
        "outputId": "a1bc39ef-f5fc-4dc0-a33e-fa8a05ebe243",
        "colab": {
          "base_uri": "https://localhost:8080/",
          "height": 52
        }
      },
      "cell_type": "code",
      "source": [
        "loss, accuracy = model.evaluate(X_train, y_train)\n",
        "print(loss, accuracy)"
      ],
      "execution_count": 0,
      "outputs": [
        {
          "output_type": "stream",
          "text": [
            "750/750 [==============================] - 0s 72us/step\n",
            "7.131672653486021e-06 1.0\n"
          ],
          "name": "stdout"
        }
      ]
    },
    {
      "metadata": {
        "id": "oQ_5tpUEF7a5",
        "colab_type": "code",
        "outputId": "25bebd31-a429-4fab-8d73-fe7256ae871a",
        "colab": {
          "base_uri": "https://localhost:8080/",
          "height": 52
        }
      },
      "cell_type": "code",
      "source": [
        "loss, accuracy = model.evaluate(X_test , y_test)\n",
        "print(loss, accuracy)"
      ],
      "execution_count": 0,
      "outputs": [
        {
          "output_type": "stream",
          "text": [
            "250/250 [==============================] - 0s 100us/step\n",
            "0.936597442150116 0.7719999980926514\n"
          ],
          "name": "stdout"
        }
      ]
    },
    {
      "metadata": {
        "id": "O3Z5nK3uGBh7",
        "colab_type": "code",
        "outputId": "8d6270d4-57f5-438d-a304-93dc771330b0",
        "colab": {
          "base_uri": "https://localhost:8080/",
          "height": 337
        }
      },
      "cell_type": "code",
      "source": [
        "plot_history(history)"
      ],
      "execution_count": 0,
      "outputs": [
        {
          "output_type": "display_data",
          "data": {
            "image/png": "[encoded data removed]",
            "text/plain": [
              "<matplotlib.figure.Figure at 0x7fdd057c69b0>"
            ]
          },
          "metadata": {
            "tags": []
          }
        }
      ]
    },
    {
      "metadata": {
        "id": "xA3_uZZcGEvN",
        "colab_type": "code",
        "outputId": "f4d6554b-e94d-4c29-c4e7-b8b2752b036b",
        "colab": {
          "base_uri": "https://localhost:8080/",
          "height": 278
        }
      },
      "cell_type": "code",
      "source": [
        "from keras.models import Sequential\n",
        "from keras import layers\n",
        "\n",
        "embedding_dim = 50\n",
        "\n",
        "\n",
        "model = Sequential()\n",
        "model.add(layers.Embedding(input_dim=vocab_size, output_dim=embedding_dim, input_length=maxlen))\n",
        "model.add(layers.GlobalMaxPool1D())\n",
        "model.add(layers.Dense(10, activation='relu'))\n",
        "model.add(layers.Dense(1, activation='sigmoid'))\n",
        "\n",
        "model.compile(optimizer='adam', loss='binary_crossentropy', metrics=['accuracy'])\n",
        "model.summary()"
      ],
      "execution_count": 0,
      "outputs": [
        {
          "output_type": "stream",
          "text": [
            "_________________________________________________________________\n",
            "Layer (type)                 Output Shape              Param #   \n",
            "=================================================================\n",
            "embedding_2 (Embedding)      (None, 100, 50)           78700     \n",
            "_________________________________________________________________\n",
            "global_max_pooling1d_1 (Glob (None, 50)                0         \n",
            "_________________________________________________________________\n",
            "dense_5 (Dense)              (None, 10)                510       \n",
            "_________________________________________________________________\n",
            "dense_6 (Dense)              (None, 1)                 11        \n",
            "=================================================================\n",
            "Total params: 79,221\n",
            "Trainable params: 79,221\n",
            "Non-trainable params: 0\n",
            "_________________________________________________________________\n"
          ],
          "name": "stdout"
        }
      ]
    },
    {
      "metadata": {
        "id": "SeyAdYgyGMWV",
        "colab_type": "code",
        "outputId": "8d447b0f-6f66-4df0-980c-d42923d4e94d",
        "colab": {
          "base_uri": "https://localhost:8080/",
          "height": 3577
        }
      },
      "cell_type": "code",
      "source": [
        "epochs = 100\n",
        "batch_size = 10\n",
        "\n",
        "history = model.fit(X_train, y_train, epochs=epochs, \n",
        "                    validation_data=(X_test, y_test),\n",
        "                    batch_size=batch_size)\n",
        "\n",
        "oss, accuracy = model.evaluate(X_train, y_train)\n",
        "print('Training loss and accuracy', loss, accuracy)\n",
        "\n",
        "loss, accuracy = model.evaluate(X_test , y_test)\n",
        "print('Testing loss and accuracy', loss, accuracy)"
      ],
      "execution_count": 0,
      "outputs": [
        {
          "output_type": "stream",
          "text": [
            "Train on 750 samples, validate on 250 samples\n",
            "Epoch 1/100\n",
            "750/750 [==============================] - 1s 1ms/step - loss: 0.6890 - acc: 0.6320 - val_loss: 0.6834 - val_acc: 0.7440\n",
            "Epoch 2/100\n",
            "750/750 [==============================] - 0s 636us/step - loss: 0.6565 - acc: 0.7920 - val_loss: 0.6455 - val_acc: 0.7560\n",
            "Epoch 3/100\n",
            "750/750 [==============================] - 0s 660us/step - loss: 0.5549 - acc: 0.9253 - val_loss: 0.5461 - val_acc: 0.7800\n",
            "Epoch 4/100\n",
            "750/750 [==============================] - 0s 635us/step - loss: 0.3858 - acc: 0.9427 - val_loss: 0.4522 - val_acc: 0.8120\n",
            "Epoch 5/100\n",
            "750/750 [==============================] - 0s 655us/step - loss: 0.2427 - acc: 0.9507 - val_loss: 0.4053 - val_acc: 0.8160\n",
            "Epoch 6/100\n",
            "750/750 [==============================] - 0s 643us/step - loss: 0.1475 - acc: 0.9707 - val_loss: 0.3863 - val_acc: 0.8240\n",
            "Epoch 7/100\n",
            "750/750 [==============================] - 1s 687us/step - loss: 0.0894 - acc: 0.9867 - val_loss: 0.3861 - val_acc: 0.8080\n",
            "Epoch 8/100\n",
            "750/750 [==============================] - 0s 639us/step - loss: 0.0560 - acc: 0.9933 - val_loss: 0.3894 - val_acc: 0.8120\n",
            "Epoch 9/100\n",
            "750/750 [==============================] - 0s 654us/step - loss: 0.0362 - acc: 0.9987 - val_loss: 0.3995 - val_acc: 0.8120\n",
            "Epoch 10/100\n",
            "750/750 [==============================] - 0s 629us/step - loss: 0.0242 - acc: 1.0000 - val_loss: 0.4070 - val_acc: 0.8200\n",
            "Epoch 11/100\n",
            "750/750 [==============================] - 0s 621us/step - loss: 0.0170 - acc: 1.0000 - val_loss: 0.4144 - val_acc: 0.8200\n",
            "Epoch 12/100\n",
            "750/750 [==============================] - 0s 620us/step - loss: 0.0126 - acc: 1.0000 - val_loss: 0.4246 - val_acc: 0.8200\n",
            "Epoch 13/100\n",
            "750/750 [==============================] - 0s 608us/step - loss: 0.0095 - acc: 1.0000 - val_loss: 0.4351 - val_acc: 0.8200\n",
            "Epoch 14/100\n",
            "750/750 [==============================] - 0s 618us/step - loss: 0.0074 - acc: 1.0000 - val_loss: 0.4459 - val_acc: 0.8200\n",
            "Epoch 15/100\n",
            "750/750 [==============================] - 0s 628us/step - loss: 0.0060 - acc: 1.0000 - val_loss: 0.4535 - val_acc: 0.8200\n",
            "Epoch 16/100\n",
            "750/750 [==============================] - 0s 654us/step - loss: 0.0049 - acc: 1.0000 - val_loss: 0.4611 - val_acc: 0.8160\n",
            "Epoch 17/100\n",
            "750/750 [==============================] - 0s 649us/step - loss: 0.0040 - acc: 1.0000 - val_loss: 0.4691 - val_acc: 0.8160\n",
            "Epoch 18/100\n",
            "750/750 [==============================] - 0s 659us/step - loss: 0.0034 - acc: 1.0000 - val_loss: 0.4764 - val_acc: 0.8120\n",
            "Epoch 19/100\n",
            "750/750 [==============================] - 0s 638us/step - loss: 0.0029 - acc: 1.0000 - val_loss: 0.4826 - val_acc: 0.8160\n",
            "Epoch 20/100\n",
            "750/750 [==============================] - 0s 655us/step - loss: 0.0024 - acc: 1.0000 - val_loss: 0.4888 - val_acc: 0.8160\n",
            "Epoch 21/100\n",
            "750/750 [==============================] - 0s 646us/step - loss: 0.0021 - acc: 1.0000 - val_loss: 0.4960 - val_acc: 0.8160\n",
            "Epoch 22/100\n",
            "750/750 [==============================] - 0s 655us/step - loss: 0.0018 - acc: 1.0000 - val_loss: 0.5010 - val_acc: 0.8120\n",
            "Epoch 23/100\n",
            "750/750 [==============================] - 0s 639us/step - loss: 0.0016 - acc: 1.0000 - val_loss: 0.5063 - val_acc: 0.8120\n",
            "Epoch 24/100\n",
            "750/750 [==============================] - 1s 670us/step - loss: 0.0014 - acc: 1.0000 - val_loss: 0.5125 - val_acc: 0.8080\n",
            "Epoch 25/100\n",
            "750/750 [==============================] - 0s 635us/step - loss: 0.0013 - acc: 1.0000 - val_loss: 0.5176 - val_acc: 0.8080\n",
            "Epoch 26/100\n",
            "750/750 [==============================] - 0s 626us/step - loss: 0.0011 - acc: 1.0000 - val_loss: 0.5242 - val_acc: 0.8080\n",
            "Epoch 27/100\n",
            "750/750 [==============================] - 0s 635us/step - loss: 0.0010 - acc: 1.0000 - val_loss: 0.5316 - val_acc: 0.8120\n",
            "Epoch 28/100\n",
            "750/750 [==============================] - 0s 608us/step - loss: 9.1401e-04 - acc: 1.0000 - val_loss: 0.5362 - val_acc: 0.8120\n",
            "Epoch 29/100\n",
            "750/750 [==============================] - 0s 619us/step - loss: 8.2462e-04 - acc: 1.0000 - val_loss: 0.5432 - val_acc: 0.8080\n",
            "Epoch 30/100\n",
            "750/750 [==============================] - 0s 611us/step - loss: 7.4583e-04 - acc: 1.0000 - val_loss: 0.5495 - val_acc: 0.8120\n",
            "Epoch 31/100\n",
            "750/750 [==============================] - 0s 647us/step - loss: 6.7817e-04 - acc: 1.0000 - val_loss: 0.5565 - val_acc: 0.8120\n",
            "Epoch 32/100\n",
            "750/750 [==============================] - 0s 634us/step - loss: 6.1951e-04 - acc: 1.0000 - val_loss: 0.5625 - val_acc: 0.8080\n",
            "Epoch 33/100\n",
            "750/750 [==============================] - 0s 648us/step - loss: 5.6604e-04 - acc: 1.0000 - val_loss: 0.5678 - val_acc: 0.8040\n",
            "Epoch 34/100\n",
            "750/750 [==============================] - 0s 629us/step - loss: 5.1865e-04 - acc: 1.0000 - val_loss: 0.5733 - val_acc: 0.8040\n",
            "Epoch 35/100\n",
            "750/750 [==============================] - 0s 658us/step - loss: 4.7609e-04 - acc: 1.0000 - val_loss: 0.5789 - val_acc: 0.8040\n",
            "Epoch 36/100\n",
            "750/750 [==============================] - 0s 632us/step - loss: 4.3837e-04 - acc: 1.0000 - val_loss: 0.5840 - val_acc: 0.8040\n",
            "Epoch 37/100\n",
            "750/750 [==============================] - 0s 650us/step - loss: 4.0327e-04 - acc: 1.0000 - val_loss: 0.5890 - val_acc: 0.8000\n",
            "Epoch 38/100\n",
            "750/750 [==============================] - 0s 644us/step - loss: 3.7326e-04 - acc: 1.0000 - val_loss: 0.5940 - val_acc: 0.8000\n",
            "Epoch 39/100\n",
            "750/750 [==============================] - 0s 640us/step - loss: 3.4486e-04 - acc: 1.0000 - val_loss: 0.5985 - val_acc: 0.8000\n",
            "Epoch 40/100\n",
            "750/750 [==============================] - 0s 662us/step - loss: 3.2018e-04 - acc: 1.0000 - val_loss: 0.6028 - val_acc: 0.8000\n",
            "Epoch 41/100\n",
            "750/750 [==============================] - 0s 621us/step - loss: 2.9683e-04 - acc: 1.0000 - val_loss: 0.6075 - val_acc: 0.8000\n",
            "Epoch 42/100\n",
            "750/750 [==============================] - 0s 615us/step - loss: 2.7595e-04 - acc: 1.0000 - val_loss: 0.6118 - val_acc: 0.8040\n",
            "Epoch 43/100\n",
            "750/750 [==============================] - 0s 610us/step - loss: 2.5697e-04 - acc: 1.0000 - val_loss: 0.6168 - val_acc: 0.8040\n",
            "Epoch 44/100\n",
            "750/750 [==============================] - 0s 632us/step - loss: 2.3955e-04 - acc: 1.0000 - val_loss: 0.6214 - val_acc: 0.8040\n",
            "Epoch 45/100\n",
            "750/750 [==============================] - 0s 609us/step - loss: 2.2380e-04 - acc: 1.0000 - val_loss: 0.6256 - val_acc: 0.8040\n",
            "Epoch 46/100\n",
            "750/750 [==============================] - 0s 641us/step - loss: 2.0887e-04 - acc: 1.0000 - val_loss: 0.6302 - val_acc: 0.8040\n",
            "Epoch 47/100\n",
            "750/750 [==============================] - 0s 643us/step - loss: 1.9476e-04 - acc: 1.0000 - val_loss: 0.6348 - val_acc: 0.8040\n",
            "Epoch 48/100\n",
            "750/750 [==============================] - 0s 666us/step - loss: 1.8224e-04 - acc: 1.0000 - val_loss: 0.6392 - val_acc: 0.8040\n",
            "Epoch 49/100\n",
            "750/750 [==============================] - 0s 648us/step - loss: 1.7087e-04 - acc: 1.0000 - val_loss: 0.6444 - val_acc: 0.8040\n",
            "Epoch 50/100\n",
            "750/750 [==============================] - 0s 654us/step - loss: 1.6039e-04 - acc: 1.0000 - val_loss: 0.6494 - val_acc: 0.8040\n",
            "Epoch 51/100\n",
            "750/750 [==============================] - 0s 641us/step - loss: 1.5066e-04 - acc: 1.0000 - val_loss: 0.6528 - val_acc: 0.8040\n",
            "Epoch 52/100\n",
            "750/750 [==============================] - 0s 662us/step - loss: 1.4174e-04 - acc: 1.0000 - val_loss: 0.6565 - val_acc: 0.8040\n",
            "Epoch 53/100\n",
            "750/750 [==============================] - 0s 640us/step - loss: 1.3325e-04 - acc: 1.0000 - val_loss: 0.6624 - val_acc: 0.8040\n",
            "Epoch 54/100\n",
            "750/750 [==============================] - 0s 646us/step - loss: 1.2549e-04 - acc: 1.0000 - val_loss: 0.6661 - val_acc: 0.8040\n",
            "Epoch 55/100\n",
            "750/750 [==============================] - 1s 667us/step - loss: 1.1803e-04 - acc: 1.0000 - val_loss: 0.6706 - val_acc: 0.8040\n",
            "Epoch 56/100\n",
            "750/750 [==============================] - 0s 611us/step - loss: 1.1128e-04 - acc: 1.0000 - val_loss: 0.6737 - val_acc: 0.8040\n",
            "Epoch 57/100\n",
            "750/750 [==============================] - 0s 633us/step - loss: 1.0495e-04 - acc: 1.0000 - val_loss: 0.6773 - val_acc: 0.8040\n",
            "Epoch 58/100\n",
            "750/750 [==============================] - 0s 600us/step - loss: 9.8969e-05 - acc: 1.0000 - val_loss: 0.6840 - val_acc: 0.8040\n",
            "Epoch 59/100\n",
            "750/750 [==============================] - 0s 641us/step - loss: 9.3443e-05 - acc: 1.0000 - val_loss: 0.6863 - val_acc: 0.8040\n",
            "Epoch 60/100\n",
            "750/750 [==============================] - 0s 604us/step - loss: 8.8320e-05 - acc: 1.0000 - val_loss: 0.6904 - val_acc: 0.8040\n",
            "Epoch 61/100\n",
            "750/750 [==============================] - 0s 630us/step - loss: 8.3701e-05 - acc: 1.0000 - val_loss: 0.6932 - val_acc: 0.8040\n",
            "Epoch 62/100\n",
            "750/750 [==============================] - 0s 614us/step - loss: 7.9211e-05 - acc: 1.0000 - val_loss: 0.6971 - val_acc: 0.8040\n",
            "Epoch 63/100\n",
            "750/750 [==============================] - 0s 650us/step - loss: 7.4917e-05 - acc: 1.0000 - val_loss: 0.7004 - val_acc: 0.8040\n",
            "Epoch 64/100\n",
            "750/750 [==============================] - 0s 638us/step - loss: 7.1016e-05 - acc: 1.0000 - val_loss: 0.7033 - val_acc: 0.8040\n",
            "Epoch 65/100\n",
            "750/750 [==============================] - 1s 668us/step - loss: 6.7202e-05 - acc: 1.0000 - val_loss: 0.7069 - val_acc: 0.8000\n",
            "Epoch 66/100\n",
            "750/750 [==============================] - 0s 634us/step - loss: 6.3658e-05 - acc: 1.0000 - val_loss: 0.7104 - val_acc: 0.8000\n",
            "Epoch 67/100\n",
            "750/750 [==============================] - 0s 635us/step - loss: 6.0401e-05 - acc: 1.0000 - val_loss: 0.7134 - val_acc: 0.8000\n",
            "Epoch 68/100\n",
            "750/750 [==============================] - 0s 652us/step - loss: 5.7362e-05 - acc: 1.0000 - val_loss: 0.7169 - val_acc: 0.8000\n",
            "Epoch 69/100\n",
            "750/750 [==============================] - 0s 622us/step - loss: 5.4361e-05 - acc: 1.0000 - val_loss: 0.7208 - val_acc: 0.8000\n",
            "Epoch 70/100\n",
            "750/750 [==============================] - 0s 660us/step - loss: 5.1629e-05 - acc: 1.0000 - val_loss: 0.7238 - val_acc: 0.8000\n",
            "Epoch 71/100\n",
            "750/750 [==============================] - 0s 645us/step - loss: 4.9024e-05 - acc: 1.0000 - val_loss: 0.7272 - val_acc: 0.8000\n",
            "Epoch 72/100\n",
            "750/750 [==============================] - 0s 643us/step - loss: 4.6658e-05 - acc: 1.0000 - val_loss: 0.7304 - val_acc: 0.8000\n",
            "Epoch 73/100\n",
            "750/750 [==============================] - 0s 610us/step - loss: 4.4353e-05 - acc: 1.0000 - val_loss: 0.7341 - val_acc: 0.8000\n",
            "Epoch 74/100\n",
            "750/750 [==============================] - 0s 641us/step - loss: 4.2145e-05 - acc: 1.0000 - val_loss: 0.7372 - val_acc: 0.8000\n",
            "Epoch 75/100\n",
            "750/750 [==============================] - 0s 614us/step - loss: 4.0083e-05 - acc: 1.0000 - val_loss: 0.7404 - val_acc: 0.8000\n",
            "Epoch 76/100\n",
            "750/750 [==============================] - 0s 644us/step - loss: 3.8090e-05 - acc: 1.0000 - val_loss: 0.7439 - val_acc: 0.8000\n",
            "Epoch 77/100\n",
            "750/750 [==============================] - 0s 611us/step - loss: 3.6280e-05 - acc: 1.0000 - val_loss: 0.7470 - val_acc: 0.7960\n",
            "Epoch 78/100\n",
            "750/750 [==============================] - 0s 646us/step - loss: 3.4518e-05 - acc: 1.0000 - val_loss: 0.7500 - val_acc: 0.7960\n",
            "Epoch 79/100\n",
            "750/750 [==============================] - 0s 604us/step - loss: 3.2822e-05 - acc: 1.0000 - val_loss: 0.7531 - val_acc: 0.7960\n",
            "Epoch 80/100\n",
            "750/750 [==============================] - 0s 601us/step - loss: 3.1238e-05 - acc: 1.0000 - val_loss: 0.7563 - val_acc: 0.7960\n",
            "Epoch 81/100\n",
            "750/750 [==============================] - 0s 633us/step - loss: 2.9718e-05 - acc: 1.0000 - val_loss: 0.7592 - val_acc: 0.7960\n",
            "Epoch 82/100\n",
            "750/750 [==============================] - 0s 612us/step - loss: 2.8344e-05 - acc: 1.0000 - val_loss: 0.7619 - val_acc: 0.7960\n",
            "Epoch 83/100\n",
            "750/750 [==============================] - 0s 656us/step - loss: 2.7014e-05 - acc: 1.0000 - val_loss: 0.7649 - val_acc: 0.7960\n",
            "Epoch 84/100\n",
            "750/750 [==============================] - 0s 644us/step - loss: 2.5740e-05 - acc: 1.0000 - val_loss: 0.7681 - val_acc: 0.7960\n",
            "Epoch 85/100\n",
            "750/750 [==============================] - 0s 651us/step - loss: 2.4507e-05 - acc: 1.0000 - val_loss: 0.7708 - val_acc: 0.7960\n",
            "Epoch 86/100\n",
            "750/750 [==============================] - 0s 637us/step - loss: 2.3352e-05 - acc: 1.0000 - val_loss: 0.7742 - val_acc: 0.7960\n",
            "Epoch 87/100\n",
            "750/750 [==============================] - 0s 660us/step - loss: 2.2245e-05 - acc: 1.0000 - val_loss: 0.7767 - val_acc: 0.7960\n",
            "Epoch 88/100\n",
            "750/750 [==============================] - 0s 633us/step - loss: 2.1199e-05 - acc: 1.0000 - val_loss: 0.7795 - val_acc: 0.7960\n",
            "Epoch 89/100\n",
            "750/750 [==============================] - 0s 652us/step - loss: 2.0211e-05 - acc: 1.0000 - val_loss: 0.7824 - val_acc: 0.7960\n",
            "Epoch 90/100\n",
            "750/750 [==============================] - 0s 641us/step - loss: 1.9271e-05 - acc: 1.0000 - val_loss: 0.7853 - val_acc: 0.7960\n",
            "Epoch 91/100\n",
            "750/750 [==============================] - 0s 654us/step - loss: 1.8407e-05 - acc: 1.0000 - val_loss: 0.7884 - val_acc: 0.7960\n",
            "Epoch 92/100\n",
            "750/750 [==============================] - 0s 641us/step - loss: 1.7565e-05 - acc: 1.0000 - val_loss: 0.7911 - val_acc: 0.7960\n",
            "Epoch 93/100\n",
            "750/750 [==============================] - 0s 635us/step - loss: 1.6783e-05 - acc: 1.0000 - val_loss: 0.7939 - val_acc: 0.7960\n",
            "Epoch 94/100\n",
            "750/750 [==============================] - 0s 658us/step - loss: 1.5990e-05 - acc: 1.0000 - val_loss: 0.7970 - val_acc: 0.7960\n",
            "Epoch 95/100\n",
            "750/750 [==============================] - 0s 631us/step - loss: 1.5277e-05 - acc: 1.0000 - val_loss: 0.8000 - val_acc: 0.7960\n",
            "Epoch 96/100\n",
            "750/750 [==============================] - 0s 644us/step - loss: 1.4597e-05 - acc: 1.0000 - val_loss: 0.8024 - val_acc: 0.7960\n",
            "Epoch 97/100\n",
            "750/750 [==============================] - 0s 637us/step - loss: 1.3930e-05 - acc: 1.0000 - val_loss: 0.8052 - val_acc: 0.7960\n",
            "Epoch 98/100\n",
            "750/750 [==============================] - 0s 661us/step - loss: 1.3312e-05 - acc: 1.0000 - val_loss: 0.8082 - val_acc: 0.7960\n",
            "Epoch 99/100\n",
            "750/750 [==============================] - 0s 633us/step - loss: 1.2703e-05 - acc: 1.0000 - val_loss: 0.8104 - val_acc: 0.7960\n",
            "Epoch 100/100\n",
            "750/750 [==============================] - 0s 653us/step - loss: 1.2125e-05 - acc: 1.0000 - val_loss: 0.8133 - val_acc: 0.7960\n",
            "750/750 [==============================] - 0s 57us/step\n",
            "Training loss and accuracy 0.936597442150116 1.0\n",
            "250/250 [==============================] - 0s 77us/step\n",
            "Testing loss and accuracy 0.8133091764450073 0.7960000019073487\n"
          ],
          "name": "stdout"
        }
      ]
    },
    {
      "metadata": {
        "id": "M-5Vr-DlGR1U",
        "colab_type": "code",
        "outputId": "d097a9b8-1bba-4fd5-eaba-0e63baccc2d5",
        "colab": {
          "base_uri": "https://localhost:8080/",
          "height": 34
        }
      },
      "cell_type": "code",
      "source": [
        "\"!wget https://s3-us-west-1.amazonaws.com/fasttext-vectors/wiki.en.align.vec\""
      ],
      "execution_count": 0,
      "outputs": [
        {
          "output_type": "execute_result",
          "data": {
            "text/plain": [
              "'!wget https://s3-us-west-1.amazonaws.com/fasttext-vectors/wiki.en.align.vec'"
            ]
          },
          "metadata": {
            "tags": []
          },
          "execution_count": 47
        }
      ]
    },
    {
      "metadata": {
        "id": "0PGydFe4GiBy",
        "colab_type": "code",
        "colab": {}
      },
      "cell_type": "code",
      "source": [
        "import numpy as np\n",
        "\n",
        "def create_embedding_matrix(filepath, word_index, embedding_dim):\n",
        "    vocab_size = len(word_index) + 1\n",
        "    embedding_matrix = np.zeros((vocab_size, embedding_dim))\n",
        "    \n",
        "    with open(filepath) as f:\n",
        "        next(f)\n",
        "        for line in f:\n",
        "            thisline = line.split()\n",
        "            word, vector = thisline[:len(thisline)-300], thisline[-300:]\n",
        "            word = \" \".join(word)\n",
        "            assert len(vector) == 300\n",
        "            if word in word_index:\n",
        "                idx = word_index[word]\n",
        "                embedding_matrix[idx] = np.array(vector, dtype=np.float32)[:embedding_dim]\n",
        "    \n",
        "    return embedding_matrix\n",
        "\n",
        "embedding_file = 'wiki.en.align.vec'\n",
        "embedding_dim = 300\n",
        "embedding_matrix = create_embedding_matrix(embedding_file, tokenizer.word_index, embedding_dim)"
      ],
      "execution_count": 0,
      "outputs": []
    },
    {
      "metadata": {
        "id": "q7rMHnsuIGkr",
        "colab_type": "code",
        "outputId": "d9ac0ab9-b0b3-417c-992c-6f8d4ad71837",
        "colab": {
          "base_uri": "https://localhost:8080/",
          "height": 34
        }
      },
      "cell_type": "code",
      "source": [
        "nonzero_elements = np.count_nonzero(np.count_nonzero(embedding_matrix, axis=1))\n",
        "print('Number of words which have an embedding {}%'.format(100 * nonzero_elements / vocab_size))"
      ],
      "execution_count": 0,
      "outputs": [
        {
          "output_type": "stream",
          "text": [
            "Number of words which have an embedding 93.20203303684879%\n"
          ],
          "name": "stdout"
        }
      ]
    },
    {
      "metadata": {
        "id": "V1bHTZZzIfcF",
        "colab_type": "code",
        "outputId": "0dd1b9cd-f44b-4f8d-d4cb-8c63ca0234e8",
        "colab": {
          "base_uri": "https://localhost:8080/",
          "height": 278
        }
      },
      "cell_type": "code",
      "source": [
        "from keras.models import Sequential\n",
        "from keras import layers\n",
        "\n",
        "embedding_dim = 300\n",
        "\n",
        "\n",
        "model = Sequential()\n",
        "model.add(layers.Embedding(input_dim=vocab_size, output_dim=embedding_dim,\n",
        "                           weights = [embedding_matrix],\n",
        "                           input_length=maxlen,\n",
        "                           trainable=True))\n",
        "#                            trainable=False))\n",
        "model.add(layers.GlobalMaxPool1D())\n",
        "model.add(layers.Dense(10, activation='relu'))\n",
        "model.add(layers.Dense(1, activation='sigmoid'))\n",
        "\n",
        "model.compile(optimizer='adam', loss='binary_crossentropy', metrics=['accuracy'])\n",
        "model.summary()"
      ],
      "execution_count": 0,
      "outputs": [
        {
          "output_type": "stream",
          "text": [
            "_________________________________________________________________\n",
            "Layer (type)                 Output Shape              Param #   \n",
            "=================================================================\n",
            "embedding_3 (Embedding)      (None, 100, 300)          472200    \n",
            "_________________________________________________________________\n",
            "global_max_pooling1d_2 (Glob (None, 300)               0         \n",
            "_________________________________________________________________\n",
            "dense_7 (Dense)              (None, 10)                3010      \n",
            "_________________________________________________________________\n",
            "dense_8 (Dense)              (None, 1)                 11        \n",
            "=================================================================\n",
            "Total params: 475,221\n",
            "Trainable params: 475,221\n",
            "Non-trainable params: 0\n",
            "_________________________________________________________________\n"
          ],
          "name": "stdout"
        }
      ]
    },
    {
      "metadata": {
        "id": "uOItxCyfIkQ2",
        "colab_type": "code",
        "outputId": "3fac57f1-9a16-4350-c425-28be5fe7e661",
        "colab": {
          "base_uri": "https://localhost:8080/",
          "height": 451
        }
      },
      "cell_type": "code",
      "source": [
        "epochs = 10\n",
        "batch_size = 10\n",
        "\n",
        "history = model.fit(X_train, y_train, epochs=epochs, \n",
        "                    validation_data=(X_test, y_test),\n",
        "                    batch_size=batch_size)\n",
        "\n",
        "oss, accuracy = model.evaluate(X_train, y_train)\n",
        "print('Training loss and accuracy', loss, accuracy)\n",
        "\n",
        "loss, accuracy = model.evaluate(X_test , y_test)\n",
        "print('Testing loss and accuracy', loss, accuracy)"
      ],
      "execution_count": 0,
      "outputs": [
        {
          "output_type": "stream",
          "text": [
            "Train on 750 samples, validate on 250 samples\n",
            "Epoch 1/10\n",
            "750/750 [==============================] - 1s 1ms/step - loss: 0.6888 - acc: 0.5040 - val_loss: 0.6726 - val_acc: 0.5200\n",
            "Epoch 2/10\n",
            "750/750 [==============================] - 1s 721us/step - loss: 0.6174 - acc: 0.6000 - val_loss: 0.6012 - val_acc: 0.6720\n",
            "Epoch 3/10\n",
            "750/750 [==============================] - 1s 704us/step - loss: 0.4956 - acc: 0.8360 - val_loss: 0.5555 - val_acc: 0.6800\n",
            "Epoch 4/10\n",
            "750/750 [==============================] - 1s 724us/step - loss: 0.4074 - acc: 0.9267 - val_loss: 0.5478 - val_acc: 0.7240\n",
            "Epoch 5/10\n",
            "750/750 [==============================] - 1s 689us/step - loss: 0.3474 - acc: 0.9720 - val_loss: 0.5423 - val_acc: 0.7520\n",
            "Epoch 6/10\n",
            "750/750 [==============================] - 1s 720us/step - loss: 0.3079 - acc: 0.9893 - val_loss: 0.5703 - val_acc: 0.7320\n",
            "Epoch 7/10\n",
            "750/750 [==============================] - 1s 712us/step - loss: 0.2800 - acc: 0.9920 - val_loss: 0.5846 - val_acc: 0.7320\n",
            "Epoch 8/10\n",
            "750/750 [==============================] - 1s 742us/step - loss: 0.2589 - acc: 0.9973 - val_loss: 0.5879 - val_acc: 0.7440\n",
            "Epoch 9/10\n",
            "750/750 [==============================] - 1s 735us/step - loss: 0.2422 - acc: 0.9987 - val_loss: 0.5937 - val_acc: 0.7360\n",
            "Epoch 10/10\n",
            "750/750 [==============================] - 1s 752us/step - loss: 0.2270 - acc: 0.9987 - val_loss: 0.6249 - val_acc: 0.7240\n",
            "750/750 [==============================] - 0s 63us/step\n",
            "Training loss and accuracy 0.8133091764450073 0.9986666666666667\n",
            "250/250 [==============================] - 0s 79us/step\n",
            "Testing loss and accuracy 0.6248917093276978 0.7239999990463257\n"
          ],
          "name": "stdout"
        }
      ]
    },
    {
      "metadata": {
        "id": "s1Wcg8ohIu3_",
        "colab_type": "code",
        "outputId": "a16f91a2-5bdb-4853-b5cd-ce0562ca1a65",
        "colab": {
          "base_uri": "https://localhost:8080/",
          "height": 337
        }
      },
      "cell_type": "code",
      "source": [
        "plot_history(history)"
      ],
      "execution_count": 0,
      "outputs": [
        {
          "output_type": "display_data",
          "data": {
            "image/png": "[encoded data removed]",
            "text/plain": [
              "<matplotlib.figure.Figure at 0x7fdd04bd3eb8>"
            ]
          },
          "metadata": {
            "tags": []
          }
        }
      ]
    },
    {
      "metadata": {
        "id": "oZQPSjcDJE83",
        "colab_type": "code",
        "outputId": "ba7a6fed-486b-4479-cd25-4833ae17c948",
        "colab": {
          "base_uri": "https://localhost:8080/",
          "height": 312
        }
      },
      "cell_type": "code",
      "source": [
        "embedding_dim = 300\n",
        "\n",
        "\n",
        "model = Sequential()\n",
        "model.add(layers.Embedding(input_dim=vocab_size, output_dim=embedding_dim,\n",
        "                           weights = [embedding_matrix],\n",
        "                           input_length=maxlen,\n",
        "#                            trainable=True))\n",
        "                           trainable=False))\n",
        "#                           ))\n",
        "model.add(layers.Conv1D(128, 5, activation='relu'))\n",
        "model.add(layers.GlobalMaxPool1D())\n",
        "model.add(layers.Dense(10, activation='relu'))\n",
        "model.add(layers.Dense(1, activation='sigmoid'))\n",
        "\n",
        "model.compile(optimizer='adam', loss='binary_crossentropy', metrics=['accuracy'])\n",
        "model.summary()"
      ],
      "execution_count": 0,
      "outputs": [
        {
          "output_type": "stream",
          "text": [
            "_________________________________________________________________\n",
            "Layer (type)                 Output Shape              Param #   \n",
            "=================================================================\n",
            "embedding_4 (Embedding)      (None, 100, 300)          472200    \n",
            "_________________________________________________________________\n",
            "conv1d_1 (Conv1D)            (None, 96, 128)           192128    \n",
            "_________________________________________________________________\n",
            "global_max_pooling1d_3 (Glob (None, 128)               0         \n",
            "_________________________________________________________________\n",
            "dense_9 (Dense)              (None, 10)                1290      \n",
            "_________________________________________________________________\n",
            "dense_10 (Dense)             (None, 1)                 11        \n",
            "=================================================================\n",
            "Total params: 665,629\n",
            "Trainable params: 193,429\n",
            "Non-trainable params: 472,200\n",
            "_________________________________________________________________\n"
          ],
          "name": "stdout"
        }
      ]
    },
    {
      "metadata": {
        "id": "t9t22OGtJlp4",
        "colab_type": "code",
        "outputId": "15a35d84-f2e0-4c73-fc84-bcad96c549f6",
        "colab": {
          "base_uri": "https://localhost:8080/",
          "height": 451
        }
      },
      "cell_type": "code",
      "source": [
        "epochs = 10\n",
        "batch_size = 10\n",
        "\n",
        "history = model.fit(X_train, y_train, epochs=epochs, \n",
        "                    validation_data=(X_test, y_test),\n",
        "                    batch_size=batch_size)\n",
        "\n",
        "oss, accuracy = model.evaluate(X_train, y_train)\n",
        "print('Training loss and accuracy', loss, accuracy)\n",
        "\n",
        "loss, accuracy = model.evaluate(X_test , y_test)\n",
        "print('Testing loss and accuracy', loss, accuracy)"
      ],
      "execution_count": 0,
      "outputs": [
        {
          "output_type": "stream",
          "text": [
            "Train on 750 samples, validate on 250 samples\n",
            "Epoch 1/10\n",
            "750/750 [==============================] - 2s 3ms/step - loss: 0.6737 - acc: 0.5827 - val_loss: 0.6333 - val_acc: 0.6720\n",
            "Epoch 2/10\n",
            "750/750 [==============================] - 1s 842us/step - loss: 0.4914 - acc: 0.8080 - val_loss: 0.4887 - val_acc: 0.7640\n",
            "Epoch 3/10\n",
            "750/750 [==============================] - 1s 855us/step - loss: 0.2693 - acc: 0.9200 - val_loss: 0.4298 - val_acc: 0.8000\n",
            "Epoch 4/10\n",
            "750/750 [==============================] - 1s 827us/step - loss: 0.1262 - acc: 0.9773 - val_loss: 0.4007 - val_acc: 0.8080\n",
            "Epoch 5/10\n",
            "750/750 [==============================] - 1s 858us/step - loss: 0.0480 - acc: 0.9960 - val_loss: 0.4262 - val_acc: 0.8160\n",
            "Epoch 6/10\n",
            "750/750 [==============================] - 1s 820us/step - loss: 0.0233 - acc: 1.0000 - val_loss: 0.4276 - val_acc: 0.8160\n",
            "Epoch 7/10\n",
            "750/750 [==============================] - 1s 845us/step - loss: 0.0118 - acc: 1.0000 - val_loss: 0.4351 - val_acc: 0.8240\n",
            "Epoch 8/10\n",
            "750/750 [==============================] - 1s 846us/step - loss: 0.0075 - acc: 1.0000 - val_loss: 0.4474 - val_acc: 0.8160\n",
            "Epoch 9/10\n",
            "750/750 [==============================] - 1s 835us/step - loss: 0.0054 - acc: 1.0000 - val_loss: 0.4625 - val_acc: 0.8080\n",
            "Epoch 10/10\n",
            "750/750 [==============================] - 1s 844us/step - loss: 0.0041 - acc: 1.0000 - val_loss: 0.4660 - val_acc: 0.8200\n",
            "750/750 [==============================] - 0s 122us/step\n",
            "Training loss and accuracy 0.6248917093276978 1.0\n",
            "250/250 [==============================] - 0s 147us/step\n",
            "Testing loss and accuracy 0.46600527262687685 0.8200000009536743\n"
          ],
          "name": "stdout"
        }
      ]
    },
    {
      "metadata": {
        "id": "VY4Grv1RJo9x",
        "colab_type": "code",
        "outputId": "3ce27afd-6125-4c5d-f84d-e121b2788b24",
        "colab": {
          "base_uri": "https://localhost:8080/",
          "height": 337
        }
      },
      "cell_type": "code",
      "source": [
        "plot_history(history)"
      ],
      "execution_count": 0,
      "outputs": [
        {
          "output_type": "display_data",
          "data": {
            "image/png": "[encoded data removed]",
            "text/plain": [
              "<matplotlib.figure.Figure at 0x7fdd05423978>"
            ]
          },
          "metadata": {
            "tags": []
          }
        }
      ]
    },
    {
      "metadata": {
        "id": "VznPJez8Jxr9",
        "colab_type": "code",
        "colab": {}
      },
      "cell_type": "code",
      "source": [
        ""
      ],
      "execution_count": 0,
      "outputs": []
    }
  ]
}