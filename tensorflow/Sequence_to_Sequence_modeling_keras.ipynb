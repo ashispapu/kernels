{
  "nbformat": 4,
  "nbformat_minor": 0,
  "metadata": {
    "colab": {
      "name": "Sequence to Sequence modeling keras.ipynb",
      "version": "0.3.2",
      "provenance": [],
      "collapsed_sections": []
    },
    "kernelspec": {
      "name": "python3",
      "display_name": "Python 3"
    },
    "accelerator": "GPU"
  },
  "cells": [
    {
      "metadata": {
        "id": "fF89PKr1Dbl5",
        "colab_type": "code",
        "colab": {
          "base_uri": "https://localhost:8080/",
          "height": 34
        },
        "outputId": "1e6371fe-52e9-470b-8b11-658e8d1bcec3"
      },
      "cell_type": "code",
      "source": [
        "from keras.models import Model\n",
        "from keras.layers import Input, LSTM, Dense, CuDNNLSTM\n",
        "import numpy as np\n",
        "from keras.utils.vis_utils import plot_model\n",
        "import matplotlib.pyplot as plt\n",
        "plt.style.use('ggplot')"
      ],
      "execution_count": 1,
      "outputs": [
        {
          "output_type": "stream",
          "text": [
            "Using TensorFlow backend.\n"
          ],
          "name": "stderr"
        }
      ]
    },
    {
      "metadata": {
        "id": "TEq7dwaZFhHW",
        "colab_type": "code",
        "colab": {
          "base_uri": "https://localhost:8080/",
          "height": 52
        },
        "outputId": "463a466c-5529-4b96-ba30-016d7f84fb15"
      },
      "cell_type": "code",
      "source": [
        "%%bash\n",
        "echo wget http://www.manythings.org/anki/ben-eng.zip\n",
        "echo unzip ben-eng.zip"
      ],
      "execution_count": 2,
      "outputs": [
        {
          "output_type": "stream",
          "text": [
            "wget http://www.manythings.org/anki/ben-eng.zip\n",
            "unzip ben-eng.zip\n"
          ],
          "name": "stdout"
        }
      ]
    },
    {
      "metadata": {
        "id": "ZnTF5GX4E58Y",
        "colab_type": "code",
        "colab": {}
      },
      "cell_type": "code",
      "source": [
        "batch_size = 64\n",
        "epochs = 20\n",
        "latent_dim = 256\n",
        "num_samples = 10000\n",
        "data_path = \"ben.txt\""
      ],
      "execution_count": 0,
      "outputs": []
    },
    {
      "metadata": {
        "id": "YJSYVGpLE5_1",
        "colab_type": "code",
        "colab": {}
      },
      "cell_type": "code",
      "source": [
        "# vectorize the data\n",
        "input_texts = []\n",
        "target_texts = []\n",
        "input_characters = set()\n",
        "target_characters = set()\n",
        "\n",
        "with open(data_path) as f:\n",
        "  lines = f.readlines()\n",
        "  \n",
        "for line in lines[:min(num_samples, len(lines) - 1)]:\n",
        "  input_text, target_text = line.split(\"\\t\")\n",
        "  \n",
        "  # we use tab for the start sequencer character and \"\\n\" as the end sequence character\n",
        "  target_text = \"\\t\" + target_text + \"\\n\"\n",
        "  input_texts.append(input_text)\n",
        "  target_texts.append(target_text)\n",
        "  \n",
        "  for char in input_text:\n",
        "    if char not in input_characters:\n",
        "      input_characters.add(char)\n",
        "  for char in target_text:\n",
        "    if char not in target_characters:\n",
        "      target_characters.add(char)"
      ],
      "execution_count": 0,
      "outputs": []
    },
    {
      "metadata": {
        "id": "8fBkrZuSE6DK",
        "colab_type": "code",
        "colab": {
          "base_uri": "https://localhost:8080/",
          "height": 104
        },
        "outputId": "7704e5a8-f486-4cee-a9e1-76132e2f3ab1"
      },
      "cell_type": "code",
      "source": [
        "input_characters = sorted(list(input_characters))\n",
        "target_characters = sorted(list(target_characters))\n",
        "num_encoder_tokens = len(input_characters)\n",
        "num_decoder_tokens = len(target_characters)\n",
        "max_encoder_seq_length = max([len(txt) for txt in input_texts])\n",
        "max_decoder_seq_length = max([len(txt) for txt in target_texts])\n",
        "\n",
        "print(\"Number of samples\", len(input_texts))\n",
        "print(\"Number of unique input tokens\", num_encoder_tokens)\n",
        "print(\"Number of unique output tokens\", num_decoder_tokens)\n",
        "print(\"Maximum sequence length of inputs\", max_encoder_seq_length)\n",
        "print(\"Maximum sequence length of outputs\", max_decoder_seq_length)"
      ],
      "execution_count": 5,
      "outputs": [
        {
          "output_type": "stream",
          "text": [
            "Number of samples 4399\n",
            "Number of unique input tokens 71\n",
            "Number of unique output tokens 93\n",
            "Maximum sequence length of inputs 94\n",
            "Maximum sequence length of outputs 87\n"
          ],
          "name": "stdout"
        }
      ]
    },
    {
      "metadata": {
        "id": "8MS1uLanE6Gb",
        "colab_type": "code",
        "colab": {}
      },
      "cell_type": "code",
      "source": [
        "input_token_index = dict([(char, i) for i, char in enumerate( input_characters )])\n",
        "target_token_index = dict([(char, i) for i, char in enumerate( target_characters )])"
      ],
      "execution_count": 0,
      "outputs": []
    },
    {
      "metadata": {
        "id": "lUVamdKHE6Jy",
        "colab_type": "code",
        "colab": {}
      },
      "cell_type": "code",
      "source": [
        "encoder_input_data = np.zeros((len( input_texts ), max_encoder_seq_length, num_encoder_tokens), dtype=\"float32\")\n",
        "decoder_input_data = np.zeros((len( input_texts ), max_decoder_seq_length, num_decoder_tokens), dtype=\"float32\")\n",
        "decoder_target_data = np.zeros((len( target_texts ), max_decoder_seq_length, num_decoder_tokens), dtype=\"float32\")"
      ],
      "execution_count": 0,
      "outputs": []
    },
    {
      "metadata": {
        "id": "JzF5jyGtE6NP",
        "colab_type": "code",
        "colab": {}
      },
      "cell_type": "code",
      "source": [
        "for i, (input_text, target_text) in enumerate(zip( input_texts, target_texts )):\n",
        "  for t, char in enumerate( input_text ):\n",
        "    encoder_input_data[i, t, input_token_index[char] ] = 1.\n",
        "  for t, char in enumerate( target_text ):\n",
        "    # decoder target data is ahead of decoder input data by 1 timestep.\n",
        "    decoder_input_data[i, t, target_token_index[char] ] = 1.\n",
        "    if t>0:\n",
        "      # decoder_target_data will be ahead by one timestep\n",
        "      # and will not include the start character.\n",
        "      decoder_target_data[i, t-1, target_token_index[char] ] = 1."
      ],
      "execution_count": 0,
      "outputs": []
    },
    {
      "metadata": {
        "id": "9QvIKSLqDrqr",
        "colab_type": "code",
        "colab": {}
      },
      "cell_type": "code",
      "source": [
        "# define an input sequence and process it\n",
        "encoder_inputs = Input(shape=(None, num_encoder_tokens))\n",
        "encoder = CuDNNLSTM(latent_dim, return_state=True)\n",
        "encoder_outputs, state_h, state_c = encoder(encoder_inputs)\n",
        "\n",
        "# we discard the encoder_outputs and only keep the states\n",
        "encoder_states = [state_h, state_c]"
      ],
      "execution_count": 0,
      "outputs": []
    },
    {
      "metadata": {
        "id": "Plc2lz9NEbjM",
        "colab_type": "code",
        "colab": {}
      },
      "cell_type": "code",
      "source": [
        "# set up the decoder with input states as the initial state\n",
        "decoder_inputs = Input(shape=(None, num_decoder_tokens))\n",
        "# We set up our decoder to return full output sequences,\n",
        "# and to return internal states as well. We don't use the\n",
        "# return states in the training model, but we will use them in inference.\n",
        "decoder_lstm = CuDNNLSTM(latent_dim, return_sequences=True, return_state=True)\n",
        "decoder_outputs, _, _ = decoder_lstm( decoder_inputs, initial_state=encoder_states)\n",
        "decoder_dense = Dense( num_decoder_tokens, activation=\"softmax\")\n",
        "decoder_outputs = decoder_dense(decoder_outputs)"
      ],
      "execution_count": 0,
      "outputs": []
    },
    {
      "metadata": {
        "id": "Gf3TyFhEOZx7",
        "colab_type": "code",
        "colab": {}
      },
      "cell_type": "code",
      "source": [
        "# Define the model that will turn\n",
        "# encoder_input_data and decoder_input_data into decoder_target_data\n",
        "model = Model([ encoder_inputs, decoder_inputs ], decoder_outputs)"
      ],
      "execution_count": 0,
      "outputs": []
    },
    {
      "metadata": {
        "id": "yKPdQF0dPgyc",
        "colab_type": "code",
        "colab": {
          "base_uri": "https://localhost:8080/",
          "height": 729
        },
        "outputId": "85b42b7d-c715-4d32-cacc-623daf3b5c2d"
      },
      "cell_type": "code",
      "source": [
        "# run training\n",
        "model.compile( optimizer=\"rmsprop\", loss=\"categorical_crossentropy\" )\n",
        "history = model.fit([ encoder_input_data, decoder_input_data ], decoder_target_data,\n",
        "          batch_size=batch_size, epochs=epochs, validation_split=0.2)"
      ],
      "execution_count": 12,
      "outputs": [
        {
          "output_type": "stream",
          "text": [
            "Train on 3519 samples, validate on 880 samples\n",
            "Epoch 1/20\n",
            "3519/3519 [==============================] - 6s 2ms/step - loss: 0.7900 - val_loss: 1.3917\n",
            "Epoch 2/20\n",
            "3519/3519 [==============================] - 4s 1ms/step - loss: 0.7184 - val_loss: 1.3128\n",
            "Epoch 3/20\n",
            "3519/3519 [==============================] - 4s 1ms/step - loss: 0.6428 - val_loss: 1.1593\n",
            "Epoch 4/20\n",
            "3519/3519 [==============================] - 4s 1ms/step - loss: 0.5764 - val_loss: 1.1107\n",
            "Epoch 5/20\n",
            "3519/3519 [==============================] - 4s 1ms/step - loss: 0.5316 - val_loss: 1.0566\n",
            "Epoch 6/20\n",
            "3519/3519 [==============================] - 4s 1ms/step - loss: 0.5006 - val_loss: 1.0024\n",
            "Epoch 7/20\n",
            "3519/3519 [==============================] - 4s 1ms/step - loss: 0.4782 - val_loss: 0.9962\n",
            "Epoch 8/20\n",
            "3519/3519 [==============================] - 4s 1ms/step - loss: 0.4607 - val_loss: 0.9869\n",
            "Epoch 9/20\n",
            "3519/3519 [==============================] - 4s 1ms/step - loss: 0.4471 - val_loss: 0.9371\n",
            "Epoch 10/20\n",
            "3519/3519 [==============================] - 4s 1ms/step - loss: 0.4330 - val_loss: 0.9268\n",
            "Epoch 11/20\n",
            "3519/3519 [==============================] - 4s 1ms/step - loss: 0.4214 - val_loss: 0.9373\n",
            "Epoch 12/20\n",
            "3519/3519 [==============================] - 4s 1ms/step - loss: 0.4106 - val_loss: 0.9142\n",
            "Epoch 13/20\n",
            "3519/3519 [==============================] - 4s 1ms/step - loss: 0.4009 - val_loss: 0.9118\n",
            "Epoch 14/20\n",
            "3519/3519 [==============================] - 4s 1ms/step - loss: 0.3899 - val_loss: 0.9048\n",
            "Epoch 15/20\n",
            "3519/3519 [==============================] - 4s 1ms/step - loss: 0.3790 - val_loss: 0.8916\n",
            "Epoch 16/20\n",
            "3519/3519 [==============================] - 4s 1ms/step - loss: 0.3687 - val_loss: 0.8911\n",
            "Epoch 17/20\n",
            "3519/3519 [==============================] - 4s 1ms/step - loss: 0.3598 - val_loss: 0.8947\n",
            "Epoch 18/20\n",
            "3519/3519 [==============================] - 4s 1ms/step - loss: 0.3508 - val_loss: 0.8810\n",
            "Epoch 19/20\n",
            "3519/3519 [==============================] - 4s 1ms/step - loss: 0.3425 - val_loss: 0.8983\n",
            "Epoch 20/20\n",
            "3519/3519 [==============================] - 4s 1ms/step - loss: 0.3345 - val_loss: 0.8790\n"
          ],
          "name": "stdout"
        }
      ]
    },
    {
      "metadata": {
        "id": "SaQV3-HNQANW",
        "colab_type": "code",
        "colab": {
          "base_uri": "https://localhost:8080/",
          "height": 72
        },
        "outputId": "0b8ad8cb-4b05-49ff-86b0-15b29f0de229"
      },
      "cell_type": "code",
      "source": [
        "# save model\n",
        "model.save(\"s2s.h5\")"
      ],
      "execution_count": 13,
      "outputs": [
        {
          "output_type": "stream",
          "text": [
            "/usr/local/lib/python3.6/dist-packages/keras/engine/network.py:877: UserWarning: Layer cu_dnnlstm_2 was passed non-serializable keyword arguments: {'initial_state': [<tf.Tensor 'cu_dnnlstm_1/strided_slice_16:0' shape=(?, 256) dtype=float32>, <tf.Tensor 'cu_dnnlstm_1/strided_slice_17:0' shape=(?, 256) dtype=float32>]}. They will not be included in the serialized model (and thus will be missing at deserialization time).\n",
            "  '. They will not be included '\n"
          ],
          "name": "stderr"
        }
      ]
    },
    {
      "metadata": {
        "id": "5mFQCdOiQQQ3",
        "colab_type": "code",
        "colab": {}
      },
      "cell_type": "code",
      "source": [
        "# Next: inference mode (sampling).\n",
        "# Here's the drill:\n",
        "# 1) encode input and retrieve initial decoder state\n",
        "# 2) run one step of decoder with this initial state\n",
        "# and a \"start of sequence\" token as target.\n",
        "# Output will be the next target token\n",
        "# 3) Repeat with the current target token and current states\n",
        "\n",
        "# Define sampling models\n",
        "encoder_model = Model(encoder_inputs, encoder_states)"
      ],
      "execution_count": 0,
      "outputs": []
    },
    {
      "metadata": {
        "id": "2un0gH-SQSRo",
        "colab_type": "code",
        "colab": {}
      },
      "cell_type": "code",
      "source": [
        "decoder_state_input_h = Input(shape=(latent_dim,))\n",
        "decoder_state_input_c = Input(shape=(latent_dim,))\n",
        "decoder_states_inputs = [decoder_state_input_h, decoder_state_input_c]\n",
        "decoder_outputs, state_h, state_c = decoder_lstm(\n",
        "    decoder_inputs, initial_state=decoder_states_inputs)\n",
        "decoder_states = [state_h, state_c]\n",
        "decoder_outputs = decoder_dense(decoder_outputs)\n",
        "decoder_model = Model(\n",
        "    [decoder_inputs] + decoder_states_inputs,\n",
        "    [decoder_outputs] + decoder_states)"
      ],
      "execution_count": 0,
      "outputs": []
    },
    {
      "metadata": {
        "id": "pRt-O8wZQSd0",
        "colab_type": "code",
        "colab": {}
      },
      "cell_type": "code",
      "source": [
        "# Reverse-lookup token index to decode sequences back to\n",
        "# something readable.\n",
        "reverse_input_char_index = dict(\n",
        "    (i, char) for char, i in input_token_index.items())\n",
        "reverse_target_char_index = dict(\n",
        "    (i, char) for char, i in target_token_index.items())"
      ],
      "execution_count": 0,
      "outputs": []
    },
    {
      "metadata": {
        "id": "CwC_Zbm_QSkb",
        "colab_type": "code",
        "colab": {}
      },
      "cell_type": "code",
      "source": [
        "def decode_sequence(input_seq):\n",
        "    # Encode the input as state vectors.\n",
        "    states_value = encoder_model.predict(input_seq)\n",
        "\n",
        "    # Generate empty target sequence of length 1.\n",
        "    target_seq = np.zeros((1, 1, num_decoder_tokens))\n",
        "    # Populate the first character of target sequence with the start character.\n",
        "    target_seq[0, 0, target_token_index['\\t']] = 1.\n",
        "\n",
        "    # Sampling loop for a batch of sequences\n",
        "    # (to simplify, here we assume a batch of size 1).\n",
        "    stop_condition = False\n",
        "    decoded_sentence = ''\n",
        "    while not stop_condition:\n",
        "        output_tokens, h, c = decoder_model.predict(\n",
        "            [target_seq] + states_value)\n",
        "\n",
        "        # Sample a token\n",
        "        sampled_token_index = np.argmax(output_tokens[0, -1, :])\n",
        "        sampled_char = reverse_target_char_index[sampled_token_index]\n",
        "        decoded_sentence += sampled_char\n",
        "\n",
        "        # Exit condition: either hit max length\n",
        "        # or find stop character.\n",
        "        if (sampled_char == '\\n' or\n",
        "           len(decoded_sentence) > max_decoder_seq_length):\n",
        "            stop_condition = True\n",
        "\n",
        "        # Update the target sequence (of length 1).\n",
        "        target_seq = np.zeros((1, 1, num_decoder_tokens))\n",
        "        target_seq[0, 0, sampled_token_index] = 1.\n",
        "\n",
        "        # Update states\n",
        "        states_value = [h, c]\n",
        "\n",
        "    return decoded_sentence"
      ],
      "execution_count": 0,
      "outputs": []
    },
    {
      "metadata": {
        "id": "sHWNHFxUQSZ_",
        "colab_type": "code",
        "colab": {
          "base_uri": "https://localhost:8080/",
          "height": 6964
        },
        "outputId": "624f54df-7946-4661-89e9-1c663451a01f"
      },
      "cell_type": "code",
      "source": [
        "for seq_index in range(100):\n",
        "    # Take one sequence (part of the training set)\n",
        "    # for trying out decoding.\n",
        "    input_seq = encoder_input_data[seq_index: seq_index + 1]\n",
        "    decoded_sentence = decode_sequence(input_seq)\n",
        "    print('-')\n",
        "    print('Input sentence:', input_texts[seq_index])\n",
        "    print('Decoded sentence:', decoded_sentence)"
      ],
      "execution_count": 18,
      "outputs": [
        {
          "output_type": "stream",
          "text": [
            "-\n",
            "Input sentence: Go.\n",
            "Decoded sentence: আমি একটা ভালো লাগে না।\n",
            "\n",
            "-\n",
            "Input sentence: Go.\n",
            "Decoded sentence: আমি একটা ভালো লাগে না।\n",
            "\n",
            "-\n",
            "Input sentence: Go.\n",
            "Decoded sentence: আমি একটা ভালো লাগে না।\n",
            "\n",
            "-\n",
            "Input sentence: Run!\n",
            "Decoded sentence: আমি একটা ভালো লাগে না।\n",
            "\n",
            "-\n",
            "Input sentence: Run!\n",
            "Decoded sentence: আমি একটা ভালো লাগে না।\n",
            "\n",
            "-\n",
            "Input sentence: Who?\n",
            "Decoded sentence: আমরা কি বারি তারি না।\n",
            "\n",
            "-\n",
            "Input sentence: Fire!\n",
            "Decoded sentence: আমি একটা ভালো লাগে না।\n",
            "\n",
            "-\n",
            "Input sentence: Help!\n",
            "Decoded sentence: আমরা কি বারি তারি না।\n",
            "\n",
            "-\n",
            "Input sentence: Help!\n",
            "Decoded sentence: আমরা কি বারি তারি না।\n",
            "\n",
            "-\n",
            "Input sentence: Stop!\n",
            "Decoded sentence: আমি একটা ভালো লাগে না।\n",
            "\n",
            "-\n",
            "Input sentence: Stop!\n",
            "Decoded sentence: আমি একটা ভালো লাগে না।\n",
            "\n",
            "-\n",
            "Input sentence: Stop!\n",
            "Decoded sentence: আমি একটা ভালো লাগে না।\n",
            "\n",
            "-\n",
            "Input sentence: Hello!\n",
            "Decoded sentence: আমরা কি বারি তারি না।\n",
            "\n",
            "-\n",
            "Input sentence: I see.\n",
            "Decoded sentence: আমি একটা ভালো লাগে না।\n",
            "\n",
            "-\n",
            "Input sentence: I try.\n",
            "Decoded sentence: আমি একটা ভালো লাগে না।\n",
            "\n",
            "-\n",
            "Input sentence: Smile.\n",
            "Decoded sentence: আমি একটা ভালো লাগে না।\n",
            "\n",
            "-\n",
            "Input sentence: Smile.\n",
            "Decoded sentence: আমি একটা ভালো লাগে না।\n",
            "\n",
            "-\n",
            "Input sentence: Attack!\n",
            "Decoded sentence: আমরা কি বারি তারি না।\n",
            "\n",
            "-\n",
            "Input sentence: Get up.\n",
            "Decoded sentence: আমি একটা ভালো লাগে না।\n",
            "\n",
            "-\n",
            "Input sentence: Get up.\n",
            "Decoded sentence: আমি একটা ভালো লাগে না।\n",
            "\n",
            "-\n",
            "Input sentence: Got it!\n",
            "Decoded sentence: আমি একটা ভালো লাগে না।\n",
            "\n",
            "-\n",
            "Input sentence: Got it!\n",
            "Decoded sentence: আমি একটা ভালো লাগে না।\n",
            "\n",
            "-\n",
            "Input sentence: Got it?\n",
            "Decoded sentence: আমি একটা ভালো লাগে না।\n",
            "\n",
            "-\n",
            "Input sentence: Got it?\n",
            "Decoded sentence: আমি একটা ভালো লাগে না।\n",
            "\n",
            "-\n",
            "Input sentence: Got it?\n",
            "Decoded sentence: আমি একটা ভালো লাগে না।\n",
            "\n",
            "-\n",
            "Input sentence: I know.\n",
            "Decoded sentence: আমি একটা ভালো লাগে না।\n",
            "\n",
            "-\n",
            "Input sentence: I know.\n",
            "Decoded sentence: আমি একটা ভালো লাগে না।\n",
            "\n",
            "-\n",
            "Input sentence: I lost.\n",
            "Decoded sentence: আমি একটা ভালো লাগে না।\n",
            "\n",
            "-\n",
            "Input sentence: I'm 19.\n",
            "Decoded sentence: আমি একটা ভালো লাগে না।\n",
            "\n",
            "-\n",
            "Input sentence: I'm OK.\n",
            "Decoded sentence: আমি একটা ভালো লাগে না।\n",
            "\n",
            "-\n",
            "Input sentence: Listen.\n",
            "Decoded sentence: আমি একটা ভালো লাগে না।\n",
            "\n",
            "-\n",
            "Input sentence: Listen.\n",
            "Decoded sentence: আমি একটা ভালো লাগে না।\n",
            "\n",
            "-\n",
            "Input sentence: No way!\n",
            "Decoded sentence: আমি একটা ভালো লাগে না।\n",
            "\n",
            "-\n",
            "Input sentence: Really?\n",
            "Decoded sentence: আমি একটা ভালো লাগে না।\n",
            "\n",
            "-\n",
            "Input sentence: Really?\n",
            "Decoded sentence: আমি একটা ভালো লাগে না।\n",
            "\n",
            "-\n",
            "Input sentence: Thanks.\n",
            "Decoded sentence: আমি একটা ভালো লাগে না।\n",
            "\n",
            "-\n",
            "Input sentence: Try it.\n",
            "Decoded sentence: আমি একটা ভালো লাগে না।\n",
            "\n",
            "-\n",
            "Input sentence: Try it.\n",
            "Decoded sentence: আমি একটা ভালো লাগে না।\n",
            "\n",
            "-\n",
            "Input sentence: We won.\n",
            "Decoded sentence: আমরা কি বারি তারি না।\n",
            "\n",
            "-\n",
            "Input sentence: Why me?\n",
            "Decoded sentence: আমরা কি বারি তারি না।\n",
            "\n",
            "-\n",
            "Input sentence: Ask Tom.\n",
            "Decoded sentence: আমরা কি বারি তারি না।\n",
            "\n",
            "-\n",
            "Input sentence: Ask Tom.\n",
            "Decoded sentence: আমরা কি বারি তারি না।\n",
            "\n",
            "-\n",
            "Input sentence: Ask Tom.\n",
            "Decoded sentence: আমরা কি বারি তারি না।\n",
            "\n",
            "-\n",
            "Input sentence: Call me.\n",
            "Decoded sentence: আমরা কি বারি তারি না।\n",
            "\n",
            "-\n",
            "Input sentence: Call me.\n",
            "Decoded sentence: আমরা কি বারি তারি না।\n",
            "\n",
            "-\n",
            "Input sentence: Call me.\n",
            "Decoded sentence: আমরা কি বারি তারি না।\n",
            "\n",
            "-\n",
            "Input sentence: Call us.\n",
            "Decoded sentence: আমরা কি বারি তারি না।\n",
            "\n",
            "-\n",
            "Input sentence: Call us.\n",
            "Decoded sentence: আমরা কি বারি তারি না।\n",
            "\n",
            "-\n",
            "Input sentence: Call us.\n",
            "Decoded sentence: আমরা কি বারি তারি না।\n",
            "\n",
            "-\n",
            "Input sentence: Come in.\n",
            "Decoded sentence: আমরা কি বারি তারি না।\n",
            "\n",
            "-\n",
            "Input sentence: Come in.\n",
            "Decoded sentence: আমরা কি বারি তারি না।\n",
            "\n",
            "-\n",
            "Input sentence: Get Tom.\n",
            "Decoded sentence: আমি একটা ভালো লাগে না।\n",
            "\n",
            "-\n",
            "Input sentence: Get Tom.\n",
            "Decoded sentence: আমি একটা ভালো লাগে না।\n",
            "\n",
            "-\n",
            "Input sentence: Get Tom.\n",
            "Decoded sentence: আমি একটা ভালো লাগে না।\n",
            "\n",
            "-\n",
            "Input sentence: Get Tom.\n",
            "Decoded sentence: আমি একটা ভালো লাগে না।\n",
            "\n",
            "-\n",
            "Input sentence: Get Tom.\n",
            "Decoded sentence: আমি একটা ভালো লাগে না।\n",
            "\n",
            "-\n",
            "Input sentence: Get Tom.\n",
            "Decoded sentence: আমি একটা ভালো লাগে না।\n",
            "\n",
            "-\n",
            "Input sentence: Get out.\n",
            "Decoded sentence: আমি একটা ভালো লাগে না।\n",
            "\n",
            "-\n",
            "Input sentence: Get out.\n",
            "Decoded sentence: আমি একটা ভালো লাগে না।\n",
            "\n",
            "-\n",
            "Input sentence: Go away!\n",
            "Decoded sentence: আমি একটা ভালো লাগে না।\n",
            "\n",
            "-\n",
            "Input sentence: Go away!\n",
            "Decoded sentence: আমি একটা ভালো লাগে না।\n",
            "\n",
            "-\n",
            "Input sentence: Go away.\n",
            "Decoded sentence: আমি একটা ভালো লাগে না।\n",
            "\n",
            "-\n",
            "Input sentence: Go away.\n",
            "Decoded sentence: আমি একটা ভালো লাগে না।\n",
            "\n",
            "-\n",
            "Input sentence: Go home.\n",
            "Decoded sentence: আমি একটা ভালো লাগে না।\n",
            "\n",
            "-\n",
            "Input sentence: Go home.\n",
            "Decoded sentence: আমি একটা ভালো লাগে না।\n",
            "\n",
            "-\n",
            "Input sentence: Go home.\n",
            "Decoded sentence: আমি একটা ভালো লাগে না।\n",
            "\n",
            "-\n",
            "Input sentence: Go slow.\n",
            "Decoded sentence: আমি একটা ভালো লাগে না।\n",
            "\n",
            "-\n",
            "Input sentence: Go slow.\n",
            "Decoded sentence: আমি একটা ভালো লাগে না।\n",
            "\n",
            "-\n",
            "Input sentence: Go slow.\n",
            "Decoded sentence: আমি একটা ভালো লাগে না।\n",
            "\n",
            "-\n",
            "Input sentence: Goodbye!\n",
            "Decoded sentence: আমি একটা ভালো লাগে না।\n",
            "\n",
            "-\n",
            "Input sentence: Goodbye!\n",
            "Decoded sentence: আমি একটা ভালো লাগে না।\n",
            "\n",
            "-\n",
            "Input sentence: He came.\n",
            "Decoded sentence: আমরা কি বারি তারি না।\n",
            "\n",
            "-\n",
            "Input sentence: He came.\n",
            "Decoded sentence: আমরা কি বারি তারি না।\n",
            "\n",
            "-\n",
            "Input sentence: He came.\n",
            "Decoded sentence: আমরা কি বারি তারি না।\n",
            "\n",
            "-\n",
            "Input sentence: He came.\n",
            "Decoded sentence: আমরা কি বারি তারি না।\n",
            "\n",
            "-\n",
            "Input sentence: He runs.\n",
            "Decoded sentence: আমরা কি বারি তারি না।\n",
            "\n",
            "-\n",
            "Input sentence: He runs.\n",
            "Decoded sentence: আমরা কি বারি তারি না।\n",
            "\n",
            "-\n",
            "Input sentence: He runs.\n",
            "Decoded sentence: আমরা কি বারি তারি না।\n",
            "\n",
            "-\n",
            "Input sentence: He runs.\n",
            "Decoded sentence: আমরা কি বারি তারি না।\n",
            "\n",
            "-\n",
            "Input sentence: He runs.\n",
            "Decoded sentence: আমরা কি বারি তারি না।\n",
            "\n",
            "-\n",
            "Input sentence: He runs.\n",
            "Decoded sentence: আমরা কি বারি তারি না।\n",
            "\n",
            "-\n",
            "Input sentence: Help me!\n",
            "Decoded sentence: আমরা কি বারি তারি না।\n",
            "\n",
            "-\n",
            "Input sentence: Help us.\n",
            "Decoded sentence: আমরা কি বারি তারি না।\n",
            "\n",
            "-\n",
            "Input sentence: Help us.\n",
            "Decoded sentence: আমরা কি বারি তারি না।\n",
            "\n",
            "-\n",
            "Input sentence: Help us.\n",
            "Decoded sentence: আমরা কি বারি তারি না।\n",
            "\n",
            "-\n",
            "Input sentence: Hit Tom.\n",
            "Decoded sentence: আমরা কি বারি তারি না।\n",
            "\n",
            "-\n",
            "Input sentence: Hit Tom.\n",
            "Decoded sentence: আমরা কি বারি তারি না।\n",
            "\n",
            "-\n",
            "Input sentence: Hit Tom.\n",
            "Decoded sentence: আমরা কি বারি তারি না।\n",
            "\n",
            "-\n",
            "Input sentence: I agree.\n",
            "Decoded sentence: আমি একটা ভালো লাগে না।\n",
            "\n",
            "-\n",
            "Input sentence: I tried.\n",
            "Decoded sentence: আমি একটা ভালো লাগে না।\n",
            "\n",
            "-\n",
            "Input sentence: I tried.\n",
            "Decoded sentence: আমি একটা ভালো লাগে না।\n",
            "\n",
            "-\n",
            "Input sentence: I'm Tom.\n",
            "Decoded sentence: আমি একটা ভালো লাগে না।\n",
            "\n",
            "-\n",
            "Input sentence: I'm shy.\n",
            "Decoded sentence: আমি একটা ভালো লাগে না।\n",
            "\n",
            "-\n",
            "Input sentence: I'm wet.\n",
            "Decoded sentence: আমি একটা ভালো লাগে না।\n",
            "\n",
            "-\n",
            "Input sentence: It's me.\n",
            "Decoded sentence: আমি একটা ভালো লাগে না।\n",
            "\n",
            "-\n",
            "Input sentence: Keep it.\n",
            "Decoded sentence: আমরা কি বারি তারি না।\n",
            "\n",
            "-\n",
            "Input sentence: Keep it.\n",
            "Decoded sentence: আমরা কি বারি তারি না।\n",
            "\n",
            "-\n",
            "Input sentence: Keep it.\n",
            "Decoded sentence: আমরা কি বারি তারি না।\n",
            "\n",
            "-\n",
            "Input sentence: Me, too.\n",
            "Decoded sentence: আমি একটা ভালো লাগে না।\n",
            "\n",
            "-\n",
            "Input sentence: Perfect!\n",
            "Decoded sentence: আমরা কি বারি তারি না।\n",
            "\n"
          ],
          "name": "stdout"
        }
      ]
    },
    {
      "metadata": {
        "id": "OVcJibaWovXu",
        "colab_type": "code",
        "colab": {}
      },
      "cell_type": "code",
      "source": [
        "def plot_history(history):\n",
        "    loss = history.history['loss']\n",
        "    val_loss = history.history['val_loss']\n",
        "    x = range(1, len(loss) + 1)\n",
        "    \n",
        "    plt.plot(x, loss, 'b', label='Training loss')\n",
        "    plt.plot(x, val_loss, 'r', label='Validation loss')\n",
        "    plt.title('Training and validation loss')\n",
        "    plt.legend()"
      ],
      "execution_count": 0,
      "outputs": []
    },
    {
      "metadata": {
        "id": "hsH3yVwEQfl9",
        "colab_type": "code",
        "colab": {
          "base_uri": "https://localhost:8080/",
          "height": 364
        },
        "outputId": "7ec1ea0c-8ed7-4602-91ab-27df4d30a121"
      },
      "cell_type": "code",
      "source": [
        "plot_history(history)"
      ],
      "execution_count": 20,
      "outputs": [
        {
          "output_type": "display_data",
          "data": {
            "image/png": "[encoded data removed]",
            "text/plain": [
              "<matplotlib.figure.Figure at 0x7f08456ecac8>"
            ]
          },
          "metadata": {
            "tags": []
          }
        }
      ]
    },
    {
      "metadata": {
        "id": "aeykEeY8pOBr",
        "colab_type": "code",
        "colab": {
          "base_uri": "https://localhost:8080/",
          "height": 34
        },
        "outputId": "1dabdc70-dfd5-47f4-bfdc-04bb8af0ad26"
      },
      "cell_type": "code",
      "source": [
        "history.history.keys()"
      ],
      "execution_count": 21,
      "outputs": [
        {
          "output_type": "execute_result",
          "data": {
            "text/plain": [
              "dict_keys(['val_loss', 'loss'])"
            ]
          },
          "metadata": {
            "tags": []
          },
          "execution_count": 21
        }
      ]
    },
    {
      "metadata": {
        "id": "hy2KvoxfuSYa",
        "colab_type": "code",
        "colab": {}
      },
      "cell_type": "code",
      "source": [
        "# plot the model\n",
        "plot_model(model, to_file='model.png', show_shapes=True)"
      ],
      "execution_count": 0,
      "outputs": []
    },
    {
      "metadata": {
        "id": "ioLfk0710M_3",
        "colab_type": "code",
        "colab": {
          "base_uri": "https://localhost:8080/",
          "height": 52
        },
        "outputId": "6d831e93-36c9-4b88-961f-3e103c06b487"
      },
      "cell_type": "code",
      "source": [
        "!pip install pydot"
      ],
      "execution_count": 23,
      "outputs": [
        {
          "output_type": "stream",
          "text": [
            "Requirement already satisfied: pydot in /usr/local/lib/python3.6/dist-packages (1.3.0)\n",
            "Requirement already satisfied: pyparsing>=2.1.4 in /usr/local/lib/python3.6/dist-packages (from pydot) (2.3.0)\n"
          ],
          "name": "stdout"
        }
      ]
    },
    {
      "metadata": {
        "id": "UNfUqig50TOf",
        "colab_type": "code",
        "colab": {}
      },
      "cell_type": "code",
      "source": [
        "import pydot"
      ],
      "execution_count": 0,
      "outputs": []
    },
    {
      "metadata": {
        "id": "XDs11Kk50djJ",
        "colab_type": "code",
        "colab": {
          "base_uri": "https://localhost:8080/",
          "height": 104
        },
        "outputId": "31144b8b-1484-4c07-cde7-ded6e4913c54"
      },
      "cell_type": "code",
      "source": [
        "!apt-get install graphviz"
      ],
      "execution_count": 25,
      "outputs": [
        {
          "output_type": "stream",
          "text": [
            "Reading package lists... Done\n",
            "Building dependency tree       \n",
            "Reading state information... Done\n",
            "graphviz is already the newest version (2.40.1-2).\n",
            "0 upgraded, 0 newly installed, 0 to remove and 5 not upgraded.\n"
          ],
          "name": "stdout"
        }
      ]
    },
    {
      "metadata": {
        "id": "I3WOzqi50xE_",
        "colab_type": "code",
        "colab": {}
      },
      "cell_type": "code",
      "source": [
        ""
      ],
      "execution_count": 0,
      "outputs": []
    }
  ]
}