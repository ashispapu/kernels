{
  "nbformat": 4,
  "nbformat_minor": 0,
  "metadata": {
    "colab": {
      "name": "tensorflow keras rnn lstm.ipynb",
      "version": "0.3.2",
      "provenance": [],
      "collapsed_sections": []
    },
    "kernelspec": {
      "name": "python3",
      "display_name": "Python 3"
    },
    "accelerator": "GPU"
  },
  "cells": [
    {
      "metadata": {
        "id": "CMTBypmsHrjx",
        "colab_type": "code",
        "colab": {}
      },
      "cell_type": "code",
      "source": [
        "import tensorflow as tf\n",
        "from tensorflow.keras.models import Sequential\n",
        "from tensorflow.keras.layers import Dense, Dropout,  LSTM, CuDNNLSTM # cuda version of lstm"
      ],
      "execution_count": 0,
      "outputs": []
    },
    {
      "metadata": {
        "id": "_NyfRbg5IUB0",
        "colab_type": "code",
        "colab": {
          "base_uri": "https://localhost:8080/",
          "height": 52
        },
        "outputId": "90cd0b78-c133-42d9-8c13-46b32135eb84"
      },
      "cell_type": "code",
      "source": [
        "mnist = tf.keras.datasets.mnist\n",
        "(x_train, y_train), (x_test, y_test) = mnist.load_data()"
      ],
      "execution_count": 2,
      "outputs": [
        {
          "output_type": "stream",
          "text": [
            "Downloading data from https://storage.googleapis.com/tensorflow/tf-keras-datasets/mnist.npz\n",
            "11493376/11490434 [==============================] - 0s 0us/step\n"
          ],
          "name": "stdout"
        }
      ]
    },
    {
      "metadata": {
        "id": "0gY8RNreJek5",
        "colab_type": "code",
        "colab": {
          "base_uri": "https://localhost:8080/",
          "height": 34
        },
        "outputId": "2039e8a5-beaf-4c96-fee4-b3b5555e720d"
      },
      "cell_type": "code",
      "source": [
        "print(x_train.shape)"
      ],
      "execution_count": 3,
      "outputs": [
        {
          "output_type": "stream",
          "text": [
            "(60000, 28, 28)\n"
          ],
          "name": "stdout"
        }
      ]
    },
    {
      "metadata": {
        "id": "mX6ZnHrLZxY6",
        "colab_type": "code",
        "colab": {}
      },
      "cell_type": "code",
      "source": [
        "x_train = x_train/255.0\n",
        "x_test = x_test/255.0"
      ],
      "execution_count": 0,
      "outputs": []
    },
    {
      "metadata": {
        "id": "iBiWhwv4JkEv",
        "colab_type": "code",
        "colab": {}
      },
      "cell_type": "code",
      "source": [
        "model = Sequential()\n",
        "model.add(LSTM(128, input_shape=(x_train.shape[1:]),\n",
        "                    activation='relu', \n",
        "                    return_sequences=True # return sequences of you want to another lstm else no need\n",
        "                   ))\n",
        "model.add(Dropout(0.2))\n",
        "\n",
        "model.add(LSTM(128, activation='relu'))\n",
        "model.add(Dropout(0.2))\n",
        "\n",
        "model.add(Dense(32, activation='relu'))\n",
        "model.add(Dropout(0.2))\n",
        "\n",
        "model.add(Dense(10, activation='softmax'))\n",
        "\n",
        "opt = tf.keras.optimizers.Adam(lr=1e-3, decay=1e-5)\n",
        "\n",
        "model.compile(loss=\"sparse_categorical_crossentropy\",\n",
        "              optimizer=opt,\n",
        "              metrics=[\"accuracy\"])"
      ],
      "execution_count": 0,
      "outputs": []
    },
    {
      "metadata": {
        "id": "_rf3-j4AX5J-",
        "colab_type": "code",
        "colab": {}
      },
      "cell_type": "code",
      "source": [
        "model = Sequential()\n",
        "model.add(CuDNNLSTM(128, input_shape=(x_train.shape[1:]),\n",
        "                    return_sequences=True # return sequences of you want to another lstm else no need\n",
        "                   ))\n",
        "model.add(Dropout(0.2))\n",
        "\n",
        "model.add(CuDNNLSTM(128)) # cudnnlstm uses tanh by default.\n",
        "model.add(Dropout(0.2))\n",
        "\n",
        "model.add(Dense(32, activation='relu'))\n",
        "model.add(Dropout(0.2))\n",
        "\n",
        "model.add(Dense(10, activation='softmax'))\n",
        "\n",
        "opt = tf.keras.optimizers.Adam(lr=1e-3, decay=1e-5)\n",
        "\n",
        "model.compile(loss=\"sparse_categorical_crossentropy\",\n",
        "              optimizer=opt,\n",
        "              metrics=[\"accuracy\"])"
      ],
      "execution_count": 0,
      "outputs": []
    },
    {
      "metadata": {
        "id": "seaFZlWSZOHr",
        "colab_type": "code",
        "colab": {
          "base_uri": "https://localhost:8080/",
          "height": 382
        },
        "outputId": "5b2e01d0-8d29-45f7-8eeb-e05b435632af"
      },
      "cell_type": "code",
      "source": [
        "history = model.fit(x_train, y_train, epochs=10, validation_data=(x_test, y_test))"
      ],
      "execution_count": 10,
      "outputs": [
        {
          "output_type": "stream",
          "text": [
            "Train on 60000 samples, validate on 10000 samples\n",
            "Epoch 1/10\n",
            "60000/60000 [==============================] - 49s 825us/step - loss: 0.3788 - acc: 0.8843 - val_loss: 0.1202 - val_acc: 0.9631\n",
            "Epoch 2/10\n",
            "60000/60000 [==============================] - 45s 752us/step - loss: 0.1422 - acc: 0.9614 - val_loss: 0.0878 - val_acc: 0.9741\n",
            "Epoch 3/10\n",
            "60000/60000 [==============================] - 45s 742us/step - loss: 0.1063 - acc: 0.9711 - val_loss: 0.1079 - val_acc: 0.9688\n",
            "Epoch 4/10\n",
            "60000/60000 [==============================] - 45s 743us/step - loss: 0.0921 - acc: 0.9753 - val_loss: 0.0805 - val_acc: 0.9767\n",
            "Epoch 5/10\n",
            "60000/60000 [==============================] - 44s 738us/step - loss: 0.0760 - acc: 0.9788 - val_loss: 0.0682 - val_acc: 0.9798\n",
            "Epoch 6/10\n",
            "60000/60000 [==============================] - 44s 734us/step - loss: 0.0677 - acc: 0.9814 - val_loss: 0.0623 - val_acc: 0.9833\n",
            "Epoch 7/10\n",
            "60000/60000 [==============================] - 44s 741us/step - loss: 0.0627 - acc: 0.9832 - val_loss: 0.0670 - val_acc: 0.9821\n",
            "Epoch 8/10\n",
            "60000/60000 [==============================] - 45s 745us/step - loss: 0.0572 - acc: 0.9847 - val_loss: 0.0550 - val_acc: 0.9849\n",
            "Epoch 9/10\n",
            "60000/60000 [==============================] - 44s 741us/step - loss: 0.0504 - acc: 0.9860 - val_loss: 0.0506 - val_acc: 0.9866\n",
            "Epoch 10/10\n",
            "60000/60000 [==============================] - 45s 742us/step - loss: 0.0461 - acc: 0.9872 - val_loss: 0.0590 - val_acc: 0.9862\n"
          ],
          "name": "stdout"
        }
      ]
    },
    {
      "metadata": {
        "id": "MlumQv1NZf5p",
        "colab_type": "code",
        "colab": {
          "base_uri": "https://localhost:8080/",
          "height": 34
        },
        "outputId": "ee80c1bb-9c44-4723-c230-65d143ba0394"
      },
      "cell_type": "code",
      "source": [
        "history"
      ],
      "execution_count": 11,
      "outputs": [
        {
          "output_type": "execute_result",
          "data": {
            "text/plain": [
              "<tensorflow.python.keras.callbacks.History at 0x7f921bc9f160>"
            ]
          },
          "metadata": {
            "tags": []
          },
          "execution_count": 11
        }
      ]
    },
    {
      "metadata": {
        "id": "zWCg2peAbQ8e",
        "colab_type": "code",
        "colab": {}
      },
      "cell_type": "code",
      "source": [
        "import matplotlib.pyplot as plt\n",
        "plt.style.use('ggplot')\n",
        "\n",
        "\n",
        "def plot_history(history):\n",
        "    acc = history.history['acc']\n",
        "    val_acc = history.history['val_acc']\n",
        "    loss = history.history['loss']\n",
        "    val_loss = history.history['val_loss']\n",
        "    x = range(1, len(acc) + 1)\n",
        "    \n",
        "    plt.figure(figsize=(12, 5))\n",
        "    plt.subplot(1, 2, 1)\n",
        "    plt.plot(x, acc, 'b', label='Training acc')\n",
        "    plt.plot(x, val_acc, 'r', label='Validation acc')\n",
        "    plt.title('Training and validation accuracy')\n",
        "    plt.legend()\n",
        "    plt.subplot(1, 2, 2)\n",
        "    plt.plot(x, loss, 'b', label='Training loss')\n",
        "    plt.plot(x, val_loss, 'r', label='Validation loss')\n",
        "    plt.title('Training and validation loss')\n",
        "    plt.legend()"
      ],
      "execution_count": 0,
      "outputs": []
    },
    {
      "metadata": {
        "id": "rlZt3DUzbiHi",
        "colab_type": "code",
        "colab": {
          "base_uri": "https://localhost:8080/",
          "height": 337
        },
        "outputId": "fbdfc448-9f69-4681-ce20-2a986a4f2441"
      },
      "cell_type": "code",
      "source": [
        "plot_history(history)"
      ],
      "execution_count": 13,
      "outputs": [
        {
          "output_type": "display_data",
          "data": {
            "image/png": "[encoded data removed]",
            "text/plain": [
              "<matplotlib.figure.Figure at 0x7f921b113470>"
            ]
          },
          "metadata": {
            "tags": []
          }
        }
      ]
    },
    {
      "metadata": {
        "id": "7cbGiJ10bjXc",
        "colab_type": "code",
        "colab": {}
      },
      "cell_type": "code",
      "source": [
        ""
      ],
      "execution_count": 0,
      "outputs": []
    },
    {
      "metadata": {
        "id": "m80MDfy6bqjP",
        "colab_type": "text"
      },
      "cell_type": "markdown",
      "source": [
        "using RNN on cryptocurrency"
      ]
    },
    {
      "metadata": {
        "id": "cJ1h5a6zbuGI",
        "colab_type": "code",
        "colab": {
          "base_uri": "https://localhost:8080/",
          "height": 34
        },
        "outputId": "98ebc707-da80-4a17-d72e-227e777f3f21"
      },
      "cell_type": "code",
      "source": [
        "print(\"!wget https://pythonprogramming.net/static/downloads/machine-learning-data/crypto_data.zip\")"
      ],
      "execution_count": 16,
      "outputs": [
        {
          "output_type": "stream",
          "text": [
            "!wget https://pythonprogramming.net/static/downloads/machine-learning-data/crypto_data.zip\n"
          ],
          "name": "stdout"
        }
      ]
    },
    {
      "metadata": {
        "id": "P-ps2-ENcFp6",
        "colab_type": "code",
        "colab": {
          "base_uri": "https://localhost:8080/",
          "height": 121
        },
        "outputId": "a4b198fc-b502-4f54-dab7-a439405f91ea"
      },
      "cell_type": "code",
      "source": [
        "%%bash\n",
        "echo \"unzip crypto_data.zip\"\n",
        "ls -ltr crypto_data"
      ],
      "execution_count": 21,
      "outputs": [
        {
          "output_type": "stream",
          "text": [
            "unzip crypto_data.zip\n",
            "total 24876\n",
            "-rw-r--r-- 1 root root 6658291 Aug 25 11:42 BTC-USD.csv\n",
            "-rw-r--r-- 1 root root 6223190 Aug 25 11:42 LTC-USD.csv\n",
            "-rw-r--r-- 1 root root 6657679 Aug 25 11:42 ETH-USD.csv\n",
            "-rw-r--r-- 1 root root 5925778 Aug 27 10:23 BCH-USD.csv\n"
          ],
          "name": "stdout"
        }
      ]
    },
    {
      "metadata": {
        "id": "uokHcfbVcM2x",
        "colab_type": "code",
        "colab": {}
      },
      "cell_type": "code",
      "source": [
        "import pandas as pd\n",
        "import os\n",
        "from sklearn import  preprocessing\n",
        "from collections import deque\n",
        "import random\n",
        "import numpy as np\n",
        "import time\n",
        "\n",
        "import tensorflow as tf\n",
        "from tensorflow.keras.models import Sequential\n",
        "from tensorflow.keras.layers import Dense, Dropout,  LSTM, CuDNNLSTM, BatchNormalization\n",
        "from tensorflow.keras.callbacks import TensorBoard, ModelCheckpoint"
      ],
      "execution_count": 0,
      "outputs": []
    },
    {
      "metadata": {
        "id": "dAYrItMUcouV",
        "colab_type": "code",
        "colab": {}
      },
      "cell_type": "code",
      "source": [
        "df = pd.read_csv(\"crypto_data/LTC-USD.csv\", names=[\"time\", \"low\", \"high\", \"open\", \"close\", \"volume\"])"
      ],
      "execution_count": 0,
      "outputs": []
    },
    {
      "metadata": {
        "id": "JlIxzpfVc10A",
        "colab_type": "code",
        "colab": {
          "base_uri": "https://localhost:8080/",
          "height": 206
        },
        "outputId": "6136f03d-e473-4c12-88d8-ce8e35d4cf20"
      },
      "cell_type": "code",
      "source": [
        "df.head()"
      ],
      "execution_count": 25,
      "outputs": [
        {
          "output_type": "execute_result",
          "data": {
            "text/html": [
              "<div>\n",
              "<style scoped>\n",
              "    .dataframe tbody tr th:only-of-type {\n",
              "        vertical-align: middle;\n",
              "    }\n",
              "\n",
              "    .dataframe tbody tr th {\n",
              "        vertical-align: top;\n",
              "    }\n",
              "\n",
              "    .dataframe thead th {\n",
              "        text-align: right;\n",
              "    }\n",
              "</style>\n",
              "<table border=\"1\" class=\"dataframe\">\n",
              "  <thead>\n",
              "    <tr style=\"text-align: right;\">\n",
              "      <th></th>\n",
              "      <th>time</th>\n",
              "      <th>low</th>\n",
              "      <th>high</th>\n",
              "      <th>open</th>\n",
              "      <th>close</th>\n",
              "      <th>volume</th>\n",
              "    </tr>\n",
              "  </thead>\n",
              "  <tbody>\n",
              "    <tr>\n",
              "      <th>0</th>\n",
              "      <td>1528968660</td>\n",
              "      <td>96.580002</td>\n",
              "      <td>96.589996</td>\n",
              "      <td>96.589996</td>\n",
              "      <td>96.580002</td>\n",
              "      <td>9.647200</td>\n",
              "    </tr>\n",
              "    <tr>\n",
              "      <th>1</th>\n",
              "      <td>1528968720</td>\n",
              "      <td>96.449997</td>\n",
              "      <td>96.669998</td>\n",
              "      <td>96.589996</td>\n",
              "      <td>96.660004</td>\n",
              "      <td>314.387024</td>\n",
              "    </tr>\n",
              "    <tr>\n",
              "      <th>2</th>\n",
              "      <td>1528968780</td>\n",
              "      <td>96.470001</td>\n",
              "      <td>96.570000</td>\n",
              "      <td>96.570000</td>\n",
              "      <td>96.570000</td>\n",
              "      <td>77.129799</td>\n",
              "    </tr>\n",
              "    <tr>\n",
              "      <th>3</th>\n",
              "      <td>1528968840</td>\n",
              "      <td>96.449997</td>\n",
              "      <td>96.570000</td>\n",
              "      <td>96.570000</td>\n",
              "      <td>96.500000</td>\n",
              "      <td>7.216067</td>\n",
              "    </tr>\n",
              "    <tr>\n",
              "      <th>4</th>\n",
              "      <td>1528968900</td>\n",
              "      <td>96.279999</td>\n",
              "      <td>96.540001</td>\n",
              "      <td>96.500000</td>\n",
              "      <td>96.389999</td>\n",
              "      <td>524.539978</td>\n",
              "    </tr>\n",
              "  </tbody>\n",
              "</table>\n",
              "</div>"
            ],
            "text/plain": [
              "         time        low       high       open      close      volume\n",
              "0  1528968660  96.580002  96.589996  96.589996  96.580002    9.647200\n",
              "1  1528968720  96.449997  96.669998  96.589996  96.660004  314.387024\n",
              "2  1528968780  96.470001  96.570000  96.570000  96.570000   77.129799\n",
              "3  1528968840  96.449997  96.570000  96.570000  96.500000    7.216067\n",
              "4  1528968900  96.279999  96.540001  96.500000  96.389999  524.539978"
            ]
          },
          "metadata": {
            "tags": []
          },
          "execution_count": 25
        }
      ]
    },
    {
      "metadata": {
        "id": "4jCMXijOffTx",
        "colab_type": "code",
        "colab": {}
      },
      "cell_type": "code",
      "source": [
        "SEQ_LEN = 60\n",
        "FUTURE_PERIOD_PREDICT = 3\n",
        "RATIO_TO_PREDICT = \"LTC\"\n",
        "EPOCHS = 10\n",
        "BATCH_SIZE = 64\n",
        "NAME = f\"{SEQ_LEN}-SEQ-{FUTURE_PERIOD_PREDICT}-PRED-{int(time.time())}\""
      ],
      "execution_count": 0,
      "outputs": []
    },
    {
      "metadata": {
        "id": "zSxSFYqtfrmg",
        "colab_type": "code",
        "colab": {}
      },
      "cell_type": "code",
      "source": [
        "def classify(current, future):\n",
        "  if float(future) > float(current):\n",
        "    return 1\n",
        "  else:\n",
        "    return 0"
      ],
      "execution_count": 0,
      "outputs": []
    },
    {
      "metadata": {
        "id": "x0FKS7-QdFMw",
        "colab_type": "code",
        "colab": {
          "base_uri": "https://localhost:8080/",
          "height": 139
        },
        "outputId": "dcc65a4c-f63d-4ee2-d301-0bf9ab5f6d17"
      },
      "cell_type": "code",
      "source": [
        "main_df = pd.DataFrame()\n",
        "\n",
        "ratios = [\"BTC\", \"LTC\", \"ETH\", \"BCH\"]\n",
        "for ratio in ratios:\n",
        "  dataset = f\"crypto_data/{ratio}-USD.csv\"\n",
        "  \n",
        "  df = pd.read_csv(dataset, names=[\"time\", \"low\", \"high\", \"open\", \"close\", \"volume\"])\n",
        "  df.rename(columns={\"close\": f\"{ratio}_close\", \"volume\": f\"{ratio}_volume\"}, inplace=True)\n",
        "  \n",
        "  df.set_index(\"time\", inplace=True)\n",
        "  \n",
        "  df = df[[f\"{ratio}_close\", f\"{ratio}_volume\"]]\n",
        "  \n",
        "  if len(main_df) == 0:\n",
        "    main_df = df\n",
        "  else:\n",
        "    main_df = main_df.join(df)\n",
        "    \n",
        "    \n",
        "main_df[\"future\"] = main_df[f\"{RATIO_TO_PREDICT}_close\"].shift(-FUTURE_PERIOD_PREDICT)\n",
        "\n",
        "main_df[\"target\"] = list(map(classify, main_df[f\"{RATIO_TO_PREDICT}_close\"], main_df[\"future\"]))\n",
        "                                                                                     \n",
        "print(main_df[[f\"{RATIO_TO_PREDICT}_close\", \"future\", \"target\"]].head())"
      ],
      "execution_count": 63,
      "outputs": [
        {
          "output_type": "stream",
          "text": [
            "            LTC_close     future  target\n",
            "time                                    \n",
            "1528968660  96.580002  96.500000       0\n",
            "1528968720  96.660004  96.389999       0\n",
            "1528968780  96.570000  96.519997       0\n",
            "1528968840  96.500000  96.440002       0\n",
            "1528968900  96.389999  96.470001       1\n"
          ],
          "name": "stdout"
        }
      ]
    },
    {
      "metadata": {
        "id": "_eKDG34ifN_X",
        "colab_type": "code",
        "colab": {}
      },
      "cell_type": "code",
      "source": [
        "times = sorted(main_df.index.values)"
      ],
      "execution_count": 0,
      "outputs": []
    },
    {
      "metadata": {
        "id": "DWYfc3riiw2y",
        "colab_type": "code",
        "colab": {
          "base_uri": "https://localhost:8080/",
          "height": 34
        },
        "outputId": "7e52ce61-8717-4381-f517-d533cd48944f"
      },
      "cell_type": "code",
      "source": [
        "last_5_percent = times[-int(0.05 * len(times))]\n",
        "print(last_5_percent)"
      ],
      "execution_count": 65,
      "outputs": [
        {
          "output_type": "stream",
          "text": [
            "1534922100\n"
          ],
          "name": "stdout"
        }
      ]
    },
    {
      "metadata": {
        "id": "_VMl0QbVjjql",
        "colab_type": "code",
        "colab": {}
      },
      "cell_type": "code",
      "source": [
        "def preprocess(df):\n",
        "  df = df.drop(\"future\", axis=1)\n",
        "  \n",
        "  for col in df.columns:\n",
        "    if col != \"target\":\n",
        "      df[col] = df[col].pct_change()\n",
        "      df.dropna(inplace=True)\n",
        "      df[col] = preprocessing.scale(df[col].values)\n",
        "      \n",
        "  df.dropna(inplace=True)\n",
        "  \n",
        "  sequential_data = []\n",
        "  prev_days = deque(maxlen=SEQ_LEN)\n",
        "  print(df.head())\n",
        "  \n",
        "  for i in df.values:\n",
        "    prev_days.append([n for n in i[:-1]])\n",
        "    if len(prev_days) == SEQ_LEN:\n",
        "      sequential_data.append([np.array(prev_days), i[-1]])\n",
        "      \n",
        "  random.shuffle(sequential_data)\n",
        "  \n",
        "  buys = []\n",
        "  sells = []\n",
        "  \n",
        "  for seq, target in sequential_data:\n",
        "    if target ==  0:\n",
        "      sells.append([seq, target])\n",
        "    else:\n",
        "      buys.append([seq, target])\n",
        "      \n",
        "  random.shuffle(buys)\n",
        "  random.shuffle(sells)\n",
        "  \n",
        "  lower = min(len(buys), len(sells))\n",
        "  \n",
        "  buys = buys[:lower]\n",
        "  sells = sells[:lower]\n",
        "  \n",
        "  sequential_data = buys + sells\n",
        "  random.shuffle(sequential_data)\n",
        "  \n",
        "  X = []\n",
        "  y = []\n",
        "  \n",
        "  for seq, target in sequential_data:\n",
        "    X.append(seq)\n",
        "    y.append(target)\n",
        "    \n",
        "  return np.array(X), y\n",
        "    "
      ],
      "execution_count": 0,
      "outputs": []
    },
    {
      "metadata": {
        "id": "lTeloOUWjCgx",
        "colab_type": "code",
        "colab": {}
      },
      "cell_type": "code",
      "source": [
        "validation_main_df = main_df[(main_df.index >= last_5_percent)]\n",
        "main_df = main_df[(main_df.index < last_5_percent)]"
      ],
      "execution_count": 0,
      "outputs": []
    },
    {
      "metadata": {
        "id": "tEsjqDWnjQyb",
        "colab_type": "code",
        "colab": {
          "base_uri": "https://localhost:8080/",
          "height": 538
        },
        "outputId": "5d5d3585-ce8c-4e44-dab5-4c23e6c35099"
      },
      "cell_type": "code",
      "source": [
        "train_x, train_y = preprocess(main_df)\n",
        "validation_x, validation_y = preprocess(validation_main_df)"
      ],
      "execution_count": 68,
      "outputs": [
        {
          "output_type": "stream",
          "text": [
            "            BTC_close  BTC_volume  LTC_close  LTC_volume  ETH_close  \\\n",
            "time                                                                  \n",
            "1528969140  -0.002513   -0.078919  -0.540429   -0.117090   0.004601   \n",
            "1528969200  -0.229992    0.003410   0.004048   -0.118307   0.004601   \n",
            "1528969260  -0.000830   -0.074039   0.004048   -0.072997   0.021273   \n",
            "1528969320   0.116299   -0.049626   0.004048   -0.108241   0.004601   \n",
            "1528969380   0.000937   -0.082052   0.004048   -0.048516   0.004601   \n",
            "\n",
            "            ETH_volume  BCH_close  BCH_volume  target  \n",
            "time                                                   \n",
            "1528969140   -0.047838   0.011062   -0.006217       0  \n",
            "1528969200   -0.045377   0.257552   -0.005884       0  \n",
            "1528969260   -0.032900   0.265415   -0.006200       1  \n",
            "1528969320   -0.049530   0.455951   -0.005898       1  \n",
            "1528969380   -0.032916   0.527186   -0.006206       0  \n",
            "            BTC_close  BTC_volume  LTC_close  LTC_volume  ETH_close  \\\n",
            "time                                                                  \n",
            "1534922700   0.001843   -0.214831  -0.328162   -0.065243  -2.145643   \n",
            "1534922760  -0.132096   -0.221802  -0.165580   -0.043155  -0.024824   \n",
            "1534922820  -0.219057   -0.272547   0.159773   -0.067680   0.003941   \n",
            "1534922880   0.003610   -0.278621  -0.979023   -0.038338  -2.467449   \n",
            "1534923180   0.003610    0.464371  -0.328550   -0.027328  -0.024912   \n",
            "\n",
            "            ETH_volume  BCH_close  BCH_volume  target  \n",
            "time                                                   \n",
            "1534922700    1.271980  -0.498424   -0.116887       0  \n",
            "1534922760   -0.116210  -1.217759    0.024271       0  \n",
            "1534922820   -0.110380   0.678879   -0.115852       0  \n",
            "1534922880    0.004497   0.220474   -0.116272       0  \n",
            "1534923180   -0.112472  -0.629715   -0.110457       1  \n"
          ],
          "name": "stdout"
        }
      ]
    },
    {
      "metadata": {
        "id": "nCqkDeEQl0QQ",
        "colab_type": "code",
        "colab": {
          "base_uri": "https://localhost:8080/",
          "height": 69
        },
        "outputId": "02da56e6-8439-4fc3-cf68-7853f33fdbdf"
      },
      "cell_type": "code",
      "source": [
        "print(f\"training data: {len(train_x)} validation: {len(validation_x)}\")\n",
        "print(f\"Dont sells: {train_y.count(0)} buys: {train_y.count(1)}\")\n",
        "print(f\"Validation Dont sells: {validation_y.count(0)} buys: {validation_y.count(1)}\")"
      ],
      "execution_count": 69,
      "outputs": [
        {
          "output_type": "stream",
          "text": [
            "training data: 69188 validation: 3062\n",
            "Dont sells: 34594 buys: 34594\n",
            "Validation Dont sells: 1531 buys: 1531\n"
          ],
          "name": "stdout"
        }
      ]
    },
    {
      "metadata": {
        "id": "LZwpwBTCpXZt",
        "colab_type": "code",
        "colab": {}
      },
      "cell_type": "code",
      "source": [
        "model = Sequential()\n",
        "model.add(CuDNNLSTM(128, input_shape=(train_x.shape[1:]), return_sequences=True))\n",
        "model.add(Dropout(0.2))\n",
        "model.add(BatchNormalization())\n",
        "\n",
        "model.add(CuDNNLSTM(128, return_sequences=True)) # cudnnlstm uses tanh by default.\n",
        "model.add(Dropout(0.1))\n",
        "model.add(BatchNormalization())\n",
        "\n",
        "model.add(CuDNNLSTM(128)) # cudnnlstm uses tanh by default.\n",
        "model.add(Dropout(0.2))\n",
        "model.add(BatchNormalization())\n",
        "\n",
        "model.add(Dense(32, activation='relu'))\n",
        "model.add(Dropout(0.2))\n",
        "\n",
        "model.add(Dense(2, activation='softmax'))\n",
        "\n",
        "opt = tf.keras.optimizers.Adam(lr=1e-3, decay=1e-6)\n",
        "\n",
        "model.compile(loss=\"sparse_categorical_crossentropy\",\n",
        "              optimizer=opt,\n",
        "              metrics=[\"accuracy\"])"
      ],
      "execution_count": 0,
      "outputs": []
    },
    {
      "metadata": {
        "id": "LQEESalUuCvS",
        "colab_type": "code",
        "colab": {}
      },
      "cell_type": "code",
      "source": [
        "!mkdir model"
      ],
      "execution_count": 0,
      "outputs": []
    },
    {
      "metadata": {
        "id": "T5QQrpOyrzZW",
        "colab_type": "code",
        "colab": {}
      },
      "cell_type": "code",
      "source": [
        "tensorboard = TensorBoard(log_dir=f\"logs/{NAME}\")\n",
        "\n",
        "filepath = \"RNN_Final-{epoch:02d}-{val_acc:.3f}\"\n",
        "checkpoint = ModelCheckpoint(\"model/{}.model\".format(filepath, monitor=\"val_acc\", verbose=1, save_best_only=True, model=\"max\"))"
      ],
      "execution_count": 0,
      "outputs": []
    },
    {
      "metadata": {
        "id": "B7tmUXLks-15",
        "colab_type": "code",
        "colab": {
          "base_uri": "https://localhost:8080/",
          "height": 382
        },
        "outputId": "1f02bde4-f5d2-4f2d-c474-e6e8deee5f87"
      },
      "cell_type": "code",
      "source": [
        "history = model.fit(train_x, train_y,\n",
        "                    batch_size=BATCH_SIZE, \n",
        "                    epochs=EPOCHS,\n",
        "                    validation_data=(validation_x, validation_y), \n",
        "                    callbacks=[tensorboard, checkpoint])"
      ],
      "execution_count": 75,
      "outputs": [
        {
          "output_type": "stream",
          "text": [
            "Train on 69188 samples, validate on 3062 samples\n",
            "Epoch 1/10\n",
            "69188/69188 [==============================] - 76s 1ms/step - loss: 0.6872 - acc: 0.5447 - val_loss: 0.6826 - val_acc: 0.5598\n",
            "Epoch 2/10\n",
            "69188/69188 [==============================] - 74s 1ms/step - loss: 0.6828 - acc: 0.5601 - val_loss: 0.6760 - val_acc: 0.5683\n",
            "Epoch 3/10\n",
            "69188/69188 [==============================] - 72s 1ms/step - loss: 0.6805 - acc: 0.5647 - val_loss: 0.6820 - val_acc: 0.5630\n",
            "Epoch 4/10\n",
            "69188/69188 [==============================] - 72s 1ms/step - loss: 0.6791 - acc: 0.5684 - val_loss: 0.6833 - val_acc: 0.5581\n",
            "Epoch 5/10\n",
            "69188/69188 [==============================] - 73s 1ms/step - loss: 0.6767 - acc: 0.5719 - val_loss: 0.6785 - val_acc: 0.5637\n",
            "Epoch 6/10\n",
            "69188/69188 [==============================] - 71s 1ms/step - loss: 0.6743 - acc: 0.5775 - val_loss: 0.6774 - val_acc: 0.5650\n",
            "Epoch 7/10\n",
            "69188/69188 [==============================] - 70s 1ms/step - loss: 0.6710 - acc: 0.5877 - val_loss: 0.6902 - val_acc: 0.5624\n",
            "Epoch 8/10\n",
            "69188/69188 [==============================] - 74s 1ms/step - loss: 0.6667 - acc: 0.5932 - val_loss: 0.6848 - val_acc: 0.5683\n",
            "Epoch 9/10\n",
            "69188/69188 [==============================] - 75s 1ms/step - loss: 0.6602 - acc: 0.6040 - val_loss: 0.6885 - val_acc: 0.5536\n",
            "Epoch 10/10\n",
            "69188/69188 [==============================] - 75s 1ms/step - loss: 0.6509 - acc: 0.6142 - val_loss: 0.7046 - val_acc: 0.5555\n"
          ],
          "name": "stdout"
        }
      ]
    },
    {
      "metadata": {
        "id": "5GwNdGGUtorb",
        "colab_type": "code",
        "colab": {
          "base_uri": "https://localhost:8080/",
          "height": 52
        },
        "outputId": "61bd358e-7b0d-4e5a-e815-5c9ab05941af"
      },
      "cell_type": "code",
      "source": [
        "# score model\n",
        "score = model.evaluate(validation_x, validation_y, verbose=0)\n",
        "print(\"Test loss: \", score[0])\n",
        "print(\"Test accuracy: \", score[1])\n",
        "\n",
        "# save model\n",
        "model.save(\"model/{}\".format(NAME))"
      ],
      "execution_count": 77,
      "outputs": [
        {
          "output_type": "stream",
          "text": [
            "Test loss:  0.7046369641610487\n",
            "Test accuracy:  0.5555192683741285\n"
          ],
          "name": "stdout"
        }
      ]
    },
    {
      "metadata": {
        "id": "5DrwJNj13-PT",
        "colab_type": "code",
        "colab": {}
      },
      "cell_type": "code",
      "source": [
        ""
      ],
      "execution_count": 0,
      "outputs": []
    }
  ]
}