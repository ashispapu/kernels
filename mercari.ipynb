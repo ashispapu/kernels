{
 "cells": [
  {
   "cell_type": "markdown",
   "metadata": {},
   "source": [
    "References:\n",
    "\n",
    "https://www.kaggle.com/kswamy15/mercari-using-pytorch\n",
    "\n",
    "http://scikit-learn.org/stable/modules/ensemble.html"
   ]
  },
  {
   "cell_type": "code",
   "execution_count": 1,
   "metadata": {
    "collapsed": true
   },
   "outputs": [],
   "source": [
    "import numpy as np\n",
    "import pandas as pd\n",
    "from time import time"
   ]
  },
  {
   "cell_type": "code",
   "execution_count": 2,
   "metadata": {
    "collapsed": true
   },
   "outputs": [],
   "source": [
    "import matplotlib.pyplot as plt\n",
    "import matplotlib.gridspec as gridspec\n",
    "import seaborn as sns\n",
    "from sklearn.preprocessing import LabelEncoder, MinMaxScaler, StandardScaler\n",
    "from sklearn.model_selection import train_test_split\n",
    "from sklearn.feature_extraction.text import TfidfVectorizer\n",
    "from sklearn.feature_selection import SelectFromModel\n",
    "from sklearn.feature_selection import SelectKBest, chi2\n",
    "from sklearn.linear_model import SGDClassifier\n",
    "from sklearn.linear_model import Perceptron\n",
    "from sklearn.linear_model import PassiveAggressiveClassifier\n",
    "from sklearn.linear_model import RidgeClassifier\n",
    "from sklearn.linear_model import LogisticRegression\n",
    "from sklearn.naive_bayes import BernoulliNB, MultinomialNB\n",
    "from sklearn.neighbors import KNeighborsClassifier\n",
    "from sklearn.neighbors import NearestCentroid\n",
    "from sklearn.ensemble import RandomForestClassifier\n",
    "from sklearn.ensemble import VotingClassifier\n",
    "from sklearn.pipeline import Pipeline\n",
    "from sklearn.svm import LinearSVC\n",
    "from sklearn.utils.extmath import density\n",
    "from sklearn import metrics\n",
    "from sklearn.externals import joblib\n",
    "from sklearn.model_selection import cross_val_predict\n",
    "from sklearn import linear_model\n",
    "import matplotlib.pyplot as plt\n",
    "import math\n",
    "%matplotlib inline"
   ]
  },
  {
   "cell_type": "code",
   "execution_count": 3,
   "metadata": {
    "collapsed": true
   },
   "outputs": [],
   "source": [
    "train_df = pd.read_csv('data/mercari/train.tsv', sep='\\t')\n",
    "test_df = pd.read_csv('data/mercari/test.tsv', sep='\\t')"
   ]
  },
  {
   "cell_type": "code",
   "execution_count": 4,
   "metadata": {},
   "outputs": [
    {
     "data": {
      "text/html": [
       "<div>\n",
       "<table border=\"1\" class=\"dataframe\">\n",
       "  <thead>\n",
       "    <tr style=\"text-align: right;\">\n",
       "      <th></th>\n",
       "      <th>train_id</th>\n",
       "      <th>item_condition_id</th>\n",
       "      <th>price</th>\n",
       "      <th>shipping</th>\n",
       "    </tr>\n",
       "  </thead>\n",
       "  <tbody>\n",
       "    <tr>\n",
       "      <th>count</th>\n",
       "      <td>1.482535e+06</td>\n",
       "      <td>1.482535e+06</td>\n",
       "      <td>1.482535e+06</td>\n",
       "      <td>1.482535e+06</td>\n",
       "    </tr>\n",
       "    <tr>\n",
       "      <th>mean</th>\n",
       "      <td>7.412670e+05</td>\n",
       "      <td>1.907380e+00</td>\n",
       "      <td>2.673752e+01</td>\n",
       "      <td>4.472744e-01</td>\n",
       "    </tr>\n",
       "    <tr>\n",
       "      <th>std</th>\n",
       "      <td>4.279711e+05</td>\n",
       "      <td>9.031586e-01</td>\n",
       "      <td>3.858607e+01</td>\n",
       "      <td>4.972124e-01</td>\n",
       "    </tr>\n",
       "    <tr>\n",
       "      <th>min</th>\n",
       "      <td>0.000000e+00</td>\n",
       "      <td>1.000000e+00</td>\n",
       "      <td>0.000000e+00</td>\n",
       "      <td>0.000000e+00</td>\n",
       "    </tr>\n",
       "    <tr>\n",
       "      <th>25%</th>\n",
       "      <td>3.706335e+05</td>\n",
       "      <td>1.000000e+00</td>\n",
       "      <td>1.000000e+01</td>\n",
       "      <td>0.000000e+00</td>\n",
       "    </tr>\n",
       "    <tr>\n",
       "      <th>50%</th>\n",
       "      <td>7.412670e+05</td>\n",
       "      <td>2.000000e+00</td>\n",
       "      <td>1.700000e+01</td>\n",
       "      <td>0.000000e+00</td>\n",
       "    </tr>\n",
       "    <tr>\n",
       "      <th>75%</th>\n",
       "      <td>1.111900e+06</td>\n",
       "      <td>3.000000e+00</td>\n",
       "      <td>2.900000e+01</td>\n",
       "      <td>1.000000e+00</td>\n",
       "    </tr>\n",
       "    <tr>\n",
       "      <th>max</th>\n",
       "      <td>1.482534e+06</td>\n",
       "      <td>5.000000e+00</td>\n",
       "      <td>2.009000e+03</td>\n",
       "      <td>1.000000e+00</td>\n",
       "    </tr>\n",
       "  </tbody>\n",
       "</table>\n",
       "</div>"
      ],
      "text/plain": [
       "           train_id  item_condition_id         price      shipping\n",
       "count  1.482535e+06       1.482535e+06  1.482535e+06  1.482535e+06\n",
       "mean   7.412670e+05       1.907380e+00  2.673752e+01  4.472744e-01\n",
       "std    4.279711e+05       9.031586e-01  3.858607e+01  4.972124e-01\n",
       "min    0.000000e+00       1.000000e+00  0.000000e+00  0.000000e+00\n",
       "25%    3.706335e+05       1.000000e+00  1.000000e+01  0.000000e+00\n",
       "50%    7.412670e+05       2.000000e+00  1.700000e+01  0.000000e+00\n",
       "75%    1.111900e+06       3.000000e+00  2.900000e+01  1.000000e+00\n",
       "max    1.482534e+06       5.000000e+00  2.009000e+03  1.000000e+00"
      ]
     },
     "execution_count": 4,
     "metadata": {},
     "output_type": "execute_result"
    }
   ],
   "source": [
    "train_df.describe()"
   ]
  },
  {
   "cell_type": "code",
   "execution_count": 5,
   "metadata": {},
   "outputs": [
    {
     "data": {
      "text/plain": [
       "(1482535, 8)"
      ]
     },
     "execution_count": 5,
     "metadata": {},
     "output_type": "execute_result"
    }
   ],
   "source": [
    "train_df.shape"
   ]
  },
  {
   "cell_type": "code",
   "execution_count": 6,
   "metadata": {
    "scrolled": true
   },
   "outputs": [
    {
     "data": {
      "text/html": [
       "<div>\n",
       "<table border=\"1\" class=\"dataframe\">\n",
       "  <thead>\n",
       "    <tr style=\"text-align: right;\">\n",
       "      <th></th>\n",
       "      <th>train_id</th>\n",
       "      <th>name</th>\n",
       "      <th>item_condition_id</th>\n",
       "      <th>category_name</th>\n",
       "      <th>brand_name</th>\n",
       "      <th>price</th>\n",
       "      <th>shipping</th>\n",
       "      <th>item_description</th>\n",
       "    </tr>\n",
       "  </thead>\n",
       "  <tbody>\n",
       "    <tr>\n",
       "      <th>0</th>\n",
       "      <td>0</td>\n",
       "      <td>MLB Cincinnati Reds T Shirt Size XL</td>\n",
       "      <td>3</td>\n",
       "      <td>Men/Tops/T-shirts</td>\n",
       "      <td>NaN</td>\n",
       "      <td>10.0</td>\n",
       "      <td>1</td>\n",
       "      <td>No description yet</td>\n",
       "    </tr>\n",
       "    <tr>\n",
       "      <th>1</th>\n",
       "      <td>1</td>\n",
       "      <td>Razer BlackWidow Chroma Keyboard</td>\n",
       "      <td>3</td>\n",
       "      <td>Electronics/Computers &amp; Tablets/Components &amp; P...</td>\n",
       "      <td>Razer</td>\n",
       "      <td>52.0</td>\n",
       "      <td>0</td>\n",
       "      <td>This keyboard is in great condition and works ...</td>\n",
       "    </tr>\n",
       "    <tr>\n",
       "      <th>2</th>\n",
       "      <td>2</td>\n",
       "      <td>AVA-VIV Blouse</td>\n",
       "      <td>1</td>\n",
       "      <td>Women/Tops &amp; Blouses/Blouse</td>\n",
       "      <td>Target</td>\n",
       "      <td>10.0</td>\n",
       "      <td>1</td>\n",
       "      <td>Adorable top with a hint of lace and a key hol...</td>\n",
       "    </tr>\n",
       "    <tr>\n",
       "      <th>3</th>\n",
       "      <td>3</td>\n",
       "      <td>Leather Horse Statues</td>\n",
       "      <td>1</td>\n",
       "      <td>Home/Home Décor/Home Décor Accents</td>\n",
       "      <td>NaN</td>\n",
       "      <td>35.0</td>\n",
       "      <td>1</td>\n",
       "      <td>New with tags. Leather horses. Retail for [rm]...</td>\n",
       "    </tr>\n",
       "    <tr>\n",
       "      <th>4</th>\n",
       "      <td>4</td>\n",
       "      <td>24K GOLD plated rose</td>\n",
       "      <td>1</td>\n",
       "      <td>Women/Jewelry/Necklaces</td>\n",
       "      <td>NaN</td>\n",
       "      <td>44.0</td>\n",
       "      <td>0</td>\n",
       "      <td>Complete with certificate of authenticity</td>\n",
       "    </tr>\n",
       "  </tbody>\n",
       "</table>\n",
       "</div>"
      ],
      "text/plain": [
       "   train_id                                 name  item_condition_id  \\\n",
       "0         0  MLB Cincinnati Reds T Shirt Size XL                  3   \n",
       "1         1     Razer BlackWidow Chroma Keyboard                  3   \n",
       "2         2                       AVA-VIV Blouse                  1   \n",
       "3         3                Leather Horse Statues                  1   \n",
       "4         4                 24K GOLD plated rose                  1   \n",
       "\n",
       "                                       category_name brand_name  price  \\\n",
       "0                                  Men/Tops/T-shirts        NaN   10.0   \n",
       "1  Electronics/Computers & Tablets/Components & P...      Razer   52.0   \n",
       "2                        Women/Tops & Blouses/Blouse     Target   10.0   \n",
       "3                 Home/Home Décor/Home Décor Accents        NaN   35.0   \n",
       "4                            Women/Jewelry/Necklaces        NaN   44.0   \n",
       "\n",
       "   shipping                                   item_description  \n",
       "0         1                                 No description yet  \n",
       "1         0  This keyboard is in great condition and works ...  \n",
       "2         1  Adorable top with a hint of lace and a key hol...  \n",
       "3         1  New with tags. Leather horses. Retail for [rm]...  \n",
       "4         0          Complete with certificate of authenticity  "
      ]
     },
     "execution_count": 6,
     "metadata": {},
     "output_type": "execute_result"
    }
   ],
   "source": [
    "train_df.head()"
   ]
  },
  {
   "cell_type": "code",
   "execution_count": 7,
   "metadata": {},
   "outputs": [
    {
     "name": "stdout",
     "output_type": "stream",
     "text": [
      "Train columns with null values:\n",
      " train_id                  0\n",
      "name                      0\n",
      "item_condition_id         0\n",
      "category_name          6327\n",
      "brand_name           632682\n",
      "price                     0\n",
      "shipping                  0\n",
      "item_description          4\n",
      "dtype: int64\n",
      "----------\n",
      "Test/Validation columns with null values:\n",
      " test_id                   0\n",
      "name                      0\n",
      "item_condition_id         0\n",
      "category_name          3058\n",
      "brand_name           295525\n",
      "shipping                  0\n",
      "item_description          0\n",
      "dtype: int64\n",
      "----------\n"
     ]
    },
    {
     "data": {
      "text/html": [
       "<div>\n",
       "<table border=\"1\" class=\"dataframe\">\n",
       "  <thead>\n",
       "    <tr style=\"text-align: right;\">\n",
       "      <th></th>\n",
       "      <th>train_id</th>\n",
       "      <th>name</th>\n",
       "      <th>item_condition_id</th>\n",
       "      <th>category_name</th>\n",
       "      <th>brand_name</th>\n",
       "      <th>price</th>\n",
       "      <th>shipping</th>\n",
       "      <th>item_description</th>\n",
       "    </tr>\n",
       "  </thead>\n",
       "  <tbody>\n",
       "    <tr>\n",
       "      <th>count</th>\n",
       "      <td>1.482535e+06</td>\n",
       "      <td>1482535</td>\n",
       "      <td>1.482535e+06</td>\n",
       "      <td>1476208</td>\n",
       "      <td>849853</td>\n",
       "      <td>1.482535e+06</td>\n",
       "      <td>1.482535e+06</td>\n",
       "      <td>1482531</td>\n",
       "    </tr>\n",
       "    <tr>\n",
       "      <th>unique</th>\n",
       "      <td>NaN</td>\n",
       "      <td>1225273</td>\n",
       "      <td>NaN</td>\n",
       "      <td>1287</td>\n",
       "      <td>4809</td>\n",
       "      <td>NaN</td>\n",
       "      <td>NaN</td>\n",
       "      <td>1281426</td>\n",
       "    </tr>\n",
       "    <tr>\n",
       "      <th>top</th>\n",
       "      <td>NaN</td>\n",
       "      <td>Bundle</td>\n",
       "      <td>NaN</td>\n",
       "      <td>Women/Athletic Apparel/Pants, Tights, Leggings</td>\n",
       "      <td>PINK</td>\n",
       "      <td>NaN</td>\n",
       "      <td>NaN</td>\n",
       "      <td>No description yet</td>\n",
       "    </tr>\n",
       "    <tr>\n",
       "      <th>freq</th>\n",
       "      <td>NaN</td>\n",
       "      <td>2232</td>\n",
       "      <td>NaN</td>\n",
       "      <td>60177</td>\n",
       "      <td>54088</td>\n",
       "      <td>NaN</td>\n",
       "      <td>NaN</td>\n",
       "      <td>82489</td>\n",
       "    </tr>\n",
       "    <tr>\n",
       "      <th>mean</th>\n",
       "      <td>7.412670e+05</td>\n",
       "      <td>NaN</td>\n",
       "      <td>1.907380e+00</td>\n",
       "      <td>NaN</td>\n",
       "      <td>NaN</td>\n",
       "      <td>2.673752e+01</td>\n",
       "      <td>4.472744e-01</td>\n",
       "      <td>NaN</td>\n",
       "    </tr>\n",
       "    <tr>\n",
       "      <th>std</th>\n",
       "      <td>4.279711e+05</td>\n",
       "      <td>NaN</td>\n",
       "      <td>9.031586e-01</td>\n",
       "      <td>NaN</td>\n",
       "      <td>NaN</td>\n",
       "      <td>3.858607e+01</td>\n",
       "      <td>4.972124e-01</td>\n",
       "      <td>NaN</td>\n",
       "    </tr>\n",
       "    <tr>\n",
       "      <th>min</th>\n",
       "      <td>0.000000e+00</td>\n",
       "      <td>NaN</td>\n",
       "      <td>1.000000e+00</td>\n",
       "      <td>NaN</td>\n",
       "      <td>NaN</td>\n",
       "      <td>0.000000e+00</td>\n",
       "      <td>0.000000e+00</td>\n",
       "      <td>NaN</td>\n",
       "    </tr>\n",
       "    <tr>\n",
       "      <th>25%</th>\n",
       "      <td>3.706335e+05</td>\n",
       "      <td>NaN</td>\n",
       "      <td>1.000000e+00</td>\n",
       "      <td>NaN</td>\n",
       "      <td>NaN</td>\n",
       "      <td>1.000000e+01</td>\n",
       "      <td>0.000000e+00</td>\n",
       "      <td>NaN</td>\n",
       "    </tr>\n",
       "    <tr>\n",
       "      <th>50%</th>\n",
       "      <td>7.412670e+05</td>\n",
       "      <td>NaN</td>\n",
       "      <td>2.000000e+00</td>\n",
       "      <td>NaN</td>\n",
       "      <td>NaN</td>\n",
       "      <td>1.700000e+01</td>\n",
       "      <td>0.000000e+00</td>\n",
       "      <td>NaN</td>\n",
       "    </tr>\n",
       "    <tr>\n",
       "      <th>75%</th>\n",
       "      <td>1.111900e+06</td>\n",
       "      <td>NaN</td>\n",
       "      <td>3.000000e+00</td>\n",
       "      <td>NaN</td>\n",
       "      <td>NaN</td>\n",
       "      <td>2.900000e+01</td>\n",
       "      <td>1.000000e+00</td>\n",
       "      <td>NaN</td>\n",
       "    </tr>\n",
       "    <tr>\n",
       "      <th>max</th>\n",
       "      <td>1.482534e+06</td>\n",
       "      <td>NaN</td>\n",
       "      <td>5.000000e+00</td>\n",
       "      <td>NaN</td>\n",
       "      <td>NaN</td>\n",
       "      <td>2.009000e+03</td>\n",
       "      <td>1.000000e+00</td>\n",
       "      <td>NaN</td>\n",
       "    </tr>\n",
       "  </tbody>\n",
       "</table>\n",
       "</div>"
      ],
      "text/plain": [
       "            train_id     name  item_condition_id  \\\n",
       "count   1.482535e+06  1482535       1.482535e+06   \n",
       "unique           NaN  1225273                NaN   \n",
       "top              NaN   Bundle                NaN   \n",
       "freq             NaN     2232                NaN   \n",
       "mean    7.412670e+05      NaN       1.907380e+00   \n",
       "std     4.279711e+05      NaN       9.031586e-01   \n",
       "min     0.000000e+00      NaN       1.000000e+00   \n",
       "25%     3.706335e+05      NaN       1.000000e+00   \n",
       "50%     7.412670e+05      NaN       2.000000e+00   \n",
       "75%     1.111900e+06      NaN       3.000000e+00   \n",
       "max     1.482534e+06      NaN       5.000000e+00   \n",
       "\n",
       "                                         category_name brand_name  \\\n",
       "count                                          1476208     849853   \n",
       "unique                                            1287       4809   \n",
       "top     Women/Athletic Apparel/Pants, Tights, Leggings       PINK   \n",
       "freq                                             60177      54088   \n",
       "mean                                               NaN        NaN   \n",
       "std                                                NaN        NaN   \n",
       "min                                                NaN        NaN   \n",
       "25%                                                NaN        NaN   \n",
       "50%                                                NaN        NaN   \n",
       "75%                                                NaN        NaN   \n",
       "max                                                NaN        NaN   \n",
       "\n",
       "               price      shipping    item_description  \n",
       "count   1.482535e+06  1.482535e+06             1482531  \n",
       "unique           NaN           NaN             1281426  \n",
       "top              NaN           NaN  No description yet  \n",
       "freq             NaN           NaN               82489  \n",
       "mean    2.673752e+01  4.472744e-01                 NaN  \n",
       "std     3.858607e+01  4.972124e-01                 NaN  \n",
       "min     0.000000e+00  0.000000e+00                 NaN  \n",
       "25%     1.000000e+01  0.000000e+00                 NaN  \n",
       "50%     1.700000e+01  0.000000e+00                 NaN  \n",
       "75%     2.900000e+01  1.000000e+00                 NaN  \n",
       "max     2.009000e+03  1.000000e+00                 NaN  "
      ]
     },
     "execution_count": 7,
     "metadata": {},
     "output_type": "execute_result"
    }
   ],
   "source": [
    "print('Train columns with null values:\\n', train_df.isnull().sum())\n",
    "print(\"-\"*10)\n",
    "\n",
    "print('Test/Validation columns with null values:\\n', test_df.isnull().sum())\n",
    "print(\"-\"*10)\n",
    "\n",
    "train_df.describe(include = 'all')"
   ]
  },
  {
   "cell_type": "markdown",
   "metadata": {},
   "source": [
    "Calculate how much of the brand names are not there."
   ]
  },
  {
   "cell_type": "code",
   "execution_count": 8,
   "metadata": {},
   "outputs": [
    {
     "name": "stdout",
     "output_type": "stream",
     "text": [
      "0.4267568725190299\n"
     ]
    }
   ],
   "source": [
    "print(632682/train_df.shape[0])"
   ]
  },
  {
   "cell_type": "markdown",
   "metadata": {},
   "source": [
    "Around 50% is not there hence we should probably not consider this."
   ]
  },
  {
   "cell_type": "code",
   "execution_count": 9,
   "metadata": {
    "collapsed": true
   },
   "outputs": [],
   "source": [
    "train_df = train_df.drop(['brand_name'], axis=1)\n",
    "test_df = test_df.drop(['brand_name'], axis=1)"
   ]
  },
  {
   "cell_type": "markdown",
   "metadata": {},
   "source": [
    "# categories"
   ]
  },
  {
   "cell_type": "markdown",
   "metadata": {},
   "source": [
    "We need to check how many categories there are"
   ]
  },
  {
   "cell_type": "code",
   "execution_count": 10,
   "metadata": {
    "collapsed": true
   },
   "outputs": [],
   "source": [
    "# Merge the two dataframes\n",
    "frames = [train_df, test_df]\n",
    "combined_df = pd.concat(frames)"
   ]
  },
  {
   "cell_type": "code",
   "execution_count": 11,
   "metadata": {
    "collapsed": true
   },
   "outputs": [],
   "source": [
    "combined_cat_df = combined_df['category_name']\n",
    "def split_cat(text):\n",
    "    try: return text.split(\"/\")\n",
    "    except: pass\n",
    "\n",
    "combined_cat_df = combined_cat_df.apply(lambda x: split_cat(x))"
   ]
  },
  {
   "cell_type": "code",
   "execution_count": 12,
   "metadata": {
    "collapsed": true
   },
   "outputs": [],
   "source": [
    "def no_of_cats(cat_list):\n",
    "    try: return len(cat_list)\n",
    "    except: return 0\n",
    "    \n",
    "no_of_cats = pd.DataFrame(combined_cat_df.apply(lambda x: no_of_cats(x)))"
   ]
  },
  {
   "cell_type": "code",
   "execution_count": 13,
   "metadata": {},
   "outputs": [
    {
     "name": "stdout",
     "output_type": "stream",
     "text": [
      "239\n",
      "there are a maximum of 5 categories and this is happened in row:\n"
     ]
    },
    {
     "data": {
      "text/html": [
       "<div>\n",
       "<table border=\"1\" class=\"dataframe\">\n",
       "  <thead>\n",
       "    <tr style=\"text-align: right;\">\n",
       "      <th></th>\n",
       "      <th>category_name</th>\n",
       "      <th>item_condition_id</th>\n",
       "      <th>item_description</th>\n",
       "      <th>name</th>\n",
       "      <th>price</th>\n",
       "      <th>shipping</th>\n",
       "      <th>test_id</th>\n",
       "      <th>train_id</th>\n",
       "    </tr>\n",
       "  </thead>\n",
       "  <tbody>\n",
       "    <tr>\n",
       "      <th>239</th>\n",
       "      <td>Electronics/Computers &amp; Tablets/iPad/Tablet/eB...</td>\n",
       "      <td>1</td>\n",
       "      <td>Zag invisible shield for IPad air</td>\n",
       "      <td>Zagg invisible shield for IPad air</td>\n",
       "      <td>10.0</td>\n",
       "      <td>1</td>\n",
       "      <td>NaN</td>\n",
       "      <td>239.0</td>\n",
       "    </tr>\n",
       "  </tbody>\n",
       "</table>\n",
       "</div>"
      ],
      "text/plain": [
       "                                         category_name  item_condition_id  \\\n",
       "239  Electronics/Computers & Tablets/iPad/Tablet/eB...                  1   \n",
       "\n",
       "                      item_description                                name  \\\n",
       "239  Zag invisible shield for IPad air  Zagg invisible shield for IPad air   \n",
       "\n",
       "     price  shipping  test_id  train_id  \n",
       "239   10.0         1      NaN     239.0  "
      ]
     },
     "execution_count": 13,
     "metadata": {},
     "output_type": "execute_result"
    }
   ],
   "source": [
    "# no_of_cats['category_name'].max(axis=1)\n",
    "index_whr_max_categories = no_of_cats['category_name'].argmax()\n",
    "print(index_whr_max_categories)\n",
    "max_num_of_categories = len(split_cat(combined_df.iloc[[index_whr_max_categories]]['category_name'].tolist()[0]))\n",
    "print('there are a maximum of {} categories and this is happened in row:'.format(max_num_of_categories))\n",
    "combined_df.iloc[[index_whr_max_categories]]"
   ]
  },
  {
   "cell_type": "code",
   "execution_count": 14,
   "metadata": {
    "collapsed": true
   },
   "outputs": [],
   "source": [
    "def split_cat(text, max_num_of_categories):\n",
    "    return_val = [\"None\"] * max_num_of_categories\n",
    "    try:\n",
    "        text_list = text.split(\"/\") + return_val\n",
    "        return text_list[:max_num_of_categories]\n",
    "    except:\n",
    "        return return_val"
   ]
  },
  {
   "cell_type": "markdown",
   "metadata": {},
   "source": [
    "Change the category name for train and test and total dataframes"
   ]
  },
  {
   "cell_type": "code",
   "execution_count": 15,
   "metadata": {
    "collapsed": true
   },
   "outputs": [],
   "source": [
    "train_df['category_name'] = train_df['category_name'].apply(lambda x: split_cat(x, max_num_of_categories))\n",
    "test_df['category_name'] = test_df['category_name'].apply(lambda x: split_cat(x, max_num_of_categories))\n",
    "combined_df['category_name'] = combined_df['category_name'].apply(lambda x: split_cat(x, max_num_of_categories))"
   ]
  },
  {
   "cell_type": "code",
   "execution_count": 16,
   "metadata": {},
   "outputs": [
    {
     "data": {
      "text/html": [
       "<div>\n",
       "<table border=\"1\" class=\"dataframe\">\n",
       "  <thead>\n",
       "    <tr style=\"text-align: right;\">\n",
       "      <th></th>\n",
       "      <th>train_id</th>\n",
       "      <th>name</th>\n",
       "      <th>item_condition_id</th>\n",
       "      <th>category_name</th>\n",
       "      <th>price</th>\n",
       "      <th>shipping</th>\n",
       "      <th>item_description</th>\n",
       "    </tr>\n",
       "  </thead>\n",
       "  <tbody>\n",
       "    <tr>\n",
       "      <th>0</th>\n",
       "      <td>0</td>\n",
       "      <td>MLB Cincinnati Reds T Shirt Size XL</td>\n",
       "      <td>3</td>\n",
       "      <td>[Men, Tops, T-shirts, None, None]</td>\n",
       "      <td>10.0</td>\n",
       "      <td>1</td>\n",
       "      <td>No description yet</td>\n",
       "    </tr>\n",
       "    <tr>\n",
       "      <th>1</th>\n",
       "      <td>1</td>\n",
       "      <td>Razer BlackWidow Chroma Keyboard</td>\n",
       "      <td>3</td>\n",
       "      <td>[Electronics, Computers &amp; Tablets, Components ...</td>\n",
       "      <td>52.0</td>\n",
       "      <td>0</td>\n",
       "      <td>This keyboard is in great condition and works ...</td>\n",
       "    </tr>\n",
       "    <tr>\n",
       "      <th>2</th>\n",
       "      <td>2</td>\n",
       "      <td>AVA-VIV Blouse</td>\n",
       "      <td>1</td>\n",
       "      <td>[Women, Tops &amp; Blouses, Blouse, None, None]</td>\n",
       "      <td>10.0</td>\n",
       "      <td>1</td>\n",
       "      <td>Adorable top with a hint of lace and a key hol...</td>\n",
       "    </tr>\n",
       "    <tr>\n",
       "      <th>3</th>\n",
       "      <td>3</td>\n",
       "      <td>Leather Horse Statues</td>\n",
       "      <td>1</td>\n",
       "      <td>[Home, Home Décor, Home Décor Accents, None, N...</td>\n",
       "      <td>35.0</td>\n",
       "      <td>1</td>\n",
       "      <td>New with tags. Leather horses. Retail for [rm]...</td>\n",
       "    </tr>\n",
       "    <tr>\n",
       "      <th>4</th>\n",
       "      <td>4</td>\n",
       "      <td>24K GOLD plated rose</td>\n",
       "      <td>1</td>\n",
       "      <td>[Women, Jewelry, Necklaces, None, None]</td>\n",
       "      <td>44.0</td>\n",
       "      <td>0</td>\n",
       "      <td>Complete with certificate of authenticity</td>\n",
       "    </tr>\n",
       "  </tbody>\n",
       "</table>\n",
       "</div>"
      ],
      "text/plain": [
       "   train_id                                 name  item_condition_id  \\\n",
       "0         0  MLB Cincinnati Reds T Shirt Size XL                  3   \n",
       "1         1     Razer BlackWidow Chroma Keyboard                  3   \n",
       "2         2                       AVA-VIV Blouse                  1   \n",
       "3         3                Leather Horse Statues                  1   \n",
       "4         4                 24K GOLD plated rose                  1   \n",
       "\n",
       "                                       category_name  price  shipping  \\\n",
       "0                  [Men, Tops, T-shirts, None, None]   10.0         1   \n",
       "1  [Electronics, Computers & Tablets, Components ...   52.0         0   \n",
       "2        [Women, Tops & Blouses, Blouse, None, None]   10.0         1   \n",
       "3  [Home, Home Décor, Home Décor Accents, None, N...   35.0         1   \n",
       "4            [Women, Jewelry, Necklaces, None, None]   44.0         0   \n",
       "\n",
       "                                    item_description  \n",
       "0                                 No description yet  \n",
       "1  This keyboard is in great condition and works ...  \n",
       "2  Adorable top with a hint of lace and a key hol...  \n",
       "3  New with tags. Leather horses. Retail for [rm]...  \n",
       "4          Complete with certificate of authenticity  "
      ]
     },
     "execution_count": 16,
     "metadata": {},
     "output_type": "execute_result"
    }
   ],
   "source": [
    "train_df.head()"
   ]
  },
  {
   "cell_type": "markdown",
   "metadata": {},
   "source": [
    "now we know that there are 5 categories so we will try to find the unknown ones category per category. so we will make predictions based on the 5 categories"
   ]
  },
  {
   "cell_type": "markdown",
   "metadata": {},
   "source": [
    "### Running category encoding on the first category"
   ]
  },
  {
   "cell_type": "code",
   "execution_count": 17,
   "metadata": {
    "collapsed": true
   },
   "outputs": [],
   "source": [
    "combined_cat1_list = [x[0] for x in combined_df['category_name'].tolist()]\n",
    "combined_cat1_list = [x for x in combined_cat1_list if not x == 'None']"
   ]
  },
  {
   "cell_type": "code",
   "execution_count": 18,
   "metadata": {},
   "outputs": [
    {
     "data": {
      "text/plain": [
       "LabelEncoder()"
      ]
     },
     "execution_count": 18,
     "metadata": {},
     "output_type": "execute_result"
    }
   ],
   "source": [
    "cat1_le = LabelEncoder()\n",
    "cat1_le.fit(combined_cat1_list)"
   ]
  },
  {
   "cell_type": "code",
   "execution_count": 19,
   "metadata": {},
   "outputs": [
    {
     "data": {
      "text/plain": [
       "array([5, 1, 9, 3, 9])"
      ]
     },
     "execution_count": 19,
     "metadata": {},
     "output_type": "execute_result"
    }
   ],
   "source": [
    "cat1_le.transform(['Men', 'Electronics', 'Women', 'Home', 'Women'])"
   ]
  },
  {
   "cell_type": "code",
   "execution_count": 20,
   "metadata": {},
   "outputs": [
    {
     "data": {
      "text/plain": [
       "array(['Men', 'Electronics', 'Women', 'Home', 'Women'], \n",
       "      dtype='<U22')"
      ]
     },
     "execution_count": 20,
     "metadata": {},
     "output_type": "execute_result"
    }
   ],
   "source": [
    "cat1_le.inverse_transform([5, 1, 9, 3, 9])"
   ]
  },
  {
   "cell_type": "markdown",
   "metadata": {},
   "source": [
    "Thus we are able to build a label encoder state space for the first category"
   ]
  },
  {
   "cell_type": "code",
   "execution_count": 21,
   "metadata": {
    "collapsed": true
   },
   "outputs": [],
   "source": [
    "def convert_catname_cat1(le, catlist):\n",
    "    try:\n",
    "        return le.transform(catlist[:1])[0]\n",
    "    except:\n",
    "        return np.nan"
   ]
  },
  {
   "cell_type": "code",
   "execution_count": 22,
   "metadata": {},
   "outputs": [
    {
     "name": "stdout",
     "output_type": "stream",
     "text": [
      "transform category name to first category as defined by the label encoding space for training set\n"
     ]
    },
    {
     "data": {
      "text/html": [
       "<div>\n",
       "<table border=\"1\" class=\"dataframe\">\n",
       "  <thead>\n",
       "    <tr style=\"text-align: right;\">\n",
       "      <th></th>\n",
       "      <th>train_id</th>\n",
       "      <th>name</th>\n",
       "      <th>item_condition_id</th>\n",
       "      <th>category_name</th>\n",
       "      <th>price</th>\n",
       "      <th>shipping</th>\n",
       "      <th>item_description</th>\n",
       "    </tr>\n",
       "  </thead>\n",
       "  <tbody>\n",
       "    <tr>\n",
       "      <th>0</th>\n",
       "      <td>0</td>\n",
       "      <td>MLB Cincinnati Reds T Shirt Size XL</td>\n",
       "      <td>3</td>\n",
       "      <td>5.0</td>\n",
       "      <td>10.0</td>\n",
       "      <td>1</td>\n",
       "      <td>No description yet</td>\n",
       "    </tr>\n",
       "    <tr>\n",
       "      <th>1</th>\n",
       "      <td>1</td>\n",
       "      <td>Razer BlackWidow Chroma Keyboard</td>\n",
       "      <td>3</td>\n",
       "      <td>1.0</td>\n",
       "      <td>52.0</td>\n",
       "      <td>0</td>\n",
       "      <td>This keyboard is in great condition and works ...</td>\n",
       "    </tr>\n",
       "    <tr>\n",
       "      <th>2</th>\n",
       "      <td>2</td>\n",
       "      <td>AVA-VIV Blouse</td>\n",
       "      <td>1</td>\n",
       "      <td>9.0</td>\n",
       "      <td>10.0</td>\n",
       "      <td>1</td>\n",
       "      <td>Adorable top with a hint of lace and a key hol...</td>\n",
       "    </tr>\n",
       "    <tr>\n",
       "      <th>3</th>\n",
       "      <td>3</td>\n",
       "      <td>Leather Horse Statues</td>\n",
       "      <td>1</td>\n",
       "      <td>3.0</td>\n",
       "      <td>35.0</td>\n",
       "      <td>1</td>\n",
       "      <td>New with tags. Leather horses. Retail for [rm]...</td>\n",
       "    </tr>\n",
       "    <tr>\n",
       "      <th>4</th>\n",
       "      <td>4</td>\n",
       "      <td>24K GOLD plated rose</td>\n",
       "      <td>1</td>\n",
       "      <td>9.0</td>\n",
       "      <td>44.0</td>\n",
       "      <td>0</td>\n",
       "      <td>Complete with certificate of authenticity</td>\n",
       "    </tr>\n",
       "  </tbody>\n",
       "</table>\n",
       "</div>"
      ],
      "text/plain": [
       "   train_id                                 name  item_condition_id  \\\n",
       "0         0  MLB Cincinnati Reds T Shirt Size XL                  3   \n",
       "1         1     Razer BlackWidow Chroma Keyboard                  3   \n",
       "2         2                       AVA-VIV Blouse                  1   \n",
       "3         3                Leather Horse Statues                  1   \n",
       "4         4                 24K GOLD plated rose                  1   \n",
       "\n",
       "   category_name  price  shipping  \\\n",
       "0            5.0   10.0         1   \n",
       "1            1.0   52.0         0   \n",
       "2            9.0   10.0         1   \n",
       "3            3.0   35.0         1   \n",
       "4            9.0   44.0         0   \n",
       "\n",
       "                                    item_description  \n",
       "0                                 No description yet  \n",
       "1  This keyboard is in great condition and works ...  \n",
       "2  Adorable top with a hint of lace and a key hol...  \n",
       "3  New with tags. Leather horses. Retail for [rm]...  \n",
       "4          Complete with certificate of authenticity  "
      ]
     },
     "execution_count": 22,
     "metadata": {},
     "output_type": "execute_result"
    }
   ],
   "source": [
    "print('transform category name to first category as defined by the label encoding space for training set')\n",
    "train_df['category_name'] = train_df['category_name'].apply(lambda x: convert_catname_cat1(cat1_le, x))\n",
    "train_df.head()"
   ]
  },
  {
   "cell_type": "code",
   "execution_count": 23,
   "metadata": {},
   "outputs": [
    {
     "name": "stdout",
     "output_type": "stream",
     "text": [
      "transform category name to first category as defined by the label encoding space for test set\n"
     ]
    },
    {
     "data": {
      "text/html": [
       "<div>\n",
       "<table border=\"1\" class=\"dataframe\">\n",
       "  <thead>\n",
       "    <tr style=\"text-align: right;\">\n",
       "      <th></th>\n",
       "      <th>test_id</th>\n",
       "      <th>name</th>\n",
       "      <th>item_condition_id</th>\n",
       "      <th>category_name</th>\n",
       "      <th>shipping</th>\n",
       "      <th>item_description</th>\n",
       "    </tr>\n",
       "  </thead>\n",
       "  <tbody>\n",
       "    <tr>\n",
       "      <th>0</th>\n",
       "      <td>0</td>\n",
       "      <td>Breast cancer \"I fight like a girl\" ring</td>\n",
       "      <td>1</td>\n",
       "      <td>9.0</td>\n",
       "      <td>1</td>\n",
       "      <td>Size 7</td>\n",
       "    </tr>\n",
       "    <tr>\n",
       "      <th>1</th>\n",
       "      <td>1</td>\n",
       "      <td>25 pcs NEW 7.5\"x12\" Kraft Bubble Mailers</td>\n",
       "      <td>1</td>\n",
       "      <td>6.0</td>\n",
       "      <td>1</td>\n",
       "      <td>25 pcs NEW 7.5\"x12\" Kraft Bubble Mailers Lined...</td>\n",
       "    </tr>\n",
       "    <tr>\n",
       "      <th>2</th>\n",
       "      <td>2</td>\n",
       "      <td>Coach bag</td>\n",
       "      <td>1</td>\n",
       "      <td>8.0</td>\n",
       "      <td>1</td>\n",
       "      <td>Brand new coach bag. Bought for [rm] at a Coac...</td>\n",
       "    </tr>\n",
       "    <tr>\n",
       "      <th>3</th>\n",
       "      <td>3</td>\n",
       "      <td>Floral Kimono</td>\n",
       "      <td>2</td>\n",
       "      <td>9.0</td>\n",
       "      <td>0</td>\n",
       "      <td>-floral kimono -never worn -lightweight and pe...</td>\n",
       "    </tr>\n",
       "    <tr>\n",
       "      <th>4</th>\n",
       "      <td>4</td>\n",
       "      <td>Life after Death</td>\n",
       "      <td>3</td>\n",
       "      <td>6.0</td>\n",
       "      <td>1</td>\n",
       "      <td>Rediscovering life after the loss of a loved o...</td>\n",
       "    </tr>\n",
       "  </tbody>\n",
       "</table>\n",
       "</div>"
      ],
      "text/plain": [
       "   test_id                                      name  item_condition_id  \\\n",
       "0        0  Breast cancer \"I fight like a girl\" ring                  1   \n",
       "1        1  25 pcs NEW 7.5\"x12\" Kraft Bubble Mailers                  1   \n",
       "2        2                                 Coach bag                  1   \n",
       "3        3                             Floral Kimono                  2   \n",
       "4        4                          Life after Death                  3   \n",
       "\n",
       "   category_name  shipping                                   item_description  \n",
       "0            9.0         1                                             Size 7  \n",
       "1            6.0         1  25 pcs NEW 7.5\"x12\" Kraft Bubble Mailers Lined...  \n",
       "2            8.0         1  Brand new coach bag. Bought for [rm] at a Coac...  \n",
       "3            9.0         0  -floral kimono -never worn -lightweight and pe...  \n",
       "4            6.0         1  Rediscovering life after the loss of a loved o...  "
      ]
     },
     "execution_count": 23,
     "metadata": {},
     "output_type": "execute_result"
    }
   ],
   "source": [
    "print('transform category name to first category as defined by the label encoding space for test set')\n",
    "test_df['category_name'] = test_df['category_name'].apply(lambda x: convert_catname_cat1(cat1_le, x))\n",
    "test_df.head()"
   ]
  },
  {
   "cell_type": "markdown",
   "metadata": {
    "collapsed": true
   },
   "source": [
    "There are some null values in item description so will need to make fill them."
   ]
  },
  {
   "cell_type": "code",
   "execution_count": 24,
   "metadata": {},
   "outputs": [
    {
     "name": "stdout",
     "output_type": "stream",
     "text": [
      "presently number of null values in train and test.\n",
      "4\n",
      "0\n"
     ]
    }
   ],
   "source": [
    "print('presently number of null values in train and test.')\n",
    "print(train_df['item_description'].isnull().sum())\n",
    "print(test_df['item_description'].isnull().sum())"
   ]
  },
  {
   "cell_type": "code",
   "execution_count": 25,
   "metadata": {},
   "outputs": [
    {
     "name": "stdout",
     "output_type": "stream",
     "text": [
      "Num of null values in item description is for training set is 0.\n",
      "Num of null values in item description is for test set is 0.\n",
      "Ideally this number should be 0.\n"
     ]
    }
   ],
   "source": [
    "train_df['item_description'] = train_df['item_description'].fillna(\"\")\n",
    "test_df['item_description'] = test_df['item_description'].fillna(\"\")\n",
    "print('Num of null values in item description is for training set is {}.'.format(train_df['item_description'].isnull().sum()))\n",
    "print('Num of null values in item description is for test set is {}.'.format(test_df['item_description'].isnull().sum()))\n",
    "print('Ideally this number should be 0.')"
   ]
  },
  {
   "cell_type": "code",
   "execution_count": 26,
   "metadata": {},
   "outputs": [
    {
     "data": {
      "text/html": [
       "<div>\n",
       "<table border=\"1\" class=\"dataframe\">\n",
       "  <thead>\n",
       "    <tr style=\"text-align: right;\">\n",
       "      <th></th>\n",
       "      <th>train_id</th>\n",
       "      <th>name</th>\n",
       "      <th>item_condition_id</th>\n",
       "      <th>category_name</th>\n",
       "      <th>price</th>\n",
       "      <th>shipping</th>\n",
       "      <th>item_description</th>\n",
       "    </tr>\n",
       "  </thead>\n",
       "  <tbody>\n",
       "    <tr>\n",
       "      <th>122</th>\n",
       "      <td>122</td>\n",
       "      <td>Bundle</td>\n",
       "      <td>3</td>\n",
       "      <td>NaN</td>\n",
       "      <td>59.0</td>\n",
       "      <td>0</td>\n",
       "      <td>Sizes and info of clothes can be found on thei...</td>\n",
       "    </tr>\n",
       "    <tr>\n",
       "      <th>155</th>\n",
       "      <td>155</td>\n",
       "      <td>3 Nora Roberts Books</td>\n",
       "      <td>3</td>\n",
       "      <td>NaN</td>\n",
       "      <td>10.0</td>\n",
       "      <td>1</td>\n",
       "      <td>For aferg16.</td>\n",
       "    </tr>\n",
       "    <tr>\n",
       "      <th>258</th>\n",
       "      <td>258</td>\n",
       "      <td>ACER Laptop</td>\n",
       "      <td>5</td>\n",
       "      <td>NaN</td>\n",
       "      <td>14.0</td>\n",
       "      <td>0</td>\n",
       "      <td>Powers on, no screen display, no external dama...</td>\n",
       "    </tr>\n",
       "    <tr>\n",
       "      <th>984</th>\n",
       "      <td>984</td>\n",
       "      <td>AUTHENTIC BRWN MICHAEL KORS MAKEUP STAIN</td>\n",
       "      <td>4</td>\n",
       "      <td>NaN</td>\n",
       "      <td>18.0</td>\n",
       "      <td>0</td>\n",
       "      <td>No description yet</td>\n",
       "    </tr>\n",
       "    <tr>\n",
       "      <th>1185</th>\n",
       "      <td>1185</td>\n",
       "      <td>Teenage Mutant Ninja Turtle Van/ Extras</td>\n",
       "      <td>3</td>\n",
       "      <td>NaN</td>\n",
       "      <td>9.0</td>\n",
       "      <td>0</td>\n",
       "      <td>Teenage Mutant Ninja Turtle Van, April O'Neil ...</td>\n",
       "    </tr>\n",
       "  </tbody>\n",
       "</table>\n",
       "</div>"
      ],
      "text/plain": [
       "      train_id                                      name  item_condition_id  \\\n",
       "122        122                                    Bundle                  3   \n",
       "155        155                      3 Nora Roberts Books                  3   \n",
       "258        258                               ACER Laptop                  5   \n",
       "984        984  AUTHENTIC BRWN MICHAEL KORS MAKEUP STAIN                  4   \n",
       "1185      1185   Teenage Mutant Ninja Turtle Van/ Extras                  3   \n",
       "\n",
       "      category_name  price  shipping  \\\n",
       "122             NaN   59.0         0   \n",
       "155             NaN   10.0         1   \n",
       "258             NaN   14.0         0   \n",
       "984             NaN   18.0         0   \n",
       "1185            NaN    9.0         0   \n",
       "\n",
       "                                       item_description  \n",
       "122   Sizes and info of clothes can be found on thei...  \n",
       "155                                        For aferg16.  \n",
       "258   Powers on, no screen display, no external dama...  \n",
       "984                                  No description yet  \n",
       "1185  Teenage Mutant Ninja Turtle Van, April O'Neil ...  "
      ]
     },
     "execution_count": 26,
     "metadata": {},
     "output_type": "execute_result"
    }
   ],
   "source": [
    "train_df[train_df.isnull().any(axis=1)].head()"
   ]
  },
  {
   "cell_type": "code",
   "execution_count": 27,
   "metadata": {},
   "outputs": [
    {
     "data": {
      "text/html": [
       "<div>\n",
       "<table border=\"1\" class=\"dataframe\">\n",
       "  <thead>\n",
       "    <tr style=\"text-align: right;\">\n",
       "      <th></th>\n",
       "      <th>test_id</th>\n",
       "      <th>name</th>\n",
       "      <th>item_condition_id</th>\n",
       "      <th>category_name</th>\n",
       "      <th>shipping</th>\n",
       "      <th>item_description</th>\n",
       "    </tr>\n",
       "  </thead>\n",
       "  <tbody>\n",
       "    <tr>\n",
       "      <th>217</th>\n",
       "      <td>217</td>\n",
       "      <td>Lularoe XS Carly Dress</td>\n",
       "      <td>3</td>\n",
       "      <td>NaN</td>\n",
       "      <td>0</td>\n",
       "      <td>XS Lularoe Carly Dress. Has peach tone color s...</td>\n",
       "    </tr>\n",
       "    <tr>\n",
       "      <th>555</th>\n",
       "      <td>555</td>\n",
       "      <td>Victoria's Secret VerySexy Touch Perfume</td>\n",
       "      <td>2</td>\n",
       "      <td>NaN</td>\n",
       "      <td>0</td>\n",
       "      <td>No description yet</td>\n",
       "    </tr>\n",
       "    <tr>\n",
       "      <th>702</th>\n",
       "      <td>702</td>\n",
       "      <td>Men's All Black Low Top Converse</td>\n",
       "      <td>3</td>\n",
       "      <td>NaN</td>\n",
       "      <td>0</td>\n",
       "      <td>Men's Converse, size 11, all black. They have ...</td>\n",
       "    </tr>\n",
       "    <tr>\n",
       "      <th>1110</th>\n",
       "      <td>1110</td>\n",
       "      <td>92 Polly Pocket Jewel Palace/Ice Kingdom</td>\n",
       "      <td>3</td>\n",
       "      <td>NaN</td>\n",
       "      <td>0</td>\n",
       "      <td>Set of 2. In good condition. Both are complete...</td>\n",
       "    </tr>\n",
       "    <tr>\n",
       "      <th>1476</th>\n",
       "      <td>1476</td>\n",
       "      <td>Bundle for Vanessa Wieseler</td>\n",
       "      <td>1</td>\n",
       "      <td>NaN</td>\n",
       "      <td>0</td>\n",
       "      <td>Avent Bottle Warmer Brand New Open Package [rm...</td>\n",
       "    </tr>\n",
       "  </tbody>\n",
       "</table>\n",
       "</div>"
      ],
      "text/plain": [
       "      test_id                                      name  item_condition_id  \\\n",
       "217       217                    Lularoe XS Carly Dress                  3   \n",
       "555       555  Victoria's Secret VerySexy Touch Perfume                  2   \n",
       "702       702          Men's All Black Low Top Converse                  3   \n",
       "1110     1110  92 Polly Pocket Jewel Palace/Ice Kingdom                  3   \n",
       "1476     1476               Bundle for Vanessa Wieseler                  1   \n",
       "\n",
       "      category_name  shipping  \\\n",
       "217             NaN         0   \n",
       "555             NaN         0   \n",
       "702             NaN         0   \n",
       "1110            NaN         0   \n",
       "1476            NaN         0   \n",
       "\n",
       "                                       item_description  \n",
       "217   XS Lularoe Carly Dress. Has peach tone color s...  \n",
       "555                                  No description yet  \n",
       "702   Men's Converse, size 11, all black. They have ...  \n",
       "1110  Set of 2. In good condition. Both are complete...  \n",
       "1476  Avent Bottle Warmer Brand New Open Package [rm...  "
      ]
     },
     "execution_count": 27,
     "metadata": {},
     "output_type": "execute_result"
    }
   ],
   "source": [
    "test_df[test_df.isnull().any(axis=1)].head()"
   ]
  },
  {
   "cell_type": "code",
   "execution_count": 28,
   "metadata": {},
   "outputs": [
    {
     "data": {
      "text/html": [
       "<div>\n",
       "<table border=\"1\" class=\"dataframe\">\n",
       "  <thead>\n",
       "    <tr style=\"text-align: right;\">\n",
       "      <th></th>\n",
       "      <th>train_id</th>\n",
       "      <th>name</th>\n",
       "      <th>item_condition_id</th>\n",
       "      <th>category_name</th>\n",
       "      <th>price</th>\n",
       "      <th>shipping</th>\n",
       "      <th>item_description</th>\n",
       "    </tr>\n",
       "  </thead>\n",
       "  <tbody>\n",
       "    <tr>\n",
       "      <th>161166</th>\n",
       "      <td>161166</td>\n",
       "      <td>iPhone</td>\n",
       "      <td>1</td>\n",
       "      <td>1.0</td>\n",
       "      <td>4.0</td>\n",
       "      <td>1</td>\n",
       "      <td>Luxury 360° Hybrid Acrylic Hard Case Original ...</td>\n",
       "    </tr>\n",
       "    <tr>\n",
       "      <th>331692</th>\n",
       "      <td>331692</td>\n",
       "      <td>iPhone</td>\n",
       "      <td>2</td>\n",
       "      <td>1.0</td>\n",
       "      <td>76.0</td>\n",
       "      <td>0</td>\n",
       "      <td>iCloud lock!!! Screen protector no scratches! ...</td>\n",
       "    </tr>\n",
       "    <tr>\n",
       "      <th>502203</th>\n",
       "      <td>502203</td>\n",
       "      <td>iPhone</td>\n",
       "      <td>3</td>\n",
       "      <td>1.0</td>\n",
       "      <td>26.0</td>\n",
       "      <td>1</td>\n",
       "      <td>No description yet</td>\n",
       "    </tr>\n",
       "    <tr>\n",
       "      <th>901734</th>\n",
       "      <td>901734</td>\n",
       "      <td>iPhone</td>\n",
       "      <td>1</td>\n",
       "      <td>1.0</td>\n",
       "      <td>17.0</td>\n",
       "      <td>1</td>\n",
       "      <td>Apple iPhone headphones for iPhones compatible...</td>\n",
       "    </tr>\n",
       "    <tr>\n",
       "      <th>968525</th>\n",
       "      <td>968525</td>\n",
       "      <td>iPhone</td>\n",
       "      <td>2</td>\n",
       "      <td>1.0</td>\n",
       "      <td>19.0</td>\n",
       "      <td>0</td>\n",
       "      <td>Two iPhone 4s they are locked so they are to b...</td>\n",
       "    </tr>\n",
       "    <tr>\n",
       "      <th>1198530</th>\n",
       "      <td>1198530</td>\n",
       "      <td>iPhone</td>\n",
       "      <td>2</td>\n",
       "      <td>1.0</td>\n",
       "      <td>116.0</td>\n",
       "      <td>0</td>\n",
       "      <td>iPhone 5c no cracks brand new unlocked (no SIM...</td>\n",
       "    </tr>\n",
       "    <tr>\n",
       "      <th>1220558</th>\n",
       "      <td>1220558</td>\n",
       "      <td>iPhone</td>\n",
       "      <td>4</td>\n",
       "      <td>1.0</td>\n",
       "      <td>16.0</td>\n",
       "      <td>1</td>\n",
       "      <td>iPhone 4 Cracked front Back up for sale, had i...</td>\n",
       "    </tr>\n",
       "    <tr>\n",
       "      <th>1385743</th>\n",
       "      <td>1385743</td>\n",
       "      <td>iPhone</td>\n",
       "      <td>4</td>\n",
       "      <td>1.0</td>\n",
       "      <td>20.0</td>\n",
       "      <td>1</td>\n",
       "      <td>It works won't turn on need a battery and new ...</td>\n",
       "    </tr>\n",
       "    <tr>\n",
       "      <th>1473558</th>\n",
       "      <td>1473558</td>\n",
       "      <td>iPhone</td>\n",
       "      <td>3</td>\n",
       "      <td>1.0</td>\n",
       "      <td>80.0</td>\n",
       "      <td>1</td>\n",
       "      <td>iPhone 6 model number A1586. Found never could...</td>\n",
       "    </tr>\n",
       "  </tbody>\n",
       "</table>\n",
       "</div>"
      ],
      "text/plain": [
       "         train_id    name  item_condition_id  category_name  price  shipping  \\\n",
       "161166     161166  iPhone                  1            1.0    4.0         1   \n",
       "331692     331692  iPhone                  2            1.0   76.0         0   \n",
       "502203     502203  iPhone                  3            1.0   26.0         1   \n",
       "901734     901734  iPhone                  1            1.0   17.0         1   \n",
       "968525     968525  iPhone                  2            1.0   19.0         0   \n",
       "1198530   1198530  iPhone                  2            1.0  116.0         0   \n",
       "1220558   1220558  iPhone                  4            1.0   16.0         1   \n",
       "1385743   1385743  iPhone                  4            1.0   20.0         1   \n",
       "1473558   1473558  iPhone                  3            1.0   80.0         1   \n",
       "\n",
       "                                          item_description  \n",
       "161166   Luxury 360° Hybrid Acrylic Hard Case Original ...  \n",
       "331692   iCloud lock!!! Screen protector no scratches! ...  \n",
       "502203                                  No description yet  \n",
       "901734   Apple iPhone headphones for iPhones compatible...  \n",
       "968525   Two iPhone 4s they are locked so they are to b...  \n",
       "1198530  iPhone 5c no cracks brand new unlocked (no SIM...  \n",
       "1220558  iPhone 4 Cracked front Back up for sale, had i...  \n",
       "1385743  It works won't turn on need a battery and new ...  \n",
       "1473558  iPhone 6 model number A1586. Found never could...  "
      ]
     },
     "execution_count": 28,
     "metadata": {},
     "output_type": "execute_result"
    }
   ],
   "source": [
    "value_list = ['iPhone']\n",
    "train_df[train_df.name.isin(value_list)]"
   ]
  },
  {
   "cell_type": "markdown",
   "metadata": {},
   "source": [
    "For the missing category names we should try to find some unsupervised learning so that some amount filling of the data should be present."
   ]
  },
  {
   "cell_type": "markdown",
   "metadata": {},
   "source": [
    "# Running NLP on the categories"
   ]
  },
  {
   "cell_type": "markdown",
   "metadata": {
    "collapsed": true
   },
   "source": [
    "We will first try to classify the documents and see if we can get some meaningful classification based on that."
   ]
  },
  {
   "cell_type": "markdown",
   "metadata": {},
   "source": [
    "Idea is to use only the name to predict the category name"
   ]
  },
  {
   "cell_type": "markdown",
   "metadata": {},
   "source": [
    "So we will drop all the remaining columns"
   ]
  },
  {
   "cell_type": "code",
   "execution_count": 29,
   "metadata": {},
   "outputs": [
    {
     "name": "stdout",
     "output_type": "stream",
     "text": [
      "['train_id', 'name', 'item_condition_id', 'category_name', 'price', 'shipping', 'item_description']\n"
     ]
    }
   ],
   "source": [
    "print(train_df.columns.tolist())"
   ]
  },
  {
   "cell_type": "code",
   "execution_count": 30,
   "metadata": {
    "collapsed": true
   },
   "outputs": [],
   "source": [
    "from copy import deepcopy\n",
    "category_df = deepcopy(train_df)"
   ]
  },
  {
   "cell_type": "code",
   "execution_count": 31,
   "metadata": {
    "collapsed": true
   },
   "outputs": [],
   "source": [
    "category_df = category_df.drop(['train_id', 'item_condition_id', 'price', 'shipping'], axis=1)"
   ]
  },
  {
   "cell_type": "code",
   "execution_count": 32,
   "metadata": {},
   "outputs": [
    {
     "data": {
      "text/html": [
       "<div>\n",
       "<table border=\"1\" class=\"dataframe\">\n",
       "  <thead>\n",
       "    <tr style=\"text-align: right;\">\n",
       "      <th></th>\n",
       "      <th>name</th>\n",
       "      <th>category_name</th>\n",
       "      <th>item_description</th>\n",
       "    </tr>\n",
       "  </thead>\n",
       "  <tbody>\n",
       "    <tr>\n",
       "      <th>1022186</th>\n",
       "      <td>Dc Multiverse &amp; Spiderman 2 Kevin Wong</td>\n",
       "      <td>4.0</td>\n",
       "      <td>Brand New Sealed</td>\n",
       "    </tr>\n",
       "    <tr>\n",
       "      <th>154202</th>\n",
       "      <td>Ergo carrier infant insert</td>\n",
       "      <td>4.0</td>\n",
       "      <td>This was used only a handful of times. We have...</td>\n",
       "    </tr>\n",
       "  </tbody>\n",
       "</table>\n",
       "</div>"
      ],
      "text/plain": [
       "                                           name  category_name  \\\n",
       "1022186  Dc Multiverse & Spiderman 2 Kevin Wong            4.0   \n",
       "154202               Ergo carrier infant insert            4.0   \n",
       "\n",
       "                                          item_description  \n",
       "1022186                                   Brand New Sealed  \n",
       "154202   This was used only a handful of times. We have...  "
      ]
     },
     "execution_count": 32,
     "metadata": {},
     "output_type": "execute_result"
    }
   ],
   "source": [
    "category_df.sample(2)"
   ]
  },
  {
   "cell_type": "code",
   "execution_count": 33,
   "metadata": {},
   "outputs": [
    {
     "name": "stdout",
     "output_type": "stream",
     "text": [
      "separated into predict, train and test\n",
      "(1482535, 3) (6327, 3) (1180966, 3) (295242, 3)\n",
      "1482535\n"
     ]
    }
   ],
   "source": [
    "predict_category_df = category_df[pd.isnull(category_df['category_name'])]\n",
    "train_test_categry_df = category_df[pd.notnull(category_df['category_name'])]\n",
    "train_categry_df, test_categry_df = train_test_split(train_test_categry_df, test_size=0.2, random_state=42)\n",
    "print('separated into predict, train and test')\n",
    "print(category_df.shape, predict_category_df.shape, train_categry_df.shape, test_categry_df.shape)\n",
    "print(predict_category_df.shape[0] + train_categry_df.shape[0] + test_categry_df.shape[0])"
   ]
  },
  {
   "cell_type": "code",
   "execution_count": 34,
   "metadata": {},
   "outputs": [
    {
     "data": {
      "text/html": [
       "<div>\n",
       "<table border=\"1\" class=\"dataframe\">\n",
       "  <thead>\n",
       "    <tr style=\"text-align: right;\">\n",
       "      <th></th>\n",
       "      <th>name</th>\n",
       "      <th>category_name</th>\n",
       "      <th>item_description</th>\n",
       "    </tr>\n",
       "  </thead>\n",
       "  <tbody>\n",
       "    <tr>\n",
       "      <th>122</th>\n",
       "      <td>Bundle</td>\n",
       "      <td>NaN</td>\n",
       "      <td>Sizes and info of clothes can be found on thei...</td>\n",
       "    </tr>\n",
       "    <tr>\n",
       "      <th>155</th>\n",
       "      <td>3 Nora Roberts Books</td>\n",
       "      <td>NaN</td>\n",
       "      <td>For aferg16.</td>\n",
       "    </tr>\n",
       "    <tr>\n",
       "      <th>258</th>\n",
       "      <td>ACER Laptop</td>\n",
       "      <td>NaN</td>\n",
       "      <td>Powers on, no screen display, no external dama...</td>\n",
       "    </tr>\n",
       "    <tr>\n",
       "      <th>984</th>\n",
       "      <td>AUTHENTIC BRWN MICHAEL KORS MAKEUP STAIN</td>\n",
       "      <td>NaN</td>\n",
       "      <td>No description yet</td>\n",
       "    </tr>\n",
       "    <tr>\n",
       "      <th>1185</th>\n",
       "      <td>Teenage Mutant Ninja Turtle Van/ Extras</td>\n",
       "      <td>NaN</td>\n",
       "      <td>Teenage Mutant Ninja Turtle Van, April O'Neil ...</td>\n",
       "    </tr>\n",
       "  </tbody>\n",
       "</table>\n",
       "</div>"
      ],
      "text/plain": [
       "                                          name  category_name  \\\n",
       "122                                     Bundle            NaN   \n",
       "155                       3 Nora Roberts Books            NaN   \n",
       "258                                ACER Laptop            NaN   \n",
       "984   AUTHENTIC BRWN MICHAEL KORS MAKEUP STAIN            NaN   \n",
       "1185   Teenage Mutant Ninja Turtle Van/ Extras            NaN   \n",
       "\n",
       "                                       item_description  \n",
       "122   Sizes and info of clothes can be found on thei...  \n",
       "155                                        For aferg16.  \n",
       "258   Powers on, no screen display, no external dama...  \n",
       "984                                  No description yet  \n",
       "1185  Teenage Mutant Ninja Turtle Van, April O'Neil ...  "
      ]
     },
     "execution_count": 34,
     "metadata": {},
     "output_type": "execute_result"
    }
   ],
   "source": [
    "predict_category_df.head()"
   ]
  },
  {
   "cell_type": "code",
   "execution_count": 35,
   "metadata": {},
   "outputs": [
    {
     "name": "stdout",
     "output_type": "stream",
     "text": [
      "separate to x and y\n",
      "(1180966, 2) (1180966, 1) (295242, 2) (295242, 1)\n"
     ]
    }
   ],
   "source": [
    "X_train_category_df = train_categry_df[['name', 'item_description']]\n",
    "y_train_category_df = train_categry_df[['category_name']]\n",
    "X_test_category_df = test_categry_df[['name', 'item_description']]\n",
    "y_test_category_df = test_categry_df[['category_name']]\n",
    "print('separate to x and y')\n",
    "print(X_train_category_df.shape, y_train_category_df.shape, X_test_category_df.shape, y_test_category_df.shape)"
   ]
  },
  {
   "cell_type": "code",
   "execution_count": 36,
   "metadata": {},
   "outputs": [
    {
     "data": {
      "text/html": [
       "<div>\n",
       "<table border=\"1\" class=\"dataframe\">\n",
       "  <thead>\n",
       "    <tr style=\"text-align: right;\">\n",
       "      <th></th>\n",
       "      <th>category_name</th>\n",
       "    </tr>\n",
       "  </thead>\n",
       "  <tbody>\n",
       "    <tr>\n",
       "      <th>943192</th>\n",
       "      <td>4.0</td>\n",
       "    </tr>\n",
       "    <tr>\n",
       "      <th>397137</th>\n",
       "      <td>9.0</td>\n",
       "    </tr>\n",
       "    <tr>\n",
       "      <th>697816</th>\n",
       "      <td>4.0</td>\n",
       "    </tr>\n",
       "    <tr>\n",
       "      <th>533679</th>\n",
       "      <td>9.0</td>\n",
       "    </tr>\n",
       "    <tr>\n",
       "      <th>301180</th>\n",
       "      <td>7.0</td>\n",
       "    </tr>\n",
       "  </tbody>\n",
       "</table>\n",
       "</div>"
      ],
      "text/plain": [
       "        category_name\n",
       "943192            4.0\n",
       "397137            9.0\n",
       "697816            4.0\n",
       "533679            9.0\n",
       "301180            7.0"
      ]
     },
     "execution_count": 36,
     "metadata": {},
     "output_type": "execute_result"
    }
   ],
   "source": [
    "y_train_category_df.head()"
   ]
  },
  {
   "cell_type": "code",
   "execution_count": 37,
   "metadata": {},
   "outputs": [
    {
     "data": {
      "text/html": [
       "<div>\n",
       "<table border=\"1\" class=\"dataframe\">\n",
       "  <thead>\n",
       "    <tr style=\"text-align: right;\">\n",
       "      <th></th>\n",
       "      <th>category_name</th>\n",
       "    </tr>\n",
       "  </thead>\n",
       "  <tbody>\n",
       "    <tr>\n",
       "      <th>86173</th>\n",
       "      <td>9.0</td>\n",
       "    </tr>\n",
       "    <tr>\n",
       "      <th>1064043</th>\n",
       "      <td>4.0</td>\n",
       "    </tr>\n",
       "    <tr>\n",
       "      <th>377476</th>\n",
       "      <td>9.0</td>\n",
       "    </tr>\n",
       "    <tr>\n",
       "      <th>1345219</th>\n",
       "      <td>9.0</td>\n",
       "    </tr>\n",
       "    <tr>\n",
       "      <th>1254172</th>\n",
       "      <td>8.0</td>\n",
       "    </tr>\n",
       "  </tbody>\n",
       "</table>\n",
       "</div>"
      ],
      "text/plain": [
       "         category_name\n",
       "86173              9.0\n",
       "1064043            4.0\n",
       "377476             9.0\n",
       "1345219            9.0\n",
       "1254172            8.0"
      ]
     },
     "execution_count": 37,
     "metadata": {},
     "output_type": "execute_result"
    }
   ],
   "source": [
    "y_test_category_df.head()"
   ]
  },
  {
   "cell_type": "markdown",
   "metadata": {
    "collapsed": true
   },
   "source": [
    "Combine the name and item_description"
   ]
  },
  {
   "cell_type": "code",
   "execution_count": 38,
   "metadata": {},
   "outputs": [
    {
     "data": {
      "text/html": [
       "<div>\n",
       "<table border=\"1\" class=\"dataframe\">\n",
       "  <thead>\n",
       "    <tr style=\"text-align: right;\">\n",
       "      <th></th>\n",
       "      <th>name</th>\n",
       "      <th>item_description</th>\n",
       "    </tr>\n",
       "  </thead>\n",
       "  <tbody>\n",
       "    <tr>\n",
       "      <th>943192</th>\n",
       "      <td>Nike foams infant shoes</td>\n",
       "      <td>Size: 2c Color: platinum, wolf grey in excelle...</td>\n",
       "    </tr>\n",
       "    <tr>\n",
       "      <th>397137</th>\n",
       "      <td>Adidas athletic shoes</td>\n",
       "      <td>Barely worn! Looks new</td>\n",
       "    </tr>\n",
       "    <tr>\n",
       "      <th>697816</th>\n",
       "      <td>Free ship 3 small bun squishy</td>\n",
       "      <td>Free ship 3 small bun</td>\n",
       "    </tr>\n",
       "    <tr>\n",
       "      <th>533679</th>\n",
       "      <td>Blue and Yellow Oversized Blanket Scarf</td>\n",
       "      <td>Brand New! Free Shipping! Cobalt Blue Blanket ...</td>\n",
       "    </tr>\n",
       "    <tr>\n",
       "      <th>301180</th>\n",
       "      <td>Fantasy Football trophie</td>\n",
       "      <td>Gently used &amp; loved trophy Looking for a new h...</td>\n",
       "    </tr>\n",
       "  </tbody>\n",
       "</table>\n",
       "</div>"
      ],
      "text/plain": [
       "                                           name  \\\n",
       "943192                  Nike foams infant shoes   \n",
       "397137                    Adidas athletic shoes   \n",
       "697816            Free ship 3 small bun squishy   \n",
       "533679  Blue and Yellow Oversized Blanket Scarf   \n",
       "301180                 Fantasy Football trophie   \n",
       "\n",
       "                                         item_description  \n",
       "943192  Size: 2c Color: platinum, wolf grey in excelle...  \n",
       "397137                             Barely worn! Looks new  \n",
       "697816                              Free ship 3 small bun  \n",
       "533679  Brand New! Free Shipping! Cobalt Blue Blanket ...  \n",
       "301180  Gently used & loved trophy Looking for a new h...  "
      ]
     },
     "execution_count": 38,
     "metadata": {},
     "output_type": "execute_result"
    }
   ],
   "source": [
    "X_train_category_df.head()"
   ]
  },
  {
   "cell_type": "code",
   "execution_count": 39,
   "metadata": {},
   "outputs": [
    {
     "data": {
      "text/html": [
       "<div>\n",
       "<table border=\"1\" class=\"dataframe\">\n",
       "  <thead>\n",
       "    <tr style=\"text-align: right;\">\n",
       "      <th></th>\n",
       "      <th>name</th>\n",
       "      <th>item_description</th>\n",
       "      <th>total_text</th>\n",
       "    </tr>\n",
       "  </thead>\n",
       "  <tbody>\n",
       "    <tr>\n",
       "      <th>943192</th>\n",
       "      <td>Nike foams infant shoes</td>\n",
       "      <td>Size: 2c Color: platinum, wolf grey in excelle...</td>\n",
       "      <td>Nike foams infant shoes Size: 2c Color: platin...</td>\n",
       "    </tr>\n",
       "    <tr>\n",
       "      <th>397137</th>\n",
       "      <td>Adidas athletic shoes</td>\n",
       "      <td>Barely worn! Looks new</td>\n",
       "      <td>Adidas athletic shoes Barely worn! Looks new</td>\n",
       "    </tr>\n",
       "    <tr>\n",
       "      <th>697816</th>\n",
       "      <td>Free ship 3 small bun squishy</td>\n",
       "      <td>Free ship 3 small bun</td>\n",
       "      <td>Free ship 3 small bun squishy Free ship 3 smal...</td>\n",
       "    </tr>\n",
       "    <tr>\n",
       "      <th>533679</th>\n",
       "      <td>Blue and Yellow Oversized Blanket Scarf</td>\n",
       "      <td>Brand New! Free Shipping! Cobalt Blue Blanket ...</td>\n",
       "      <td>Blue and Yellow Oversized Blanket Scarf Brand ...</td>\n",
       "    </tr>\n",
       "    <tr>\n",
       "      <th>301180</th>\n",
       "      <td>Fantasy Football trophie</td>\n",
       "      <td>Gently used &amp; loved trophy Looking for a new h...</td>\n",
       "      <td>Fantasy Football trophie Gently used &amp; loved t...</td>\n",
       "    </tr>\n",
       "  </tbody>\n",
       "</table>\n",
       "</div>"
      ],
      "text/plain": [
       "                                           name  \\\n",
       "943192                  Nike foams infant shoes   \n",
       "397137                    Adidas athletic shoes   \n",
       "697816            Free ship 3 small bun squishy   \n",
       "533679  Blue and Yellow Oversized Blanket Scarf   \n",
       "301180                 Fantasy Football trophie   \n",
       "\n",
       "                                         item_description  \\\n",
       "943192  Size: 2c Color: platinum, wolf grey in excelle...   \n",
       "397137                             Barely worn! Looks new   \n",
       "697816                              Free ship 3 small bun   \n",
       "533679  Brand New! Free Shipping! Cobalt Blue Blanket ...   \n",
       "301180  Gently used & loved trophy Looking for a new h...   \n",
       "\n",
       "                                               total_text  \n",
       "943192  Nike foams infant shoes Size: 2c Color: platin...  \n",
       "397137       Adidas athletic shoes Barely worn! Looks new  \n",
       "697816  Free ship 3 small bun squishy Free ship 3 smal...  \n",
       "533679  Blue and Yellow Oversized Blanket Scarf Brand ...  \n",
       "301180  Fantasy Football trophie Gently used & loved t...  "
      ]
     },
     "execution_count": 39,
     "metadata": {},
     "output_type": "execute_result"
    }
   ],
   "source": [
    "X_train_category_df['total_text'] = X_train_category_df['name'] + \" \" +  X_train_category_df['item_description']\n",
    "X_train_category_df.head()"
   ]
  },
  {
   "cell_type": "code",
   "execution_count": 40,
   "metadata": {},
   "outputs": [
    {
     "data": {
      "text/html": [
       "<div>\n",
       "<table border=\"1\" class=\"dataframe\">\n",
       "  <thead>\n",
       "    <tr style=\"text-align: right;\">\n",
       "      <th></th>\n",
       "      <th>name</th>\n",
       "      <th>item_description</th>\n",
       "      <th>total_text</th>\n",
       "    </tr>\n",
       "  </thead>\n",
       "  <tbody>\n",
       "    <tr>\n",
       "      <th>86173</th>\n",
       "      <td>On hold!! pink hoodie</td>\n",
       "      <td>Cream and maroon Worn once Practically brand new!</td>\n",
       "      <td>On hold!! pink hoodie Cream and maroon Worn on...</td>\n",
       "    </tr>\n",
       "    <tr>\n",
       "      <th>1064043</th>\n",
       "      <td>Disney Sophia the princess long sleeve!</td>\n",
       "      <td>Miss disney sophia princess long sleeve shirt ...</td>\n",
       "      <td>Disney Sophia the princess long sleeve! Miss d...</td>\n",
       "    </tr>\n",
       "    <tr>\n",
       "      <th>377476</th>\n",
       "      <td>Aerie navy 32D bra</td>\n",
       "      <td>New without tags</td>\n",
       "      <td>Aerie navy 32D bra New without tags</td>\n",
       "    </tr>\n",
       "    <tr>\n",
       "      <th>1345219</th>\n",
       "      <td>Nike</td>\n",
       "      <td>Has bent in back picture shows</td>\n",
       "      <td>Nike Has bent in back picture shows</td>\n",
       "    </tr>\n",
       "    <tr>\n",
       "      <th>1254172</th>\n",
       "      <td>\"reserved*1945 Silver Mercury Dime</td>\n",
       "      <td>9O% silver and will come in case.</td>\n",
       "      <td>\"reserved*1945 Silver Mercury Dime 9O% silver ...</td>\n",
       "    </tr>\n",
       "  </tbody>\n",
       "</table>\n",
       "</div>"
      ],
      "text/plain": [
       "                                            name  \\\n",
       "86173                      On hold!! pink hoodie   \n",
       "1064043  Disney Sophia the princess long sleeve!   \n",
       "377476                        Aerie navy 32D bra   \n",
       "1345219                                     Nike   \n",
       "1254172       \"reserved*1945 Silver Mercury Dime   \n",
       "\n",
       "                                          item_description  \\\n",
       "86173    Cream and maroon Worn once Practically brand new!   \n",
       "1064043  Miss disney sophia princess long sleeve shirt ...   \n",
       "377476                                    New without tags   \n",
       "1345219                     Has bent in back picture shows   \n",
       "1254172                  9O% silver and will come in case.   \n",
       "\n",
       "                                                total_text  \n",
       "86173    On hold!! pink hoodie Cream and maroon Worn on...  \n",
       "1064043  Disney Sophia the princess long sleeve! Miss d...  \n",
       "377476                 Aerie navy 32D bra New without tags  \n",
       "1345219                Nike Has bent in back picture shows  \n",
       "1254172  \"reserved*1945 Silver Mercury Dime 9O% silver ...  "
      ]
     },
     "execution_count": 40,
     "metadata": {},
     "output_type": "execute_result"
    }
   ],
   "source": [
    "X_test_category_df['total_text'] = X_test_category_df['name'] + \" \" +  X_test_category_df['item_description']\n",
    "X_test_category_df.head()"
   ]
  },
  {
   "cell_type": "code",
   "execution_count": 41,
   "metadata": {},
   "outputs": [
    {
     "name": "stdout",
     "output_type": "stream",
     "text": [
      "Extracting features from the training data using a sparse vectorizer\n",
      "done in 42.008744s\n",
      "n_samples: 1180966, n_features: 180315\n",
      "\n"
     ]
    }
   ],
   "source": [
    "print('Extracting features from the training data using a sparse vectorizer')\n",
    "t0 = time()\n",
    "vectorizer = TfidfVectorizer(sublinear_tf=True, max_df=0.5, stop_words='english')\n",
    "x_train = vectorizer.fit_transform(X_train_category_df['total_text'])\n",
    "duration = time() - t0\n",
    "print(\"done in %fs\" % (duration))    \n",
    "print(\"n_samples: %d, n_features: %d\" % x_train.shape)\n",
    "print()"
   ]
  },
  {
   "cell_type": "code",
   "execution_count": 42,
   "metadata": {},
   "outputs": [
    {
     "name": "stdout",
     "output_type": "stream",
     "text": [
      "Extracting features from the testing data using a sparse vectorizer\n",
      "done in 10.593803s\n",
      "n_samples: 1180966, n_features: 180315\n",
      "\n"
     ]
    }
   ],
   "source": [
    "print('Extracting features from the testing data using a sparse vectorizer')\n",
    "t0 = time()\n",
    "x_test = vectorizer.transform(X_test_category_df['total_text'])\n",
    "duration = time() - t0\n",
    "print(\"done in %fs\" % (duration))    \n",
    "print(\"n_samples: %d, n_features: %d\" % x_train.shape)\n",
    "print()"
   ]
  },
  {
   "cell_type": "code",
   "execution_count": 44,
   "metadata": {
    "collapsed": true
   },
   "outputs": [],
   "source": [
    "feature_names = vectorizer.get_feature_names()"
   ]
  },
  {
   "cell_type": "code",
   "execution_count": 45,
   "metadata": {
    "collapsed": true
   },
   "outputs": [],
   "source": [
    "# #############################################################################  \n",
    "# Benchmark classifiers                                                          \n",
    "def fit_and_benchmark(clf, X_train, y_train, X_test, y_test, target_names):                                                              \n",
    "    print('_' * 80)\n",
    "    print(\"Training: \")\n",
    "    print(clf)\n",
    "    t0 = time()\n",
    "    clf.fit(X_train, y_train)\n",
    "    train_time = time() - t0\n",
    "    print(\"train time: %0.3fs\" % train_time)\n",
    "\n",
    "    t0 = time()\n",
    "    pred = clf.predict(X_test)\n",
    "    test_time = time() - t0\n",
    "    print(\"test time:  %0.3fs\" % test_time)\n",
    "\n",
    "    score = metrics.accuracy_score(y_test, pred)\n",
    "    print(\"accuracy:   %0.3f\" % score)\n",
    "                                                                                 \n",
    "    if hasattr(clf, 'coef_'):                                                    \n",
    "        print(\"dimensionality: %d\" % clf.coef_.shape[1])\n",
    "        print(\"density: %f\" % density(clf.coef_))\n",
    "                                                                                 \n",
    "        if feature_names is not None:                       \n",
    "            print(\"top 10 keywords per class:\")                                  \n",
    "            for i, label in enumerate(target_names):                             \n",
    "                top10 = np.argsort(clf.coef_[i])[-10:]\n",
    "        print()\n",
    "                                                                                 \n",
    "    print(\"classification report:\")\n",
    "    print(metrics.classification_report(y_test, pred, target_names=target_names))          \n",
    "                                                                                 \n",
    "    print(\"confusion matrix:\")\n",
    "    print(metrics.confusion_matrix(y_test, pred))                            \n",
    "                                                                                 \n",
    "    print()                                                                      \n",
    "    clf_descr = str(clf).split('(')[0]                                           \n",
    "    print(clf_descr, score, train_time, test_time)\n",
    "    return clf"
   ]
  },
  {
   "cell_type": "code",
   "execution_count": 46,
   "metadata": {
    "collapsed": true
   },
   "outputs": [],
   "source": [
    "# clf = VotingClassifier(estimators=[\n",
    "#     ('rc', RidgeClassifier(tol=1e-2)),\n",
    "#     ('perc', Perceptron(n_iter=50)),\n",
    "#     ('pa', PassiveAggressiveClassifier(n_iter=50)),\n",
    "#     ('knn', KNeighborsClassifier(n_neighbors=len(cat1_le.classes_))),\n",
    "#     ('rfc', RandomForestClassifier(n_estimators=100)),\n",
    "#     ('sgd', SGDClassifier(alpha=.0001, n_iter=50, penalty=\"elasticnet\")),\n",
    "#     ('SVC_with_L1', Pipeline([\n",
    "#         ('feature_selection', SelectFromModel(LinearSVC(penalty=\"l1\", dual=False, tol=1e-3))),\n",
    "#         ('classification', LinearSVC(penalty=\"l2\"))]))\n",
    "# ])\n",
    "# clf = VotingClassifier(estimators=[\n",
    "#     ('rc', RidgeClassifier(tol=1e-2)),\n",
    "#     ('perc', Perceptron(n_iter=50)),\n",
    "#     ('pa', PassiveAggressiveClassifier(n_iter=50))\n",
    "# ])\n",
    "clf = VotingClassifier(estimators=[\n",
    "    ('rc', RidgeClassifier(tol=1e-2))\n",
    "])"
   ]
  },
  {
   "cell_type": "code",
   "execution_count": 47,
   "metadata": {},
   "outputs": [
    {
     "name": "stdout",
     "output_type": "stream",
     "text": [
      "________________________________________________________________________________\n",
      "Training: \n",
      "VotingClassifier(estimators=[('rc', RidgeClassifier(alpha=1.0, class_weight=None, copy_X=True, fit_intercept=True,\n",
      "        max_iter=None, normalize=False, random_state=None, solver='auto',\n",
      "        tol=0.01))],\n",
      "         flatten_transform=None, n_jobs=1, voting='hard', weights=None)\n"
     ]
    },
    {
     "name": "stderr",
     "output_type": "stream",
     "text": [
      "/home/joydeep/anaconda3/envs/venv/lib/python3.6/site-packages/sklearn/preprocessing/label.py:95: DataConversionWarning: A column-vector y was passed when a 1d array was expected. Please change the shape of y to (n_samples, ), for example using ravel().\n",
      "  y = column_or_1d(y, warn=True)\n",
      "/home/joydeep/anaconda3/envs/venv/lib/python3.6/site-packages/sklearn/preprocessing/label.py:128: DataConversionWarning: A column-vector y was passed when a 1d array was expected. Please change the shape of y to (n_samples, ), for example using ravel().\n",
      "  y = column_or_1d(y, warn=True)\n"
     ]
    },
    {
     "name": "stdout",
     "output_type": "stream",
     "text": [
      "train time: 247.728s\n",
      "test time:  13.280s\n",
      "accuracy:   0.866\n",
      "classification report:\n",
      "                        precision    recall  f1-score   support\n",
      "\n",
      "                Beauty       0.95      0.95      0.95     41574\n",
      "           Electronics       0.93      0.95      0.94     24394\n",
      "              Handmade       0.62      0.30      0.41      6152\n",
      "                  Home       0.81      0.78      0.79     13691\n",
      "                  Kids       0.85      0.81      0.83     34146\n",
      "                   Men       0.83      0.64      0.72     18931\n",
      "                 Other       0.78      0.60      0.68      9163\n",
      "     Sports & Outdoors       0.73      0.49      0.59      5006\n",
      "Vintage & Collectibles       0.66      0.39      0.49      9181\n",
      "                 Women       0.86      0.97      0.91    133004\n",
      "\n",
      "           avg / total       0.86      0.87      0.86    295242\n",
      "\n",
      "confusion matrix:\n",
      "[[ 39536     30     22    280    109     55    242     17     12   1271]\n",
      " [    65  23188     37     60    229     44    109     69     40    553]\n",
      " [   113     50   1873    291    549     89    249     85    145   2708]\n",
      " [   509     77    155  10653    464     39    219     68    226   1281]\n",
      " [   213    237    180    340  27594    424    209    116    895   3938]\n",
      " [    61    112     26     38    252  12049     23    218     61   6091]\n",
      " [   484    255    290    429    481     83   5525     69    164   1383]\n",
      " [    57    121     99    165    402    425     74   2466    137   1060]\n",
      " [    86    600     96    739   1405    148    214     73   3541   2279]\n",
      " [   512    181    263    209    839   1166    199    179    143 129313]]\n",
      "\n",
      "VotingClassifier 0.866197898673 247.72846794128418 13.280250549316406\n"
     ]
    }
   ],
   "source": [
    "clf = fit_and_benchmark(clf, x_train, y_train_category_df, x_test, y_test_category_df, cat1_le.classes_)"
   ]
  },
  {
   "cell_type": "markdown",
   "metadata": {},
   "source": [
    "### fill the category name for the missing values and build the matrix"
   ]
  },
  {
   "cell_type": "code",
   "execution_count": 48,
   "metadata": {},
   "outputs": [
    {
     "data": {
      "text/html": [
       "<div>\n",
       "<table border=\"1\" class=\"dataframe\">\n",
       "  <thead>\n",
       "    <tr style=\"text-align: right;\">\n",
       "      <th></th>\n",
       "      <th>train_id</th>\n",
       "      <th>name</th>\n",
       "      <th>item_condition_id</th>\n",
       "      <th>category_name</th>\n",
       "      <th>price</th>\n",
       "      <th>shipping</th>\n",
       "      <th>item_description</th>\n",
       "      <th>total_text</th>\n",
       "    </tr>\n",
       "  </thead>\n",
       "  <tbody>\n",
       "    <tr>\n",
       "      <th>0</th>\n",
       "      <td>0</td>\n",
       "      <td>MLB Cincinnati Reds T Shirt Size XL</td>\n",
       "      <td>3</td>\n",
       "      <td>5.0</td>\n",
       "      <td>10.0</td>\n",
       "      <td>1</td>\n",
       "      <td>No description yet</td>\n",
       "      <td>MLB Cincinnati Reds T Shirt Size XL No descrip...</td>\n",
       "    </tr>\n",
       "    <tr>\n",
       "      <th>1</th>\n",
       "      <td>1</td>\n",
       "      <td>Razer BlackWidow Chroma Keyboard</td>\n",
       "      <td>3</td>\n",
       "      <td>1.0</td>\n",
       "      <td>52.0</td>\n",
       "      <td>0</td>\n",
       "      <td>This keyboard is in great condition and works ...</td>\n",
       "      <td>Razer BlackWidow Chroma Keyboard This keyboard...</td>\n",
       "    </tr>\n",
       "    <tr>\n",
       "      <th>2</th>\n",
       "      <td>2</td>\n",
       "      <td>AVA-VIV Blouse</td>\n",
       "      <td>1</td>\n",
       "      <td>9.0</td>\n",
       "      <td>10.0</td>\n",
       "      <td>1</td>\n",
       "      <td>Adorable top with a hint of lace and a key hol...</td>\n",
       "      <td>AVA-VIV Blouse Adorable top with a hint of lac...</td>\n",
       "    </tr>\n",
       "    <tr>\n",
       "      <th>3</th>\n",
       "      <td>3</td>\n",
       "      <td>Leather Horse Statues</td>\n",
       "      <td>1</td>\n",
       "      <td>3.0</td>\n",
       "      <td>35.0</td>\n",
       "      <td>1</td>\n",
       "      <td>New with tags. Leather horses. Retail for [rm]...</td>\n",
       "      <td>Leather Horse Statues New with tags. Leather h...</td>\n",
       "    </tr>\n",
       "    <tr>\n",
       "      <th>4</th>\n",
       "      <td>4</td>\n",
       "      <td>24K GOLD plated rose</td>\n",
       "      <td>1</td>\n",
       "      <td>9.0</td>\n",
       "      <td>44.0</td>\n",
       "      <td>0</td>\n",
       "      <td>Complete with certificate of authenticity</td>\n",
       "      <td>24K GOLD plated rose Complete with certificate...</td>\n",
       "    </tr>\n",
       "  </tbody>\n",
       "</table>\n",
       "</div>"
      ],
      "text/plain": [
       "   train_id                                 name  item_condition_id  \\\n",
       "0         0  MLB Cincinnati Reds T Shirt Size XL                  3   \n",
       "1         1     Razer BlackWidow Chroma Keyboard                  3   \n",
       "2         2                       AVA-VIV Blouse                  1   \n",
       "3         3                Leather Horse Statues                  1   \n",
       "4         4                 24K GOLD plated rose                  1   \n",
       "\n",
       "   category_name  price  shipping  \\\n",
       "0            5.0   10.0         1   \n",
       "1            1.0   52.0         0   \n",
       "2            9.0   10.0         1   \n",
       "3            3.0   35.0         1   \n",
       "4            9.0   44.0         0   \n",
       "\n",
       "                                    item_description  \\\n",
       "0                                 No description yet   \n",
       "1  This keyboard is in great condition and works ...   \n",
       "2  Adorable top with a hint of lace and a key hol...   \n",
       "3  New with tags. Leather horses. Retail for [rm]...   \n",
       "4          Complete with certificate of authenticity   \n",
       "\n",
       "                                          total_text  \n",
       "0  MLB Cincinnati Reds T Shirt Size XL No descrip...  \n",
       "1  Razer BlackWidow Chroma Keyboard This keyboard...  \n",
       "2  AVA-VIV Blouse Adorable top with a hint of lac...  \n",
       "3  Leather Horse Statues New with tags. Leather h...  \n",
       "4  24K GOLD plated rose Complete with certificate...  "
      ]
     },
     "execution_count": 48,
     "metadata": {},
     "output_type": "execute_result"
    }
   ],
   "source": [
    "train_df['total_text'] = train_df['name'] + \" \" +  train_df['item_description']\n",
    "train_df.head()"
   ]
  },
  {
   "cell_type": "code",
   "execution_count": 49,
   "metadata": {},
   "outputs": [
    {
     "data": {
      "text/html": [
       "<div>\n",
       "<table border=\"1\" class=\"dataframe\">\n",
       "  <thead>\n",
       "    <tr style=\"text-align: right;\">\n",
       "      <th></th>\n",
       "      <th>test_id</th>\n",
       "      <th>name</th>\n",
       "      <th>item_condition_id</th>\n",
       "      <th>category_name</th>\n",
       "      <th>shipping</th>\n",
       "      <th>item_description</th>\n",
       "      <th>total_text</th>\n",
       "    </tr>\n",
       "  </thead>\n",
       "  <tbody>\n",
       "    <tr>\n",
       "      <th>0</th>\n",
       "      <td>0</td>\n",
       "      <td>Breast cancer \"I fight like a girl\" ring</td>\n",
       "      <td>1</td>\n",
       "      <td>9.0</td>\n",
       "      <td>1</td>\n",
       "      <td>Size 7</td>\n",
       "      <td>Breast cancer \"I fight like a girl\" ring Size 7</td>\n",
       "    </tr>\n",
       "    <tr>\n",
       "      <th>1</th>\n",
       "      <td>1</td>\n",
       "      <td>25 pcs NEW 7.5\"x12\" Kraft Bubble Mailers</td>\n",
       "      <td>1</td>\n",
       "      <td>6.0</td>\n",
       "      <td>1</td>\n",
       "      <td>25 pcs NEW 7.5\"x12\" Kraft Bubble Mailers Lined...</td>\n",
       "      <td>25 pcs NEW 7.5\"x12\" Kraft Bubble Mailers 25 pc...</td>\n",
       "    </tr>\n",
       "    <tr>\n",
       "      <th>2</th>\n",
       "      <td>2</td>\n",
       "      <td>Coach bag</td>\n",
       "      <td>1</td>\n",
       "      <td>8.0</td>\n",
       "      <td>1</td>\n",
       "      <td>Brand new coach bag. Bought for [rm] at a Coac...</td>\n",
       "      <td>Coach bag Brand new coach bag. Bought for [rm]...</td>\n",
       "    </tr>\n",
       "    <tr>\n",
       "      <th>3</th>\n",
       "      <td>3</td>\n",
       "      <td>Floral Kimono</td>\n",
       "      <td>2</td>\n",
       "      <td>9.0</td>\n",
       "      <td>0</td>\n",
       "      <td>-floral kimono -never worn -lightweight and pe...</td>\n",
       "      <td>Floral Kimono -floral kimono -never worn -ligh...</td>\n",
       "    </tr>\n",
       "    <tr>\n",
       "      <th>4</th>\n",
       "      <td>4</td>\n",
       "      <td>Life after Death</td>\n",
       "      <td>3</td>\n",
       "      <td>6.0</td>\n",
       "      <td>1</td>\n",
       "      <td>Rediscovering life after the loss of a loved o...</td>\n",
       "      <td>Life after Death Rediscovering life after the ...</td>\n",
       "    </tr>\n",
       "  </tbody>\n",
       "</table>\n",
       "</div>"
      ],
      "text/plain": [
       "   test_id                                      name  item_condition_id  \\\n",
       "0        0  Breast cancer \"I fight like a girl\" ring                  1   \n",
       "1        1  25 pcs NEW 7.5\"x12\" Kraft Bubble Mailers                  1   \n",
       "2        2                                 Coach bag                  1   \n",
       "3        3                             Floral Kimono                  2   \n",
       "4        4                          Life after Death                  3   \n",
       "\n",
       "   category_name  shipping                                   item_description  \\\n",
       "0            9.0         1                                             Size 7   \n",
       "1            6.0         1  25 pcs NEW 7.5\"x12\" Kraft Bubble Mailers Lined...   \n",
       "2            8.0         1  Brand new coach bag. Bought for [rm] at a Coac...   \n",
       "3            9.0         0  -floral kimono -never worn -lightweight and pe...   \n",
       "4            6.0         1  Rediscovering life after the loss of a loved o...   \n",
       "\n",
       "                                          total_text  \n",
       "0    Breast cancer \"I fight like a girl\" ring Size 7  \n",
       "1  25 pcs NEW 7.5\"x12\" Kraft Bubble Mailers 25 pc...  \n",
       "2  Coach bag Brand new coach bag. Bought for [rm]...  \n",
       "3  Floral Kimono -floral kimono -never worn -ligh...  \n",
       "4  Life after Death Rediscovering life after the ...  "
      ]
     },
     "execution_count": 49,
     "metadata": {},
     "output_type": "execute_result"
    }
   ],
   "source": [
    "test_df['total_text'] = test_df['name'] + \" \" +  test_df['item_description']\n",
    "test_df.head()"
   ]
  },
  {
   "cell_type": "code",
   "execution_count": 50,
   "metadata": {},
   "outputs": [
    {
     "data": {
      "text/html": [
       "<div>\n",
       "<table border=\"1\" class=\"dataframe\">\n",
       "  <thead>\n",
       "    <tr style=\"text-align: right;\">\n",
       "      <th></th>\n",
       "      <th>train_id</th>\n",
       "      <th>name</th>\n",
       "      <th>item_condition_id</th>\n",
       "      <th>category_name</th>\n",
       "      <th>price</th>\n",
       "      <th>shipping</th>\n",
       "      <th>item_description</th>\n",
       "      <th>total_text</th>\n",
       "    </tr>\n",
       "  </thead>\n",
       "  <tbody>\n",
       "    <tr>\n",
       "      <th>122</th>\n",
       "      <td>122</td>\n",
       "      <td>Bundle</td>\n",
       "      <td>3</td>\n",
       "      <td>NaN</td>\n",
       "      <td>59.0</td>\n",
       "      <td>0</td>\n",
       "      <td>Sizes and info of clothes can be found on thei...</td>\n",
       "      <td>Bundle Sizes and info of clothes can be found ...</td>\n",
       "    </tr>\n",
       "    <tr>\n",
       "      <th>155</th>\n",
       "      <td>155</td>\n",
       "      <td>3 Nora Roberts Books</td>\n",
       "      <td>3</td>\n",
       "      <td>NaN</td>\n",
       "      <td>10.0</td>\n",
       "      <td>1</td>\n",
       "      <td>For aferg16.</td>\n",
       "      <td>3 Nora Roberts Books For aferg16.</td>\n",
       "    </tr>\n",
       "    <tr>\n",
       "      <th>258</th>\n",
       "      <td>258</td>\n",
       "      <td>ACER Laptop</td>\n",
       "      <td>5</td>\n",
       "      <td>NaN</td>\n",
       "      <td>14.0</td>\n",
       "      <td>0</td>\n",
       "      <td>Powers on, no screen display, no external dama...</td>\n",
       "      <td>ACER Laptop Powers on, no screen display, no e...</td>\n",
       "    </tr>\n",
       "    <tr>\n",
       "      <th>984</th>\n",
       "      <td>984</td>\n",
       "      <td>AUTHENTIC BRWN MICHAEL KORS MAKEUP STAIN</td>\n",
       "      <td>4</td>\n",
       "      <td>NaN</td>\n",
       "      <td>18.0</td>\n",
       "      <td>0</td>\n",
       "      <td>No description yet</td>\n",
       "      <td>AUTHENTIC BRWN MICHAEL KORS MAKEUP STAIN No de...</td>\n",
       "    </tr>\n",
       "    <tr>\n",
       "      <th>1185</th>\n",
       "      <td>1185</td>\n",
       "      <td>Teenage Mutant Ninja Turtle Van/ Extras</td>\n",
       "      <td>3</td>\n",
       "      <td>NaN</td>\n",
       "      <td>9.0</td>\n",
       "      <td>0</td>\n",
       "      <td>Teenage Mutant Ninja Turtle Van, April O'Neil ...</td>\n",
       "      <td>Teenage Mutant Ninja Turtle Van/ Extras Teenag...</td>\n",
       "    </tr>\n",
       "  </tbody>\n",
       "</table>\n",
       "</div>"
      ],
      "text/plain": [
       "      train_id                                      name  item_condition_id  \\\n",
       "122        122                                    Bundle                  3   \n",
       "155        155                      3 Nora Roberts Books                  3   \n",
       "258        258                               ACER Laptop                  5   \n",
       "984        984  AUTHENTIC BRWN MICHAEL KORS MAKEUP STAIN                  4   \n",
       "1185      1185   Teenage Mutant Ninja Turtle Van/ Extras                  3   \n",
       "\n",
       "      category_name  price  shipping  \\\n",
       "122             NaN   59.0         0   \n",
       "155             NaN   10.0         1   \n",
       "258             NaN   14.0         0   \n",
       "984             NaN   18.0         0   \n",
       "1185            NaN    9.0         0   \n",
       "\n",
       "                                       item_description  \\\n",
       "122   Sizes and info of clothes can be found on thei...   \n",
       "155                                        For aferg16.   \n",
       "258   Powers on, no screen display, no external dama...   \n",
       "984                                  No description yet   \n",
       "1185  Teenage Mutant Ninja Turtle Van, April O'Neil ...   \n",
       "\n",
       "                                             total_text  \n",
       "122   Bundle Sizes and info of clothes can be found ...  \n",
       "155                   3 Nora Roberts Books For aferg16.  \n",
       "258   ACER Laptop Powers on, no screen display, no e...  \n",
       "984   AUTHENTIC BRWN MICHAEL KORS MAKEUP STAIN No de...  \n",
       "1185  Teenage Mutant Ninja Turtle Van/ Extras Teenag...  "
      ]
     },
     "execution_count": 50,
     "metadata": {},
     "output_type": "execute_result"
    }
   ],
   "source": [
    "train_df_with_no_cat = train_df[train_df['category_name'].isnull()]\n",
    "train_df_with_no_cat.head()"
   ]
  },
  {
   "cell_type": "code",
   "execution_count": 51,
   "metadata": {},
   "outputs": [
    {
     "data": {
      "text/html": [
       "<div>\n",
       "<table border=\"1\" class=\"dataframe\">\n",
       "  <thead>\n",
       "    <tr style=\"text-align: right;\">\n",
       "      <th></th>\n",
       "      <th>test_id</th>\n",
       "      <th>name</th>\n",
       "      <th>item_condition_id</th>\n",
       "      <th>category_name</th>\n",
       "      <th>shipping</th>\n",
       "      <th>item_description</th>\n",
       "      <th>total_text</th>\n",
       "    </tr>\n",
       "  </thead>\n",
       "  <tbody>\n",
       "    <tr>\n",
       "      <th>217</th>\n",
       "      <td>217</td>\n",
       "      <td>Lularoe XS Carly Dress</td>\n",
       "      <td>3</td>\n",
       "      <td>NaN</td>\n",
       "      <td>0</td>\n",
       "      <td>XS Lularoe Carly Dress. Has peach tone color s...</td>\n",
       "      <td>Lularoe XS Carly Dress XS Lularoe Carly Dress....</td>\n",
       "    </tr>\n",
       "    <tr>\n",
       "      <th>555</th>\n",
       "      <td>555</td>\n",
       "      <td>Victoria's Secret VerySexy Touch Perfume</td>\n",
       "      <td>2</td>\n",
       "      <td>NaN</td>\n",
       "      <td>0</td>\n",
       "      <td>No description yet</td>\n",
       "      <td>Victoria's Secret VerySexy Touch Perfume No de...</td>\n",
       "    </tr>\n",
       "    <tr>\n",
       "      <th>702</th>\n",
       "      <td>702</td>\n",
       "      <td>Men's All Black Low Top Converse</td>\n",
       "      <td>3</td>\n",
       "      <td>NaN</td>\n",
       "      <td>0</td>\n",
       "      <td>Men's Converse, size 11, all black. They have ...</td>\n",
       "      <td>Men's All Black Low Top Converse Men's Convers...</td>\n",
       "    </tr>\n",
       "    <tr>\n",
       "      <th>1110</th>\n",
       "      <td>1110</td>\n",
       "      <td>92 Polly Pocket Jewel Palace/Ice Kingdom</td>\n",
       "      <td>3</td>\n",
       "      <td>NaN</td>\n",
       "      <td>0</td>\n",
       "      <td>Set of 2. In good condition. Both are complete...</td>\n",
       "      <td>92 Polly Pocket Jewel Palace/Ice Kingdom Set o...</td>\n",
       "    </tr>\n",
       "    <tr>\n",
       "      <th>1476</th>\n",
       "      <td>1476</td>\n",
       "      <td>Bundle for Vanessa Wieseler</td>\n",
       "      <td>1</td>\n",
       "      <td>NaN</td>\n",
       "      <td>0</td>\n",
       "      <td>Avent Bottle Warmer Brand New Open Package [rm...</td>\n",
       "      <td>Bundle for Vanessa Wieseler Avent Bottle Warme...</td>\n",
       "    </tr>\n",
       "  </tbody>\n",
       "</table>\n",
       "</div>"
      ],
      "text/plain": [
       "      test_id                                      name  item_condition_id  \\\n",
       "217       217                    Lularoe XS Carly Dress                  3   \n",
       "555       555  Victoria's Secret VerySexy Touch Perfume                  2   \n",
       "702       702          Men's All Black Low Top Converse                  3   \n",
       "1110     1110  92 Polly Pocket Jewel Palace/Ice Kingdom                  3   \n",
       "1476     1476               Bundle for Vanessa Wieseler                  1   \n",
       "\n",
       "      category_name  shipping  \\\n",
       "217             NaN         0   \n",
       "555             NaN         0   \n",
       "702             NaN         0   \n",
       "1110            NaN         0   \n",
       "1476            NaN         0   \n",
       "\n",
       "                                       item_description  \\\n",
       "217   XS Lularoe Carly Dress. Has peach tone color s...   \n",
       "555                                  No description yet   \n",
       "702   Men's Converse, size 11, all black. They have ...   \n",
       "1110  Set of 2. In good condition. Both are complete...   \n",
       "1476  Avent Bottle Warmer Brand New Open Package [rm...   \n",
       "\n",
       "                                             total_text  \n",
       "217   Lularoe XS Carly Dress XS Lularoe Carly Dress....  \n",
       "555   Victoria's Secret VerySexy Touch Perfume No de...  \n",
       "702   Men's All Black Low Top Converse Men's Convers...  \n",
       "1110  92 Polly Pocket Jewel Palace/Ice Kingdom Set o...  \n",
       "1476  Bundle for Vanessa Wieseler Avent Bottle Warme...  "
      ]
     },
     "execution_count": 51,
     "metadata": {},
     "output_type": "execute_result"
    }
   ],
   "source": [
    "test_df_with_no_cat = test_df[test_df['category_name'].isnull()]\n",
    "test_df_with_no_cat.head()"
   ]
  },
  {
   "cell_type": "code",
   "execution_count": 52,
   "metadata": {
    "collapsed": true
   },
   "outputs": [],
   "source": [
    "def fill_and_transform_df(df):\n",
    "    new_df = deepcopy(df)\n",
    "    for index, row in df.iterrows():\n",
    "        if pd.isnull(row['category_name']):\n",
    "            new_df.loc[index]['category_name'] = vectorizer.transform([row['total_text']])\n",
    "        else:\n",
    "            new_df.loc[index]['category_name'] = row['category_name']\n",
    "    return new_df"
   ]
  },
  {
   "cell_type": "code",
   "execution_count": 53,
   "metadata": {},
   "outputs": [
    {
     "name": "stdout",
     "output_type": "stream",
     "text": [
      "(6327,) (6327, 8)\n"
     ]
    }
   ],
   "source": [
    "matrix_train_df = vectorizer.transform(train_df_with_no_cat['total_text'])\n",
    "pred_train_df = clf.predict(matrix_train_df)\n",
    "print(pred_train_df.shape, train_df_with_no_cat.shape)"
   ]
  },
  {
   "cell_type": "code",
   "execution_count": 54,
   "metadata": {},
   "outputs": [
    {
     "name": "stdout",
     "output_type": "stream",
     "text": [
      "(3058,) (3058, 7)\n"
     ]
    }
   ],
   "source": [
    "matrix_test_df = vectorizer.transform(test_df_with_no_cat['total_text'])\n",
    "pred_test_df = clf.predict(matrix_test_df)\n",
    "print(pred_test_df.shape, test_df_with_no_cat.shape)"
   ]
  },
  {
   "cell_type": "markdown",
   "metadata": {},
   "source": [
    "fill the category_names with the predicted values wherever they are not present. This will be used in further predictions using pytorch."
   ]
  },
  {
   "cell_type": "code",
   "execution_count": 55,
   "metadata": {},
   "outputs": [
    {
     "name": "stdout",
     "output_type": "stream",
     "text": [
      "train_id                                                           122\n",
      "name                                                            Bundle\n",
      "item_condition_id                                                    3\n",
      "category_name                                                      NaN\n",
      "price                                                               59\n",
      "shipping                                                             0\n",
      "item_description     Sizes and info of clothes can be found on thei...\n",
      "total_text           Bundle Sizes and info of clothes can be found ...\n",
      "Name: 122, dtype: object\n",
      "train_id                                                           122\n",
      "name                                                            Bundle\n",
      "item_condition_id                                                    3\n",
      "category_name                                                        9\n",
      "price                                                               59\n",
      "shipping                                                             0\n",
      "item_description     Sizes and info of clothes can be found on thei...\n",
      "total_text           Bundle Sizes and info of clothes can be found ...\n",
      "Name: 122, dtype: object\n"
     ]
    }
   ],
   "source": [
    "print(train_df.loc[122])\n",
    "i = 0\n",
    "for index, row in train_df_with_no_cat.iterrows():\n",
    "    train_df.loc[train_df.train_id == index, ['category_name']] = pred_train_df[i]\n",
    "    i += 1\n",
    "print(train_df.loc[122])"
   ]
  },
  {
   "cell_type": "code",
   "execution_count": 56,
   "metadata": {
    "collapsed": true
   },
   "outputs": [],
   "source": [
    "i = 0\n",
    "for index, row in test_df_with_no_cat.iterrows():\n",
    "    test_df.loc[test_df.test_id == index, ['category_name']] = pred_test_df[i]\n",
    "    i += 1"
   ]
  },
  {
   "cell_type": "code",
   "execution_count": 57,
   "metadata": {},
   "outputs": [
    {
     "data": {
      "text/html": [
       "<div>\n",
       "<table border=\"1\" class=\"dataframe\">\n",
       "  <thead>\n",
       "    <tr style=\"text-align: right;\">\n",
       "      <th></th>\n",
       "      <th>train_id</th>\n",
       "      <th>name</th>\n",
       "      <th>item_condition_id</th>\n",
       "      <th>category_name</th>\n",
       "      <th>price</th>\n",
       "      <th>shipping</th>\n",
       "      <th>item_description</th>\n",
       "      <th>total_text</th>\n",
       "    </tr>\n",
       "  </thead>\n",
       "  <tbody>\n",
       "  </tbody>\n",
       "</table>\n",
       "</div>"
      ],
      "text/plain": [
       "Empty DataFrame\n",
       "Columns: [train_id, name, item_condition_id, category_name, price, shipping, item_description, total_text]\n",
       "Index: []"
      ]
     },
     "execution_count": 57,
     "metadata": {},
     "output_type": "execute_result"
    }
   ],
   "source": [
    "train_df[train_df['category_name'].isnull()]"
   ]
  },
  {
   "cell_type": "code",
   "execution_count": 58,
   "metadata": {},
   "outputs": [
    {
     "data": {
      "text/html": [
       "<div>\n",
       "<table border=\"1\" class=\"dataframe\">\n",
       "  <thead>\n",
       "    <tr style=\"text-align: right;\">\n",
       "      <th></th>\n",
       "      <th>train_id</th>\n",
       "      <th>name</th>\n",
       "      <th>item_condition_id</th>\n",
       "      <th>category_name</th>\n",
       "      <th>price</th>\n",
       "      <th>shipping</th>\n",
       "      <th>item_description</th>\n",
       "      <th>total_text</th>\n",
       "    </tr>\n",
       "  </thead>\n",
       "  <tbody>\n",
       "    <tr>\n",
       "      <th>0</th>\n",
       "      <td>0</td>\n",
       "      <td>MLB Cincinnati Reds T Shirt Size XL</td>\n",
       "      <td>3</td>\n",
       "      <td>5.0</td>\n",
       "      <td>10.0</td>\n",
       "      <td>1</td>\n",
       "      <td>No description yet</td>\n",
       "      <td>MLB Cincinnati Reds T Shirt Size XL No descrip...</td>\n",
       "    </tr>\n",
       "    <tr>\n",
       "      <th>1</th>\n",
       "      <td>1</td>\n",
       "      <td>Razer BlackWidow Chroma Keyboard</td>\n",
       "      <td>3</td>\n",
       "      <td>1.0</td>\n",
       "      <td>52.0</td>\n",
       "      <td>0</td>\n",
       "      <td>This keyboard is in great condition and works ...</td>\n",
       "      <td>Razer BlackWidow Chroma Keyboard This keyboard...</td>\n",
       "    </tr>\n",
       "    <tr>\n",
       "      <th>2</th>\n",
       "      <td>2</td>\n",
       "      <td>AVA-VIV Blouse</td>\n",
       "      <td>1</td>\n",
       "      <td>9.0</td>\n",
       "      <td>10.0</td>\n",
       "      <td>1</td>\n",
       "      <td>Adorable top with a hint of lace and a key hol...</td>\n",
       "      <td>AVA-VIV Blouse Adorable top with a hint of lac...</td>\n",
       "    </tr>\n",
       "    <tr>\n",
       "      <th>3</th>\n",
       "      <td>3</td>\n",
       "      <td>Leather Horse Statues</td>\n",
       "      <td>1</td>\n",
       "      <td>3.0</td>\n",
       "      <td>35.0</td>\n",
       "      <td>1</td>\n",
       "      <td>New with tags. Leather horses. Retail for [rm]...</td>\n",
       "      <td>Leather Horse Statues New with tags. Leather h...</td>\n",
       "    </tr>\n",
       "    <tr>\n",
       "      <th>4</th>\n",
       "      <td>4</td>\n",
       "      <td>24K GOLD plated rose</td>\n",
       "      <td>1</td>\n",
       "      <td>9.0</td>\n",
       "      <td>44.0</td>\n",
       "      <td>0</td>\n",
       "      <td>Complete with certificate of authenticity</td>\n",
       "      <td>24K GOLD plated rose Complete with certificate...</td>\n",
       "    </tr>\n",
       "  </tbody>\n",
       "</table>\n",
       "</div>"
      ],
      "text/plain": [
       "   train_id                                 name  item_condition_id  \\\n",
       "0         0  MLB Cincinnati Reds T Shirt Size XL                  3   \n",
       "1         1     Razer BlackWidow Chroma Keyboard                  3   \n",
       "2         2                       AVA-VIV Blouse                  1   \n",
       "3         3                Leather Horse Statues                  1   \n",
       "4         4                 24K GOLD plated rose                  1   \n",
       "\n",
       "   category_name  price  shipping  \\\n",
       "0            5.0   10.0         1   \n",
       "1            1.0   52.0         0   \n",
       "2            9.0   10.0         1   \n",
       "3            3.0   35.0         1   \n",
       "4            9.0   44.0         0   \n",
       "\n",
       "                                    item_description  \\\n",
       "0                                 No description yet   \n",
       "1  This keyboard is in great condition and works ...   \n",
       "2  Adorable top with a hint of lace and a key hol...   \n",
       "3  New with tags. Leather horses. Retail for [rm]...   \n",
       "4          Complete with certificate of authenticity   \n",
       "\n",
       "                                          total_text  \n",
       "0  MLB Cincinnati Reds T Shirt Size XL No descrip...  \n",
       "1  Razer BlackWidow Chroma Keyboard This keyboard...  \n",
       "2  AVA-VIV Blouse Adorable top with a hint of lac...  \n",
       "3  Leather Horse Statues New with tags. Leather h...  \n",
       "4  24K GOLD plated rose Complete with certificate...  "
      ]
     },
     "execution_count": 58,
     "metadata": {},
     "output_type": "execute_result"
    }
   ],
   "source": [
    "train_df.head()"
   ]
  },
  {
   "cell_type": "code",
   "execution_count": 59,
   "metadata": {},
   "outputs": [
    {
     "data": {
      "text/plain": [
       "<matplotlib.axes._subplots.AxesSubplot at 0x7f095b505668>"
      ]
     },
     "execution_count": 59,
     "metadata": {},
     "output_type": "execute_result"
    },
    {
     "data": {
      "image/png": "[encoded data removed]",
      "text/plain": [
       "<matplotlib.figure.Figure at 0x7f09a3ee6eb8>"
      ]
     },
     "metadata": {},
     "output_type": "display_data"
    }
   ],
   "source": [
    "fig, ax = plt.subplots(1, 1, figsize=(11, 7), sharex=True)\n",
    "sns.distplot(np.log(train_df['price'].values+1))"
   ]
  },
  {
   "cell_type": "code",
   "execution_count": 60,
   "metadata": {
    "collapsed": true
   },
   "outputs": [],
   "source": [
    "# vectorized error calc\n",
    "def rmsle(y, y0):\n",
    "    assert len(y) == len(y0)\n",
    "    return np.sqrt(np.mean(np.power(np.log1p(y)-np.log1p(y0), 2)))\n",
    "# Source: https://www.kaggle.com/jpopham91/rmlse-vectorized"
   ]
  },
  {
   "cell_type": "code",
   "execution_count": 61,
   "metadata": {},
   "outputs": [
    {
     "name": "stdout",
     "output_type": "stream",
     "text": [
      "lets see if there are some null values\n"
     ]
    },
    {
     "data": {
      "text/plain": [
       "train_id             0\n",
       "name                 0\n",
       "item_condition_id    0\n",
       "category_name        0\n",
       "price                0\n",
       "shipping             0\n",
       "item_description     0\n",
       "total_text           0\n",
       "dtype: int64"
      ]
     },
     "execution_count": 61,
     "metadata": {},
     "output_type": "execute_result"
    }
   ],
   "source": [
    "print('lets see if there are some null values')\n",
    "train_df.isnull().sum()"
   ]
  },
  {
   "cell_type": "code",
   "execution_count": 62,
   "metadata": {
    "collapsed": true
   },
   "outputs": [],
   "source": [
    "#PROCESS CATEGORICAL DATA\n",
    "#print(\"Handling categorical variables...\")\n",
    "def encode_text(column):\n",
    "    le = LabelEncoder()\n",
    "    le.fit(np.hstack([train_df[column], test_df[column]]))\n",
    "    train_df[column+'_index'] = le.transform(train_df[column])\n",
    "    test_df[column+'_index'] = le.transform(test_df[column])"
   ]
  },
  {
   "cell_type": "code",
   "execution_count": 63,
   "metadata": {},
   "outputs": [
    {
     "data": {
      "text/plain": [
       "{dtype('int64'): Index(['train_id', 'item_condition_id', 'shipping'], dtype='object'),\n",
       " dtype('float64'): Index(['category_name', 'price'], dtype='object'),\n",
       " dtype('O'): Index(['name', 'item_description', 'total_text'], dtype='object')}"
      ]
     },
     "execution_count": 63,
     "metadata": {},
     "output_type": "execute_result"
    }
   ],
   "source": [
    "train_df.columns.to_series().groupby(train_df.dtypes).groups"
   ]
  },
  {
   "cell_type": "code",
   "execution_count": 64,
   "metadata": {},
   "outputs": [
    {
     "data": {
      "text/html": [
       "<div>\n",
       "<table border=\"1\" class=\"dataframe\">\n",
       "  <thead>\n",
       "    <tr style=\"text-align: right;\">\n",
       "      <th></th>\n",
       "      <th>name</th>\n",
       "      <th>item_description</th>\n",
       "      <th>total_text</th>\n",
       "    </tr>\n",
       "  </thead>\n",
       "  <tbody>\n",
       "    <tr>\n",
       "      <th>0</th>\n",
       "      <td>MLB Cincinnati Reds T Shirt Size XL</td>\n",
       "      <td>No description yet</td>\n",
       "      <td>MLB Cincinnati Reds T Shirt Size XL No descrip...</td>\n",
       "    </tr>\n",
       "    <tr>\n",
       "      <th>1</th>\n",
       "      <td>Razer BlackWidow Chroma Keyboard</td>\n",
       "      <td>This keyboard is in great condition and works ...</td>\n",
       "      <td>Razer BlackWidow Chroma Keyboard This keyboard...</td>\n",
       "    </tr>\n",
       "    <tr>\n",
       "      <th>2</th>\n",
       "      <td>AVA-VIV Blouse</td>\n",
       "      <td>Adorable top with a hint of lace and a key hol...</td>\n",
       "      <td>AVA-VIV Blouse Adorable top with a hint of lac...</td>\n",
       "    </tr>\n",
       "    <tr>\n",
       "      <th>3</th>\n",
       "      <td>Leather Horse Statues</td>\n",
       "      <td>New with tags. Leather horses. Retail for [rm]...</td>\n",
       "      <td>Leather Horse Statues New with tags. Leather h...</td>\n",
       "    </tr>\n",
       "    <tr>\n",
       "      <th>4</th>\n",
       "      <td>24K GOLD plated rose</td>\n",
       "      <td>Complete with certificate of authenticity</td>\n",
       "      <td>24K GOLD plated rose Complete with certificate...</td>\n",
       "    </tr>\n",
       "  </tbody>\n",
       "</table>\n",
       "</div>"
      ],
      "text/plain": [
       "                                  name  \\\n",
       "0  MLB Cincinnati Reds T Shirt Size XL   \n",
       "1     Razer BlackWidow Chroma Keyboard   \n",
       "2                       AVA-VIV Blouse   \n",
       "3                Leather Horse Statues   \n",
       "4                 24K GOLD plated rose   \n",
       "\n",
       "                                    item_description  \\\n",
       "0                                 No description yet   \n",
       "1  This keyboard is in great condition and works ...   \n",
       "2  Adorable top with a hint of lace and a key hol...   \n",
       "3  New with tags. Leather horses. Retail for [rm]...   \n",
       "4          Complete with certificate of authenticity   \n",
       "\n",
       "                                          total_text  \n",
       "0  MLB Cincinnati Reds T Shirt Size XL No descrip...  \n",
       "1  Razer BlackWidow Chroma Keyboard This keyboard...  \n",
       "2  AVA-VIV Blouse Adorable top with a hint of lac...  \n",
       "3  Leather Horse Statues New with tags. Leather h...  \n",
       "4  24K GOLD plated rose Complete with certificate...  "
      ]
     },
     "execution_count": 64,
     "metadata": {},
     "output_type": "execute_result"
    }
   ],
   "source": [
    "train_df.select_dtypes(exclude=['float64', 'int64']).head()"
   ]
  },
  {
   "cell_type": "code",
   "execution_count": 65,
   "metadata": {},
   "outputs": [
    {
     "data": {
      "text/html": [
       "<div>\n",
       "<table border=\"1\" class=\"dataframe\">\n",
       "  <thead>\n",
       "    <tr style=\"text-align: right;\">\n",
       "      <th></th>\n",
       "      <th>train_id</th>\n",
       "      <th>name</th>\n",
       "      <th>item_condition_id</th>\n",
       "      <th>category_name</th>\n",
       "      <th>price</th>\n",
       "      <th>shipping</th>\n",
       "      <th>item_description</th>\n",
       "      <th>total_text</th>\n",
       "    </tr>\n",
       "  </thead>\n",
       "  <tbody>\n",
       "    <tr>\n",
       "      <th>0</th>\n",
       "      <td>0</td>\n",
       "      <td>MLB Cincinnati Reds T Shirt Size XL</td>\n",
       "      <td>3</td>\n",
       "      <td>5.0</td>\n",
       "      <td>10.0</td>\n",
       "      <td>1</td>\n",
       "      <td>No description yet</td>\n",
       "      <td>MLB Cincinnati Reds T Shirt Size XL No descrip...</td>\n",
       "    </tr>\n",
       "    <tr>\n",
       "      <th>1</th>\n",
       "      <td>1</td>\n",
       "      <td>Razer BlackWidow Chroma Keyboard</td>\n",
       "      <td>3</td>\n",
       "      <td>1.0</td>\n",
       "      <td>52.0</td>\n",
       "      <td>0</td>\n",
       "      <td>This keyboard is in great condition and works ...</td>\n",
       "      <td>Razer BlackWidow Chroma Keyboard This keyboard...</td>\n",
       "    </tr>\n",
       "    <tr>\n",
       "      <th>2</th>\n",
       "      <td>2</td>\n",
       "      <td>AVA-VIV Blouse</td>\n",
       "      <td>1</td>\n",
       "      <td>9.0</td>\n",
       "      <td>10.0</td>\n",
       "      <td>1</td>\n",
       "      <td>Adorable top with a hint of lace and a key hol...</td>\n",
       "      <td>AVA-VIV Blouse Adorable top with a hint of lac...</td>\n",
       "    </tr>\n",
       "    <tr>\n",
       "      <th>3</th>\n",
       "      <td>3</td>\n",
       "      <td>Leather Horse Statues</td>\n",
       "      <td>1</td>\n",
       "      <td>3.0</td>\n",
       "      <td>35.0</td>\n",
       "      <td>1</td>\n",
       "      <td>New with tags. Leather horses. Retail for [rm]...</td>\n",
       "      <td>Leather Horse Statues New with tags. Leather h...</td>\n",
       "    </tr>\n",
       "    <tr>\n",
       "      <th>4</th>\n",
       "      <td>4</td>\n",
       "      <td>24K GOLD plated rose</td>\n",
       "      <td>1</td>\n",
       "      <td>9.0</td>\n",
       "      <td>44.0</td>\n",
       "      <td>0</td>\n",
       "      <td>Complete with certificate of authenticity</td>\n",
       "      <td>24K GOLD plated rose Complete with certificate...</td>\n",
       "    </tr>\n",
       "  </tbody>\n",
       "</table>\n",
       "</div>"
      ],
      "text/plain": [
       "   train_id                                 name  item_condition_id  \\\n",
       "0         0  MLB Cincinnati Reds T Shirt Size XL                  3   \n",
       "1         1     Razer BlackWidow Chroma Keyboard                  3   \n",
       "2         2                       AVA-VIV Blouse                  1   \n",
       "3         3                Leather Horse Statues                  1   \n",
       "4         4                 24K GOLD plated rose                  1   \n",
       "\n",
       "   category_name  price  shipping  \\\n",
       "0            5.0   10.0         1   \n",
       "1            1.0   52.0         0   \n",
       "2            9.0   10.0         1   \n",
       "3            3.0   35.0         1   \n",
       "4            9.0   44.0         0   \n",
       "\n",
       "                                    item_description  \\\n",
       "0                                 No description yet   \n",
       "1  This keyboard is in great condition and works ...   \n",
       "2  Adorable top with a hint of lace and a key hol...   \n",
       "3  New with tags. Leather horses. Retail for [rm]...   \n",
       "4          Complete with certificate of authenticity   \n",
       "\n",
       "                                          total_text  \n",
       "0  MLB Cincinnati Reds T Shirt Size XL No descrip...  \n",
       "1  Razer BlackWidow Chroma Keyboard This keyboard...  \n",
       "2  AVA-VIV Blouse Adorable top with a hint of lac...  \n",
       "3  Leather Horse Statues New with tags. Leather h...  \n",
       "4  24K GOLD plated rose Complete with certificate...  "
      ]
     },
     "execution_count": 65,
     "metadata": {},
     "output_type": "execute_result"
    }
   ],
   "source": [
    "train_df.head()"
   ]
  },
  {
   "cell_type": "code",
   "execution_count": 66,
   "metadata": {},
   "outputs": [
    {
     "name": "stdout",
     "output_type": "stream",
     "text": [
      "since brand name is not included now so the below code is not really required but keeping it for future consideration\n"
     ]
    }
   ],
   "source": [
    "print('since brand name is not included now so the below code is not really required but keeping it for future consideration')\n",
    "# encode_text('brand_name')"
   ]
  },
  {
   "cell_type": "code",
   "execution_count": 67,
   "metadata": {},
   "outputs": [
    {
     "data": {
      "text/html": [
       "<div>\n",
       "<table border=\"1\" class=\"dataframe\">\n",
       "  <thead>\n",
       "    <tr style=\"text-align: right;\">\n",
       "      <th></th>\n",
       "      <th>test_id</th>\n",
       "      <th>name</th>\n",
       "      <th>item_condition_id</th>\n",
       "      <th>category_name</th>\n",
       "      <th>shipping</th>\n",
       "      <th>item_description</th>\n",
       "      <th>total_text</th>\n",
       "    </tr>\n",
       "  </thead>\n",
       "  <tbody>\n",
       "    <tr>\n",
       "      <th>0</th>\n",
       "      <td>0</td>\n",
       "      <td>Breast cancer \"I fight like a girl\" ring</td>\n",
       "      <td>1</td>\n",
       "      <td>9.0</td>\n",
       "      <td>1</td>\n",
       "      <td>Size 7</td>\n",
       "      <td>Breast cancer \"I fight like a girl\" ring Size 7</td>\n",
       "    </tr>\n",
       "    <tr>\n",
       "      <th>1</th>\n",
       "      <td>1</td>\n",
       "      <td>25 pcs NEW 7.5\"x12\" Kraft Bubble Mailers</td>\n",
       "      <td>1</td>\n",
       "      <td>6.0</td>\n",
       "      <td>1</td>\n",
       "      <td>25 pcs NEW 7.5\"x12\" Kraft Bubble Mailers Lined...</td>\n",
       "      <td>25 pcs NEW 7.5\"x12\" Kraft Bubble Mailers 25 pc...</td>\n",
       "    </tr>\n",
       "    <tr>\n",
       "      <th>2</th>\n",
       "      <td>2</td>\n",
       "      <td>Coach bag</td>\n",
       "      <td>1</td>\n",
       "      <td>8.0</td>\n",
       "      <td>1</td>\n",
       "      <td>Brand new coach bag. Bought for [rm] at a Coac...</td>\n",
       "      <td>Coach bag Brand new coach bag. Bought for [rm]...</td>\n",
       "    </tr>\n",
       "    <tr>\n",
       "      <th>3</th>\n",
       "      <td>3</td>\n",
       "      <td>Floral Kimono</td>\n",
       "      <td>2</td>\n",
       "      <td>9.0</td>\n",
       "      <td>0</td>\n",
       "      <td>-floral kimono -never worn -lightweight and pe...</td>\n",
       "      <td>Floral Kimono -floral kimono -never worn -ligh...</td>\n",
       "    </tr>\n",
       "    <tr>\n",
       "      <th>4</th>\n",
       "      <td>4</td>\n",
       "      <td>Life after Death</td>\n",
       "      <td>3</td>\n",
       "      <td>6.0</td>\n",
       "      <td>1</td>\n",
       "      <td>Rediscovering life after the loss of a loved o...</td>\n",
       "      <td>Life after Death Rediscovering life after the ...</td>\n",
       "    </tr>\n",
       "  </tbody>\n",
       "</table>\n",
       "</div>"
      ],
      "text/plain": [
       "   test_id                                      name  item_condition_id  \\\n",
       "0        0  Breast cancer \"I fight like a girl\" ring                  1   \n",
       "1        1  25 pcs NEW 7.5\"x12\" Kraft Bubble Mailers                  1   \n",
       "2        2                                 Coach bag                  1   \n",
       "3        3                             Floral Kimono                  2   \n",
       "4        4                          Life after Death                  3   \n",
       "\n",
       "   category_name  shipping                                   item_description  \\\n",
       "0            9.0         1                                             Size 7   \n",
       "1            6.0         1  25 pcs NEW 7.5\"x12\" Kraft Bubble Mailers Lined...   \n",
       "2            8.0         1  Brand new coach bag. Bought for [rm] at a Coac...   \n",
       "3            9.0         0  -floral kimono -never worn -lightweight and pe...   \n",
       "4            6.0         1  Rediscovering life after the loss of a loved o...   \n",
       "\n",
       "                                          total_text  \n",
       "0    Breast cancer \"I fight like a girl\" ring Size 7  \n",
       "1  25 pcs NEW 7.5\"x12\" Kraft Bubble Mailers 25 pc...  \n",
       "2  Coach bag Brand new coach bag. Bought for [rm]...  \n",
       "3  Floral Kimono -floral kimono -never worn -ligh...  \n",
       "4  Life after Death Rediscovering life after the ...  "
      ]
     },
     "execution_count": 67,
     "metadata": {},
     "output_type": "execute_result"
    }
   ],
   "source": [
    "test_df.head()"
   ]
  },
  {
   "cell_type": "code",
   "execution_count": 68,
   "metadata": {
    "collapsed": true
   },
   "outputs": [],
   "source": [
    "class Category:\n",
    "    def __init__(self, name):\n",
    "        self.name = name\n",
    "        self.word2index = {}\n",
    "        self.word2count = {}\n",
    "        self.index2word = {0: \"SOS\", 1: \"EOS\"}\n",
    "        self.n_words = 2  # Count SOS and EOS\n",
    "\n",
    "    def addSentence(self, sentence):\n",
    "        for word in sentence.split(' '):\n",
    "            self.addWord(word)\n",
    "\n",
    "    def addWord(self, word):\n",
    "        if word not in self.word2index:\n",
    "            self.word2index[word] = self.n_words\n",
    "            self.word2count[word] = 1\n",
    "            self.index2word[self.n_words] = word\n",
    "            self.n_words += 1\n",
    "        else:\n",
    "            self.word2count[word] += 1"
   ]
  },
  {
   "cell_type": "code",
   "execution_count": 69,
   "metadata": {
    "collapsed": true
   },
   "outputs": [],
   "source": [
    "# Turn a Unicode string to plain ASCII, thanks to\n",
    "# http://stackoverflow.com/a/518232/2809427\n",
    "import unicodedata\n",
    "import re\n",
    "def unicodeToAscii(s):\n",
    "    return ''.join(\n",
    "        c for c in unicodedata.normalize('NFD', s)\n",
    "        if unicodedata.category(c) != 'Mn'\n",
    "    )\n",
    "\n",
    "# Lowercase, trim, and remove non-letter characters\n",
    "\n",
    "\n",
    "def normalizeString(s):\n",
    "    #s = unicodeToAscii(s.lower().strip())\n",
    "    s = re.sub(r\"([.!?])\", r\" \\1\", s)\n",
    "    s = re.sub(r\"[^a-zA-Z.!?]+\", r\" \", s)\n",
    "    return s\n",
    "\n",
    "def normalizeLine(sentence):\n",
    "    return [normalizeString(s) for s in sentence.split('\\t')]"
   ]
  },
  {
   "cell_type": "code",
   "execution_count": 70,
   "metadata": {
    "collapsed": true
   },
   "outputs": [],
   "source": [
    "def prepareData(lang1,data):\n",
    "    input_cat = Category(lang1)\n",
    "    for sentence in data:\n",
    "        normalize_line = [normalizeString(s) for s in sentence.split('\\t')]\n",
    "        input_cat.addSentence(normalize_line[0])\n",
    "        \n",
    "    print(\"Counted words:\")\n",
    "    print(input_cat.name, input_cat.n_words)\n",
    "    return input_cat"
   ]
  },
  {
   "cell_type": "code",
   "execution_count": 71,
   "metadata": {
    "collapsed": true
   },
   "outputs": [],
   "source": [
    "def indexesFromSentence(lang, sentence):\n",
    "    return [lang.word2index[word] for word in sentence.split(' ')]\n",
    "\n",
    "def variableFromSentence(lang, sentence):\n",
    "    indexes = indexesFromSentence(lang, sentence)\n",
    "    #indexes.append(EOS_token)\n",
    "    return indexes"
   ]
  },
  {
   "cell_type": "code",
   "execution_count": 72,
   "metadata": {
    "collapsed": true
   },
   "outputs": [],
   "source": [
    "def token_fit(column):\n",
    "    raw_text = np.hstack([(train_df[column]).str.lower(), (test_df[column]).str.lower()])\n",
    "    cat1 = prepareData(column,raw_text)\n",
    "    print (\"adding train data\")\n",
    "    train_df[column + '_seq'] = [variableFromSentence(cat1,normalizeLine(sentence.lower())[0]) for sentence in train_df[column]]\n",
    "    print (\"adding test data\")\n",
    "    test_df[column + '_seq'] = [variableFromSentence(cat1,normalizeLine(sentence.lower())[0]) for sentence in test_df[column]]"
   ]
  },
  {
   "cell_type": "code",
   "execution_count": 73,
   "metadata": {},
   "outputs": [
    {
     "name": "stdout",
     "output_type": "stream",
     "text": [
      "Counted words:\n",
      "name 113421\n",
      "adding train data\n",
      "adding test data\n"
     ]
    }
   ],
   "source": [
    "token_fit('name')"
   ]
  },
  {
   "cell_type": "code",
   "execution_count": 74,
   "metadata": {},
   "outputs": [
    {
     "name": "stdout",
     "output_type": "stream",
     "text": [
      "Counted words:\n",
      "item_description 162434\n",
      "adding train data\n",
      "adding test data\n"
     ]
    }
   ],
   "source": [
    "token_fit('item_description')"
   ]
  },
  {
   "cell_type": "code",
   "execution_count": 75,
   "metadata": {},
   "outputs": [
    {
     "data": {
      "text/html": [
       "<div>\n",
       "<table border=\"1\" class=\"dataframe\">\n",
       "  <thead>\n",
       "    <tr style=\"text-align: right;\">\n",
       "      <th></th>\n",
       "      <th>train_id</th>\n",
       "      <th>name</th>\n",
       "      <th>item_condition_id</th>\n",
       "      <th>category_name</th>\n",
       "      <th>price</th>\n",
       "      <th>shipping</th>\n",
       "      <th>item_description</th>\n",
       "      <th>total_text</th>\n",
       "      <th>name_seq</th>\n",
       "      <th>item_description_seq</th>\n",
       "    </tr>\n",
       "  </thead>\n",
       "  <tbody>\n",
       "    <tr>\n",
       "      <th>0</th>\n",
       "      <td>0</td>\n",
       "      <td>MLB Cincinnati Reds T Shirt Size XL</td>\n",
       "      <td>3</td>\n",
       "      <td>5.0</td>\n",
       "      <td>10.0</td>\n",
       "      <td>1</td>\n",
       "      <td>No description yet</td>\n",
       "      <td>MLB Cincinnati Reds T Shirt Size XL No descrip...</td>\n",
       "      <td>[2, 3, 4, 5, 6, 7, 8]</td>\n",
       "      <td>[2, 3, 4]</td>\n",
       "    </tr>\n",
       "    <tr>\n",
       "      <th>1</th>\n",
       "      <td>1</td>\n",
       "      <td>Razer BlackWidow Chroma Keyboard</td>\n",
       "      <td>3</td>\n",
       "      <td>1.0</td>\n",
       "      <td>52.0</td>\n",
       "      <td>0</td>\n",
       "      <td>This keyboard is in great condition and works ...</td>\n",
       "      <td>Razer BlackWidow Chroma Keyboard This keyboard...</td>\n",
       "      <td>[9, 10, 11, 12]</td>\n",
       "      <td>[5, 6, 7, 8, 9, 10, 11, 12, 13, 14, 15, 16, 17...</td>\n",
       "    </tr>\n",
       "    <tr>\n",
       "      <th>2</th>\n",
       "      <td>2</td>\n",
       "      <td>AVA-VIV Blouse</td>\n",
       "      <td>1</td>\n",
       "      <td>9.0</td>\n",
       "      <td>10.0</td>\n",
       "      <td>1</td>\n",
       "      <td>Adorable top with a hint of lace and a key hol...</td>\n",
       "      <td>AVA-VIV Blouse Adorable top with a hint of lac...</td>\n",
       "      <td>[13, 14, 15]</td>\n",
       "      <td>[36, 37, 38, 39, 40, 17, 41, 11, 39, 42, 43, 8...</td>\n",
       "    </tr>\n",
       "    <tr>\n",
       "      <th>3</th>\n",
       "      <td>3</td>\n",
       "      <td>Leather Horse Statues</td>\n",
       "      <td>1</td>\n",
       "      <td>3.0</td>\n",
       "      <td>35.0</td>\n",
       "      <td>1</td>\n",
       "      <td>New with tags. Leather horses. Retail for [rm]...</td>\n",
       "      <td>Leather Horse Statues New with tags. Leather h...</td>\n",
       "      <td>[16, 17, 18]</td>\n",
       "      <td>[54, 38, 55, 20, 56, 57, 20, 58, 59, 60, 61, 2...</td>\n",
       "    </tr>\n",
       "    <tr>\n",
       "      <th>4</th>\n",
       "      <td>4</td>\n",
       "      <td>24K GOLD plated rose</td>\n",
       "      <td>1</td>\n",
       "      <td>9.0</td>\n",
       "      <td>44.0</td>\n",
       "      <td>0</td>\n",
       "      <td>Complete with certificate of authenticity</td>\n",
       "      <td>24K GOLD plated rose Complete with certificate...</td>\n",
       "      <td>[19, 20, 21, 22, 23]</td>\n",
       "      <td>[80, 38, 81, 17, 82]</td>\n",
       "    </tr>\n",
       "  </tbody>\n",
       "</table>\n",
       "</div>"
      ],
      "text/plain": [
       "   train_id                                 name  item_condition_id  \\\n",
       "0         0  MLB Cincinnati Reds T Shirt Size XL                  3   \n",
       "1         1     Razer BlackWidow Chroma Keyboard                  3   \n",
       "2         2                       AVA-VIV Blouse                  1   \n",
       "3         3                Leather Horse Statues                  1   \n",
       "4         4                 24K GOLD plated rose                  1   \n",
       "\n",
       "   category_name  price  shipping  \\\n",
       "0            5.0   10.0         1   \n",
       "1            1.0   52.0         0   \n",
       "2            9.0   10.0         1   \n",
       "3            3.0   35.0         1   \n",
       "4            9.0   44.0         0   \n",
       "\n",
       "                                    item_description  \\\n",
       "0                                 No description yet   \n",
       "1  This keyboard is in great condition and works ...   \n",
       "2  Adorable top with a hint of lace and a key hol...   \n",
       "3  New with tags. Leather horses. Retail for [rm]...   \n",
       "4          Complete with certificate of authenticity   \n",
       "\n",
       "                                          total_text               name_seq  \\\n",
       "0  MLB Cincinnati Reds T Shirt Size XL No descrip...  [2, 3, 4, 5, 6, 7, 8]   \n",
       "1  Razer BlackWidow Chroma Keyboard This keyboard...        [9, 10, 11, 12]   \n",
       "2  AVA-VIV Blouse Adorable top with a hint of lac...           [13, 14, 15]   \n",
       "3  Leather Horse Statues New with tags. Leather h...           [16, 17, 18]   \n",
       "4  24K GOLD plated rose Complete with certificate...   [19, 20, 21, 22, 23]   \n",
       "\n",
       "                                item_description_seq  \n",
       "0                                          [2, 3, 4]  \n",
       "1  [5, 6, 7, 8, 9, 10, 11, 12, 13, 14, 15, 16, 17...  \n",
       "2  [36, 37, 38, 39, 40, 17, 41, 11, 39, 42, 43, 8...  \n",
       "3  [54, 38, 55, 20, 56, 57, 20, 58, 59, 60, 61, 2...  \n",
       "4                               [80, 38, 81, 17, 82]  "
      ]
     },
     "execution_count": 75,
     "metadata": {},
     "output_type": "execute_result"
    }
   ],
   "source": [
    "train_df.head()"
   ]
  },
  {
   "cell_type": "code",
   "execution_count": 4,
   "metadata": {},
   "outputs": [
    {
     "ename": "NameError",
     "evalue": "name 'train_df' is not defined",
     "output_type": "error",
     "traceback": [
      "\u001b[0;31m---------------------------------------------------------------------------\u001b[0m",
      "\u001b[0;31mNameError\u001b[0m                                 Traceback (most recent call last)",
      "\u001b[0;32m<ipython-input-4-de87a346f09b>\u001b[0m in \u001b[0;36m<module>\u001b[0;34m()\u001b[0m\n\u001b[1;32m      1\u001b[0m \u001b[0;31m# save the csvs\u001b[0m\u001b[0;34m\u001b[0m\u001b[0;34m\u001b[0m\u001b[0m\n\u001b[0;32m----> 2\u001b[0;31m \u001b[0mtrain_df\u001b[0m\u001b[0;34m.\u001b[0m\u001b[0mto_csv\u001b[0m\u001b[0;34m(\u001b[0m\u001b[0;34m'data/mercari/train.1.csv'\u001b[0m\u001b[0;34m)\u001b[0m\u001b[0;34m\u001b[0m\u001b[0m\n\u001b[0m\u001b[1;32m      3\u001b[0m \u001b[0mtest_df\u001b[0m\u001b[0;34m.\u001b[0m\u001b[0mto_csv\u001b[0m\u001b[0;34m(\u001b[0m\u001b[0;34m'data/mercari/test.1.csv'\u001b[0m\u001b[0;34m)\u001b[0m\u001b[0;34m\u001b[0m\u001b[0m\n\u001b[1;32m      4\u001b[0m \u001b[0mprint\u001b[0m\u001b[0;34m(\u001b[0m\u001b[0;34m'transformed train and test data saved.'\u001b[0m\u001b[0;34m)\u001b[0m\u001b[0;34m\u001b[0m\u001b[0m\n",
      "\u001b[0;31mNameError\u001b[0m: name 'train_df' is not defined"
     ]
    }
   ],
   "source": [
    "# save the csvs\n",
    "train_df.to_csv('data/mercari/train.1.csv')\n",
    "test_df.to_csv('data/mercari/test.1.csv')\n",
    "print('transformed train and test data saved.')"
   ]
  },
  {
   "cell_type": "code",
   "execution_count": 6,
   "metadata": {},
   "outputs": [
    {
     "ename": "NameError",
     "evalue": "name 'clf' is not defined",
     "output_type": "error",
     "traceback": [
      "\u001b[0;31m---------------------------------------------------------------------------\u001b[0m",
      "\u001b[0;31mNameError\u001b[0m                                 Traceback (most recent call last)",
      "\u001b[0;32m<ipython-input-6-d3c4adeb2fc6>\u001b[0m in \u001b[0;36m<module>\u001b[0;34m()\u001b[0m\n\u001b[1;32m      1\u001b[0m \u001b[0;31m# save the classifiers\u001b[0m\u001b[0;34m\u001b[0m\u001b[0;34m\u001b[0m\u001b[0m\n\u001b[1;32m      2\u001b[0m \u001b[0;32mfrom\u001b[0m \u001b[0msklearn\u001b[0m\u001b[0;34m.\u001b[0m\u001b[0mexternals\u001b[0m \u001b[0;32mimport\u001b[0m \u001b[0mjoblib\u001b[0m\u001b[0;34m\u001b[0m\u001b[0m\n\u001b[0;32m----> 3\u001b[0;31m \u001b[0mjoblib\u001b[0m\u001b[0;34m.\u001b[0m\u001b[0mdump\u001b[0m\u001b[0;34m(\u001b[0m\u001b[0mclf\u001b[0m\u001b[0;34m,\u001b[0m \u001b[0;34m'data/mercari/clf.pkl'\u001b[0m\u001b[0;34m)\u001b[0m\u001b[0;34m\u001b[0m\u001b[0m\n\u001b[0m\u001b[1;32m      4\u001b[0m \u001b[0mprint\u001b[0m\u001b[0;34m(\u001b[0m\u001b[0;34m'model is saved'\u001b[0m\u001b[0;34m)\u001b[0m\u001b[0;34m\u001b[0m\u001b[0m\n",
      "\u001b[0;31mNameError\u001b[0m: name 'clf' is not defined"
     ]
    }
   ],
   "source": [
    "# save the classifiers\n",
    "from sklearn.externals import joblib\n",
    "joblib.dump(clf, 'data/mercari/clf.pkl')\n",
    "print('model is saved')"
   ]
  },
  {
   "cell_type": "code",
   "execution_count": 3,
   "metadata": {
    "collapsed": true
   },
   "outputs": [],
   "source": [
    "# load the csv and the model\n",
    "clf = joblib.load('data/mercari/clf.pkl')\n",
    "train_df = pd.read_csv('data/mercari/train.1.csv')\n",
    "test_df = pd.read_csv('data/mercari/test.1.csv')"
   ]
  },
  {
   "cell_type": "code",
   "execution_count": 4,
   "metadata": {
    "collapsed": true
   },
   "outputs": [],
   "source": [
    "# this is needed because the dtypes of name_seq and item_description_seq is wrong\n",
    "import ast\n",
    "train_df['name_seq'] = train_df['name_seq'].apply(ast.literal_eval)\n",
    "train_df['item_description_seq'] = train_df['item_description_seq'].apply(ast.literal_eval)\n",
    "test_df['name_seq'] = test_df['name_seq'].apply(ast.literal_eval)\n",
    "test_df['item_description_seq'] = test_df['item_description_seq'].apply(ast.literal_eval)"
   ]
  },
  {
   "cell_type": "code",
   "execution_count": 5,
   "metadata": {
    "collapsed": true
   },
   "outputs": [],
   "source": [
    "train_df['name_seq'] = train_df['name_seq'].apply(lambda x: np.array(x))\n",
    "train_df['item_description_seq'] = train_df['item_description_seq'].apply(lambda x: np.array(x))\n",
    "test_df['name_seq'] = test_df['name_seq'].apply(lambda x: np.array(x))\n",
    "test_df['item_description_seq'] = test_df['item_description_seq'].apply(lambda x: np.array(x))"
   ]
  },
  {
   "cell_type": "code",
   "execution_count": 50,
   "metadata": {
    "collapsed": true
   },
   "outputs": [],
   "source": [
    "train_df_total_text_matrix = vectorizer.transform(train_df['total_text'])\n",
    "test_df_total_text_matrix = vectorizer.transform(test_df['total_text'])"
   ]
  },
  {
   "cell_type": "code",
   "execution_count": 60,
   "metadata": {
    "collapsed": true
   },
   "outputs": [],
   "source": [
    "x_train = train_df[['item_condition_id', 'category_name', 'shipping']]\n",
    "y_train = train_df['price']"
   ]
  },
  {
   "cell_type": "code",
   "execution_count": 61,
   "metadata": {},
   "outputs": [
    {
     "data": {
      "text/plain": [
       "((1482535, 3), (1482535, 180315))"
      ]
     },
     "execution_count": 61,
     "metadata": {},
     "output_type": "execute_result"
    }
   ],
   "source": [
    "x_train.as_matrix().shape, train_df_total_text_matrix.shape"
   ]
  },
  {
   "cell_type": "code",
   "execution_count": 70,
   "metadata": {},
   "outputs": [
    {
     "data": {
      "text/plain": [
       "(180315, 1482535)"
      ]
     },
     "execution_count": 70,
     "metadata": {},
     "output_type": "execute_result"
    }
   ],
   "source": [
    "train_df_total_text_matrix.T.shape"
   ]
  },
  {
   "cell_type": "code",
   "execution_count": 80,
   "metadata": {
    "collapsed": true
   },
   "outputs": [],
   "source": [
    "a = np.array([[1, 2], [3, 4]])\n",
    "b = np.array([[5, 6, 1], [3,4, 1]])"
   ]
  },
  {
   "cell_type": "code",
   "execution_count": 81,
   "metadata": {},
   "outputs": [
    {
     "data": {
      "text/plain": [
       "((2, 2), (2, 3))"
      ]
     },
     "execution_count": 81,
     "metadata": {},
     "output_type": "execute_result"
    }
   ],
   "source": [
    "a.shape, b.shape"
   ]
  },
  {
   "cell_type": "code",
   "execution_count": 84,
   "metadata": {},
   "outputs": [
    {
     "data": {
      "text/plain": [
       "array([[1, 2, 5, 6, 1],\n",
       "       [3, 4, 3, 4, 1]])"
      ]
     },
     "execution_count": 84,
     "metadata": {},
     "output_type": "execute_result"
    }
   ],
   "source": [
    "np.concatenate((a, b), axis=1)"
   ]
  },
  {
   "cell_type": "code",
   "execution_count": 86,
   "metadata": {},
   "outputs": [
    {
     "ename": "ValueError",
     "evalue": "all the input arrays must have same number of dimensions",
     "output_type": "error",
     "traceback": [
      "\u001b[0;31m---------------------------------------------------------------------------\u001b[0m",
      "\u001b[0;31mValueError\u001b[0m                                Traceback (most recent call last)",
      "\u001b[0;32m<ipython-input-86-e19076194406>\u001b[0m in \u001b[0;36m<module>\u001b[0;34m()\u001b[0m\n\u001b[0;32m----> 1\u001b[0;31m \u001b[0mnp\u001b[0m\u001b[0;34m.\u001b[0m\u001b[0mconcatenate\u001b[0m\u001b[0;34m(\u001b[0m\u001b[0;34m(\u001b[0m\u001b[0mx_train\u001b[0m\u001b[0;34m.\u001b[0m\u001b[0mas_matrix\u001b[0m\u001b[0;34m(\u001b[0m\u001b[0;34m)\u001b[0m\u001b[0;34m,\u001b[0m \u001b[0mtrain_df_total_text_matrix\u001b[0m\u001b[0;34m[\u001b[0m\u001b[0;34m:\u001b[0m\u001b[0;34m,\u001b[0m \u001b[0;36m5\u001b[0m\u001b[0;34m]\u001b[0m\u001b[0;34m)\u001b[0m\u001b[0;34m,\u001b[0m \u001b[0maxis\u001b[0m\u001b[0;34m=\u001b[0m\u001b[0;36m1\u001b[0m\u001b[0;34m)\u001b[0m\u001b[0;34m\u001b[0m\u001b[0m\n\u001b[0m",
      "\u001b[0;31mValueError\u001b[0m: all the input arrays must have same number of dimensions"
     ]
    }
   ],
   "source": [
    "np.concatenate((x_train.as_matrix(), train_df_total_text_matrix), axis=1)"
   ]
  },
  {
   "cell_type": "markdown",
   "metadata": {},
   "source": [
    " ## Make a matrix out of the whole thing"
   ]
  },
  {
   "cell_type": "code",
   "execution_count": 13,
   "metadata": {},
   "outputs": [],
   "source": [
    "x_train_1 = train_df[['item_condition_id', 'category_name', 'shipping']]\n",
    "y_train_1 = train_df['price']\n",
    "x_test_1 = test_df[['item_condition_id', 'category_name', 'shipping']]"
   ]
  },
  {
   "cell_type": "code",
   "execution_count": 10,
   "metadata": {},
   "outputs": [
    {
     "data": {
      "text/html": [
       "<div>\n",
       "<table border=\"1\" class=\"dataframe\">\n",
       "  <thead>\n",
       "    <tr style=\"text-align: right;\">\n",
       "      <th></th>\n",
       "      <th>item_condition_id</th>\n",
       "      <th>category_name</th>\n",
       "      <th>shipping</th>\n",
       "    </tr>\n",
       "  </thead>\n",
       "  <tbody>\n",
       "    <tr>\n",
       "      <th>0</th>\n",
       "      <td>3</td>\n",
       "      <td>5.0</td>\n",
       "      <td>1</td>\n",
       "    </tr>\n",
       "    <tr>\n",
       "      <th>1</th>\n",
       "      <td>3</td>\n",
       "      <td>1.0</td>\n",
       "      <td>0</td>\n",
       "    </tr>\n",
       "    <tr>\n",
       "      <th>2</th>\n",
       "      <td>1</td>\n",
       "      <td>9.0</td>\n",
       "      <td>1</td>\n",
       "    </tr>\n",
       "    <tr>\n",
       "      <th>3</th>\n",
       "      <td>1</td>\n",
       "      <td>3.0</td>\n",
       "      <td>1</td>\n",
       "    </tr>\n",
       "    <tr>\n",
       "      <th>4</th>\n",
       "      <td>1</td>\n",
       "      <td>9.0</td>\n",
       "      <td>0</td>\n",
       "    </tr>\n",
       "  </tbody>\n",
       "</table>\n",
       "</div>"
      ],
      "text/plain": [
       "   item_condition_id  category_name  shipping\n",
       "0                  3            5.0         1\n",
       "1                  3            1.0         0\n",
       "2                  1            9.0         1\n",
       "3                  1            3.0         1\n",
       "4                  1            9.0         0"
      ]
     },
     "execution_count": 10,
     "metadata": {},
     "output_type": "execute_result"
    }
   ],
   "source": [
    "train_1.head()"
   ]
  },
  {
   "cell_type": "code",
   "execution_count": 17,
   "metadata": {},
   "outputs": [
    {
     "name": "stderr",
     "output_type": "stream",
     "text": [
      "/home/joydeep/anaconda3/envs/venv/lib/python3.6/site-packages/sklearn/model_selection/_split.py:2010: FutureWarning: From version 0.21, test_size will always complement train_size unless both are specified.\n",
      "  FutureWarning)\n"
     ]
    },
    {
     "name": "stdout",
     "output_type": "stream",
     "text": [
      "(1467709, 3) (14826, 3)\n",
      "(1467709,) (14826,)\n"
     ]
    }
   ],
   "source": [
    "#EXTRACT DEVELOPTMENT TEST\n",
    "X_dtrain, X_dvalid, y_dtrain, y_dvalid = train_test_split(train_1, y_train_1, random_state=123, train_size=0.99)\n",
    "print(X_dtrain.shape, X_dvalid.shape)\n",
    "print(y_dtrain.shape, y_dvalid.shape)"
   ]
  },
  {
   "cell_type": "code",
   "execution_count": 49,
   "metadata": {},
   "outputs": [
    {
     "name": "stderr",
     "output_type": "stream",
     "text": [
      "/home/joydeep/anaconda3/envs/venv/lib/python3.6/site-packages/sklearn/model_selection/_split.py:2010: FutureWarning: From version 0.21, test_size will always complement train_size unless both are specified.\n",
      "  FutureWarning)\n"
     ]
    },
    {
     "name": "stdout",
     "output_type": "stream",
     "text": [
      "(1467709, 11)\n",
      "(14826, 11)\n"
     ]
    }
   ],
   "source": [
    "# #EXTRACT DEVELOPTMENT TEST\n",
    "# dtrain, dvalid = train_test_split(train_df, random_state=123, train_size=0.99)\n",
    "# print(dtrain.shape)\n",
    "# print(dvalid.shape)"
   ]
  },
  {
   "cell_type": "code",
   "execution_count": 29,
   "metadata": {
    "collapsed": true
   },
   "outputs": [],
   "source": [
    "# x_dtrain = dtrain[['item_condition_id', 'category_name', 'shipping', 'name_seq', 'item_description_seq']]\n",
    "# y_dtrain = dtrain['price']\n",
    "# x_dval = dvalid[['item_condition_id', 'category_name', 'shipping', 'name_seq', 'item_description_seq']]\n",
    "# y_dval = dvalid['price']"
   ]
  },
  {
   "cell_type": "code",
   "execution_count": 18,
   "metadata": {
    "collapsed": true
   },
   "outputs": [],
   "source": [
    "# Function to calculate the RMSLE on the validation data\n",
    "def rmsle(y, y_pred):\n",
    "    assert len(y) == len(y_pred)\n",
    "    to_sum = [(math.log(y_pred[i] + 1) - math.log(y[i] + 1)) ** 2.0 for i,pred in enumerate(y_pred)]\n",
    "    return (sum(to_sum) * (1.0/len(y))) ** 0.5"
   ]
  },
  {
   "cell_type": "code",
   "execution_count": 30,
   "metadata": {},
   "outputs": [
    {
     "data": {
      "text/plain": [
       "(1467709,)"
      ]
     },
     "execution_count": 30,
     "metadata": {},
     "output_type": "execute_result"
    }
   ],
   "source": [
    "# y_dtrain.as_matrix().shape"
   ]
  },
  {
   "cell_type": "code",
   "execution_count": 22,
   "metadata": {},
   "outputs": [
    {
     "data": {
      "text/plain": [
       "Ridge(alpha=0.5, copy_X=True, fit_intercept=True, max_iter=None,\n",
       "   normalize=False, random_state=None, solver='auto', tol=0.001)"
      ]
     },
     "execution_count": 22,
     "metadata": {},
     "output_type": "execute_result"
    }
   ],
   "source": [
    "from sklearn import linear_model\n",
    "reg = linear_model.Ridge(alpha = .5)\n",
    "reg.fit (X_dtrain, y_dtrain) "
   ]
  },
  {
   "cell_type": "code",
   "execution_count": 26,
   "metadata": {},
   "outputs": [
    {
     "data": {
      "text/plain": [
       "(14826,)"
      ]
     },
     "execution_count": 26,
     "metadata": {},
     "output_type": "execute_result"
    }
   ],
   "source": [
    "predicted = reg.predict(X_dvalid)\n",
    "predicted.shape"
   ]
  },
  {
   "cell_type": "code",
   "execution_count": 27,
   "metadata": {},
   "outputs": [
    {
     "data": {
      "text/plain": [
       "(14826,)"
      ]
     },
     "execution_count": 27,
     "metadata": {},
     "output_type": "execute_result"
    }
   ],
   "source": [
    "y_dvalid.shape"
   ]
  },
  {
   "cell_type": "code",
   "execution_count": 29,
   "metadata": {},
   "outputs": [
    {
     "name": "stdout",
     "output_type": "stream",
     "text": [
      "the score got from a simple ridge regression is:\n",
      "0.8008651316147067\n"
     ]
    }
   ],
   "source": [
    "print('the score got from a simple ridge regression is:')\n",
    "print(rmsle(y_dvalid.as_matrix(), predicted))"
   ]
  },
  {
   "cell_type": "code",
   "execution_count": 34,
   "metadata": {},
   "outputs": [
    {
     "data": {
      "text/plain": [
       "<matplotlib.collections.PathCollection at 0x7fe420210da0>"
      ]
     },
     "execution_count": 34,
     "metadata": {},
     "output_type": "execute_result"
    },
    {
     "data": {
      "image/png": "[encoded data removed]",
      "text/plain": [
       "<matplotlib.figure.Figure at 0x7fe3e2b88a58>"
      ]
     },
     "metadata": {},
     "output_type": "display_data"
    }
   ],
   "source": [
    "axes = plt.gca()\n",
    "axes.set_ylim([0,100])\n",
    "plt.scatter(predicted,y_dvalid)"
   ]
  },
  {
   "cell_type": "code",
   "execution_count": null,
   "metadata": {
    "collapsed": true
   },
   "outputs": [],
   "source": [
    "!ls -ltr data"
   ]
  },
  {
   "cell_type": "code",
   "execution_count": null,
   "metadata": {
    "collapsed": true
   },
   "outputs": [],
   "source": [
    "### Implement and save submission\n",
    "data_val['Survived'] = voting_hard.predict(data_val[data1_x_bin])\n",
    "\n",
    "#submit file\n",
    "submit = data_val[['PassengerId','Survived']]\n",
    "submit.to_csv(\"data/mercari/submit.csv\", index=False)\n",
    "\n",
    "print('Validation Data Distribution: \\n', data_val['Survived'].value_counts(normalize = True))\n",
    "submit.sample(10)"
   ]
  }
 ],
 "metadata": {
  "kernelspec": {
   "display_name": "Python (venv)",
   "language": "python",
   "name": "venv"
  },
  "language_info": {
   "codemirror_mode": {
    "name": "ipython",
    "version": 3
   },
   "file_extension": ".py",
   "mimetype": "text/x-python",
   "name": "python",
   "nbconvert_exporter": "python",
   "pygments_lexer": "ipython3",
   "version": "3.6.2"
  }
 },
 "nbformat": 4,
 "nbformat_minor": 2
}
