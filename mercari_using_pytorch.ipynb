{
 "cells": [
  {
   "cell_type": "markdown",
   "metadata": {},
   "source": [
    "References:\n",
    "\n",
    "https://www.kaggle.com/kswamy15/mercari-using-pytorch\n",
    "\n",
    "http://scikit-learn.org/stable/modules/ensemble.html"
   ]
  },
  {
   "cell_type": "code",
   "execution_count": 1,
   "metadata": {
    "collapsed": true
   },
   "outputs": [],
   "source": [
    "import torch\n",
    "from torch.autograd import Variable\n",
    "from torch import optim\n",
    "from torch.optim import lr_scheduler\n",
    "from torch import nn as nn\n",
    "from torch.utils.data import Dataset, DataLoader\n",
    "from torchvision import transforms, utils\n",
    "import torch.nn.functional as F"
   ]
  },
  {
   "cell_type": "code",
   "execution_count": 2,
   "metadata": {
    "collapsed": true
   },
   "outputs": [],
   "source": [
    "import numpy as np\n",
    "import pandas as pd\n",
    "from time import time"
   ]
  },
  {
   "cell_type": "code",
   "execution_count": 62,
   "metadata": {
    "collapsed": true
   },
   "outputs": [],
   "source": [
    "import matplotlib.pyplot as plt\n",
    "import matplotlib.gridspec as gridspec\n",
    "import seaborn as sns\n",
    "from sklearn.preprocessing import LabelEncoder, MinMaxScaler, StandardScaler\n",
    "from sklearn.model_selection import train_test_split\n",
    "from sklearn.feature_extraction.text import TfidfVectorizer\n",
    "from sklearn.feature_selection import SelectFromModel\n",
    "from sklearn.feature_selection import SelectKBest, chi2\n",
    "from sklearn.linear_model import SGDClassifier\n",
    "from sklearn.linear_model import Perceptron\n",
    "from sklearn.linear_model import PassiveAggressiveClassifier\n",
    "from sklearn.linear_model import RidgeClassifier\n",
    "from sklearn.naive_bayes import BernoulliNB, MultinomialNB\n",
    "from sklearn.neighbors import KNeighborsClassifier\n",
    "from sklearn.neighbors import NearestCentroid\n",
    "from sklearn.ensemble import RandomForestClassifier\n",
    "from sklearn.ensemble import VotingClassifier\n",
    "from sklearn.pipeline import Pipeline\n",
    "from sklearn.svm import LinearSVC\n",
    "from sklearn.utils.extmath import density\n",
    "from sklearn import metrics\n",
    "import math\n",
    "%matplotlib inline"
   ]
  },
  {
   "cell_type": "code",
   "execution_count": 4,
   "metadata": {
    "collapsed": true
   },
   "outputs": [],
   "source": [
    "train_df = pd.read_csv('data/mercari/train.tsv', sep='\\t')\n",
    "test_df = pd.read_csv('data/mercari/test.tsv', sep='\\t')"
   ]
  },
  {
   "cell_type": "code",
   "execution_count": 5,
   "metadata": {},
   "outputs": [
    {
     "data": {
      "text/html": [
       "<div>\n",
       "<table border=\"1\" class=\"dataframe\">\n",
       "  <thead>\n",
       "    <tr style=\"text-align: right;\">\n",
       "      <th></th>\n",
       "      <th>train_id</th>\n",
       "      <th>item_condition_id</th>\n",
       "      <th>price</th>\n",
       "      <th>shipping</th>\n",
       "    </tr>\n",
       "  </thead>\n",
       "  <tbody>\n",
       "    <tr>\n",
       "      <th>count</th>\n",
       "      <td>1.482535e+06</td>\n",
       "      <td>1.482535e+06</td>\n",
       "      <td>1.482535e+06</td>\n",
       "      <td>1.482535e+06</td>\n",
       "    </tr>\n",
       "    <tr>\n",
       "      <th>mean</th>\n",
       "      <td>7.412670e+05</td>\n",
       "      <td>1.907380e+00</td>\n",
       "      <td>2.673752e+01</td>\n",
       "      <td>4.472744e-01</td>\n",
       "    </tr>\n",
       "    <tr>\n",
       "      <th>std</th>\n",
       "      <td>4.279711e+05</td>\n",
       "      <td>9.031586e-01</td>\n",
       "      <td>3.858607e+01</td>\n",
       "      <td>4.972124e-01</td>\n",
       "    </tr>\n",
       "    <tr>\n",
       "      <th>min</th>\n",
       "      <td>0.000000e+00</td>\n",
       "      <td>1.000000e+00</td>\n",
       "      <td>0.000000e+00</td>\n",
       "      <td>0.000000e+00</td>\n",
       "    </tr>\n",
       "    <tr>\n",
       "      <th>25%</th>\n",
       "      <td>3.706335e+05</td>\n",
       "      <td>1.000000e+00</td>\n",
       "      <td>1.000000e+01</td>\n",
       "      <td>0.000000e+00</td>\n",
       "    </tr>\n",
       "    <tr>\n",
       "      <th>50%</th>\n",
       "      <td>7.412670e+05</td>\n",
       "      <td>2.000000e+00</td>\n",
       "      <td>1.700000e+01</td>\n",
       "      <td>0.000000e+00</td>\n",
       "    </tr>\n",
       "    <tr>\n",
       "      <th>75%</th>\n",
       "      <td>1.111900e+06</td>\n",
       "      <td>3.000000e+00</td>\n",
       "      <td>2.900000e+01</td>\n",
       "      <td>1.000000e+00</td>\n",
       "    </tr>\n",
       "    <tr>\n",
       "      <th>max</th>\n",
       "      <td>1.482534e+06</td>\n",
       "      <td>5.000000e+00</td>\n",
       "      <td>2.009000e+03</td>\n",
       "      <td>1.000000e+00</td>\n",
       "    </tr>\n",
       "  </tbody>\n",
       "</table>\n",
       "</div>"
      ],
      "text/plain": [
       "           train_id  item_condition_id         price      shipping\n",
       "count  1.482535e+06       1.482535e+06  1.482535e+06  1.482535e+06\n",
       "mean   7.412670e+05       1.907380e+00  2.673752e+01  4.472744e-01\n",
       "std    4.279711e+05       9.031586e-01  3.858607e+01  4.972124e-01\n",
       "min    0.000000e+00       1.000000e+00  0.000000e+00  0.000000e+00\n",
       "25%    3.706335e+05       1.000000e+00  1.000000e+01  0.000000e+00\n",
       "50%    7.412670e+05       2.000000e+00  1.700000e+01  0.000000e+00\n",
       "75%    1.111900e+06       3.000000e+00  2.900000e+01  1.000000e+00\n",
       "max    1.482534e+06       5.000000e+00  2.009000e+03  1.000000e+00"
      ]
     },
     "execution_count": 5,
     "metadata": {},
     "output_type": "execute_result"
    }
   ],
   "source": [
    "train_df.describe()"
   ]
  },
  {
   "cell_type": "code",
   "execution_count": 6,
   "metadata": {},
   "outputs": [
    {
     "data": {
      "text/plain": [
       "(1482535, 8)"
      ]
     },
     "execution_count": 6,
     "metadata": {},
     "output_type": "execute_result"
    }
   ],
   "source": [
    "train_df.shape"
   ]
  },
  {
   "cell_type": "code",
   "execution_count": 7,
   "metadata": {
    "scrolled": true
   },
   "outputs": [
    {
     "data": {
      "text/html": [
       "<div>\n",
       "<table border=\"1\" class=\"dataframe\">\n",
       "  <thead>\n",
       "    <tr style=\"text-align: right;\">\n",
       "      <th></th>\n",
       "      <th>train_id</th>\n",
       "      <th>name</th>\n",
       "      <th>item_condition_id</th>\n",
       "      <th>category_name</th>\n",
       "      <th>brand_name</th>\n",
       "      <th>price</th>\n",
       "      <th>shipping</th>\n",
       "      <th>item_description</th>\n",
       "    </tr>\n",
       "  </thead>\n",
       "  <tbody>\n",
       "    <tr>\n",
       "      <th>0</th>\n",
       "      <td>0</td>\n",
       "      <td>MLB Cincinnati Reds T Shirt Size XL</td>\n",
       "      <td>3</td>\n",
       "      <td>Men/Tops/T-shirts</td>\n",
       "      <td>NaN</td>\n",
       "      <td>10.0</td>\n",
       "      <td>1</td>\n",
       "      <td>No description yet</td>\n",
       "    </tr>\n",
       "    <tr>\n",
       "      <th>1</th>\n",
       "      <td>1</td>\n",
       "      <td>Razer BlackWidow Chroma Keyboard</td>\n",
       "      <td>3</td>\n",
       "      <td>Electronics/Computers &amp; Tablets/Components &amp; P...</td>\n",
       "      <td>Razer</td>\n",
       "      <td>52.0</td>\n",
       "      <td>0</td>\n",
       "      <td>This keyboard is in great condition and works ...</td>\n",
       "    </tr>\n",
       "    <tr>\n",
       "      <th>2</th>\n",
       "      <td>2</td>\n",
       "      <td>AVA-VIV Blouse</td>\n",
       "      <td>1</td>\n",
       "      <td>Women/Tops &amp; Blouses/Blouse</td>\n",
       "      <td>Target</td>\n",
       "      <td>10.0</td>\n",
       "      <td>1</td>\n",
       "      <td>Adorable top with a hint of lace and a key hol...</td>\n",
       "    </tr>\n",
       "    <tr>\n",
       "      <th>3</th>\n",
       "      <td>3</td>\n",
       "      <td>Leather Horse Statues</td>\n",
       "      <td>1</td>\n",
       "      <td>Home/Home Décor/Home Décor Accents</td>\n",
       "      <td>NaN</td>\n",
       "      <td>35.0</td>\n",
       "      <td>1</td>\n",
       "      <td>New with tags. Leather horses. Retail for [rm]...</td>\n",
       "    </tr>\n",
       "    <tr>\n",
       "      <th>4</th>\n",
       "      <td>4</td>\n",
       "      <td>24K GOLD plated rose</td>\n",
       "      <td>1</td>\n",
       "      <td>Women/Jewelry/Necklaces</td>\n",
       "      <td>NaN</td>\n",
       "      <td>44.0</td>\n",
       "      <td>0</td>\n",
       "      <td>Complete with certificate of authenticity</td>\n",
       "    </tr>\n",
       "  </tbody>\n",
       "</table>\n",
       "</div>"
      ],
      "text/plain": [
       "   train_id                                 name  item_condition_id  \\\n",
       "0         0  MLB Cincinnati Reds T Shirt Size XL                  3   \n",
       "1         1     Razer BlackWidow Chroma Keyboard                  3   \n",
       "2         2                       AVA-VIV Blouse                  1   \n",
       "3         3                Leather Horse Statues                  1   \n",
       "4         4                 24K GOLD plated rose                  1   \n",
       "\n",
       "                                       category_name brand_name  price  \\\n",
       "0                                  Men/Tops/T-shirts        NaN   10.0   \n",
       "1  Electronics/Computers & Tablets/Components & P...      Razer   52.0   \n",
       "2                        Women/Tops & Blouses/Blouse     Target   10.0   \n",
       "3                 Home/Home Décor/Home Décor Accents        NaN   35.0   \n",
       "4                            Women/Jewelry/Necklaces        NaN   44.0   \n",
       "\n",
       "   shipping                                   item_description  \n",
       "0         1                                 No description yet  \n",
       "1         0  This keyboard is in great condition and works ...  \n",
       "2         1  Adorable top with a hint of lace and a key hol...  \n",
       "3         1  New with tags. Leather horses. Retail for [rm]...  \n",
       "4         0          Complete with certificate of authenticity  "
      ]
     },
     "execution_count": 7,
     "metadata": {},
     "output_type": "execute_result"
    }
   ],
   "source": [
    "train_df.head()"
   ]
  },
  {
   "cell_type": "code",
   "execution_count": 8,
   "metadata": {},
   "outputs": [
    {
     "name": "stdout",
     "output_type": "stream",
     "text": [
      "Train columns with null values:\n",
      " train_id                  0\n",
      "name                      0\n",
      "item_condition_id         0\n",
      "category_name          6327\n",
      "brand_name           632682\n",
      "price                     0\n",
      "shipping                  0\n",
      "item_description          4\n",
      "dtype: int64\n",
      "----------\n",
      "Test/Validation columns with null values:\n",
      " test_id                   0\n",
      "name                      0\n",
      "item_condition_id         0\n",
      "category_name          3058\n",
      "brand_name           295525\n",
      "shipping                  0\n",
      "item_description          0\n",
      "dtype: int64\n",
      "----------\n"
     ]
    },
    {
     "data": {
      "text/html": [
       "<div>\n",
       "<table border=\"1\" class=\"dataframe\">\n",
       "  <thead>\n",
       "    <tr style=\"text-align: right;\">\n",
       "      <th></th>\n",
       "      <th>train_id</th>\n",
       "      <th>name</th>\n",
       "      <th>item_condition_id</th>\n",
       "      <th>category_name</th>\n",
       "      <th>brand_name</th>\n",
       "      <th>price</th>\n",
       "      <th>shipping</th>\n",
       "      <th>item_description</th>\n",
       "    </tr>\n",
       "  </thead>\n",
       "  <tbody>\n",
       "    <tr>\n",
       "      <th>count</th>\n",
       "      <td>1.482535e+06</td>\n",
       "      <td>1482535</td>\n",
       "      <td>1.482535e+06</td>\n",
       "      <td>1476208</td>\n",
       "      <td>849853</td>\n",
       "      <td>1.482535e+06</td>\n",
       "      <td>1.482535e+06</td>\n",
       "      <td>1482531</td>\n",
       "    </tr>\n",
       "    <tr>\n",
       "      <th>unique</th>\n",
       "      <td>NaN</td>\n",
       "      <td>1225273</td>\n",
       "      <td>NaN</td>\n",
       "      <td>1287</td>\n",
       "      <td>4809</td>\n",
       "      <td>NaN</td>\n",
       "      <td>NaN</td>\n",
       "      <td>1281426</td>\n",
       "    </tr>\n",
       "    <tr>\n",
       "      <th>top</th>\n",
       "      <td>NaN</td>\n",
       "      <td>Bundle</td>\n",
       "      <td>NaN</td>\n",
       "      <td>Women/Athletic Apparel/Pants, Tights, Leggings</td>\n",
       "      <td>PINK</td>\n",
       "      <td>NaN</td>\n",
       "      <td>NaN</td>\n",
       "      <td>No description yet</td>\n",
       "    </tr>\n",
       "    <tr>\n",
       "      <th>freq</th>\n",
       "      <td>NaN</td>\n",
       "      <td>2232</td>\n",
       "      <td>NaN</td>\n",
       "      <td>60177</td>\n",
       "      <td>54088</td>\n",
       "      <td>NaN</td>\n",
       "      <td>NaN</td>\n",
       "      <td>82489</td>\n",
       "    </tr>\n",
       "    <tr>\n",
       "      <th>mean</th>\n",
       "      <td>7.412670e+05</td>\n",
       "      <td>NaN</td>\n",
       "      <td>1.907380e+00</td>\n",
       "      <td>NaN</td>\n",
       "      <td>NaN</td>\n",
       "      <td>2.673752e+01</td>\n",
       "      <td>4.472744e-01</td>\n",
       "      <td>NaN</td>\n",
       "    </tr>\n",
       "    <tr>\n",
       "      <th>std</th>\n",
       "      <td>4.279711e+05</td>\n",
       "      <td>NaN</td>\n",
       "      <td>9.031586e-01</td>\n",
       "      <td>NaN</td>\n",
       "      <td>NaN</td>\n",
       "      <td>3.858607e+01</td>\n",
       "      <td>4.972124e-01</td>\n",
       "      <td>NaN</td>\n",
       "    </tr>\n",
       "    <tr>\n",
       "      <th>min</th>\n",
       "      <td>0.000000e+00</td>\n",
       "      <td>NaN</td>\n",
       "      <td>1.000000e+00</td>\n",
       "      <td>NaN</td>\n",
       "      <td>NaN</td>\n",
       "      <td>0.000000e+00</td>\n",
       "      <td>0.000000e+00</td>\n",
       "      <td>NaN</td>\n",
       "    </tr>\n",
       "    <tr>\n",
       "      <th>25%</th>\n",
       "      <td>3.706335e+05</td>\n",
       "      <td>NaN</td>\n",
       "      <td>1.000000e+00</td>\n",
       "      <td>NaN</td>\n",
       "      <td>NaN</td>\n",
       "      <td>1.000000e+01</td>\n",
       "      <td>0.000000e+00</td>\n",
       "      <td>NaN</td>\n",
       "    </tr>\n",
       "    <tr>\n",
       "      <th>50%</th>\n",
       "      <td>7.412670e+05</td>\n",
       "      <td>NaN</td>\n",
       "      <td>2.000000e+00</td>\n",
       "      <td>NaN</td>\n",
       "      <td>NaN</td>\n",
       "      <td>1.700000e+01</td>\n",
       "      <td>0.000000e+00</td>\n",
       "      <td>NaN</td>\n",
       "    </tr>\n",
       "    <tr>\n",
       "      <th>75%</th>\n",
       "      <td>1.111900e+06</td>\n",
       "      <td>NaN</td>\n",
       "      <td>3.000000e+00</td>\n",
       "      <td>NaN</td>\n",
       "      <td>NaN</td>\n",
       "      <td>2.900000e+01</td>\n",
       "      <td>1.000000e+00</td>\n",
       "      <td>NaN</td>\n",
       "    </tr>\n",
       "    <tr>\n",
       "      <th>max</th>\n",
       "      <td>1.482534e+06</td>\n",
       "      <td>NaN</td>\n",
       "      <td>5.000000e+00</td>\n",
       "      <td>NaN</td>\n",
       "      <td>NaN</td>\n",
       "      <td>2.009000e+03</td>\n",
       "      <td>1.000000e+00</td>\n",
       "      <td>NaN</td>\n",
       "    </tr>\n",
       "  </tbody>\n",
       "</table>\n",
       "</div>"
      ],
      "text/plain": [
       "            train_id     name  item_condition_id  \\\n",
       "count   1.482535e+06  1482535       1.482535e+06   \n",
       "unique           NaN  1225273                NaN   \n",
       "top              NaN   Bundle                NaN   \n",
       "freq             NaN     2232                NaN   \n",
       "mean    7.412670e+05      NaN       1.907380e+00   \n",
       "std     4.279711e+05      NaN       9.031586e-01   \n",
       "min     0.000000e+00      NaN       1.000000e+00   \n",
       "25%     3.706335e+05      NaN       1.000000e+00   \n",
       "50%     7.412670e+05      NaN       2.000000e+00   \n",
       "75%     1.111900e+06      NaN       3.000000e+00   \n",
       "max     1.482534e+06      NaN       5.000000e+00   \n",
       "\n",
       "                                         category_name brand_name  \\\n",
       "count                                          1476208     849853   \n",
       "unique                                            1287       4809   \n",
       "top     Women/Athletic Apparel/Pants, Tights, Leggings       PINK   \n",
       "freq                                             60177      54088   \n",
       "mean                                               NaN        NaN   \n",
       "std                                                NaN        NaN   \n",
       "min                                                NaN        NaN   \n",
       "25%                                                NaN        NaN   \n",
       "50%                                                NaN        NaN   \n",
       "75%                                                NaN        NaN   \n",
       "max                                                NaN        NaN   \n",
       "\n",
       "               price      shipping    item_description  \n",
       "count   1.482535e+06  1.482535e+06             1482531  \n",
       "unique           NaN           NaN             1281426  \n",
       "top              NaN           NaN  No description yet  \n",
       "freq             NaN           NaN               82489  \n",
       "mean    2.673752e+01  4.472744e-01                 NaN  \n",
       "std     3.858607e+01  4.972124e-01                 NaN  \n",
       "min     0.000000e+00  0.000000e+00                 NaN  \n",
       "25%     1.000000e+01  0.000000e+00                 NaN  \n",
       "50%     1.700000e+01  0.000000e+00                 NaN  \n",
       "75%     2.900000e+01  1.000000e+00                 NaN  \n",
       "max     2.009000e+03  1.000000e+00                 NaN  "
      ]
     },
     "execution_count": 8,
     "metadata": {},
     "output_type": "execute_result"
    }
   ],
   "source": [
    "print('Train columns with null values:\\n', train_df.isnull().sum())\n",
    "print(\"-\"*10)\n",
    "\n",
    "print('Test/Validation columns with null values:\\n', test_df.isnull().sum())\n",
    "print(\"-\"*10)\n",
    "\n",
    "train_df.describe(include = 'all')"
   ]
  },
  {
   "cell_type": "markdown",
   "metadata": {},
   "source": [
    "Calculate how much of the brand names are not there."
   ]
  },
  {
   "cell_type": "code",
   "execution_count": 9,
   "metadata": {},
   "outputs": [
    {
     "name": "stdout",
     "output_type": "stream",
     "text": [
      "0.4267568725190299\n"
     ]
    }
   ],
   "source": [
    "print(632682/train_df.shape[0])"
   ]
  },
  {
   "cell_type": "markdown",
   "metadata": {},
   "source": [
    "Around 50% is not there hence we should probably not consider this."
   ]
  },
  {
   "cell_type": "code",
   "execution_count": 10,
   "metadata": {
    "collapsed": true
   },
   "outputs": [],
   "source": [
    "train_df = train_df.drop(['brand_name'], axis=1)\n",
    "test_df = test_df.drop(['brand_name'], axis=1)"
   ]
  },
  {
   "cell_type": "markdown",
   "metadata": {},
   "source": [
    "# categories"
   ]
  },
  {
   "cell_type": "markdown",
   "metadata": {},
   "source": [
    "We need to check how many categories there are"
   ]
  },
  {
   "cell_type": "code",
   "execution_count": 11,
   "metadata": {
    "collapsed": true
   },
   "outputs": [],
   "source": [
    "# Merge the two dataframes\n",
    "frames = [train_df, test_df]\n",
    "combined_df = pd.concat(frames)"
   ]
  },
  {
   "cell_type": "code",
   "execution_count": 12,
   "metadata": {
    "collapsed": true
   },
   "outputs": [],
   "source": [
    "combined_cat_df = combined_df['category_name']\n",
    "def split_cat(text):\n",
    "    try: return text.split(\"/\")\n",
    "    except: pass\n",
    "\n",
    "combined_cat_df = combined_cat_df.apply(lambda x: split_cat(x))"
   ]
  },
  {
   "cell_type": "code",
   "execution_count": 13,
   "metadata": {
    "collapsed": true
   },
   "outputs": [],
   "source": [
    "def no_of_cats(cat_list):\n",
    "    try: return len(cat_list)\n",
    "    except: return 0\n",
    "    \n",
    "no_of_cats = pd.DataFrame(combined_cat_df.apply(lambda x: no_of_cats(x)))"
   ]
  },
  {
   "cell_type": "code",
   "execution_count": 14,
   "metadata": {},
   "outputs": [
    {
     "name": "stdout",
     "output_type": "stream",
     "text": [
      "239\n",
      "there are a maximum of 5 categories and this is happened in row:\n"
     ]
    },
    {
     "data": {
      "text/html": [
       "<div>\n",
       "<table border=\"1\" class=\"dataframe\">\n",
       "  <thead>\n",
       "    <tr style=\"text-align: right;\">\n",
       "      <th></th>\n",
       "      <th>category_name</th>\n",
       "      <th>item_condition_id</th>\n",
       "      <th>item_description</th>\n",
       "      <th>name</th>\n",
       "      <th>price</th>\n",
       "      <th>shipping</th>\n",
       "      <th>test_id</th>\n",
       "      <th>train_id</th>\n",
       "    </tr>\n",
       "  </thead>\n",
       "  <tbody>\n",
       "    <tr>\n",
       "      <th>239</th>\n",
       "      <td>Electronics/Computers &amp; Tablets/iPad/Tablet/eB...</td>\n",
       "      <td>1</td>\n",
       "      <td>Zag invisible shield for IPad air</td>\n",
       "      <td>Zagg invisible shield for IPad air</td>\n",
       "      <td>10.0</td>\n",
       "      <td>1</td>\n",
       "      <td>NaN</td>\n",
       "      <td>239.0</td>\n",
       "    </tr>\n",
       "  </tbody>\n",
       "</table>\n",
       "</div>"
      ],
      "text/plain": [
       "                                         category_name  item_condition_id  \\\n",
       "239  Electronics/Computers & Tablets/iPad/Tablet/eB...                  1   \n",
       "\n",
       "                      item_description                                name  \\\n",
       "239  Zag invisible shield for IPad air  Zagg invisible shield for IPad air   \n",
       "\n",
       "     price  shipping  test_id  train_id  \n",
       "239   10.0         1      NaN     239.0  "
      ]
     },
     "execution_count": 14,
     "metadata": {},
     "output_type": "execute_result"
    }
   ],
   "source": [
    "# no_of_cats['category_name'].max(axis=1)\n",
    "index_whr_max_categories = no_of_cats['category_name'].argmax()\n",
    "print(index_whr_max_categories)\n",
    "max_num_of_categories = len(split_cat(combined_df.iloc[[index_whr_max_categories]]['category_name'].tolist()[0]))\n",
    "print('there are a maximum of {} categories and this is happened in row:'.format(max_num_of_categories))\n",
    "combined_df.iloc[[index_whr_max_categories]]"
   ]
  },
  {
   "cell_type": "code",
   "execution_count": 15,
   "metadata": {
    "collapsed": true
   },
   "outputs": [],
   "source": [
    "def split_cat(text, max_num_of_categories):\n",
    "    return_val = [\"None\"] * max_num_of_categories\n",
    "    try:\n",
    "        text_list = text.split(\"/\") + return_val\n",
    "        return text_list[:max_num_of_categories]\n",
    "    except:\n",
    "        return return_val"
   ]
  },
  {
   "cell_type": "markdown",
   "metadata": {},
   "source": [
    "Change the category name for train and test and total dataframes"
   ]
  },
  {
   "cell_type": "code",
   "execution_count": 16,
   "metadata": {
    "collapsed": true
   },
   "outputs": [],
   "source": [
    "train_df['category_name'] = train_df['category_name'].apply(lambda x: split_cat(x, max_num_of_categories))\n",
    "test_df['category_name'] = test_df['category_name'].apply(lambda x: split_cat(x, max_num_of_categories))\n",
    "combined_df['category_name'] = combined_df['category_name'].apply(lambda x: split_cat(x, max_num_of_categories))"
   ]
  },
  {
   "cell_type": "code",
   "execution_count": 17,
   "metadata": {},
   "outputs": [
    {
     "data": {
      "text/html": [
       "<div>\n",
       "<table border=\"1\" class=\"dataframe\">\n",
       "  <thead>\n",
       "    <tr style=\"text-align: right;\">\n",
       "      <th></th>\n",
       "      <th>train_id</th>\n",
       "      <th>name</th>\n",
       "      <th>item_condition_id</th>\n",
       "      <th>category_name</th>\n",
       "      <th>price</th>\n",
       "      <th>shipping</th>\n",
       "      <th>item_description</th>\n",
       "    </tr>\n",
       "  </thead>\n",
       "  <tbody>\n",
       "    <tr>\n",
       "      <th>0</th>\n",
       "      <td>0</td>\n",
       "      <td>MLB Cincinnati Reds T Shirt Size XL</td>\n",
       "      <td>3</td>\n",
       "      <td>[Men, Tops, T-shirts, None, None]</td>\n",
       "      <td>10.0</td>\n",
       "      <td>1</td>\n",
       "      <td>No description yet</td>\n",
       "    </tr>\n",
       "    <tr>\n",
       "      <th>1</th>\n",
       "      <td>1</td>\n",
       "      <td>Razer BlackWidow Chroma Keyboard</td>\n",
       "      <td>3</td>\n",
       "      <td>[Electronics, Computers &amp; Tablets, Components ...</td>\n",
       "      <td>52.0</td>\n",
       "      <td>0</td>\n",
       "      <td>This keyboard is in great condition and works ...</td>\n",
       "    </tr>\n",
       "    <tr>\n",
       "      <th>2</th>\n",
       "      <td>2</td>\n",
       "      <td>AVA-VIV Blouse</td>\n",
       "      <td>1</td>\n",
       "      <td>[Women, Tops &amp; Blouses, Blouse, None, None]</td>\n",
       "      <td>10.0</td>\n",
       "      <td>1</td>\n",
       "      <td>Adorable top with a hint of lace and a key hol...</td>\n",
       "    </tr>\n",
       "    <tr>\n",
       "      <th>3</th>\n",
       "      <td>3</td>\n",
       "      <td>Leather Horse Statues</td>\n",
       "      <td>1</td>\n",
       "      <td>[Home, Home Décor, Home Décor Accents, None, N...</td>\n",
       "      <td>35.0</td>\n",
       "      <td>1</td>\n",
       "      <td>New with tags. Leather horses. Retail for [rm]...</td>\n",
       "    </tr>\n",
       "    <tr>\n",
       "      <th>4</th>\n",
       "      <td>4</td>\n",
       "      <td>24K GOLD plated rose</td>\n",
       "      <td>1</td>\n",
       "      <td>[Women, Jewelry, Necklaces, None, None]</td>\n",
       "      <td>44.0</td>\n",
       "      <td>0</td>\n",
       "      <td>Complete with certificate of authenticity</td>\n",
       "    </tr>\n",
       "  </tbody>\n",
       "</table>\n",
       "</div>"
      ],
      "text/plain": [
       "   train_id                                 name  item_condition_id  \\\n",
       "0         0  MLB Cincinnati Reds T Shirt Size XL                  3   \n",
       "1         1     Razer BlackWidow Chroma Keyboard                  3   \n",
       "2         2                       AVA-VIV Blouse                  1   \n",
       "3         3                Leather Horse Statues                  1   \n",
       "4         4                 24K GOLD plated rose                  1   \n",
       "\n",
       "                                       category_name  price  shipping  \\\n",
       "0                  [Men, Tops, T-shirts, None, None]   10.0         1   \n",
       "1  [Electronics, Computers & Tablets, Components ...   52.0         0   \n",
       "2        [Women, Tops & Blouses, Blouse, None, None]   10.0         1   \n",
       "3  [Home, Home Décor, Home Décor Accents, None, N...   35.0         1   \n",
       "4            [Women, Jewelry, Necklaces, None, None]   44.0         0   \n",
       "\n",
       "                                    item_description  \n",
       "0                                 No description yet  \n",
       "1  This keyboard is in great condition and works ...  \n",
       "2  Adorable top with a hint of lace and a key hol...  \n",
       "3  New with tags. Leather horses. Retail for [rm]...  \n",
       "4          Complete with certificate of authenticity  "
      ]
     },
     "execution_count": 17,
     "metadata": {},
     "output_type": "execute_result"
    }
   ],
   "source": [
    "train_df.head()"
   ]
  },
  {
   "cell_type": "markdown",
   "metadata": {},
   "source": [
    "now we know that there are 5 categories so we will try to find the unknown ones category per category. so we will make predictions based on the 5 categories"
   ]
  },
  {
   "cell_type": "markdown",
   "metadata": {},
   "source": [
    "### Running category encoding on the first category"
   ]
  },
  {
   "cell_type": "code",
   "execution_count": 18,
   "metadata": {
    "collapsed": true
   },
   "outputs": [],
   "source": [
    "combined_cat1_list = [x[0] for x in combined_df['category_name'].tolist()]\n",
    "combined_cat1_list = [x for x in combined_cat1_list if not x == 'None']"
   ]
  },
  {
   "cell_type": "code",
   "execution_count": 19,
   "metadata": {},
   "outputs": [
    {
     "data": {
      "text/plain": [
       "LabelEncoder()"
      ]
     },
     "execution_count": 19,
     "metadata": {},
     "output_type": "execute_result"
    }
   ],
   "source": [
    "cat1_le = LabelEncoder()\n",
    "cat1_le.fit(combined_cat1_list)"
   ]
  },
  {
   "cell_type": "code",
   "execution_count": 20,
   "metadata": {},
   "outputs": [
    {
     "data": {
      "text/plain": [
       "array([5, 1, 9, 3, 9])"
      ]
     },
     "execution_count": 20,
     "metadata": {},
     "output_type": "execute_result"
    }
   ],
   "source": [
    "cat1_le.transform(['Men', 'Electronics', 'Women', 'Home', 'Women'])"
   ]
  },
  {
   "cell_type": "code",
   "execution_count": 21,
   "metadata": {},
   "outputs": [
    {
     "data": {
      "text/plain": [
       "array(['Men', 'Electronics', 'Women', 'Home', 'Women'], \n",
       "      dtype='<U22')"
      ]
     },
     "execution_count": 21,
     "metadata": {},
     "output_type": "execute_result"
    }
   ],
   "source": [
    "cat1_le.inverse_transform([5, 1, 9, 3, 9])"
   ]
  },
  {
   "cell_type": "markdown",
   "metadata": {},
   "source": [
    "Thus we are able to build a label encoder state space for the first category"
   ]
  },
  {
   "cell_type": "code",
   "execution_count": 22,
   "metadata": {
    "collapsed": true
   },
   "outputs": [],
   "source": [
    "def convert_catname_cat1(le, catlist):\n",
    "    try:\n",
    "        return le.transform(catlist[:1])[0]\n",
    "    except:\n",
    "        return np.nan"
   ]
  },
  {
   "cell_type": "code",
   "execution_count": 23,
   "metadata": {
    "collapsed": true
   },
   "outputs": [],
   "source": [
    "train_df['category_name'] = train_df['category_name'].apply(lambda x: convert_catname_cat1(cat1_le, x))"
   ]
  },
  {
   "cell_type": "code",
   "execution_count": 24,
   "metadata": {},
   "outputs": [
    {
     "data": {
      "text/html": [
       "<div>\n",
       "<table border=\"1\" class=\"dataframe\">\n",
       "  <thead>\n",
       "    <tr style=\"text-align: right;\">\n",
       "      <th></th>\n",
       "      <th>train_id</th>\n",
       "      <th>name</th>\n",
       "      <th>item_condition_id</th>\n",
       "      <th>category_name</th>\n",
       "      <th>price</th>\n",
       "      <th>shipping</th>\n",
       "      <th>item_description</th>\n",
       "    </tr>\n",
       "  </thead>\n",
       "  <tbody>\n",
       "    <tr>\n",
       "      <th>0</th>\n",
       "      <td>0</td>\n",
       "      <td>MLB Cincinnati Reds T Shirt Size XL</td>\n",
       "      <td>3</td>\n",
       "      <td>5.0</td>\n",
       "      <td>10.0</td>\n",
       "      <td>1</td>\n",
       "      <td>No description yet</td>\n",
       "    </tr>\n",
       "    <tr>\n",
       "      <th>1</th>\n",
       "      <td>1</td>\n",
       "      <td>Razer BlackWidow Chroma Keyboard</td>\n",
       "      <td>3</td>\n",
       "      <td>1.0</td>\n",
       "      <td>52.0</td>\n",
       "      <td>0</td>\n",
       "      <td>This keyboard is in great condition and works ...</td>\n",
       "    </tr>\n",
       "    <tr>\n",
       "      <th>2</th>\n",
       "      <td>2</td>\n",
       "      <td>AVA-VIV Blouse</td>\n",
       "      <td>1</td>\n",
       "      <td>9.0</td>\n",
       "      <td>10.0</td>\n",
       "      <td>1</td>\n",
       "      <td>Adorable top with a hint of lace and a key hol...</td>\n",
       "    </tr>\n",
       "    <tr>\n",
       "      <th>3</th>\n",
       "      <td>3</td>\n",
       "      <td>Leather Horse Statues</td>\n",
       "      <td>1</td>\n",
       "      <td>3.0</td>\n",
       "      <td>35.0</td>\n",
       "      <td>1</td>\n",
       "      <td>New with tags. Leather horses. Retail for [rm]...</td>\n",
       "    </tr>\n",
       "    <tr>\n",
       "      <th>4</th>\n",
       "      <td>4</td>\n",
       "      <td>24K GOLD plated rose</td>\n",
       "      <td>1</td>\n",
       "      <td>9.0</td>\n",
       "      <td>44.0</td>\n",
       "      <td>0</td>\n",
       "      <td>Complete with certificate of authenticity</td>\n",
       "    </tr>\n",
       "  </tbody>\n",
       "</table>\n",
       "</div>"
      ],
      "text/plain": [
       "   train_id                                 name  item_condition_id  \\\n",
       "0         0  MLB Cincinnati Reds T Shirt Size XL                  3   \n",
       "1         1     Razer BlackWidow Chroma Keyboard                  3   \n",
       "2         2                       AVA-VIV Blouse                  1   \n",
       "3         3                Leather Horse Statues                  1   \n",
       "4         4                 24K GOLD plated rose                  1   \n",
       "\n",
       "   category_name  price  shipping  \\\n",
       "0            5.0   10.0         1   \n",
       "1            1.0   52.0         0   \n",
       "2            9.0   10.0         1   \n",
       "3            3.0   35.0         1   \n",
       "4            9.0   44.0         0   \n",
       "\n",
       "                                    item_description  \n",
       "0                                 No description yet  \n",
       "1  This keyboard is in great condition and works ...  \n",
       "2  Adorable top with a hint of lace and a key hol...  \n",
       "3  New with tags. Leather horses. Retail for [rm]...  \n",
       "4          Complete with certificate of authenticity  "
      ]
     },
     "execution_count": 24,
     "metadata": {},
     "output_type": "execute_result"
    }
   ],
   "source": [
    "train_df.head()"
   ]
  },
  {
   "cell_type": "markdown",
   "metadata": {
    "collapsed": true
   },
   "source": [
    "There are some null values in item description so will need to make fill them"
   ]
  },
  {
   "cell_type": "code",
   "execution_count": 25,
   "metadata": {},
   "outputs": [
    {
     "data": {
      "text/html": [
       "<div>\n",
       "<table border=\"1\" class=\"dataframe\">\n",
       "  <thead>\n",
       "    <tr style=\"text-align: right;\">\n",
       "      <th></th>\n",
       "      <th>train_id</th>\n",
       "      <th>name</th>\n",
       "      <th>item_condition_id</th>\n",
       "      <th>category_name</th>\n",
       "      <th>price</th>\n",
       "      <th>shipping</th>\n",
       "      <th>item_description</th>\n",
       "    </tr>\n",
       "  </thead>\n",
       "  <tbody>\n",
       "    <tr>\n",
       "      <th>511535</th>\n",
       "      <td>511535</td>\n",
       "      <td>Shoes for Michelle</td>\n",
       "      <td>4</td>\n",
       "      <td>4.0</td>\n",
       "      <td>9.0</td>\n",
       "      <td>0</td>\n",
       "      <td>NaN</td>\n",
       "    </tr>\n",
       "    <tr>\n",
       "      <th>861230</th>\n",
       "      <td>861230</td>\n",
       "      <td>Lipgloss</td>\n",
       "      <td>4</td>\n",
       "      <td>0.0</td>\n",
       "      <td>49.0</td>\n",
       "      <td>0</td>\n",
       "      <td>NaN</td>\n",
       "    </tr>\n",
       "    <tr>\n",
       "      <th>1224924</th>\n",
       "      <td>1224924</td>\n",
       "      <td>Disney Minnie Head band</td>\n",
       "      <td>3</td>\n",
       "      <td>9.0</td>\n",
       "      <td>9.0</td>\n",
       "      <td>0</td>\n",
       "      <td>NaN</td>\n",
       "    </tr>\n",
       "    <tr>\n",
       "      <th>1264242</th>\n",
       "      <td>1264242</td>\n",
       "      <td>For Bianca</td>\n",
       "      <td>3</td>\n",
       "      <td>9.0</td>\n",
       "      <td>10.0</td>\n",
       "      <td>1</td>\n",
       "      <td>NaN</td>\n",
       "    </tr>\n",
       "  </tbody>\n",
       "</table>\n",
       "</div>"
      ],
      "text/plain": [
       "         train_id                     name  item_condition_id  category_name  \\\n",
       "511535     511535       Shoes for Michelle                  4            4.0   \n",
       "861230     861230                 Lipgloss                  4            0.0   \n",
       "1224924   1224924  Disney Minnie Head band                  3            9.0   \n",
       "1264242   1264242               For Bianca                  3            9.0   \n",
       "\n",
       "         price  shipping item_description  \n",
       "511535     9.0         0              NaN  \n",
       "861230    49.0         0              NaN  \n",
       "1224924    9.0         0              NaN  \n",
       "1264242   10.0         1              NaN  "
      ]
     },
     "execution_count": 25,
     "metadata": {},
     "output_type": "execute_result"
    }
   ],
   "source": [
    "train_df[train_df['item_description'].isnull()]"
   ]
  },
  {
   "cell_type": "code",
   "execution_count": 26,
   "metadata": {
    "collapsed": true
   },
   "outputs": [],
   "source": [
    "train_df['item_description'] = train_df['item_description'].fillna(\"\")"
   ]
  },
  {
   "cell_type": "code",
   "execution_count": 27,
   "metadata": {},
   "outputs": [
    {
     "data": {
      "text/html": [
       "<div>\n",
       "<table border=\"1\" class=\"dataframe\">\n",
       "  <thead>\n",
       "    <tr style=\"text-align: right;\">\n",
       "      <th></th>\n",
       "      <th>train_id</th>\n",
       "      <th>name</th>\n",
       "      <th>item_condition_id</th>\n",
       "      <th>category_name</th>\n",
       "      <th>price</th>\n",
       "      <th>shipping</th>\n",
       "      <th>item_description</th>\n",
       "    </tr>\n",
       "  </thead>\n",
       "  <tbody>\n",
       "  </tbody>\n",
       "</table>\n",
       "</div>"
      ],
      "text/plain": [
       "Empty DataFrame\n",
       "Columns: [train_id, name, item_condition_id, category_name, price, shipping, item_description]\n",
       "Index: []"
      ]
     },
     "execution_count": 27,
     "metadata": {},
     "output_type": "execute_result"
    }
   ],
   "source": [
    "train_df[train_df['item_description'].isnull()]"
   ]
  },
  {
   "cell_type": "markdown",
   "metadata": {},
   "source": [
    "No null values in item description"
   ]
  },
  {
   "cell_type": "code",
   "execution_count": 28,
   "metadata": {},
   "outputs": [
    {
     "data": {
      "text/html": [
       "<div>\n",
       "<table border=\"1\" class=\"dataframe\">\n",
       "  <thead>\n",
       "    <tr style=\"text-align: right;\">\n",
       "      <th></th>\n",
       "      <th>train_id</th>\n",
       "      <th>name</th>\n",
       "      <th>item_condition_id</th>\n",
       "      <th>category_name</th>\n",
       "      <th>price</th>\n",
       "      <th>shipping</th>\n",
       "      <th>item_description</th>\n",
       "    </tr>\n",
       "  </thead>\n",
       "  <tbody>\n",
       "    <tr>\n",
       "      <th>122</th>\n",
       "      <td>122</td>\n",
       "      <td>Bundle</td>\n",
       "      <td>3</td>\n",
       "      <td>NaN</td>\n",
       "      <td>59.0</td>\n",
       "      <td>0</td>\n",
       "      <td>Sizes and info of clothes can be found on thei...</td>\n",
       "    </tr>\n",
       "    <tr>\n",
       "      <th>155</th>\n",
       "      <td>155</td>\n",
       "      <td>3 Nora Roberts Books</td>\n",
       "      <td>3</td>\n",
       "      <td>NaN</td>\n",
       "      <td>10.0</td>\n",
       "      <td>1</td>\n",
       "      <td>For aferg16.</td>\n",
       "    </tr>\n",
       "    <tr>\n",
       "      <th>258</th>\n",
       "      <td>258</td>\n",
       "      <td>ACER Laptop</td>\n",
       "      <td>5</td>\n",
       "      <td>NaN</td>\n",
       "      <td>14.0</td>\n",
       "      <td>0</td>\n",
       "      <td>Powers on, no screen display, no external dama...</td>\n",
       "    </tr>\n",
       "    <tr>\n",
       "      <th>984</th>\n",
       "      <td>984</td>\n",
       "      <td>AUTHENTIC BRWN MICHAEL KORS MAKEUP STAIN</td>\n",
       "      <td>4</td>\n",
       "      <td>NaN</td>\n",
       "      <td>18.0</td>\n",
       "      <td>0</td>\n",
       "      <td>No description yet</td>\n",
       "    </tr>\n",
       "    <tr>\n",
       "      <th>1185</th>\n",
       "      <td>1185</td>\n",
       "      <td>Teenage Mutant Ninja Turtle Van/ Extras</td>\n",
       "      <td>3</td>\n",
       "      <td>NaN</td>\n",
       "      <td>9.0</td>\n",
       "      <td>0</td>\n",
       "      <td>Teenage Mutant Ninja Turtle Van, April O'Neil ...</td>\n",
       "    </tr>\n",
       "  </tbody>\n",
       "</table>\n",
       "</div>"
      ],
      "text/plain": [
       "      train_id                                      name  item_condition_id  \\\n",
       "122        122                                    Bundle                  3   \n",
       "155        155                      3 Nora Roberts Books                  3   \n",
       "258        258                               ACER Laptop                  5   \n",
       "984        984  AUTHENTIC BRWN MICHAEL KORS MAKEUP STAIN                  4   \n",
       "1185      1185   Teenage Mutant Ninja Turtle Van/ Extras                  3   \n",
       "\n",
       "      category_name  price  shipping  \\\n",
       "122             NaN   59.0         0   \n",
       "155             NaN   10.0         1   \n",
       "258             NaN   14.0         0   \n",
       "984             NaN   18.0         0   \n",
       "1185            NaN    9.0         0   \n",
       "\n",
       "                                       item_description  \n",
       "122   Sizes and info of clothes can be found on thei...  \n",
       "155                                        For aferg16.  \n",
       "258   Powers on, no screen display, no external dama...  \n",
       "984                                  No description yet  \n",
       "1185  Teenage Mutant Ninja Turtle Van, April O'Neil ...  "
      ]
     },
     "execution_count": 28,
     "metadata": {},
     "output_type": "execute_result"
    }
   ],
   "source": [
    "train_df[train_df.isnull().any(axis=1)].head()"
   ]
  },
  {
   "cell_type": "code",
   "execution_count": 29,
   "metadata": {},
   "outputs": [
    {
     "data": {
      "text/html": [
       "<div>\n",
       "<table border=\"1\" class=\"dataframe\">\n",
       "  <thead>\n",
       "    <tr style=\"text-align: right;\">\n",
       "      <th></th>\n",
       "      <th>train_id</th>\n",
       "      <th>name</th>\n",
       "      <th>item_condition_id</th>\n",
       "      <th>category_name</th>\n",
       "      <th>price</th>\n",
       "      <th>shipping</th>\n",
       "      <th>item_description</th>\n",
       "    </tr>\n",
       "  </thead>\n",
       "  <tbody>\n",
       "    <tr>\n",
       "      <th>161166</th>\n",
       "      <td>161166</td>\n",
       "      <td>iPhone</td>\n",
       "      <td>1</td>\n",
       "      <td>1.0</td>\n",
       "      <td>4.0</td>\n",
       "      <td>1</td>\n",
       "      <td>Luxury 360° Hybrid Acrylic Hard Case Original ...</td>\n",
       "    </tr>\n",
       "    <tr>\n",
       "      <th>331692</th>\n",
       "      <td>331692</td>\n",
       "      <td>iPhone</td>\n",
       "      <td>2</td>\n",
       "      <td>1.0</td>\n",
       "      <td>76.0</td>\n",
       "      <td>0</td>\n",
       "      <td>iCloud lock!!! Screen protector no scratches! ...</td>\n",
       "    </tr>\n",
       "    <tr>\n",
       "      <th>502203</th>\n",
       "      <td>502203</td>\n",
       "      <td>iPhone</td>\n",
       "      <td>3</td>\n",
       "      <td>1.0</td>\n",
       "      <td>26.0</td>\n",
       "      <td>1</td>\n",
       "      <td>No description yet</td>\n",
       "    </tr>\n",
       "    <tr>\n",
       "      <th>901734</th>\n",
       "      <td>901734</td>\n",
       "      <td>iPhone</td>\n",
       "      <td>1</td>\n",
       "      <td>1.0</td>\n",
       "      <td>17.0</td>\n",
       "      <td>1</td>\n",
       "      <td>Apple iPhone headphones for iPhones compatible...</td>\n",
       "    </tr>\n",
       "    <tr>\n",
       "      <th>968525</th>\n",
       "      <td>968525</td>\n",
       "      <td>iPhone</td>\n",
       "      <td>2</td>\n",
       "      <td>1.0</td>\n",
       "      <td>19.0</td>\n",
       "      <td>0</td>\n",
       "      <td>Two iPhone 4s they are locked so they are to b...</td>\n",
       "    </tr>\n",
       "    <tr>\n",
       "      <th>1198530</th>\n",
       "      <td>1198530</td>\n",
       "      <td>iPhone</td>\n",
       "      <td>2</td>\n",
       "      <td>1.0</td>\n",
       "      <td>116.0</td>\n",
       "      <td>0</td>\n",
       "      <td>iPhone 5c no cracks brand new unlocked (no SIM...</td>\n",
       "    </tr>\n",
       "    <tr>\n",
       "      <th>1220558</th>\n",
       "      <td>1220558</td>\n",
       "      <td>iPhone</td>\n",
       "      <td>4</td>\n",
       "      <td>1.0</td>\n",
       "      <td>16.0</td>\n",
       "      <td>1</td>\n",
       "      <td>iPhone 4 Cracked front Back up for sale, had i...</td>\n",
       "    </tr>\n",
       "    <tr>\n",
       "      <th>1385743</th>\n",
       "      <td>1385743</td>\n",
       "      <td>iPhone</td>\n",
       "      <td>4</td>\n",
       "      <td>1.0</td>\n",
       "      <td>20.0</td>\n",
       "      <td>1</td>\n",
       "      <td>It works won't turn on need a battery and new ...</td>\n",
       "    </tr>\n",
       "    <tr>\n",
       "      <th>1473558</th>\n",
       "      <td>1473558</td>\n",
       "      <td>iPhone</td>\n",
       "      <td>3</td>\n",
       "      <td>1.0</td>\n",
       "      <td>80.0</td>\n",
       "      <td>1</td>\n",
       "      <td>iPhone 6 model number A1586. Found never could...</td>\n",
       "    </tr>\n",
       "  </tbody>\n",
       "</table>\n",
       "</div>"
      ],
      "text/plain": [
       "         train_id    name  item_condition_id  category_name  price  shipping  \\\n",
       "161166     161166  iPhone                  1            1.0    4.0         1   \n",
       "331692     331692  iPhone                  2            1.0   76.0         0   \n",
       "502203     502203  iPhone                  3            1.0   26.0         1   \n",
       "901734     901734  iPhone                  1            1.0   17.0         1   \n",
       "968525     968525  iPhone                  2            1.0   19.0         0   \n",
       "1198530   1198530  iPhone                  2            1.0  116.0         0   \n",
       "1220558   1220558  iPhone                  4            1.0   16.0         1   \n",
       "1385743   1385743  iPhone                  4            1.0   20.0         1   \n",
       "1473558   1473558  iPhone                  3            1.0   80.0         1   \n",
       "\n",
       "                                          item_description  \n",
       "161166   Luxury 360° Hybrid Acrylic Hard Case Original ...  \n",
       "331692   iCloud lock!!! Screen protector no scratches! ...  \n",
       "502203                                  No description yet  \n",
       "901734   Apple iPhone headphones for iPhones compatible...  \n",
       "968525   Two iPhone 4s they are locked so they are to b...  \n",
       "1198530  iPhone 5c no cracks brand new unlocked (no SIM...  \n",
       "1220558  iPhone 4 Cracked front Back up for sale, had i...  \n",
       "1385743  It works won't turn on need a battery and new ...  \n",
       "1473558  iPhone 6 model number A1586. Found never could...  "
      ]
     },
     "execution_count": 29,
     "metadata": {},
     "output_type": "execute_result"
    }
   ],
   "source": [
    "value_list = ['iPhone']\n",
    "train_df[train_df.name.isin(value_list)]"
   ]
  },
  {
   "cell_type": "markdown",
   "metadata": {},
   "source": [
    "For the missing category names we should try to find some unsupervised learning so that some amount filling of the data should be present."
   ]
  },
  {
   "cell_type": "markdown",
   "metadata": {},
   "source": [
    "# Running NLP on the categories"
   ]
  },
  {
   "cell_type": "markdown",
   "metadata": {
    "collapsed": true
   },
   "source": [
    "We will first try to classify the documents and see if we can get some meaningful classification based on that."
   ]
  },
  {
   "cell_type": "markdown",
   "metadata": {},
   "source": [
    "Idea is to use only the name to predict the category name"
   ]
  },
  {
   "cell_type": "markdown",
   "metadata": {},
   "source": [
    "So we will drop all the remaining columns"
   ]
  },
  {
   "cell_type": "code",
   "execution_count": 30,
   "metadata": {},
   "outputs": [
    {
     "name": "stdout",
     "output_type": "stream",
     "text": [
      "['train_id', 'name', 'item_condition_id', 'category_name', 'price', 'shipping', 'item_description']\n"
     ]
    }
   ],
   "source": [
    "print(train_df.columns.tolist())"
   ]
  },
  {
   "cell_type": "code",
   "execution_count": 31,
   "metadata": {
    "collapsed": true
   },
   "outputs": [],
   "source": [
    "from copy import deepcopy\n",
    "category_df = deepcopy(train_df)"
   ]
  },
  {
   "cell_type": "code",
   "execution_count": 32,
   "metadata": {
    "collapsed": true
   },
   "outputs": [],
   "source": [
    "category_df = category_df.drop(['train_id', 'item_condition_id', 'price', 'shipping'], axis=1)"
   ]
  },
  {
   "cell_type": "code",
   "execution_count": 33,
   "metadata": {},
   "outputs": [
    {
     "data": {
      "text/html": [
       "<div>\n",
       "<table border=\"1\" class=\"dataframe\">\n",
       "  <thead>\n",
       "    <tr style=\"text-align: right;\">\n",
       "      <th></th>\n",
       "      <th>name</th>\n",
       "      <th>category_name</th>\n",
       "      <th>item_description</th>\n",
       "    </tr>\n",
       "  </thead>\n",
       "  <tbody>\n",
       "    <tr>\n",
       "      <th>1260563</th>\n",
       "      <td>Buxom lipstick (small) - New</td>\n",
       "      <td>0.0</td>\n",
       "      <td>Big and Sexy lipstick in Pink Decoy</td>\n",
       "    </tr>\n",
       "    <tr>\n",
       "      <th>313983</th>\n",
       "      <td>5sos Tshirt</td>\n",
       "      <td>9.0</td>\n",
       "      <td>I've worn this one time No flaws or stains Fit...</td>\n",
       "    </tr>\n",
       "  </tbody>\n",
       "</table>\n",
       "</div>"
      ],
      "text/plain": [
       "                                 name  category_name  \\\n",
       "1260563  Buxom lipstick (small) - New            0.0   \n",
       "313983                    5sos Tshirt            9.0   \n",
       "\n",
       "                                          item_description  \n",
       "1260563                Big and Sexy lipstick in Pink Decoy  \n",
       "313983   I've worn this one time No flaws or stains Fit...  "
      ]
     },
     "execution_count": 33,
     "metadata": {},
     "output_type": "execute_result"
    }
   ],
   "source": [
    "category_df.sample(2)"
   ]
  },
  {
   "cell_type": "code",
   "execution_count": 34,
   "metadata": {},
   "outputs": [
    {
     "name": "stdout",
     "output_type": "stream",
     "text": [
      "separated into predict, train and test\n",
      "(1482535, 3) (6327, 3) (1180966, 3) (295242, 3)\n",
      "1482535\n"
     ]
    }
   ],
   "source": [
    "predict_category_df = category_df[pd.isnull(category_df['category_name'])]\n",
    "train_test_categry_df = category_df[pd.notnull(category_df['category_name'])]\n",
    "train_categry_df, test_categry_df = train_test_split(train_test_categry_df, test_size=0.2, random_state=42)\n",
    "print('separated into predict, train and test')\n",
    "print(category_df.shape, predict_category_df.shape, train_categry_df.shape, test_categry_df.shape)\n",
    "print(predict_category_df.shape[0] + train_categry_df.shape[0] + test_categry_df.shape[0])"
   ]
  },
  {
   "cell_type": "code",
   "execution_count": 35,
   "metadata": {},
   "outputs": [
    {
     "data": {
      "text/html": [
       "<div>\n",
       "<table border=\"1\" class=\"dataframe\">\n",
       "  <thead>\n",
       "    <tr style=\"text-align: right;\">\n",
       "      <th></th>\n",
       "      <th>name</th>\n",
       "      <th>category_name</th>\n",
       "      <th>item_description</th>\n",
       "    </tr>\n",
       "  </thead>\n",
       "  <tbody>\n",
       "    <tr>\n",
       "      <th>122</th>\n",
       "      <td>Bundle</td>\n",
       "      <td>NaN</td>\n",
       "      <td>Sizes and info of clothes can be found on thei...</td>\n",
       "    </tr>\n",
       "    <tr>\n",
       "      <th>155</th>\n",
       "      <td>3 Nora Roberts Books</td>\n",
       "      <td>NaN</td>\n",
       "      <td>For aferg16.</td>\n",
       "    </tr>\n",
       "    <tr>\n",
       "      <th>258</th>\n",
       "      <td>ACER Laptop</td>\n",
       "      <td>NaN</td>\n",
       "      <td>Powers on, no screen display, no external dama...</td>\n",
       "    </tr>\n",
       "    <tr>\n",
       "      <th>984</th>\n",
       "      <td>AUTHENTIC BRWN MICHAEL KORS MAKEUP STAIN</td>\n",
       "      <td>NaN</td>\n",
       "      <td>No description yet</td>\n",
       "    </tr>\n",
       "    <tr>\n",
       "      <th>1185</th>\n",
       "      <td>Teenage Mutant Ninja Turtle Van/ Extras</td>\n",
       "      <td>NaN</td>\n",
       "      <td>Teenage Mutant Ninja Turtle Van, April O'Neil ...</td>\n",
       "    </tr>\n",
       "  </tbody>\n",
       "</table>\n",
       "</div>"
      ],
      "text/plain": [
       "                                          name  category_name  \\\n",
       "122                                     Bundle            NaN   \n",
       "155                       3 Nora Roberts Books            NaN   \n",
       "258                                ACER Laptop            NaN   \n",
       "984   AUTHENTIC BRWN MICHAEL KORS MAKEUP STAIN            NaN   \n",
       "1185   Teenage Mutant Ninja Turtle Van/ Extras            NaN   \n",
       "\n",
       "                                       item_description  \n",
       "122   Sizes and info of clothes can be found on thei...  \n",
       "155                                        For aferg16.  \n",
       "258   Powers on, no screen display, no external dama...  \n",
       "984                                  No description yet  \n",
       "1185  Teenage Mutant Ninja Turtle Van, April O'Neil ...  "
      ]
     },
     "execution_count": 35,
     "metadata": {},
     "output_type": "execute_result"
    }
   ],
   "source": [
    "predict_category_df.head()"
   ]
  },
  {
   "cell_type": "code",
   "execution_count": 36,
   "metadata": {},
   "outputs": [
    {
     "name": "stdout",
     "output_type": "stream",
     "text": [
      "separate to x and y\n",
      "(1180966, 2) (1180966, 1) (295242, 2) (295242, 1)\n"
     ]
    }
   ],
   "source": [
    "X_train_category_df = train_categry_df[['name', 'item_description']]\n",
    "y_train_category_df = train_categry_df[['category_name']]\n",
    "X_test_category_df = test_categry_df[['name', 'item_description']]\n",
    "y_test_category_df = test_categry_df[['category_name']]\n",
    "print('separate to x and y')\n",
    "print(X_train_category_df.shape, y_train_category_df.shape, X_test_category_df.shape, y_test_category_df.shape)"
   ]
  },
  {
   "cell_type": "code",
   "execution_count": 37,
   "metadata": {},
   "outputs": [
    {
     "data": {
      "text/html": [
       "<div>\n",
       "<table border=\"1\" class=\"dataframe\">\n",
       "  <thead>\n",
       "    <tr style=\"text-align: right;\">\n",
       "      <th></th>\n",
       "      <th>category_name</th>\n",
       "    </tr>\n",
       "  </thead>\n",
       "  <tbody>\n",
       "    <tr>\n",
       "      <th>943192</th>\n",
       "      <td>4.0</td>\n",
       "    </tr>\n",
       "    <tr>\n",
       "      <th>397137</th>\n",
       "      <td>9.0</td>\n",
       "    </tr>\n",
       "    <tr>\n",
       "      <th>697816</th>\n",
       "      <td>4.0</td>\n",
       "    </tr>\n",
       "    <tr>\n",
       "      <th>533679</th>\n",
       "      <td>9.0</td>\n",
       "    </tr>\n",
       "    <tr>\n",
       "      <th>301180</th>\n",
       "      <td>7.0</td>\n",
       "    </tr>\n",
       "  </tbody>\n",
       "</table>\n",
       "</div>"
      ],
      "text/plain": [
       "        category_name\n",
       "943192            4.0\n",
       "397137            9.0\n",
       "697816            4.0\n",
       "533679            9.0\n",
       "301180            7.0"
      ]
     },
     "execution_count": 37,
     "metadata": {},
     "output_type": "execute_result"
    }
   ],
   "source": [
    "y_train_category_df.head()"
   ]
  },
  {
   "cell_type": "code",
   "execution_count": 38,
   "metadata": {},
   "outputs": [
    {
     "data": {
      "text/html": [
       "<div>\n",
       "<table border=\"1\" class=\"dataframe\">\n",
       "  <thead>\n",
       "    <tr style=\"text-align: right;\">\n",
       "      <th></th>\n",
       "      <th>category_name</th>\n",
       "    </tr>\n",
       "  </thead>\n",
       "  <tbody>\n",
       "    <tr>\n",
       "      <th>86173</th>\n",
       "      <td>9.0</td>\n",
       "    </tr>\n",
       "    <tr>\n",
       "      <th>1064043</th>\n",
       "      <td>4.0</td>\n",
       "    </tr>\n",
       "    <tr>\n",
       "      <th>377476</th>\n",
       "      <td>9.0</td>\n",
       "    </tr>\n",
       "    <tr>\n",
       "      <th>1345219</th>\n",
       "      <td>9.0</td>\n",
       "    </tr>\n",
       "    <tr>\n",
       "      <th>1254172</th>\n",
       "      <td>8.0</td>\n",
       "    </tr>\n",
       "  </tbody>\n",
       "</table>\n",
       "</div>"
      ],
      "text/plain": [
       "         category_name\n",
       "86173              9.0\n",
       "1064043            4.0\n",
       "377476             9.0\n",
       "1345219            9.0\n",
       "1254172            8.0"
      ]
     },
     "execution_count": 38,
     "metadata": {},
     "output_type": "execute_result"
    }
   ],
   "source": [
    "y_test_category_df.head()"
   ]
  },
  {
   "cell_type": "markdown",
   "metadata": {
    "collapsed": true
   },
   "source": [
    "Combine the name and item_description"
   ]
  },
  {
   "cell_type": "code",
   "execution_count": 39,
   "metadata": {},
   "outputs": [
    {
     "data": {
      "text/html": [
       "<div>\n",
       "<table border=\"1\" class=\"dataframe\">\n",
       "  <thead>\n",
       "    <tr style=\"text-align: right;\">\n",
       "      <th></th>\n",
       "      <th>name</th>\n",
       "      <th>item_description</th>\n",
       "    </tr>\n",
       "  </thead>\n",
       "  <tbody>\n",
       "    <tr>\n",
       "      <th>943192</th>\n",
       "      <td>Nike foams infant shoes</td>\n",
       "      <td>Size: 2c Color: platinum, wolf grey in excelle...</td>\n",
       "    </tr>\n",
       "    <tr>\n",
       "      <th>397137</th>\n",
       "      <td>Adidas athletic shoes</td>\n",
       "      <td>Barely worn! Looks new</td>\n",
       "    </tr>\n",
       "    <tr>\n",
       "      <th>697816</th>\n",
       "      <td>Free ship 3 small bun squishy</td>\n",
       "      <td>Free ship 3 small bun</td>\n",
       "    </tr>\n",
       "    <tr>\n",
       "      <th>533679</th>\n",
       "      <td>Blue and Yellow Oversized Blanket Scarf</td>\n",
       "      <td>Brand New! Free Shipping! Cobalt Blue Blanket ...</td>\n",
       "    </tr>\n",
       "    <tr>\n",
       "      <th>301180</th>\n",
       "      <td>Fantasy Football trophie</td>\n",
       "      <td>Gently used &amp; loved trophy Looking for a new h...</td>\n",
       "    </tr>\n",
       "  </tbody>\n",
       "</table>\n",
       "</div>"
      ],
      "text/plain": [
       "                                           name  \\\n",
       "943192                  Nike foams infant shoes   \n",
       "397137                    Adidas athletic shoes   \n",
       "697816            Free ship 3 small bun squishy   \n",
       "533679  Blue and Yellow Oversized Blanket Scarf   \n",
       "301180                 Fantasy Football trophie   \n",
       "\n",
       "                                         item_description  \n",
       "943192  Size: 2c Color: platinum, wolf grey in excelle...  \n",
       "397137                             Barely worn! Looks new  \n",
       "697816                              Free ship 3 small bun  \n",
       "533679  Brand New! Free Shipping! Cobalt Blue Blanket ...  \n",
       "301180  Gently used & loved trophy Looking for a new h...  "
      ]
     },
     "execution_count": 39,
     "metadata": {},
     "output_type": "execute_result"
    }
   ],
   "source": [
    "X_train_category_df.head()"
   ]
  },
  {
   "cell_type": "code",
   "execution_count": 40,
   "metadata": {},
   "outputs": [
    {
     "data": {
      "text/html": [
       "<div>\n",
       "<table border=\"1\" class=\"dataframe\">\n",
       "  <thead>\n",
       "    <tr style=\"text-align: right;\">\n",
       "      <th></th>\n",
       "      <th>name</th>\n",
       "      <th>item_description</th>\n",
       "      <th>total_text</th>\n",
       "    </tr>\n",
       "  </thead>\n",
       "  <tbody>\n",
       "    <tr>\n",
       "      <th>943192</th>\n",
       "      <td>Nike foams infant shoes</td>\n",
       "      <td>Size: 2c Color: platinum, wolf grey in excelle...</td>\n",
       "      <td>Nike foams infant shoes Size: 2c Color: platin...</td>\n",
       "    </tr>\n",
       "    <tr>\n",
       "      <th>397137</th>\n",
       "      <td>Adidas athletic shoes</td>\n",
       "      <td>Barely worn! Looks new</td>\n",
       "      <td>Adidas athletic shoes Barely worn! Looks new</td>\n",
       "    </tr>\n",
       "    <tr>\n",
       "      <th>697816</th>\n",
       "      <td>Free ship 3 small bun squishy</td>\n",
       "      <td>Free ship 3 small bun</td>\n",
       "      <td>Free ship 3 small bun squishy Free ship 3 smal...</td>\n",
       "    </tr>\n",
       "    <tr>\n",
       "      <th>533679</th>\n",
       "      <td>Blue and Yellow Oversized Blanket Scarf</td>\n",
       "      <td>Brand New! Free Shipping! Cobalt Blue Blanket ...</td>\n",
       "      <td>Blue and Yellow Oversized Blanket Scarf Brand ...</td>\n",
       "    </tr>\n",
       "    <tr>\n",
       "      <th>301180</th>\n",
       "      <td>Fantasy Football trophie</td>\n",
       "      <td>Gently used &amp; loved trophy Looking for a new h...</td>\n",
       "      <td>Fantasy Football trophie Gently used &amp; loved t...</td>\n",
       "    </tr>\n",
       "  </tbody>\n",
       "</table>\n",
       "</div>"
      ],
      "text/plain": [
       "                                           name  \\\n",
       "943192                  Nike foams infant shoes   \n",
       "397137                    Adidas athletic shoes   \n",
       "697816            Free ship 3 small bun squishy   \n",
       "533679  Blue and Yellow Oversized Blanket Scarf   \n",
       "301180                 Fantasy Football trophie   \n",
       "\n",
       "                                         item_description  \\\n",
       "943192  Size: 2c Color: platinum, wolf grey in excelle...   \n",
       "397137                             Barely worn! Looks new   \n",
       "697816                              Free ship 3 small bun   \n",
       "533679  Brand New! Free Shipping! Cobalt Blue Blanket ...   \n",
       "301180  Gently used & loved trophy Looking for a new h...   \n",
       "\n",
       "                                               total_text  \n",
       "943192  Nike foams infant shoes Size: 2c Color: platin...  \n",
       "397137       Adidas athletic shoes Barely worn! Looks new  \n",
       "697816  Free ship 3 small bun squishy Free ship 3 smal...  \n",
       "533679  Blue and Yellow Oversized Blanket Scarf Brand ...  \n",
       "301180  Fantasy Football trophie Gently used & loved t...  "
      ]
     },
     "execution_count": 40,
     "metadata": {},
     "output_type": "execute_result"
    }
   ],
   "source": [
    "X_train_category_df['total_text'] = X_train_category_df['name'] + \" \" +  X_train_category_df['item_description']\n",
    "X_train_category_df.head()"
   ]
  },
  {
   "cell_type": "code",
   "execution_count": 41,
   "metadata": {},
   "outputs": [
    {
     "data": {
      "text/html": [
       "<div>\n",
       "<table border=\"1\" class=\"dataframe\">\n",
       "  <thead>\n",
       "    <tr style=\"text-align: right;\">\n",
       "      <th></th>\n",
       "      <th>name</th>\n",
       "      <th>item_description</th>\n",
       "      <th>total_text</th>\n",
       "    </tr>\n",
       "  </thead>\n",
       "  <tbody>\n",
       "    <tr>\n",
       "      <th>86173</th>\n",
       "      <td>On hold!! pink hoodie</td>\n",
       "      <td>Cream and maroon Worn once Practically brand new!</td>\n",
       "      <td>On hold!! pink hoodie Cream and maroon Worn on...</td>\n",
       "    </tr>\n",
       "    <tr>\n",
       "      <th>1064043</th>\n",
       "      <td>Disney Sophia the princess long sleeve!</td>\n",
       "      <td>Miss disney sophia princess long sleeve shirt ...</td>\n",
       "      <td>Disney Sophia the princess long sleeve! Miss d...</td>\n",
       "    </tr>\n",
       "    <tr>\n",
       "      <th>377476</th>\n",
       "      <td>Aerie navy 32D bra</td>\n",
       "      <td>New without tags</td>\n",
       "      <td>Aerie navy 32D bra New without tags</td>\n",
       "    </tr>\n",
       "    <tr>\n",
       "      <th>1345219</th>\n",
       "      <td>Nike</td>\n",
       "      <td>Has bent in back picture shows</td>\n",
       "      <td>Nike Has bent in back picture shows</td>\n",
       "    </tr>\n",
       "    <tr>\n",
       "      <th>1254172</th>\n",
       "      <td>\"reserved*1945 Silver Mercury Dime</td>\n",
       "      <td>9O% silver and will come in case.</td>\n",
       "      <td>\"reserved*1945 Silver Mercury Dime 9O% silver ...</td>\n",
       "    </tr>\n",
       "  </tbody>\n",
       "</table>\n",
       "</div>"
      ],
      "text/plain": [
       "                                            name  \\\n",
       "86173                      On hold!! pink hoodie   \n",
       "1064043  Disney Sophia the princess long sleeve!   \n",
       "377476                        Aerie navy 32D bra   \n",
       "1345219                                     Nike   \n",
       "1254172       \"reserved*1945 Silver Mercury Dime   \n",
       "\n",
       "                                          item_description  \\\n",
       "86173    Cream and maroon Worn once Practically brand new!   \n",
       "1064043  Miss disney sophia princess long sleeve shirt ...   \n",
       "377476                                    New without tags   \n",
       "1345219                     Has bent in back picture shows   \n",
       "1254172                  9O% silver and will come in case.   \n",
       "\n",
       "                                                total_text  \n",
       "86173    On hold!! pink hoodie Cream and maroon Worn on...  \n",
       "1064043  Disney Sophia the princess long sleeve! Miss d...  \n",
       "377476                 Aerie navy 32D bra New without tags  \n",
       "1345219                Nike Has bent in back picture shows  \n",
       "1254172  \"reserved*1945 Silver Mercury Dime 9O% silver ...  "
      ]
     },
     "execution_count": 41,
     "metadata": {},
     "output_type": "execute_result"
    }
   ],
   "source": [
    "X_test_category_df['total_text'] = X_test_category_df['name'] + \" \" +  X_test_category_df['item_description']\n",
    "X_test_category_df.head()"
   ]
  },
  {
   "cell_type": "code",
   "execution_count": 42,
   "metadata": {},
   "outputs": [
    {
     "name": "stdout",
     "output_type": "stream",
     "text": [
      "Extracting features from the training data using a sparse vectorizer\n",
      "done in 46.658710s\n",
      "n_samples: 1180966, n_features: 180315\n",
      "\n"
     ]
    }
   ],
   "source": [
    "print('Extracting features from the training data using a sparse vectorizer')\n",
    "t0 = time()\n",
    "vectorizer = TfidfVectorizer(sublinear_tf=True, max_df=0.5, stop_words='english')\n",
    "x_train = vectorizer.fit_transform(X_train_category_df['total_text'])\n",
    "duration = time() - t0\n",
    "print(\"done in %fs\" % (duration))    \n",
    "print(\"n_samples: %d, n_features: %d\" % x_train.shape)\n",
    "print()"
   ]
  },
  {
   "cell_type": "code",
   "execution_count": 43,
   "metadata": {},
   "outputs": [
    {
     "name": "stdout",
     "output_type": "stream",
     "text": [
      "Extracting features from the testing data using a sparse vectorizer\n",
      "done in 11.920576s\n",
      "n_samples: 1180966, n_features: 180315\n",
      "\n"
     ]
    }
   ],
   "source": [
    "print('Extracting features from the testing data using a sparse vectorizer')\n",
    "t0 = time()\n",
    "x_test = vectorizer.transform(X_test_category_df['total_text'])\n",
    "duration = time() - t0\n",
    "print(\"done in %fs\" % (duration))    \n",
    "print(\"n_samples: %d, n_features: %d\" % x_train.shape)\n",
    "print()"
   ]
  },
  {
   "cell_type": "code",
   "execution_count": 44,
   "metadata": {
    "collapsed": true
   },
   "outputs": [],
   "source": [
    "feature_names = vectorizer.get_feature_names()"
   ]
  },
  {
   "cell_type": "code",
   "execution_count": 45,
   "metadata": {
    "collapsed": true
   },
   "outputs": [],
   "source": [
    "# #############################################################################  \n",
    "# Benchmark classifiers                                                          \n",
    "def fit_and_benchmark(clf, X_train, y_train, X_test, y_test, target_names):                                                              \n",
    "    print('_' * 80)\n",
    "    print(\"Training: \")\n",
    "    print(clf)\n",
    "    t0 = time()\n",
    "    clf.fit(X_train, y_train)\n",
    "    train_time = time() - t0\n",
    "    print(\"train time: %0.3fs\" % train_time)\n",
    "\n",
    "    t0 = time()\n",
    "    pred = clf.predict(X_test)\n",
    "    test_time = time() - t0\n",
    "    print(\"test time:  %0.3fs\" % test_time)\n",
    "\n",
    "    score = metrics.accuracy_score(y_test, pred)\n",
    "    print(\"accuracy:   %0.3f\" % score)\n",
    "                                                                                 \n",
    "    if hasattr(clf, 'coef_'):                                                    \n",
    "        print(\"dimensionality: %d\" % clf.coef_.shape[1])\n",
    "        print(\"density: %f\" % density(clf.coef_))\n",
    "                                                                                 \n",
    "        if feature_names is not None:                       \n",
    "            print(\"top 10 keywords per class:\")                                  \n",
    "            for i, label in enumerate(target_names):                             \n",
    "                top10 = np.argsort(clf.coef_[i])[-10:]\n",
    "        print()\n",
    "                                                                                 \n",
    "    print(\"classification report:\")\n",
    "    print(metrics.classification_report(y_test, pred, target_names=target_names))          \n",
    "                                                                                 \n",
    "    print(\"confusion matrix:\")\n",
    "    print(metrics.confusion_matrix(y_test, pred))                            \n",
    "                                                                                 \n",
    "    print()                                                                      \n",
    "    clf_descr = str(clf).split('(')[0]                                           \n",
    "    print(clf_descr, score, train_time, test_time)\n",
    "    return clf"
   ]
  },
  {
   "cell_type": "code",
   "execution_count": 46,
   "metadata": {},
   "outputs": [],
   "source": [
    "# clf = VotingClassifier(estimators=[\n",
    "#     ('rc', RidgeClassifier(tol=1e-2)),\n",
    "#     ('perc', Perceptron(n_iter=50)),\n",
    "#     ('pa', PassiveAggressiveClassifier(n_iter=50)),\n",
    "#     ('knn', KNeighborsClassifier(n_neighbors=len(cat1_le.classes_))),\n",
    "#     ('rfc', RandomForestClassifier(n_estimators=100)),\n",
    "#     ('sgd', SGDClassifier(alpha=.0001, n_iter=50, penalty=\"elasticnet\")),\n",
    "#     ('SVC_with_L1', Pipeline([\n",
    "#         ('feature_selection', SelectFromModel(LinearSVC(penalty=\"l1\", dual=False, tol=1e-3))),\n",
    "#         ('classification', LinearSVC(penalty=\"l2\"))]))\n",
    "# ])\n",
    "# clf = VotingClassifier(estimators=[\n",
    "#     ('rc', RidgeClassifier(tol=1e-2)),\n",
    "#     ('perc', Perceptron(n_iter=50)),\n",
    "#     ('pa', PassiveAggressiveClassifier(n_iter=50))\n",
    "# ])\n",
    "clf = VotingClassifier(estimators=[\n",
    "    ('rc', RidgeClassifier(tol=1e-2))\n",
    "])"
   ]
  },
  {
   "cell_type": "code",
   "execution_count": 47,
   "metadata": {},
   "outputs": [
    {
     "name": "stdout",
     "output_type": "stream",
     "text": [
      "________________________________________________________________________________\n",
      "Training: \n",
      "VotingClassifier(estimators=[('rc', RidgeClassifier(alpha=1.0, class_weight=None, copy_X=True, fit_intercept=True,\n",
      "        max_iter=None, normalize=False, random_state=None, solver='auto',\n",
      "        tol=0.01))],\n",
      "         flatten_transform=None, n_jobs=1, voting='hard', weights=None)\n"
     ]
    },
    {
     "name": "stderr",
     "output_type": "stream",
     "text": [
      "/home/joydeep/anaconda3/envs/venv/lib/python3.6/site-packages/sklearn/preprocessing/label.py:95: DataConversionWarning: A column-vector y was passed when a 1d array was expected. Please change the shape of y to (n_samples, ), for example using ravel().\n",
      "  y = column_or_1d(y, warn=True)\n",
      "/home/joydeep/anaconda3/envs/venv/lib/python3.6/site-packages/sklearn/preprocessing/label.py:128: DataConversionWarning: A column-vector y was passed when a 1d array was expected. Please change the shape of y to (n_samples, ), for example using ravel().\n",
      "  y = column_or_1d(y, warn=True)\n"
     ]
    },
    {
     "name": "stdout",
     "output_type": "stream",
     "text": [
      "train time: 245.250s\n",
      "test time:  2.690s\n",
      "accuracy:   0.866\n",
      "classification report:\n",
      "                        precision    recall  f1-score   support\n",
      "\n",
      "                Beauty       0.95      0.95      0.95     41574\n",
      "           Electronics       0.93      0.95      0.94     24394\n",
      "              Handmade       0.62      0.31      0.41      6152\n",
      "                  Home       0.81      0.78      0.79     13691\n",
      "                  Kids       0.85      0.81      0.83     34146\n",
      "                   Men       0.83      0.64      0.72     18931\n",
      "                 Other       0.78      0.60      0.68      9163\n",
      "     Sports & Outdoors       0.73      0.49      0.59      5006\n",
      "Vintage & Collectibles       0.66      0.39      0.49      9181\n",
      "                 Women       0.86      0.97      0.91    133004\n",
      "\n",
      "           avg / total       0.86      0.87      0.86    295242\n",
      "\n",
      "confusion matrix:\n",
      "[[ 39534     30     22    284    109     53    243     17     12   1270]\n",
      " [    66  23187     36     59    228     44    109     69     41    555]\n",
      " [   113     50   1879    291    549     89    249     85    143   2704]\n",
      " [   510     78    157  10648    463     39    219     68    227   1282]\n",
      " [   212    235    180    342  27597    425    209    116    896   3934]\n",
      " [    63    112     26     38    252  12046     23    218     60   6093]\n",
      " [   485    253    288    430    481     82   5525     69    165   1385]\n",
      " [    57    121     98    165    401    424     74   2469    137   1060]\n",
      " [    86    601     96    739   1406    148    214     73   3539   2279]\n",
      " [   513    180    265    210    838   1162    200    181    140 129315]]\n",
      "\n",
      "VotingClassifier 0.866201285725 245.24961590766907 2.6904478073120117\n"
     ]
    }
   ],
   "source": [
    "clf = fit_and_benchmark(clf, x_train, y_train_category_df, x_test, y_test_category_df, cat1_le.classes_)"
   ]
  },
  {
   "cell_type": "markdown",
   "metadata": {},
   "source": [
    "### fill the category name for the missing values and build the matrix"
   ]
  },
  {
   "cell_type": "code",
   "execution_count": null,
   "metadata": {
    "collapsed": true
   },
   "outputs": [],
   "source": []
  },
  {
   "cell_type": "code",
   "execution_count": 48,
   "metadata": {
    "collapsed": true
   },
   "outputs": [],
   "source": [
    "train_df['total_text'] = train_df['name'] + \" \" +  train_df['item_description']"
   ]
  },
  {
   "cell_type": "code",
   "execution_count": 49,
   "metadata": {
    "collapsed": true
   },
   "outputs": [],
   "source": [
    "train_df_with_no_cat = train_df[train_df['category_name'].isnull()]"
   ]
  },
  {
   "cell_type": "code",
   "execution_count": 50,
   "metadata": {},
   "outputs": [
    {
     "data": {
      "text/html": [
       "<div>\n",
       "<table border=\"1\" class=\"dataframe\">\n",
       "  <thead>\n",
       "    <tr style=\"text-align: right;\">\n",
       "      <th></th>\n",
       "      <th>train_id</th>\n",
       "      <th>name</th>\n",
       "      <th>item_condition_id</th>\n",
       "      <th>category_name</th>\n",
       "      <th>price</th>\n",
       "      <th>shipping</th>\n",
       "      <th>item_description</th>\n",
       "      <th>total_text</th>\n",
       "    </tr>\n",
       "  </thead>\n",
       "  <tbody>\n",
       "    <tr>\n",
       "      <th>122</th>\n",
       "      <td>122</td>\n",
       "      <td>Bundle</td>\n",
       "      <td>3</td>\n",
       "      <td>NaN</td>\n",
       "      <td>59.0</td>\n",
       "      <td>0</td>\n",
       "      <td>Sizes and info of clothes can be found on thei...</td>\n",
       "      <td>Bundle Sizes and info of clothes can be found ...</td>\n",
       "    </tr>\n",
       "    <tr>\n",
       "      <th>155</th>\n",
       "      <td>155</td>\n",
       "      <td>3 Nora Roberts Books</td>\n",
       "      <td>3</td>\n",
       "      <td>NaN</td>\n",
       "      <td>10.0</td>\n",
       "      <td>1</td>\n",
       "      <td>For aferg16.</td>\n",
       "      <td>3 Nora Roberts Books For aferg16.</td>\n",
       "    </tr>\n",
       "    <tr>\n",
       "      <th>258</th>\n",
       "      <td>258</td>\n",
       "      <td>ACER Laptop</td>\n",
       "      <td>5</td>\n",
       "      <td>NaN</td>\n",
       "      <td>14.0</td>\n",
       "      <td>0</td>\n",
       "      <td>Powers on, no screen display, no external dama...</td>\n",
       "      <td>ACER Laptop Powers on, no screen display, no e...</td>\n",
       "    </tr>\n",
       "    <tr>\n",
       "      <th>984</th>\n",
       "      <td>984</td>\n",
       "      <td>AUTHENTIC BRWN MICHAEL KORS MAKEUP STAIN</td>\n",
       "      <td>4</td>\n",
       "      <td>NaN</td>\n",
       "      <td>18.0</td>\n",
       "      <td>0</td>\n",
       "      <td>No description yet</td>\n",
       "      <td>AUTHENTIC BRWN MICHAEL KORS MAKEUP STAIN No de...</td>\n",
       "    </tr>\n",
       "    <tr>\n",
       "      <th>1185</th>\n",
       "      <td>1185</td>\n",
       "      <td>Teenage Mutant Ninja Turtle Van/ Extras</td>\n",
       "      <td>3</td>\n",
       "      <td>NaN</td>\n",
       "      <td>9.0</td>\n",
       "      <td>0</td>\n",
       "      <td>Teenage Mutant Ninja Turtle Van, April O'Neil ...</td>\n",
       "      <td>Teenage Mutant Ninja Turtle Van/ Extras Teenag...</td>\n",
       "    </tr>\n",
       "  </tbody>\n",
       "</table>\n",
       "</div>"
      ],
      "text/plain": [
       "      train_id                                      name  item_condition_id  \\\n",
       "122        122                                    Bundle                  3   \n",
       "155        155                      3 Nora Roberts Books                  3   \n",
       "258        258                               ACER Laptop                  5   \n",
       "984        984  AUTHENTIC BRWN MICHAEL KORS MAKEUP STAIN                  4   \n",
       "1185      1185   Teenage Mutant Ninja Turtle Van/ Extras                  3   \n",
       "\n",
       "      category_name  price  shipping  \\\n",
       "122             NaN   59.0         0   \n",
       "155             NaN   10.0         1   \n",
       "258             NaN   14.0         0   \n",
       "984             NaN   18.0         0   \n",
       "1185            NaN    9.0         0   \n",
       "\n",
       "                                       item_description  \\\n",
       "122   Sizes and info of clothes can be found on thei...   \n",
       "155                                        For aferg16.   \n",
       "258   Powers on, no screen display, no external dama...   \n",
       "984                                  No description yet   \n",
       "1185  Teenage Mutant Ninja Turtle Van, April O'Neil ...   \n",
       "\n",
       "                                             total_text  \n",
       "122   Bundle Sizes and info of clothes can be found ...  \n",
       "155                   3 Nora Roberts Books For aferg16.  \n",
       "258   ACER Laptop Powers on, no screen display, no e...  \n",
       "984   AUTHENTIC BRWN MICHAEL KORS MAKEUP STAIN No de...  \n",
       "1185  Teenage Mutant Ninja Turtle Van/ Extras Teenag...  "
      ]
     },
     "execution_count": 50,
     "metadata": {},
     "output_type": "execute_result"
    }
   ],
   "source": [
    "train_df_with_no_cat.head()"
   ]
  },
  {
   "cell_type": "code",
   "execution_count": 51,
   "metadata": {
    "collapsed": true
   },
   "outputs": [],
   "source": [
    "# def sparse_matrices(row):\n",
    "#     return vectorizer.transform([row])"
   ]
  },
  {
   "cell_type": "code",
   "execution_count": 52,
   "metadata": {
    "collapsed": true
   },
   "outputs": [],
   "source": [
    "# def predict_the_category(row):\n",
    "#     if row['category_name'] == np.null:\n",
    "#         return vectorizer.transform(row['total_text'])\n",
    "#     return row['category_name']"
   ]
  },
  {
   "cell_type": "code",
   "execution_count": 53,
   "metadata": {
    "collapsed": true
   },
   "outputs": [],
   "source": [
    "def fill_and_transform_df(df):\n",
    "    new_df = deepcopy(df)\n",
    "    for index, row in df.iterrows():\n",
    "        if pd.isnull(row['category_name']):\n",
    "            new_df.loc[index]['category_name'] = vectorizer.transform([row['total_text']])\n",
    "        else:\n",
    "            new_df.loc[index]['category_name'] = row['category_name']\n",
    "    return new_df"
   ]
  },
  {
   "cell_type": "code",
   "execution_count": 54,
   "metadata": {
    "collapsed": true
   },
   "outputs": [],
   "source": [
    "# def label_category_name(row):\n",
    "#     if pd.isnull(row['category_name']):\n",
    "#         matrix = vectorizer.transform([row['total_text']])\n",
    "#         clf.predict(matrix)\n",
    "#    if row['eri_afr_amer'] + row['eri_asian'] + row['eri_hawaiian'] + row['eri_nat_amer'] + row['eri_white'] > 1 :\n",
    "#       return 'Two Or More'\n",
    "#    if row['eri_nat_amer'] == 1 :\n",
    "#       return 'A/I AK Native'\n",
    "#    if row['eri_asian'] == 1:\n",
    "#       return 'Asian'\n",
    "#    if row['eri_afr_amer']  == 1:\n",
    "#       return 'Black/AA'\n",
    "#    if row['eri_hawaiian'] == 1:\n",
    "#       return 'Haw/Pac Isl.'\n",
    "#    if row['eri_white'] == 1:\n",
    "#       return 'White'\n",
    "#    return 'Other'"
   ]
  },
  {
   "cell_type": "code",
   "execution_count": 55,
   "metadata": {
    "collapsed": true
   },
   "outputs": [],
   "source": [
    "matrix = vectorizer.transform(train_df_with_no_cat['total_text'])\n",
    "pred = clf.predict(matrix)"
   ]
  },
  {
   "cell_type": "code",
   "execution_count": 56,
   "metadata": {},
   "outputs": [
    {
     "data": {
      "text/plain": [
       "((6327,), (6327, 8))"
      ]
     },
     "execution_count": 56,
     "metadata": {},
     "output_type": "execute_result"
    }
   ],
   "source": [
    "pred.shape, train_df_with_no_cat.shape"
   ]
  },
  {
   "cell_type": "markdown",
   "metadata": {},
   "source": [
    "fill the category_names with the predicted values wherever they are not present. This will be used in further predictions using pytorch."
   ]
  },
  {
   "cell_type": "code",
   "execution_count": 57,
   "metadata": {},
   "outputs": [
    {
     "name": "stdout",
     "output_type": "stream",
     "text": [
      "train_id                                                           122\n",
      "name                                                            Bundle\n",
      "item_condition_id                                                    3\n",
      "category_name                                                      NaN\n",
      "price                                                               59\n",
      "shipping                                                             0\n",
      "item_description     Sizes and info of clothes can be found on thei...\n",
      "total_text           Bundle Sizes and info of clothes can be found ...\n",
      "Name: 122, dtype: object\n",
      "train_id                                                           122\n",
      "name                                                            Bundle\n",
      "item_condition_id                                                    3\n",
      "category_name                                                        9\n",
      "price                                                               59\n",
      "shipping                                                             0\n",
      "item_description     Sizes and info of clothes can be found on thei...\n",
      "total_text           Bundle Sizes and info of clothes can be found ...\n",
      "Name: 122, dtype: object\n"
     ]
    }
   ],
   "source": [
    "print(train_df.loc[122])\n",
    "i = 0\n",
    "for index, row in train_df_with_no_cat.iterrows():\n",
    "    train_df.loc[train_df.train_id == index, ['category_name']] = pred[i]\n",
    "    i += 1\n",
    "print(train_df.loc[122])"
   ]
  },
  {
   "cell_type": "code",
   "execution_count": 58,
   "metadata": {},
   "outputs": [
    {
     "data": {
      "text/html": [
       "<div>\n",
       "<table border=\"1\" class=\"dataframe\">\n",
       "  <thead>\n",
       "    <tr style=\"text-align: right;\">\n",
       "      <th></th>\n",
       "      <th>train_id</th>\n",
       "      <th>name</th>\n",
       "      <th>item_condition_id</th>\n",
       "      <th>category_name</th>\n",
       "      <th>price</th>\n",
       "      <th>shipping</th>\n",
       "      <th>item_description</th>\n",
       "      <th>total_text</th>\n",
       "    </tr>\n",
       "  </thead>\n",
       "  <tbody>\n",
       "  </tbody>\n",
       "</table>\n",
       "</div>"
      ],
      "text/plain": [
       "Empty DataFrame\n",
       "Columns: [train_id, name, item_condition_id, category_name, price, shipping, item_description, total_text]\n",
       "Index: []"
      ]
     },
     "execution_count": 58,
     "metadata": {},
     "output_type": "execute_result"
    }
   ],
   "source": [
    "train_df[train_df['category_name'].isnull()]"
   ]
  },
  {
   "cell_type": "code",
   "execution_count": 59,
   "metadata": {},
   "outputs": [
    {
     "data": {
      "text/html": [
       "<div>\n",
       "<table border=\"1\" class=\"dataframe\">\n",
       "  <thead>\n",
       "    <tr style=\"text-align: right;\">\n",
       "      <th></th>\n",
       "      <th>train_id</th>\n",
       "      <th>name</th>\n",
       "      <th>item_condition_id</th>\n",
       "      <th>category_name</th>\n",
       "      <th>price</th>\n",
       "      <th>shipping</th>\n",
       "      <th>item_description</th>\n",
       "      <th>total_text</th>\n",
       "    </tr>\n",
       "  </thead>\n",
       "  <tbody>\n",
       "    <tr>\n",
       "      <th>0</th>\n",
       "      <td>0</td>\n",
       "      <td>MLB Cincinnati Reds T Shirt Size XL</td>\n",
       "      <td>3</td>\n",
       "      <td>5.0</td>\n",
       "      <td>10.0</td>\n",
       "      <td>1</td>\n",
       "      <td>No description yet</td>\n",
       "      <td>MLB Cincinnati Reds T Shirt Size XL No descrip...</td>\n",
       "    </tr>\n",
       "    <tr>\n",
       "      <th>1</th>\n",
       "      <td>1</td>\n",
       "      <td>Razer BlackWidow Chroma Keyboard</td>\n",
       "      <td>3</td>\n",
       "      <td>1.0</td>\n",
       "      <td>52.0</td>\n",
       "      <td>0</td>\n",
       "      <td>This keyboard is in great condition and works ...</td>\n",
       "      <td>Razer BlackWidow Chroma Keyboard This keyboard...</td>\n",
       "    </tr>\n",
       "    <tr>\n",
       "      <th>2</th>\n",
       "      <td>2</td>\n",
       "      <td>AVA-VIV Blouse</td>\n",
       "      <td>1</td>\n",
       "      <td>9.0</td>\n",
       "      <td>10.0</td>\n",
       "      <td>1</td>\n",
       "      <td>Adorable top with a hint of lace and a key hol...</td>\n",
       "      <td>AVA-VIV Blouse Adorable top with a hint of lac...</td>\n",
       "    </tr>\n",
       "    <tr>\n",
       "      <th>3</th>\n",
       "      <td>3</td>\n",
       "      <td>Leather Horse Statues</td>\n",
       "      <td>1</td>\n",
       "      <td>3.0</td>\n",
       "      <td>35.0</td>\n",
       "      <td>1</td>\n",
       "      <td>New with tags. Leather horses. Retail for [rm]...</td>\n",
       "      <td>Leather Horse Statues New with tags. Leather h...</td>\n",
       "    </tr>\n",
       "    <tr>\n",
       "      <th>4</th>\n",
       "      <td>4</td>\n",
       "      <td>24K GOLD plated rose</td>\n",
       "      <td>1</td>\n",
       "      <td>9.0</td>\n",
       "      <td>44.0</td>\n",
       "      <td>0</td>\n",
       "      <td>Complete with certificate of authenticity</td>\n",
       "      <td>24K GOLD plated rose Complete with certificate...</td>\n",
       "    </tr>\n",
       "  </tbody>\n",
       "</table>\n",
       "</div>"
      ],
      "text/plain": [
       "   train_id                                 name  item_condition_id  \\\n",
       "0         0  MLB Cincinnati Reds T Shirt Size XL                  3   \n",
       "1         1     Razer BlackWidow Chroma Keyboard                  3   \n",
       "2         2                       AVA-VIV Blouse                  1   \n",
       "3         3                Leather Horse Statues                  1   \n",
       "4         4                 24K GOLD plated rose                  1   \n",
       "\n",
       "   category_name  price  shipping  \\\n",
       "0            5.0   10.0         1   \n",
       "1            1.0   52.0         0   \n",
       "2            9.0   10.0         1   \n",
       "3            3.0   35.0         1   \n",
       "4            9.0   44.0         0   \n",
       "\n",
       "                                    item_description  \\\n",
       "0                                 No description yet   \n",
       "1  This keyboard is in great condition and works ...   \n",
       "2  Adorable top with a hint of lace and a key hol...   \n",
       "3  New with tags. Leather horses. Retail for [rm]...   \n",
       "4          Complete with certificate of authenticity   \n",
       "\n",
       "                                          total_text  \n",
       "0  MLB Cincinnati Reds T Shirt Size XL No descrip...  \n",
       "1  Razer BlackWidow Chroma Keyboard This keyboard...  \n",
       "2  AVA-VIV Blouse Adorable top with a hint of lac...  \n",
       "3  Leather Horse Statues New with tags. Leather h...  \n",
       "4  24K GOLD plated rose Complete with certificate...  "
      ]
     },
     "execution_count": 59,
     "metadata": {},
     "output_type": "execute_result"
    }
   ],
   "source": [
    "train_df.head()"
   ]
  },
  {
   "cell_type": "code",
   "execution_count": 63,
   "metadata": {},
   "outputs": [
    {
     "data": {
      "text/plain": [
       "<matplotlib.axes._subplots.AxesSubplot at 0x7f62910ff048>"
      ]
     },
     "execution_count": 63,
     "metadata": {},
     "output_type": "execute_result"
    },
    {
     "data": {
      "image/png": "[encoded data removed]",
      "text/plain": [
       "<matplotlib.figure.Figure at 0x7f6290dc74e0>"
      ]
     },
     "metadata": {},
     "output_type": "display_data"
    }
   ],
   "source": [
    "fig, ax = plt.subplots(1, 1, figsize=(11, 7), sharex=True)\n",
    "sns.distplot(np.log(train_df['price'].values+1))"
   ]
  },
  {
   "cell_type": "code",
   "execution_count": null,
   "metadata": {
    "collapsed": true
   },
   "outputs": [],
   "source": []
  },
  {
   "cell_type": "code",
   "execution_count": null,
   "metadata": {
    "collapsed": true
   },
   "outputs": [],
   "source": []
  },
  {
   "cell_type": "code",
   "execution_count": null,
   "metadata": {
    "collapsed": true
   },
   "outputs": [],
   "source": []
  }
 ],
 "metadata": {
  "kernelspec": {
   "display_name": "Python (venv)",
   "language": "python",
   "name": "venv"
  },
  "language_info": {
   "codemirror_mode": {
    "name": "ipython",
    "version": 3
   },
   "file_extension": ".py",
   "mimetype": "text/x-python",
   "name": "python",
   "nbconvert_exporter": "python",
   "pygments_lexer": "ipython3",
   "version": "3.6.2"
  }
 },
 "nbformat": 4,
 "nbformat_minor": 2
}
