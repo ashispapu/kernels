{
 "cells": [
  {
   "cell_type": "markdown",
   "metadata": {},
   "source": [
    "link: https://www.kaggle.com/kswamy15/mercari-using-pytorch"
   ]
  },
  {
   "cell_type": "code",
   "execution_count": 1,
   "metadata": {
    "collapsed": true
   },
   "outputs": [],
   "source": [
    "import torch\n",
    "from torch.autograd import Variable\n",
    "from torch import optim\n",
    "from torch.optim import lr_scheduler\n",
    "from torch import nn as nn\n",
    "from torch.utils.data import Dataset, DataLoader\n",
    "from torchvision import transforms, utils\n",
    "import torch.nn.functional as F"
   ]
  },
  {
   "cell_type": "code",
   "execution_count": 2,
   "metadata": {
    "collapsed": true
   },
   "outputs": [],
   "source": [
    "import numpy as np\n",
    "import pandas as pd\n",
    "import time"
   ]
  },
  {
   "cell_type": "code",
   "execution_count": 3,
   "metadata": {
    "collapsed": true
   },
   "outputs": [],
   "source": [
    "import matplotlib.pyplot as plt\n",
    "import matplotlib.gridspec as gridspec\n",
    "import seaborn as sns\n",
    "from sklearn.preprocessing import LabelEncoder, MinMaxScaler, StandardScaler\n",
    "from sklearn.model_selection import train_test_split\n",
    "import math"
   ]
  },
  {
   "cell_type": "code",
   "execution_count": 4,
   "metadata": {
    "collapsed": true
   },
   "outputs": [],
   "source": [
    "train_df = pd.read_csv('data/mercari/train.tsv', sep='\\t')\n",
    "test_df = pd.read_csv('data/mercari/test.tsv', sep='\\t')"
   ]
  },
  {
   "cell_type": "code",
   "execution_count": 5,
   "metadata": {},
   "outputs": [
    {
     "data": {
      "text/html": [
       "<div>\n",
       "<table border=\"1\" class=\"dataframe\">\n",
       "  <thead>\n",
       "    <tr style=\"text-align: right;\">\n",
       "      <th></th>\n",
       "      <th>train_id</th>\n",
       "      <th>item_condition_id</th>\n",
       "      <th>price</th>\n",
       "      <th>shipping</th>\n",
       "    </tr>\n",
       "  </thead>\n",
       "  <tbody>\n",
       "    <tr>\n",
       "      <th>count</th>\n",
       "      <td>1.482535e+06</td>\n",
       "      <td>1.482535e+06</td>\n",
       "      <td>1.482535e+06</td>\n",
       "      <td>1.482535e+06</td>\n",
       "    </tr>\n",
       "    <tr>\n",
       "      <th>mean</th>\n",
       "      <td>7.412670e+05</td>\n",
       "      <td>1.907380e+00</td>\n",
       "      <td>2.673752e+01</td>\n",
       "      <td>4.472744e-01</td>\n",
       "    </tr>\n",
       "    <tr>\n",
       "      <th>std</th>\n",
       "      <td>4.279711e+05</td>\n",
       "      <td>9.031586e-01</td>\n",
       "      <td>3.858607e+01</td>\n",
       "      <td>4.972124e-01</td>\n",
       "    </tr>\n",
       "    <tr>\n",
       "      <th>min</th>\n",
       "      <td>0.000000e+00</td>\n",
       "      <td>1.000000e+00</td>\n",
       "      <td>0.000000e+00</td>\n",
       "      <td>0.000000e+00</td>\n",
       "    </tr>\n",
       "    <tr>\n",
       "      <th>25%</th>\n",
       "      <td>3.706335e+05</td>\n",
       "      <td>1.000000e+00</td>\n",
       "      <td>1.000000e+01</td>\n",
       "      <td>0.000000e+00</td>\n",
       "    </tr>\n",
       "    <tr>\n",
       "      <th>50%</th>\n",
       "      <td>7.412670e+05</td>\n",
       "      <td>2.000000e+00</td>\n",
       "      <td>1.700000e+01</td>\n",
       "      <td>0.000000e+00</td>\n",
       "    </tr>\n",
       "    <tr>\n",
       "      <th>75%</th>\n",
       "      <td>1.111900e+06</td>\n",
       "      <td>3.000000e+00</td>\n",
       "      <td>2.900000e+01</td>\n",
       "      <td>1.000000e+00</td>\n",
       "    </tr>\n",
       "    <tr>\n",
       "      <th>max</th>\n",
       "      <td>1.482534e+06</td>\n",
       "      <td>5.000000e+00</td>\n",
       "      <td>2.009000e+03</td>\n",
       "      <td>1.000000e+00</td>\n",
       "    </tr>\n",
       "  </tbody>\n",
       "</table>\n",
       "</div>"
      ],
      "text/plain": [
       "           train_id  item_condition_id         price      shipping\n",
       "count  1.482535e+06       1.482535e+06  1.482535e+06  1.482535e+06\n",
       "mean   7.412670e+05       1.907380e+00  2.673752e+01  4.472744e-01\n",
       "std    4.279711e+05       9.031586e-01  3.858607e+01  4.972124e-01\n",
       "min    0.000000e+00       1.000000e+00  0.000000e+00  0.000000e+00\n",
       "25%    3.706335e+05       1.000000e+00  1.000000e+01  0.000000e+00\n",
       "50%    7.412670e+05       2.000000e+00  1.700000e+01  0.000000e+00\n",
       "75%    1.111900e+06       3.000000e+00  2.900000e+01  1.000000e+00\n",
       "max    1.482534e+06       5.000000e+00  2.009000e+03  1.000000e+00"
      ]
     },
     "execution_count": 5,
     "metadata": {},
     "output_type": "execute_result"
    }
   ],
   "source": [
    "train_df.describe()"
   ]
  },
  {
   "cell_type": "code",
   "execution_count": 6,
   "metadata": {},
   "outputs": [
    {
     "data": {
      "text/plain": [
       "(1482535, 8)"
      ]
     },
     "execution_count": 6,
     "metadata": {},
     "output_type": "execute_result"
    }
   ],
   "source": [
    "train_df.shape"
   ]
  },
  {
   "cell_type": "code",
   "execution_count": 7,
   "metadata": {
    "scrolled": true
   },
   "outputs": [
    {
     "data": {
      "text/html": [
       "<div>\n",
       "<table border=\"1\" class=\"dataframe\">\n",
       "  <thead>\n",
       "    <tr style=\"text-align: right;\">\n",
       "      <th></th>\n",
       "      <th>train_id</th>\n",
       "      <th>name</th>\n",
       "      <th>item_condition_id</th>\n",
       "      <th>category_name</th>\n",
       "      <th>brand_name</th>\n",
       "      <th>price</th>\n",
       "      <th>shipping</th>\n",
       "      <th>item_description</th>\n",
       "    </tr>\n",
       "  </thead>\n",
       "  <tbody>\n",
       "    <tr>\n",
       "      <th>0</th>\n",
       "      <td>0</td>\n",
       "      <td>MLB Cincinnati Reds T Shirt Size XL</td>\n",
       "      <td>3</td>\n",
       "      <td>Men/Tops/T-shirts</td>\n",
       "      <td>NaN</td>\n",
       "      <td>10.0</td>\n",
       "      <td>1</td>\n",
       "      <td>No description yet</td>\n",
       "    </tr>\n",
       "    <tr>\n",
       "      <th>1</th>\n",
       "      <td>1</td>\n",
       "      <td>Razer BlackWidow Chroma Keyboard</td>\n",
       "      <td>3</td>\n",
       "      <td>Electronics/Computers &amp; Tablets/Components &amp; P...</td>\n",
       "      <td>Razer</td>\n",
       "      <td>52.0</td>\n",
       "      <td>0</td>\n",
       "      <td>This keyboard is in great condition and works ...</td>\n",
       "    </tr>\n",
       "    <tr>\n",
       "      <th>2</th>\n",
       "      <td>2</td>\n",
       "      <td>AVA-VIV Blouse</td>\n",
       "      <td>1</td>\n",
       "      <td>Women/Tops &amp; Blouses/Blouse</td>\n",
       "      <td>Target</td>\n",
       "      <td>10.0</td>\n",
       "      <td>1</td>\n",
       "      <td>Adorable top with a hint of lace and a key hol...</td>\n",
       "    </tr>\n",
       "    <tr>\n",
       "      <th>3</th>\n",
       "      <td>3</td>\n",
       "      <td>Leather Horse Statues</td>\n",
       "      <td>1</td>\n",
       "      <td>Home/Home Décor/Home Décor Accents</td>\n",
       "      <td>NaN</td>\n",
       "      <td>35.0</td>\n",
       "      <td>1</td>\n",
       "      <td>New with tags. Leather horses. Retail for [rm]...</td>\n",
       "    </tr>\n",
       "    <tr>\n",
       "      <th>4</th>\n",
       "      <td>4</td>\n",
       "      <td>24K GOLD plated rose</td>\n",
       "      <td>1</td>\n",
       "      <td>Women/Jewelry/Necklaces</td>\n",
       "      <td>NaN</td>\n",
       "      <td>44.0</td>\n",
       "      <td>0</td>\n",
       "      <td>Complete with certificate of authenticity</td>\n",
       "    </tr>\n",
       "  </tbody>\n",
       "</table>\n",
       "</div>"
      ],
      "text/plain": [
       "   train_id                                 name  item_condition_id  \\\n",
       "0         0  MLB Cincinnati Reds T Shirt Size XL                  3   \n",
       "1         1     Razer BlackWidow Chroma Keyboard                  3   \n",
       "2         2                       AVA-VIV Blouse                  1   \n",
       "3         3                Leather Horse Statues                  1   \n",
       "4         4                 24K GOLD plated rose                  1   \n",
       "\n",
       "                                       category_name brand_name  price  \\\n",
       "0                                  Men/Tops/T-shirts        NaN   10.0   \n",
       "1  Electronics/Computers & Tablets/Components & P...      Razer   52.0   \n",
       "2                        Women/Tops & Blouses/Blouse     Target   10.0   \n",
       "3                 Home/Home Décor/Home Décor Accents        NaN   35.0   \n",
       "4                            Women/Jewelry/Necklaces        NaN   44.0   \n",
       "\n",
       "   shipping                                   item_description  \n",
       "0         1                                 No description yet  \n",
       "1         0  This keyboard is in great condition and works ...  \n",
       "2         1  Adorable top with a hint of lace and a key hol...  \n",
       "3         1  New with tags. Leather horses. Retail for [rm]...  \n",
       "4         0          Complete with certificate of authenticity  "
      ]
     },
     "execution_count": 7,
     "metadata": {},
     "output_type": "execute_result"
    }
   ],
   "source": [
    "train_df.head()"
   ]
  },
  {
   "cell_type": "code",
   "execution_count": 8,
   "metadata": {},
   "outputs": [
    {
     "name": "stdout",
     "output_type": "stream",
     "text": [
      "Train columns with null values:\n",
      " train_id                  0\n",
      "name                      0\n",
      "item_condition_id         0\n",
      "category_name          6327\n",
      "brand_name           632682\n",
      "price                     0\n",
      "shipping                  0\n",
      "item_description          4\n",
      "dtype: int64\n",
      "----------\n",
      "Test/Validation columns with null values:\n",
      " test_id                   0\n",
      "name                      0\n",
      "item_condition_id         0\n",
      "category_name          3058\n",
      "brand_name           295525\n",
      "shipping                  0\n",
      "item_description          0\n",
      "dtype: int64\n",
      "----------\n"
     ]
    },
    {
     "data": {
      "text/html": [
       "<div>\n",
       "<table border=\"1\" class=\"dataframe\">\n",
       "  <thead>\n",
       "    <tr style=\"text-align: right;\">\n",
       "      <th></th>\n",
       "      <th>train_id</th>\n",
       "      <th>name</th>\n",
       "      <th>item_condition_id</th>\n",
       "      <th>category_name</th>\n",
       "      <th>brand_name</th>\n",
       "      <th>price</th>\n",
       "      <th>shipping</th>\n",
       "      <th>item_description</th>\n",
       "    </tr>\n",
       "  </thead>\n",
       "  <tbody>\n",
       "    <tr>\n",
       "      <th>count</th>\n",
       "      <td>1.482535e+06</td>\n",
       "      <td>1482535</td>\n",
       "      <td>1.482535e+06</td>\n",
       "      <td>1476208</td>\n",
       "      <td>849853</td>\n",
       "      <td>1.482535e+06</td>\n",
       "      <td>1.482535e+06</td>\n",
       "      <td>1482531</td>\n",
       "    </tr>\n",
       "    <tr>\n",
       "      <th>unique</th>\n",
       "      <td>NaN</td>\n",
       "      <td>1225273</td>\n",
       "      <td>NaN</td>\n",
       "      <td>1287</td>\n",
       "      <td>4809</td>\n",
       "      <td>NaN</td>\n",
       "      <td>NaN</td>\n",
       "      <td>1281426</td>\n",
       "    </tr>\n",
       "    <tr>\n",
       "      <th>top</th>\n",
       "      <td>NaN</td>\n",
       "      <td>Bundle</td>\n",
       "      <td>NaN</td>\n",
       "      <td>Women/Athletic Apparel/Pants, Tights, Leggings</td>\n",
       "      <td>PINK</td>\n",
       "      <td>NaN</td>\n",
       "      <td>NaN</td>\n",
       "      <td>No description yet</td>\n",
       "    </tr>\n",
       "    <tr>\n",
       "      <th>freq</th>\n",
       "      <td>NaN</td>\n",
       "      <td>2232</td>\n",
       "      <td>NaN</td>\n",
       "      <td>60177</td>\n",
       "      <td>54088</td>\n",
       "      <td>NaN</td>\n",
       "      <td>NaN</td>\n",
       "      <td>82489</td>\n",
       "    </tr>\n",
       "    <tr>\n",
       "      <th>mean</th>\n",
       "      <td>7.412670e+05</td>\n",
       "      <td>NaN</td>\n",
       "      <td>1.907380e+00</td>\n",
       "      <td>NaN</td>\n",
       "      <td>NaN</td>\n",
       "      <td>2.673752e+01</td>\n",
       "      <td>4.472744e-01</td>\n",
       "      <td>NaN</td>\n",
       "    </tr>\n",
       "    <tr>\n",
       "      <th>std</th>\n",
       "      <td>4.279711e+05</td>\n",
       "      <td>NaN</td>\n",
       "      <td>9.031586e-01</td>\n",
       "      <td>NaN</td>\n",
       "      <td>NaN</td>\n",
       "      <td>3.858607e+01</td>\n",
       "      <td>4.972124e-01</td>\n",
       "      <td>NaN</td>\n",
       "    </tr>\n",
       "    <tr>\n",
       "      <th>min</th>\n",
       "      <td>0.000000e+00</td>\n",
       "      <td>NaN</td>\n",
       "      <td>1.000000e+00</td>\n",
       "      <td>NaN</td>\n",
       "      <td>NaN</td>\n",
       "      <td>0.000000e+00</td>\n",
       "      <td>0.000000e+00</td>\n",
       "      <td>NaN</td>\n",
       "    </tr>\n",
       "    <tr>\n",
       "      <th>25%</th>\n",
       "      <td>3.706335e+05</td>\n",
       "      <td>NaN</td>\n",
       "      <td>1.000000e+00</td>\n",
       "      <td>NaN</td>\n",
       "      <td>NaN</td>\n",
       "      <td>1.000000e+01</td>\n",
       "      <td>0.000000e+00</td>\n",
       "      <td>NaN</td>\n",
       "    </tr>\n",
       "    <tr>\n",
       "      <th>50%</th>\n",
       "      <td>7.412670e+05</td>\n",
       "      <td>NaN</td>\n",
       "      <td>2.000000e+00</td>\n",
       "      <td>NaN</td>\n",
       "      <td>NaN</td>\n",
       "      <td>1.700000e+01</td>\n",
       "      <td>0.000000e+00</td>\n",
       "      <td>NaN</td>\n",
       "    </tr>\n",
       "    <tr>\n",
       "      <th>75%</th>\n",
       "      <td>1.111900e+06</td>\n",
       "      <td>NaN</td>\n",
       "      <td>3.000000e+00</td>\n",
       "      <td>NaN</td>\n",
       "      <td>NaN</td>\n",
       "      <td>2.900000e+01</td>\n",
       "      <td>1.000000e+00</td>\n",
       "      <td>NaN</td>\n",
       "    </tr>\n",
       "    <tr>\n",
       "      <th>max</th>\n",
       "      <td>1.482534e+06</td>\n",
       "      <td>NaN</td>\n",
       "      <td>5.000000e+00</td>\n",
       "      <td>NaN</td>\n",
       "      <td>NaN</td>\n",
       "      <td>2.009000e+03</td>\n",
       "      <td>1.000000e+00</td>\n",
       "      <td>NaN</td>\n",
       "    </tr>\n",
       "  </tbody>\n",
       "</table>\n",
       "</div>"
      ],
      "text/plain": [
       "            train_id     name  item_condition_id  \\\n",
       "count   1.482535e+06  1482535       1.482535e+06   \n",
       "unique           NaN  1225273                NaN   \n",
       "top              NaN   Bundle                NaN   \n",
       "freq             NaN     2232                NaN   \n",
       "mean    7.412670e+05      NaN       1.907380e+00   \n",
       "std     4.279711e+05      NaN       9.031586e-01   \n",
       "min     0.000000e+00      NaN       1.000000e+00   \n",
       "25%     3.706335e+05      NaN       1.000000e+00   \n",
       "50%     7.412670e+05      NaN       2.000000e+00   \n",
       "75%     1.111900e+06      NaN       3.000000e+00   \n",
       "max     1.482534e+06      NaN       5.000000e+00   \n",
       "\n",
       "                                         category_name brand_name  \\\n",
       "count                                          1476208     849853   \n",
       "unique                                            1287       4809   \n",
       "top     Women/Athletic Apparel/Pants, Tights, Leggings       PINK   \n",
       "freq                                             60177      54088   \n",
       "mean                                               NaN        NaN   \n",
       "std                                                NaN        NaN   \n",
       "min                                                NaN        NaN   \n",
       "25%                                                NaN        NaN   \n",
       "50%                                                NaN        NaN   \n",
       "75%                                                NaN        NaN   \n",
       "max                                                NaN        NaN   \n",
       "\n",
       "               price      shipping    item_description  \n",
       "count   1.482535e+06  1.482535e+06             1482531  \n",
       "unique           NaN           NaN             1281426  \n",
       "top              NaN           NaN  No description yet  \n",
       "freq             NaN           NaN               82489  \n",
       "mean    2.673752e+01  4.472744e-01                 NaN  \n",
       "std     3.858607e+01  4.972124e-01                 NaN  \n",
       "min     0.000000e+00  0.000000e+00                 NaN  \n",
       "25%     1.000000e+01  0.000000e+00                 NaN  \n",
       "50%     1.700000e+01  0.000000e+00                 NaN  \n",
       "75%     2.900000e+01  1.000000e+00                 NaN  \n",
       "max     2.009000e+03  1.000000e+00                 NaN  "
      ]
     },
     "execution_count": 8,
     "metadata": {},
     "output_type": "execute_result"
    }
   ],
   "source": [
    "print('Train columns with null values:\\n', train_df.isnull().sum())\n",
    "print(\"-\"*10)\n",
    "\n",
    "print('Test/Validation columns with null values:\\n', test_df.isnull().sum())\n",
    "print(\"-\"*10)\n",
    "\n",
    "train_df.describe(include = 'all')"
   ]
  },
  {
   "cell_type": "markdown",
   "metadata": {},
   "source": [
    "Calculate how much of the brand names are not there."
   ]
  },
  {
   "cell_type": "code",
   "execution_count": 9,
   "metadata": {},
   "outputs": [
    {
     "name": "stdout",
     "output_type": "stream",
     "text": [
      "0.4267568725190299\n"
     ]
    }
   ],
   "source": [
    "print(632682/train_df.shape[0])"
   ]
  },
  {
   "cell_type": "markdown",
   "metadata": {},
   "source": [
    "Around 50% is not there hence we should probably not consider this."
   ]
  },
  {
   "cell_type": "code",
   "execution_count": 10,
   "metadata": {
    "collapsed": true
   },
   "outputs": [],
   "source": [
    "train_df = train_df.drop(['brand_name'], axis=1)\n",
    "test_df = test_df.drop(['brand_name'], axis=1)"
   ]
  },
  {
   "cell_type": "markdown",
   "metadata": {},
   "source": [
    "# categories"
   ]
  },
  {
   "cell_type": "markdown",
   "metadata": {},
   "source": [
    "We need to check how many categories there are"
   ]
  },
  {
   "cell_type": "code",
   "execution_count": 11,
   "metadata": {
    "collapsed": true
   },
   "outputs": [],
   "source": [
    "# Merge the two dataframes\n",
    "frames = [train_df, test_df]\n",
    "combined_df = pd.concat(frames)"
   ]
  },
  {
   "cell_type": "code",
   "execution_count": 12,
   "metadata": {
    "collapsed": true
   },
   "outputs": [],
   "source": [
    "combined_cat_df = combined_df['category_name']\n",
    "def split_cat(text):\n",
    "    try: return text.split(\"/\")\n",
    "    except: pass\n",
    "\n",
    "combined_cat_df = combined_cat_df.apply(lambda x: split_cat(x))"
   ]
  },
  {
   "cell_type": "code",
   "execution_count": 13,
   "metadata": {
    "collapsed": true
   },
   "outputs": [],
   "source": [
    "def no_of_cats(cat_list):\n",
    "    try: return len(cat_list)\n",
    "    except: return 0\n",
    "    \n",
    "no_of_cats = pd.DataFrame(combined_cat_df.apply(lambda x: no_of_cats(x)))"
   ]
  },
  {
   "cell_type": "code",
   "execution_count": 14,
   "metadata": {},
   "outputs": [
    {
     "name": "stdout",
     "output_type": "stream",
     "text": [
      "239\n",
      "there are a maximum of 5 categories and this is happened in row:\n"
     ]
    },
    {
     "data": {
      "text/html": [
       "<div>\n",
       "<table border=\"1\" class=\"dataframe\">\n",
       "  <thead>\n",
       "    <tr style=\"text-align: right;\">\n",
       "      <th></th>\n",
       "      <th>category_name</th>\n",
       "      <th>item_condition_id</th>\n",
       "      <th>item_description</th>\n",
       "      <th>name</th>\n",
       "      <th>price</th>\n",
       "      <th>shipping</th>\n",
       "      <th>test_id</th>\n",
       "      <th>train_id</th>\n",
       "    </tr>\n",
       "  </thead>\n",
       "  <tbody>\n",
       "    <tr>\n",
       "      <th>239</th>\n",
       "      <td>Electronics/Computers &amp; Tablets/iPad/Tablet/eB...</td>\n",
       "      <td>1</td>\n",
       "      <td>Zag invisible shield for IPad air</td>\n",
       "      <td>Zagg invisible shield for IPad air</td>\n",
       "      <td>10.0</td>\n",
       "      <td>1</td>\n",
       "      <td>NaN</td>\n",
       "      <td>239.0</td>\n",
       "    </tr>\n",
       "  </tbody>\n",
       "</table>\n",
       "</div>"
      ],
      "text/plain": [
       "                                         category_name  item_condition_id  \\\n",
       "239  Electronics/Computers & Tablets/iPad/Tablet/eB...                  1   \n",
       "\n",
       "                      item_description                                name  \\\n",
       "239  Zag invisible shield for IPad air  Zagg invisible shield for IPad air   \n",
       "\n",
       "     price  shipping  test_id  train_id  \n",
       "239   10.0         1      NaN     239.0  "
      ]
     },
     "execution_count": 14,
     "metadata": {},
     "output_type": "execute_result"
    }
   ],
   "source": [
    "# no_of_cats['category_name'].max(axis=1)\n",
    "index_whr_max_categories = no_of_cats['category_name'].argmax()\n",
    "print(index_whr_max_categories)\n",
    "max_num_of_categories = len(split_cat(combined_df.iloc[[index_whr_max_categories]]['category_name'].tolist()[0]))\n",
    "print('there are a maximum of {} categories and this is happened in row:'.format(max_num_of_categories))\n",
    "combined_df.iloc[[index_whr_max_categories]]"
   ]
  },
  {
   "cell_type": "code",
   "execution_count": 15,
   "metadata": {
    "collapsed": true
   },
   "outputs": [],
   "source": [
    "def split_cat(text, max_num_of_categories):\n",
    "    return_val = [\"None\"] * max_num_of_categories\n",
    "    try:\n",
    "        text_list = text.split(\"/\") + return_val\n",
    "        return text_list[:max_num_of_categories]\n",
    "    except:\n",
    "        return return_val"
   ]
  },
  {
   "cell_type": "markdown",
   "metadata": {},
   "source": [
    "Change the category name for train and test and total dataframes"
   ]
  },
  {
   "cell_type": "code",
   "execution_count": 16,
   "metadata": {
    "collapsed": true
   },
   "outputs": [],
   "source": [
    "train_df['category_name'] = train_df['category_name'].apply(lambda x: split_cat(x, max_num_of_categories))\n",
    "test_df['category_name'] = test_df['category_name'].apply(lambda x: split_cat(x, max_num_of_categories))\n",
    "combined_df['category_name'] = combined_df['category_name'].apply(lambda x: split_cat(x, max_num_of_categories))"
   ]
  },
  {
   "cell_type": "code",
   "execution_count": 17,
   "metadata": {},
   "outputs": [
    {
     "data": {
      "text/html": [
       "<div>\n",
       "<table border=\"1\" class=\"dataframe\">\n",
       "  <thead>\n",
       "    <tr style=\"text-align: right;\">\n",
       "      <th></th>\n",
       "      <th>train_id</th>\n",
       "      <th>name</th>\n",
       "      <th>item_condition_id</th>\n",
       "      <th>category_name</th>\n",
       "      <th>price</th>\n",
       "      <th>shipping</th>\n",
       "      <th>item_description</th>\n",
       "    </tr>\n",
       "  </thead>\n",
       "  <tbody>\n",
       "    <tr>\n",
       "      <th>0</th>\n",
       "      <td>0</td>\n",
       "      <td>MLB Cincinnati Reds T Shirt Size XL</td>\n",
       "      <td>3</td>\n",
       "      <td>[Men, Tops, T-shirts, None, None]</td>\n",
       "      <td>10.0</td>\n",
       "      <td>1</td>\n",
       "      <td>No description yet</td>\n",
       "    </tr>\n",
       "    <tr>\n",
       "      <th>1</th>\n",
       "      <td>1</td>\n",
       "      <td>Razer BlackWidow Chroma Keyboard</td>\n",
       "      <td>3</td>\n",
       "      <td>[Electronics, Computers &amp; Tablets, Components ...</td>\n",
       "      <td>52.0</td>\n",
       "      <td>0</td>\n",
       "      <td>This keyboard is in great condition and works ...</td>\n",
       "    </tr>\n",
       "    <tr>\n",
       "      <th>2</th>\n",
       "      <td>2</td>\n",
       "      <td>AVA-VIV Blouse</td>\n",
       "      <td>1</td>\n",
       "      <td>[Women, Tops &amp; Blouses, Blouse, None, None]</td>\n",
       "      <td>10.0</td>\n",
       "      <td>1</td>\n",
       "      <td>Adorable top with a hint of lace and a key hol...</td>\n",
       "    </tr>\n",
       "    <tr>\n",
       "      <th>3</th>\n",
       "      <td>3</td>\n",
       "      <td>Leather Horse Statues</td>\n",
       "      <td>1</td>\n",
       "      <td>[Home, Home Décor, Home Décor Accents, None, N...</td>\n",
       "      <td>35.0</td>\n",
       "      <td>1</td>\n",
       "      <td>New with tags. Leather horses. Retail for [rm]...</td>\n",
       "    </tr>\n",
       "    <tr>\n",
       "      <th>4</th>\n",
       "      <td>4</td>\n",
       "      <td>24K GOLD plated rose</td>\n",
       "      <td>1</td>\n",
       "      <td>[Women, Jewelry, Necklaces, None, None]</td>\n",
       "      <td>44.0</td>\n",
       "      <td>0</td>\n",
       "      <td>Complete with certificate of authenticity</td>\n",
       "    </tr>\n",
       "  </tbody>\n",
       "</table>\n",
       "</div>"
      ],
      "text/plain": [
       "   train_id                                 name  item_condition_id  \\\n",
       "0         0  MLB Cincinnati Reds T Shirt Size XL                  3   \n",
       "1         1     Razer BlackWidow Chroma Keyboard                  3   \n",
       "2         2                       AVA-VIV Blouse                  1   \n",
       "3         3                Leather Horse Statues                  1   \n",
       "4         4                 24K GOLD plated rose                  1   \n",
       "\n",
       "                                       category_name  price  shipping  \\\n",
       "0                  [Men, Tops, T-shirts, None, None]   10.0         1   \n",
       "1  [Electronics, Computers & Tablets, Components ...   52.0         0   \n",
       "2        [Women, Tops & Blouses, Blouse, None, None]   10.0         1   \n",
       "3  [Home, Home Décor, Home Décor Accents, None, N...   35.0         1   \n",
       "4            [Women, Jewelry, Necklaces, None, None]   44.0         0   \n",
       "\n",
       "                                    item_description  \n",
       "0                                 No description yet  \n",
       "1  This keyboard is in great condition and works ...  \n",
       "2  Adorable top with a hint of lace and a key hol...  \n",
       "3  New with tags. Leather horses. Retail for [rm]...  \n",
       "4          Complete with certificate of authenticity  "
      ]
     },
     "execution_count": 17,
     "metadata": {},
     "output_type": "execute_result"
    }
   ],
   "source": [
    "train_df.head()"
   ]
  },
  {
   "cell_type": "markdown",
   "metadata": {},
   "source": [
    "now we know that there are 5 categories so we will try to find the unknown ones category per category. so we will make predictions based on the 5 categories"
   ]
  },
  {
   "cell_type": "markdown",
   "metadata": {},
   "source": [
    "### Running category encoding on the first category"
   ]
  },
  {
   "cell_type": "code",
   "execution_count": 31,
   "metadata": {},
   "outputs": [
    {
     "data": {
      "text/plain": [
       "['Men', 'Electronics', 'Women', 'Home', 'Women']"
      ]
     },
     "execution_count": 31,
     "metadata": {},
     "output_type": "execute_result"
    }
   ],
   "source": [
    "combined_cat1_list = [x[0] for x in combined_df['category_name'].tolist()]\n",
    "combined_cat1_list[:5]"
   ]
  },
  {
   "cell_type": "code",
   "execution_count": 32,
   "metadata": {},
   "outputs": [
    {
     "data": {
      "text/plain": [
       "LabelEncoder()"
      ]
     },
     "execution_count": 32,
     "metadata": {},
     "output_type": "execute_result"
    }
   ],
   "source": [
    "cat1_le = LabelEncoder()\n",
    "cat1_le.fit(combined_cat1_list)"
   ]
  },
  {
   "cell_type": "code",
   "execution_count": 33,
   "metadata": {},
   "outputs": [
    {
     "data": {
      "text/plain": [
       "array([ 5,  1, 10,  3, 10])"
      ]
     },
     "execution_count": 33,
     "metadata": {},
     "output_type": "execute_result"
    }
   ],
   "source": [
    "cat1_le.transform(['Men', 'Electronics', 'Women', 'Home', 'Women'])"
   ]
  },
  {
   "cell_type": "code",
   "execution_count": 34,
   "metadata": {},
   "outputs": [
    {
     "data": {
      "text/plain": [
       "array(['Men', 'Electronics', 'Women', 'Home', 'Women'], \n",
       "      dtype='<U22')"
      ]
     },
     "execution_count": 34,
     "metadata": {},
     "output_type": "execute_result"
    }
   ],
   "source": [
    "cat1_le.inverse_transform([ 5,  1, 10,  3, 10])"
   ]
  },
  {
   "cell_type": "markdown",
   "metadata": {},
   "source": [
    "Thus we are able to build a label encoder state space for the first category"
   ]
  },
  {
   "cell_type": "code",
   "execution_count": null,
   "metadata": {
    "collapsed": true
   },
   "outputs": [],
   "source": []
  },
  {
   "cell_type": "code",
   "execution_count": null,
   "metadata": {
    "collapsed": true
   },
   "outputs": [],
   "source": []
  },
  {
   "cell_type": "code",
   "execution_count": null,
   "metadata": {
    "collapsed": true
   },
   "outputs": [],
   "source": []
  },
  {
   "cell_type": "code",
   "execution_count": null,
   "metadata": {
    "collapsed": true
   },
   "outputs": [],
   "source": []
  },
  {
   "cell_type": "code",
   "execution_count": 19,
   "metadata": {},
   "outputs": [
    {
     "data": {
      "text/html": [
       "<div>\n",
       "<table border=\"1\" class=\"dataframe\">\n",
       "  <thead>\n",
       "    <tr style=\"text-align: right;\">\n",
       "      <th></th>\n",
       "      <th>train_id</th>\n",
       "      <th>name</th>\n",
       "      <th>item_condition_id</th>\n",
       "      <th>category_name</th>\n",
       "      <th>price</th>\n",
       "      <th>shipping</th>\n",
       "      <th>item_description</th>\n",
       "    </tr>\n",
       "  </thead>\n",
       "  <tbody>\n",
       "    <tr>\n",
       "      <th>511535</th>\n",
       "      <td>511535</td>\n",
       "      <td>Shoes for Michelle</td>\n",
       "      <td>4</td>\n",
       "      <td>[Kids, Girls 0-24 Mos, Shoes, None, None]</td>\n",
       "      <td>9.0</td>\n",
       "      <td>0</td>\n",
       "      <td>NaN</td>\n",
       "    </tr>\n",
       "    <tr>\n",
       "      <th>861230</th>\n",
       "      <td>861230</td>\n",
       "      <td>Lipgloss</td>\n",
       "      <td>4</td>\n",
       "      <td>[Beauty, Makeup, Lips, None, None]</td>\n",
       "      <td>49.0</td>\n",
       "      <td>0</td>\n",
       "      <td>NaN</td>\n",
       "    </tr>\n",
       "    <tr>\n",
       "      <th>1224924</th>\n",
       "      <td>1224924</td>\n",
       "      <td>Disney Minnie Head band</td>\n",
       "      <td>3</td>\n",
       "      <td>[Women, Women's Accessories, Hair Accessories,...</td>\n",
       "      <td>9.0</td>\n",
       "      <td>0</td>\n",
       "      <td>NaN</td>\n",
       "    </tr>\n",
       "    <tr>\n",
       "      <th>1264242</th>\n",
       "      <td>1264242</td>\n",
       "      <td>For Bianca</td>\n",
       "      <td>3</td>\n",
       "      <td>[Women, Women's Accessories, Scarves &amp; Wraps, ...</td>\n",
       "      <td>10.0</td>\n",
       "      <td>1</td>\n",
       "      <td>NaN</td>\n",
       "    </tr>\n",
       "  </tbody>\n",
       "</table>\n",
       "</div>"
      ],
      "text/plain": [
       "         train_id                     name  item_condition_id  \\\n",
       "511535     511535       Shoes for Michelle                  4   \n",
       "861230     861230                 Lipgloss                  4   \n",
       "1224924   1224924  Disney Minnie Head band                  3   \n",
       "1264242   1264242               For Bianca                  3   \n",
       "\n",
       "                                             category_name  price  shipping  \\\n",
       "511535           [Kids, Girls 0-24 Mos, Shoes, None, None]    9.0         0   \n",
       "861230                  [Beauty, Makeup, Lips, None, None]   49.0         0   \n",
       "1224924  [Women, Women's Accessories, Hair Accessories,...    9.0         0   \n",
       "1264242  [Women, Women's Accessories, Scarves & Wraps, ...   10.0         1   \n",
       "\n",
       "        item_description  \n",
       "511535               NaN  \n",
       "861230               NaN  \n",
       "1224924              NaN  \n",
       "1264242              NaN  "
      ]
     },
     "execution_count": 19,
     "metadata": {},
     "output_type": "execute_result"
    }
   ],
   "source": [
    "train_df[train_df.isnull().any(axis=1)]"
   ]
  },
  {
   "cell_type": "code",
   "execution_count": 20,
   "metadata": {},
   "outputs": [
    {
     "data": {
      "text/html": [
       "<div>\n",
       "<table border=\"1\" class=\"dataframe\">\n",
       "  <thead>\n",
       "    <tr style=\"text-align: right;\">\n",
       "      <th></th>\n",
       "      <th>train_id</th>\n",
       "      <th>name</th>\n",
       "      <th>item_condition_id</th>\n",
       "      <th>category_name</th>\n",
       "      <th>price</th>\n",
       "      <th>shipping</th>\n",
       "      <th>item_description</th>\n",
       "    </tr>\n",
       "  </thead>\n",
       "  <tbody>\n",
       "    <tr>\n",
       "      <th>511535</th>\n",
       "      <td>511535</td>\n",
       "      <td>Shoes for Michelle</td>\n",
       "      <td>4</td>\n",
       "      <td>[Kids, Girls 0-24 Mos, Shoes, None, None]</td>\n",
       "      <td>9.0</td>\n",
       "      <td>0</td>\n",
       "      <td>NaN</td>\n",
       "    </tr>\n",
       "    <tr>\n",
       "      <th>861230</th>\n",
       "      <td>861230</td>\n",
       "      <td>Lipgloss</td>\n",
       "      <td>4</td>\n",
       "      <td>[Beauty, Makeup, Lips, None, None]</td>\n",
       "      <td>49.0</td>\n",
       "      <td>0</td>\n",
       "      <td>NaN</td>\n",
       "    </tr>\n",
       "    <tr>\n",
       "      <th>1224924</th>\n",
       "      <td>1224924</td>\n",
       "      <td>Disney Minnie Head band</td>\n",
       "      <td>3</td>\n",
       "      <td>[Women, Women's Accessories, Hair Accessories,...</td>\n",
       "      <td>9.0</td>\n",
       "      <td>0</td>\n",
       "      <td>NaN</td>\n",
       "    </tr>\n",
       "    <tr>\n",
       "      <th>1264242</th>\n",
       "      <td>1264242</td>\n",
       "      <td>For Bianca</td>\n",
       "      <td>3</td>\n",
       "      <td>[Women, Women's Accessories, Scarves &amp; Wraps, ...</td>\n",
       "      <td>10.0</td>\n",
       "      <td>1</td>\n",
       "      <td>NaN</td>\n",
       "    </tr>\n",
       "  </tbody>\n",
       "</table>\n",
       "</div>"
      ],
      "text/plain": [
       "         train_id                     name  item_condition_id  \\\n",
       "511535     511535       Shoes for Michelle                  4   \n",
       "861230     861230                 Lipgloss                  4   \n",
       "1224924   1224924  Disney Minnie Head band                  3   \n",
       "1264242   1264242               For Bianca                  3   \n",
       "\n",
       "                                             category_name  price  shipping  \\\n",
       "511535           [Kids, Girls 0-24 Mos, Shoes, None, None]    9.0         0   \n",
       "861230                  [Beauty, Makeup, Lips, None, None]   49.0         0   \n",
       "1224924  [Women, Women's Accessories, Hair Accessories,...    9.0         0   \n",
       "1264242  [Women, Women's Accessories, Scarves & Wraps, ...   10.0         1   \n",
       "\n",
       "        item_description  \n",
       "511535               NaN  \n",
       "861230               NaN  \n",
       "1224924              NaN  \n",
       "1264242              NaN  "
      ]
     },
     "execution_count": 20,
     "metadata": {},
     "output_type": "execute_result"
    }
   ],
   "source": [
    "train_df[train_df.isnull().any(axis=1)]"
   ]
  },
  {
   "cell_type": "code",
   "execution_count": 21,
   "metadata": {},
   "outputs": [
    {
     "data": {
      "text/html": [
       "<div>\n",
       "<table border=\"1\" class=\"dataframe\">\n",
       "  <thead>\n",
       "    <tr style=\"text-align: right;\">\n",
       "      <th></th>\n",
       "      <th>train_id</th>\n",
       "      <th>name</th>\n",
       "      <th>item_condition_id</th>\n",
       "      <th>category_name</th>\n",
       "      <th>price</th>\n",
       "      <th>shipping</th>\n",
       "      <th>item_description</th>\n",
       "    </tr>\n",
       "  </thead>\n",
       "  <tbody>\n",
       "    <tr>\n",
       "      <th>161166</th>\n",
       "      <td>161166</td>\n",
       "      <td>iPhone</td>\n",
       "      <td>1</td>\n",
       "      <td>[Electronics, Cell Phones &amp; Accessories, Cell ...</td>\n",
       "      <td>4.0</td>\n",
       "      <td>1</td>\n",
       "      <td>Luxury 360° Hybrid Acrylic Hard Case Original ...</td>\n",
       "    </tr>\n",
       "    <tr>\n",
       "      <th>331692</th>\n",
       "      <td>331692</td>\n",
       "      <td>iPhone</td>\n",
       "      <td>2</td>\n",
       "      <td>[Electronics, Cell Phones &amp; Accessories, Cell ...</td>\n",
       "      <td>76.0</td>\n",
       "      <td>0</td>\n",
       "      <td>iCloud lock!!! Screen protector no scratches! ...</td>\n",
       "    </tr>\n",
       "    <tr>\n",
       "      <th>502203</th>\n",
       "      <td>502203</td>\n",
       "      <td>iPhone</td>\n",
       "      <td>3</td>\n",
       "      <td>[Electronics, Cell Phones &amp; Accessories, Cell ...</td>\n",
       "      <td>26.0</td>\n",
       "      <td>1</td>\n",
       "      <td>No description yet</td>\n",
       "    </tr>\n",
       "    <tr>\n",
       "      <th>901734</th>\n",
       "      <td>901734</td>\n",
       "      <td>iPhone</td>\n",
       "      <td>1</td>\n",
       "      <td>[Electronics, Cell Phones &amp; Accessories, Cell ...</td>\n",
       "      <td>17.0</td>\n",
       "      <td>1</td>\n",
       "      <td>Apple iPhone headphones for iPhones compatible...</td>\n",
       "    </tr>\n",
       "    <tr>\n",
       "      <th>968525</th>\n",
       "      <td>968525</td>\n",
       "      <td>iPhone</td>\n",
       "      <td>2</td>\n",
       "      <td>[Electronics, Cell Phones &amp; Accessories, Cell ...</td>\n",
       "      <td>19.0</td>\n",
       "      <td>0</td>\n",
       "      <td>Two iPhone 4s they are locked so they are to b...</td>\n",
       "    </tr>\n",
       "    <tr>\n",
       "      <th>1198530</th>\n",
       "      <td>1198530</td>\n",
       "      <td>iPhone</td>\n",
       "      <td>2</td>\n",
       "      <td>[Electronics, Cell Phones &amp; Accessories, Cell ...</td>\n",
       "      <td>116.0</td>\n",
       "      <td>0</td>\n",
       "      <td>iPhone 5c no cracks brand new unlocked (no SIM...</td>\n",
       "    </tr>\n",
       "    <tr>\n",
       "      <th>1220558</th>\n",
       "      <td>1220558</td>\n",
       "      <td>iPhone</td>\n",
       "      <td>4</td>\n",
       "      <td>[Electronics, Cell Phones &amp; Accessories, Cell ...</td>\n",
       "      <td>16.0</td>\n",
       "      <td>1</td>\n",
       "      <td>iPhone 4 Cracked front Back up for sale, had i...</td>\n",
       "    </tr>\n",
       "    <tr>\n",
       "      <th>1385743</th>\n",
       "      <td>1385743</td>\n",
       "      <td>iPhone</td>\n",
       "      <td>4</td>\n",
       "      <td>[Electronics, Cell Phones &amp; Accessories, Cell ...</td>\n",
       "      <td>20.0</td>\n",
       "      <td>1</td>\n",
       "      <td>It works won't turn on need a battery and new ...</td>\n",
       "    </tr>\n",
       "    <tr>\n",
       "      <th>1473558</th>\n",
       "      <td>1473558</td>\n",
       "      <td>iPhone</td>\n",
       "      <td>3</td>\n",
       "      <td>[Electronics, Cell Phones &amp; Accessories, Cell ...</td>\n",
       "      <td>80.0</td>\n",
       "      <td>1</td>\n",
       "      <td>iPhone 6 model number A1586. Found never could...</td>\n",
       "    </tr>\n",
       "  </tbody>\n",
       "</table>\n",
       "</div>"
      ],
      "text/plain": [
       "         train_id    name  item_condition_id  \\\n",
       "161166     161166  iPhone                  1   \n",
       "331692     331692  iPhone                  2   \n",
       "502203     502203  iPhone                  3   \n",
       "901734     901734  iPhone                  1   \n",
       "968525     968525  iPhone                  2   \n",
       "1198530   1198530  iPhone                  2   \n",
       "1220558   1220558  iPhone                  4   \n",
       "1385743   1385743  iPhone                  4   \n",
       "1473558   1473558  iPhone                  3   \n",
       "\n",
       "                                             category_name  price  shipping  \\\n",
       "161166   [Electronics, Cell Phones & Accessories, Cell ...    4.0         1   \n",
       "331692   [Electronics, Cell Phones & Accessories, Cell ...   76.0         0   \n",
       "502203   [Electronics, Cell Phones & Accessories, Cell ...   26.0         1   \n",
       "901734   [Electronics, Cell Phones & Accessories, Cell ...   17.0         1   \n",
       "968525   [Electronics, Cell Phones & Accessories, Cell ...   19.0         0   \n",
       "1198530  [Electronics, Cell Phones & Accessories, Cell ...  116.0         0   \n",
       "1220558  [Electronics, Cell Phones & Accessories, Cell ...   16.0         1   \n",
       "1385743  [Electronics, Cell Phones & Accessories, Cell ...   20.0         1   \n",
       "1473558  [Electronics, Cell Phones & Accessories, Cell ...   80.0         1   \n",
       "\n",
       "                                          item_description  \n",
       "161166   Luxury 360° Hybrid Acrylic Hard Case Original ...  \n",
       "331692   iCloud lock!!! Screen protector no scratches! ...  \n",
       "502203                                  No description yet  \n",
       "901734   Apple iPhone headphones for iPhones compatible...  \n",
       "968525   Two iPhone 4s they are locked so they are to b...  \n",
       "1198530  iPhone 5c no cracks brand new unlocked (no SIM...  \n",
       "1220558  iPhone 4 Cracked front Back up for sale, had i...  \n",
       "1385743  It works won't turn on need a battery and new ...  \n",
       "1473558  iPhone 6 model number A1586. Found never could...  "
      ]
     },
     "execution_count": 21,
     "metadata": {},
     "output_type": "execute_result"
    }
   ],
   "source": [
    "value_list = ['iPhone']\n",
    "train_df[train_df.name.isin(value_list)]"
   ]
  },
  {
   "cell_type": "markdown",
   "metadata": {},
   "source": [
    "For the missing category names we should try to find some unsupervised learning so that some amount filling of the data should be present."
   ]
  },
  {
   "cell_type": "markdown",
   "metadata": {},
   "source": [
    "# Running NLP on the categories"
   ]
  },
  {
   "cell_type": "markdown",
   "metadata": {
    "collapsed": true
   },
   "source": [
    "We will first try to classify the documents and see if we can get some meaningful classification based on that."
   ]
  },
  {
   "cell_type": "markdown",
   "metadata": {},
   "source": [
    "Idea is to use only the name to predict the category name"
   ]
  },
  {
   "cell_type": "markdown",
   "metadata": {},
   "source": [
    "So we will drop all the remaining columns"
   ]
  },
  {
   "cell_type": "code",
   "execution_count": 22,
   "metadata": {},
   "outputs": [
    {
     "name": "stdout",
     "output_type": "stream",
     "text": [
      "['train_id', 'name', 'item_condition_id', 'category_name', 'price', 'shipping', 'item_description']\n"
     ]
    }
   ],
   "source": [
    "print(train_df.columns.tolist())"
   ]
  },
  {
   "cell_type": "markdown",
   "metadata": {},
   "source": []
  },
  {
   "cell_type": "code",
   "execution_count": null,
   "metadata": {
    "collapsed": true
   },
   "outputs": [],
   "source": []
  },
  {
   "cell_type": "code",
   "execution_count": null,
   "metadata": {
    "collapsed": true
   },
   "outputs": [],
   "source": []
  },
  {
   "cell_type": "code",
   "execution_count": null,
   "metadata": {
    "collapsed": true
   },
   "outputs": [],
   "source": []
  },
  {
   "cell_type": "code",
   "execution_count": null,
   "metadata": {
    "collapsed": true
   },
   "outputs": [],
   "source": []
  },
  {
   "cell_type": "code",
   "execution_count": null,
   "metadata": {
    "collapsed": true
   },
   "outputs": [],
   "source": []
  },
  {
   "cell_type": "code",
   "execution_count": null,
   "metadata": {
    "collapsed": true
   },
   "outputs": [],
   "source": []
  },
  {
   "cell_type": "code",
   "execution_count": null,
   "metadata": {
    "collapsed": true
   },
   "outputs": [],
   "source": []
  },
  {
   "cell_type": "code",
   "execution_count": null,
   "metadata": {
    "collapsed": true
   },
   "outputs": [],
   "source": []
  },
  {
   "cell_type": "code",
   "execution_count": null,
   "metadata": {
    "collapsed": true
   },
   "outputs": [],
   "source": []
  },
  {
   "cell_type": "code",
   "execution_count": 23,
   "metadata": {
    "collapsed": true
   },
   "outputs": [],
   "source": [
    "from copy import deepcopy\n",
    "category_df = deepcopy(train_df)"
   ]
  },
  {
   "cell_type": "code",
   "execution_count": 24,
   "metadata": {
    "collapsed": true
   },
   "outputs": [],
   "source": [
    "category_df = category_df.drop(['train_id', 'item_condition_id', 'price', 'shipping'], axis=1)"
   ]
  },
  {
   "cell_type": "code",
   "execution_count": 25,
   "metadata": {},
   "outputs": [
    {
     "data": {
      "text/html": [
       "<div>\n",
       "<table border=\"1\" class=\"dataframe\">\n",
       "  <thead>\n",
       "    <tr style=\"text-align: right;\">\n",
       "      <th></th>\n",
       "      <th>name</th>\n",
       "      <th>category_name</th>\n",
       "      <th>item_description</th>\n",
       "    </tr>\n",
       "  </thead>\n",
       "  <tbody>\n",
       "    <tr>\n",
       "      <th>356360</th>\n",
       "      <td>Southern prep shirt *on hold for ms*</td>\n",
       "      <td>[Women, Tops &amp; Blouses, T-Shirts, None, None]</td>\n",
       "      <td>Very soft and only worn once</td>\n",
       "    </tr>\n",
       "    <tr>\n",
       "      <th>626803</th>\n",
       "      <td>bundle</td>\n",
       "      <td>[Beauty, Makeup, Makeup Sets, None, None]</td>\n",
       "      <td>brand new NO FREE SHIP</td>\n",
       "    </tr>\n",
       "  </tbody>\n",
       "</table>\n",
       "</div>"
      ],
      "text/plain": [
       "                                        name  \\\n",
       "356360  Southern prep shirt *on hold for ms*   \n",
       "626803                                bundle   \n",
       "\n",
       "                                        category_name  \\\n",
       "356360  [Women, Tops & Blouses, T-Shirts, None, None]   \n",
       "626803      [Beauty, Makeup, Makeup Sets, None, None]   \n",
       "\n",
       "                    item_description  \n",
       "356360  Very soft and only worn once  \n",
       "626803        brand new NO FREE SHIP  "
      ]
     },
     "execution_count": 25,
     "metadata": {},
     "output_type": "execute_result"
    }
   ],
   "source": [
    "category_df.sample(2)"
   ]
  },
  {
   "cell_type": "code",
   "execution_count": 26,
   "metadata": {},
   "outputs": [
    {
     "name": "stdout",
     "output_type": "stream",
     "text": [
      "separated into predict, train and test\n",
      "(1482535, 3) (0, 3) (1186028, 3) (296507, 3)\n",
      "1482535\n"
     ]
    }
   ],
   "source": [
    "predict_category_df = category_df[pd.isnull(category_df['category_name'])]\n",
    "train_test_categry_df = category_df[pd.notnull(category_df['category_name'])]\n",
    "train_categry_df, test_categry_df = train_test_split(train_test_categry_df, test_size=0.2, random_state=42)\n",
    "print('separated into predict, train and test')\n",
    "print(category_df.shape, predict_category_df.shape, train_categry_df.shape, test_categry_df.shape)\n",
    "print(predict_category_df.shape[0] + train_categry_df.shape[0] + test_categry_df.shape[0])"
   ]
  },
  {
   "cell_type": "code",
   "execution_count": 27,
   "metadata": {},
   "outputs": [
    {
     "name": "stdout",
     "output_type": "stream",
     "text": [
      "separate to x and y\n",
      "(1186028, 2) (1186028, 1) (296507, 2) (296507, 1)\n"
     ]
    }
   ],
   "source": [
    "X_train_category_df = train_categry_df[['name', 'item_description']]\n",
    "y_train_category_df = train_categry_df[['category_name']]\n",
    "X_test_category_df = test_categry_df[['name', 'item_description']]\n",
    "y_test_category_df = test_categry_df[['category_name']]\n",
    "print('separate to x and y')\n",
    "print(X_train_category_df.shape, y_train_category_df.shape, X_test_category_df.shape, y_test_category_df.shape)"
   ]
  },
  {
   "cell_type": "markdown",
   "metadata": {},
   "source": [
    "category names are based on parent -> sub category -> subcategory etc. Need to find how many categories are there."
   ]
  },
  {
   "cell_type": "code",
   "execution_count": null,
   "metadata": {
    "collapsed": true
   },
   "outputs": [],
   "source": []
  },
  {
   "cell_type": "code",
   "execution_count": 28,
   "metadata": {},
   "outputs": [
    {
     "data": {
      "text/html": [
       "<div>\n",
       "<table border=\"1\" class=\"dataframe\">\n",
       "  <thead>\n",
       "    <tr style=\"text-align: right;\">\n",
       "      <th></th>\n",
       "      <th>category_name</th>\n",
       "    </tr>\n",
       "  </thead>\n",
       "  <tbody>\n",
       "    <tr>\n",
       "      <th>1416089</th>\n",
       "      <td>[Kids, Boys (4+), Bottoms, None, None]</td>\n",
       "    </tr>\n",
       "    <tr>\n",
       "      <th>1423955</th>\n",
       "      <td>[Other, Other, Other, None, None]</td>\n",
       "    </tr>\n",
       "    <tr>\n",
       "      <th>403867</th>\n",
       "      <td>[Beauty, Hair Care, Styling Products, None, None]</td>\n",
       "    </tr>\n",
       "    <tr>\n",
       "      <th>701974</th>\n",
       "      <td>[Women, Pants, Casual Pants, None, None]</td>\n",
       "    </tr>\n",
       "    <tr>\n",
       "      <th>1124330</th>\n",
       "      <td>[Women, Underwear, Panties, None, None]</td>\n",
       "    </tr>\n",
       "  </tbody>\n",
       "</table>\n",
       "</div>"
      ],
      "text/plain": [
       "                                             category_name\n",
       "1416089             [Kids, Boys (4+), Bottoms, None, None]\n",
       "1423955                  [Other, Other, Other, None, None]\n",
       "403867   [Beauty, Hair Care, Styling Products, None, None]\n",
       "701974            [Women, Pants, Casual Pants, None, None]\n",
       "1124330            [Women, Underwear, Panties, None, None]"
      ]
     },
     "execution_count": 28,
     "metadata": {},
     "output_type": "execute_result"
    }
   ],
   "source": [
    "y_train_category_df.head()"
   ]
  },
  {
   "cell_type": "code",
   "execution_count": null,
   "metadata": {
    "collapsed": true
   },
   "outputs": [],
   "source": []
  },
  {
   "cell_type": "code",
   "execution_count": 29,
   "metadata": {
    "collapsed": true
   },
   "outputs": [],
   "source": [
    "X_category_df = category_df[['name', 'item_description']]\n",
    "y_category_df = category_df[['category_name']]"
   ]
  }
 ],
 "metadata": {
  "kernelspec": {
   "display_name": "Python (venv)",
   "language": "python",
   "name": "venv"
  },
  "language_info": {
   "codemirror_mode": {
    "name": "ipython",
    "version": 3
   },
   "file_extension": ".py",
   "mimetype": "text/x-python",
   "name": "python",
   "nbconvert_exporter": "python",
   "pygments_lexer": "ipython3",
   "version": "3.6.2"
  }
 },
 "nbformat": 4,
 "nbformat_minor": 2
}
